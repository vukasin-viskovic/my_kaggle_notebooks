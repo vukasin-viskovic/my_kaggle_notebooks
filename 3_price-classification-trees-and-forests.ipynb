{
 "cells": [
  {
   "cell_type": "markdown",
   "id": "a00b61b1",
   "metadata": {
    "_cell_guid": "b1076dfc-b9ad-4769-8c92-a6c4dae69d19",
    "_uuid": "8f2839f25d086af736a60e9eeb907d3b93b6e0e5",
    "papermill": {
     "duration": 0.009368,
     "end_time": "2022-12-22T11:31:05.180523",
     "exception": false,
     "start_time": "2022-12-22T11:31:05.171155",
     "status": "completed"
    },
    "tags": []
   },
   "source": [
    "# Decision trees and random forests"
   ]
  },
  {
   "cell_type": "markdown",
   "id": "4079a355",
   "metadata": {
    "papermill": {
     "duration": 0.006831,
     "end_time": "2022-12-22T11:31:05.194794",
     "exception": false,
     "start_time": "2022-12-22T11:31:05.187963",
     "status": "completed"
    },
    "tags": []
   },
   "source": [
    "In this Notebook, I'll use random forests algorithm to classify phones into 4 price categories.\n",
    "\n",
    "I'm working with the data taken from [this](https://www.kaggle.com/datasets/iabhishekofficial/mobile-price-classification?datasetId=11167&sortBy=voteCount) source. \n",
    "\n",
    "We have a dataset that consists of 2000 rows. \n",
    "\n",
    "I'll split it into a training and a testing dataset.\n",
    "\n",
    "---\n",
    "\n",
    "I learned a lot from [this](https://www.kaggle.com/code/archit9406/mobile-price-classification) notebook, [this](https://www.kaggle.com/learn/intro-to-machine-learning) Kaggle tutorial based my own code upon them.\n",
    "\n",
    "---\n",
    "\n",
    "Let's start by importing the libraries we'll need for an initial exploration of the training data.\n",
    "\n",
    "Also, let's display the first five rows of the training data."
   ]
  },
  {
   "cell_type": "code",
   "execution_count": 1,
   "id": "567fb747",
   "metadata": {
    "execution": {
     "iopub.execute_input": "2022-12-22T11:31:05.214934Z",
     "iopub.status.busy": "2022-12-22T11:31:05.214125Z",
     "iopub.status.idle": "2022-12-22T11:31:05.225032Z",
     "shell.execute_reply": "2022-12-22T11:31:05.224127Z"
    },
    "papermill": {
     "duration": 0.025702,
     "end_time": "2022-12-22T11:31:05.227612",
     "exception": false,
     "start_time": "2022-12-22T11:31:05.201910",
     "status": "completed"
    },
    "tags": []
   },
   "outputs": [],
   "source": [
    "import pandas as pd\n",
    "import numpy as np"
   ]
  },
  {
   "cell_type": "code",
   "execution_count": 2,
   "id": "e8c01f97",
   "metadata": {
    "execution": {
     "iopub.execute_input": "2022-12-22T11:31:05.244710Z",
     "iopub.status.busy": "2022-12-22T11:31:05.243642Z",
     "iopub.status.idle": "2022-12-22T11:31:05.310642Z",
     "shell.execute_reply": "2022-12-22T11:31:05.309337Z"
    },
    "papermill": {
     "duration": 0.078834,
     "end_time": "2022-12-22T11:31:05.314057",
     "exception": false,
     "start_time": "2022-12-22T11:31:05.235223",
     "status": "completed"
    },
    "tags": []
   },
   "outputs": [
    {
     "data": {
      "text/html": [
       "<div>\n",
       "<style scoped>\n",
       "    .dataframe tbody tr th:only-of-type {\n",
       "        vertical-align: middle;\n",
       "    }\n",
       "\n",
       "    .dataframe tbody tr th {\n",
       "        vertical-align: top;\n",
       "    }\n",
       "\n",
       "    .dataframe thead th {\n",
       "        text-align: right;\n",
       "    }\n",
       "</style>\n",
       "<table border=\"1\" class=\"dataframe\">\n",
       "  <thead>\n",
       "    <tr style=\"text-align: right;\">\n",
       "      <th></th>\n",
       "      <th>battery_power</th>\n",
       "      <th>blue</th>\n",
       "      <th>clock_speed</th>\n",
       "      <th>dual_sim</th>\n",
       "      <th>fc</th>\n",
       "      <th>four_g</th>\n",
       "      <th>int_memory</th>\n",
       "      <th>m_dep</th>\n",
       "      <th>mobile_wt</th>\n",
       "      <th>n_cores</th>\n",
       "      <th>...</th>\n",
       "      <th>px_height</th>\n",
       "      <th>px_width</th>\n",
       "      <th>ram</th>\n",
       "      <th>sc_h</th>\n",
       "      <th>sc_w</th>\n",
       "      <th>talk_time</th>\n",
       "      <th>three_g</th>\n",
       "      <th>touch_screen</th>\n",
       "      <th>wifi</th>\n",
       "      <th>price_range</th>\n",
       "    </tr>\n",
       "  </thead>\n",
       "  <tbody>\n",
       "    <tr>\n",
       "      <th>0</th>\n",
       "      <td>842</td>\n",
       "      <td>0</td>\n",
       "      <td>2.2</td>\n",
       "      <td>0</td>\n",
       "      <td>1</td>\n",
       "      <td>0</td>\n",
       "      <td>7</td>\n",
       "      <td>0.6</td>\n",
       "      <td>188</td>\n",
       "      <td>2</td>\n",
       "      <td>...</td>\n",
       "      <td>20</td>\n",
       "      <td>756</td>\n",
       "      <td>2549</td>\n",
       "      <td>9</td>\n",
       "      <td>7</td>\n",
       "      <td>19</td>\n",
       "      <td>0</td>\n",
       "      <td>0</td>\n",
       "      <td>1</td>\n",
       "      <td>1</td>\n",
       "    </tr>\n",
       "    <tr>\n",
       "      <th>1</th>\n",
       "      <td>1021</td>\n",
       "      <td>1</td>\n",
       "      <td>0.5</td>\n",
       "      <td>1</td>\n",
       "      <td>0</td>\n",
       "      <td>1</td>\n",
       "      <td>53</td>\n",
       "      <td>0.7</td>\n",
       "      <td>136</td>\n",
       "      <td>3</td>\n",
       "      <td>...</td>\n",
       "      <td>905</td>\n",
       "      <td>1988</td>\n",
       "      <td>2631</td>\n",
       "      <td>17</td>\n",
       "      <td>3</td>\n",
       "      <td>7</td>\n",
       "      <td>1</td>\n",
       "      <td>1</td>\n",
       "      <td>0</td>\n",
       "      <td>2</td>\n",
       "    </tr>\n",
       "    <tr>\n",
       "      <th>2</th>\n",
       "      <td>563</td>\n",
       "      <td>1</td>\n",
       "      <td>0.5</td>\n",
       "      <td>1</td>\n",
       "      <td>2</td>\n",
       "      <td>1</td>\n",
       "      <td>41</td>\n",
       "      <td>0.9</td>\n",
       "      <td>145</td>\n",
       "      <td>5</td>\n",
       "      <td>...</td>\n",
       "      <td>1263</td>\n",
       "      <td>1716</td>\n",
       "      <td>2603</td>\n",
       "      <td>11</td>\n",
       "      <td>2</td>\n",
       "      <td>9</td>\n",
       "      <td>1</td>\n",
       "      <td>1</td>\n",
       "      <td>0</td>\n",
       "      <td>2</td>\n",
       "    </tr>\n",
       "    <tr>\n",
       "      <th>3</th>\n",
       "      <td>615</td>\n",
       "      <td>1</td>\n",
       "      <td>2.5</td>\n",
       "      <td>0</td>\n",
       "      <td>0</td>\n",
       "      <td>0</td>\n",
       "      <td>10</td>\n",
       "      <td>0.8</td>\n",
       "      <td>131</td>\n",
       "      <td>6</td>\n",
       "      <td>...</td>\n",
       "      <td>1216</td>\n",
       "      <td>1786</td>\n",
       "      <td>2769</td>\n",
       "      <td>16</td>\n",
       "      <td>8</td>\n",
       "      <td>11</td>\n",
       "      <td>1</td>\n",
       "      <td>0</td>\n",
       "      <td>0</td>\n",
       "      <td>2</td>\n",
       "    </tr>\n",
       "    <tr>\n",
       "      <th>4</th>\n",
       "      <td>1821</td>\n",
       "      <td>1</td>\n",
       "      <td>1.2</td>\n",
       "      <td>0</td>\n",
       "      <td>13</td>\n",
       "      <td>1</td>\n",
       "      <td>44</td>\n",
       "      <td>0.6</td>\n",
       "      <td>141</td>\n",
       "      <td>2</td>\n",
       "      <td>...</td>\n",
       "      <td>1208</td>\n",
       "      <td>1212</td>\n",
       "      <td>1411</td>\n",
       "      <td>8</td>\n",
       "      <td>2</td>\n",
       "      <td>15</td>\n",
       "      <td>1</td>\n",
       "      <td>1</td>\n",
       "      <td>0</td>\n",
       "      <td>1</td>\n",
       "    </tr>\n",
       "  </tbody>\n",
       "</table>\n",
       "<p>5 rows × 21 columns</p>\n",
       "</div>"
      ],
      "text/plain": [
       "   battery_power  blue  clock_speed  dual_sim  fc  four_g  int_memory  m_dep  \\\n",
       "0            842     0          2.2         0   1       0           7    0.6   \n",
       "1           1021     1          0.5         1   0       1          53    0.7   \n",
       "2            563     1          0.5         1   2       1          41    0.9   \n",
       "3            615     1          2.5         0   0       0          10    0.8   \n",
       "4           1821     1          1.2         0  13       1          44    0.6   \n",
       "\n",
       "   mobile_wt  n_cores  ...  px_height  px_width   ram  sc_h  sc_w  talk_time  \\\n",
       "0        188        2  ...         20       756  2549     9     7         19   \n",
       "1        136        3  ...        905      1988  2631    17     3          7   \n",
       "2        145        5  ...       1263      1716  2603    11     2          9   \n",
       "3        131        6  ...       1216      1786  2769    16     8         11   \n",
       "4        141        2  ...       1208      1212  1411     8     2         15   \n",
       "\n",
       "   three_g  touch_screen  wifi  price_range  \n",
       "0        0             0     1            1  \n",
       "1        1             1     0            2  \n",
       "2        1             1     0            2  \n",
       "3        1             0     0            2  \n",
       "4        1             1     0            1  \n",
       "\n",
       "[5 rows x 21 columns]"
      ]
     },
     "execution_count": 2,
     "metadata": {},
     "output_type": "execute_result"
    }
   ],
   "source": [
    "df = pd.read_csv(\"/kaggle/input/mobile-price-classification/train.csv\")\n",
    "df.head()"
   ]
  },
  {
   "cell_type": "markdown",
   "id": "0860324d",
   "metadata": {
    "papermill": {
     "duration": 0.00685,
     "end_time": "2022-12-22T11:31:05.328361",
     "exception": false,
     "start_time": "2022-12-22T11:31:05.321511",
     "status": "completed"
    },
    "tags": []
   },
   "source": [
    "We see that this dataset consists of numerous columns storing data on the features of different mobile phones.\n",
    "\n",
    "We, for example, have info on each phone's pattery power, height and width in pixels, ram, etc.\n",
    "\n",
    "Our challenge is to use this data to predict a phone's price range.\n",
    "\n",
    "Let's see how the NAs are distributed across the dataset:"
   ]
  },
  {
   "cell_type": "code",
   "execution_count": 3,
   "id": "96260af3",
   "metadata": {
    "execution": {
     "iopub.execute_input": "2022-12-22T11:31:05.344727Z",
     "iopub.status.busy": "2022-12-22T11:31:05.344048Z",
     "iopub.status.idle": "2022-12-22T11:31:05.367474Z",
     "shell.execute_reply": "2022-12-22T11:31:05.366120Z"
    },
    "papermill": {
     "duration": 0.035349,
     "end_time": "2022-12-22T11:31:05.370891",
     "exception": false,
     "start_time": "2022-12-22T11:31:05.335542",
     "status": "completed"
    },
    "tags": []
   },
   "outputs": [
    {
     "name": "stdout",
     "output_type": "stream",
     "text": [
      "<class 'pandas.core.frame.DataFrame'>\n",
      "RangeIndex: 2000 entries, 0 to 1999\n",
      "Data columns (total 21 columns):\n",
      " #   Column         Non-Null Count  Dtype  \n",
      "---  ------         --------------  -----  \n",
      " 0   battery_power  2000 non-null   int64  \n",
      " 1   blue           2000 non-null   int64  \n",
      " 2   clock_speed    2000 non-null   float64\n",
      " 3   dual_sim       2000 non-null   int64  \n",
      " 4   fc             2000 non-null   int64  \n",
      " 5   four_g         2000 non-null   int64  \n",
      " 6   int_memory     2000 non-null   int64  \n",
      " 7   m_dep          2000 non-null   float64\n",
      " 8   mobile_wt      2000 non-null   int64  \n",
      " 9   n_cores        2000 non-null   int64  \n",
      " 10  pc             2000 non-null   int64  \n",
      " 11  px_height      2000 non-null   int64  \n",
      " 12  px_width       2000 non-null   int64  \n",
      " 13  ram            2000 non-null   int64  \n",
      " 14  sc_h           2000 non-null   int64  \n",
      " 15  sc_w           2000 non-null   int64  \n",
      " 16  talk_time      2000 non-null   int64  \n",
      " 17  three_g        2000 non-null   int64  \n",
      " 18  touch_screen   2000 non-null   int64  \n",
      " 19  wifi           2000 non-null   int64  \n",
      " 20  price_range    2000 non-null   int64  \n",
      "dtypes: float64(2), int64(19)\n",
      "memory usage: 328.2 KB\n"
     ]
    }
   ],
   "source": [
    "df.info()"
   ]
  },
  {
   "cell_type": "markdown",
   "id": "c5d336bc",
   "metadata": {
    "papermill": {
     "duration": 0.007931,
     "end_time": "2022-12-22T11:31:05.390102",
     "exception": false,
     "start_time": "2022-12-22T11:31:05.382171",
     "status": "completed"
    },
    "tags": []
   },
   "source": [
    "Nice! There are no NAs here :) \n",
    "\n",
    "From the above output we also see that all of our columns are numeric.\n",
    "\n",
    "Let's finally check whether we have duplicates in our data:"
   ]
  },
  {
   "cell_type": "code",
   "execution_count": 4,
   "id": "3ed16ec5",
   "metadata": {
    "execution": {
     "iopub.execute_input": "2022-12-22T11:31:05.407292Z",
     "iopub.status.busy": "2022-12-22T11:31:05.406444Z",
     "iopub.status.idle": "2022-12-22T11:31:05.417768Z",
     "shell.execute_reply": "2022-12-22T11:31:05.416527Z"
    },
    "papermill": {
     "duration": 0.02256,
     "end_time": "2022-12-22T11:31:05.420124",
     "exception": false,
     "start_time": "2022-12-22T11:31:05.397564",
     "status": "completed"
    },
    "tags": []
   },
   "outputs": [
    {
     "name": "stdout",
     "output_type": "stream",
     "text": [
      "0\n"
     ]
    }
   ],
   "source": [
    "print(sum(df.duplicated()))"
   ]
  },
  {
   "cell_type": "markdown",
   "id": "1d070beb",
   "metadata": {
    "papermill": {
     "duration": 0.007721,
     "end_time": "2022-12-22T11:31:05.435286",
     "exception": false,
     "start_time": "2022-12-22T11:31:05.427565",
     "status": "completed"
    },
    "tags": []
   },
   "source": [
    "No duplicates :)\n",
    "\n",
    "Now, let's see how many values there are per each category of the `df['price_range']` column."
   ]
  },
  {
   "cell_type": "code",
   "execution_count": 5,
   "id": "160d6822",
   "metadata": {
    "execution": {
     "iopub.execute_input": "2022-12-22T11:31:05.454064Z",
     "iopub.status.busy": "2022-12-22T11:31:05.453406Z",
     "iopub.status.idle": "2022-12-22T11:31:05.464826Z",
     "shell.execute_reply": "2022-12-22T11:31:05.463491Z"
    },
    "papermill": {
     "duration": 0.024533,
     "end_time": "2022-12-22T11:31:05.467688",
     "exception": false,
     "start_time": "2022-12-22T11:31:05.443155",
     "status": "completed"
    },
    "tags": []
   },
   "outputs": [
    {
     "data": {
      "text/plain": [
       "0    500\n",
       "1    500\n",
       "2    500\n",
       "3    500\n",
       "Name: price_range, dtype: int64"
      ]
     },
     "execution_count": 5,
     "metadata": {},
     "output_type": "execute_result"
    }
   ],
   "source": [
    "df['price_range'].value_counts().sort_index()"
   ]
  },
  {
   "cell_type": "markdown",
   "id": "1fbd274b",
   "metadata": {
    "papermill": {
     "duration": 0.007338,
     "end_time": "2022-12-22T11:31:05.483366",
     "exception": false,
     "start_time": "2022-12-22T11:31:05.476028",
     "status": "completed"
    },
    "tags": []
   },
   "source": [
    "Perfect. All the values are distributed equally.\n",
    "\n",
    "Let's end our exploration by visualizing the correlation matrix of the `train` dataset. \n",
    "\n",
    "This can be done pretty easily with **seaborn**, but I'll rather use **plotly**, \n",
    "since it provides us a few additional functionalities.\n",
    "\n",
    "I heavily borrowed from [this](https://stackoverflow.com/a/67794682) super helpful StackOverflow answer :)"
   ]
  },
  {
   "cell_type": "code",
   "execution_count": 6,
   "id": "21f17c3c",
   "metadata": {
    "execution": {
     "iopub.execute_input": "2022-12-22T11:31:05.500602Z",
     "iopub.status.busy": "2022-12-22T11:31:05.500225Z",
     "iopub.status.idle": "2022-12-22T11:31:10.600447Z",
     "shell.execute_reply": "2022-12-22T11:31:10.598402Z"
    },
    "papermill": {
     "duration": 5.113332,
     "end_time": "2022-12-22T11:31:10.604199",
     "exception": false,
     "start_time": "2022-12-22T11:31:05.490867",
     "status": "completed"
    },
    "tags": []
   },
   "outputs": [
    {
     "name": "stderr",
     "output_type": "stream",
     "text": [
      "/opt/conda/lib/python3.7/site-packages/geopandas/_compat.py:115: UserWarning: The Shapely GEOS version (3.9.1-CAPI-1.14.2) is incompatible with the GEOS version PyGEOS was compiled with (3.10.3-CAPI-1.16.1). Conversions between both will be slow.\n",
      "  shapely_geos_version, geos_capi_version_string\n"
     ]
    },
    {
     "data": {
      "text/html": [
       "        <script type=\"text/javascript\">\n",
       "        window.PlotlyConfig = {MathJaxConfig: 'local'};\n",
       "        if (window.MathJax && window.MathJax.Hub && window.MathJax.Hub.Config) {window.MathJax.Hub.Config({SVG: {font: \"STIX-Web\"}});}\n",
       "        if (typeof require !== 'undefined') {\n",
       "        require.undef(\"plotly\");\n",
       "        requirejs.config({\n",
       "            paths: {\n",
       "                'plotly': ['https://cdn.plot.ly/plotly-2.14.0.min']\n",
       "            }\n",
       "        });\n",
       "        require(['plotly'], function(Plotly) {\n",
       "            window._Plotly = Plotly;\n",
       "        });\n",
       "        }\n",
       "        </script>\n",
       "        "
      ]
     },
     "metadata": {},
     "output_type": "display_data"
    },
    {
     "data": {
      "text/html": [
       "<div>                            <div id=\"c5b66f00-4f71-45f4-9a9b-8a26255b7773\" class=\"plotly-graph-div\" style=\"height:600px; width:100%;\"></div>            <script type=\"text/javascript\">                require([\"plotly\"], function(Plotly) {                    window.PLOTLYENV=window.PLOTLYENV || {};                                    if (document.getElementById(\"c5b66f00-4f71-45f4-9a9b-8a26255b7773\")) {                    Plotly.newPlot(                        \"c5b66f00-4f71-45f4-9a9b-8a26255b7773\",                        [{\"colorscale\":[[0.0,\"rgb(103,0,31)\"],[0.1,\"rgb(178,24,43)\"],[0.2,\"rgb(214,96,77)\"],[0.3,\"rgb(244,165,130)\"],[0.4,\"rgb(253,219,199)\"],[0.5,\"rgb(247,247,247)\"],[0.6,\"rgb(209,229,240)\"],[0.7,\"rgb(146,197,222)\"],[0.8,\"rgb(67,147,195)\"],[0.9,\"rgb(33,102,172)\"],[1.0,\"rgb(5,48,97)\"]],\"reversescale\":false,\"showscale\":true,\"x\":[\"battery_power\",\"blue\",\"clock_speed\",\"dual_sim\",\"fc\",\"four_g\",\"int_memory\",\"m_dep\",\"mobile_wt\",\"n_cores\",\"pc\",\"px_height\",\"px_width\",\"ram\",\"sc_h\",\"sc_w\",\"talk_time\",\"three_g\",\"touch_screen\",\"wifi\",\"price_range\"],\"xgap\":1,\"y\":[\"battery_power\",\"blue\",\"clock_speed\",\"dual_sim\",\"fc\",\"four_g\",\"int_memory\",\"m_dep\",\"mobile_wt\",\"n_cores\",\"pc\",\"px_height\",\"px_width\",\"ram\",\"sc_h\",\"sc_w\",\"talk_time\",\"three_g\",\"touch_screen\",\"wifi\",\"price_range\"],\"ygap\":1,\"z\":[[null,null,null,null,null,null,null,null,null,null,null,null,null,null,null,null,null,null,null,null,null],[0.011251623808409005,null,null,null,null,null,null,null,null,null,null,null,null,null,null,null,null,null,null,null,null],[0.011481593741547481,0.021418693043786914,null,null,null,null,null,null,null,null,null,null,null,null,null,null,null,null,null,null,null],[-0.04184684985531915,0.03519811346493916,-0.001315204025505052,null,null,null,null,null,null,null,null,null,null,null,null,null,null,null,null,null,null],[0.03333438500912425,0.003593201045941478,-0.000433898207660617,-0.02912278446583605,null,null,null,null,null,null,null,null,null,null,null,null,null,null,null,null,null],[0.01566455462474265,0.013443105451586793,-0.04307335549720816,0.003186521989701648,-0.016559688164037883,null,null,null,null,null,null,null,null,null,null,null,null,null,null,null,null],[-0.004003679910891169,0.04117716902002657,0.006545145152924384,-0.01567896229023402,-0.02913277524519928,0.00868997105928721,null,null,null,null,null,null,null,null,null,null,null,null,null,null,null],[0.03408451490286734,0.004049193533434709,-0.014364360309299837,-0.022141660518706963,-0.0017911308477025982,-0.0018232988898241223,0.006885755150957458,null,null,null,null,null,null,null,null,null,null,null,null,null,null],[0.0018443762145710233,-0.008604642824947226,0.012349747866586158,-0.008979405132754852,0.023618017096817143,-0.01653673407505381,-0.034214209135475016,0.021756065251581302,null,null,null,null,null,null,null,null,null,null,null,null,null],[-0.029727258910731354,0.03616071896601607,-0.005724226033792937,-0.02465813483383521,-0.013356243442967479,-0.029705501066110994,-0.028310416689851636,-0.0035038859268239643,-0.018988757205049323,null,null,null,null,null,null,null,null,null,null,null,null],[0.03144067724331099,-0.00995217229370233,-0.005245037561591485,-0.017142621266392086,0.6445952827956328,-0.005598221993478703,-0.033273388854864576,0.026282439444050783,0.018843929835236205,-0.0011926142129104558,null,null,null,null,null,null,null,null,null,null,null],[0.014900804544674877,-0.00687239046225623,-0.01452289508684957,-0.020875260863243213,-0.009989907483697769,-0.01923623567730995,0.01044125677561802,0.025262869860381374,0.0009393239804485686,-0.0068720733908026336,-0.018465494278375384,null,null,null,null,null,null,null,null,null,null],[-0.008401830499043849,-0.041533441805918475,-0.009475653050430185,0.014290542210206252,-0.00517563438442659,0.007448216573482412,-0.008334853372394556,0.023566345906041848,0.00008976163925582267,0.02447991702476149,0.004195944306608137,0.5106644191393148,null,null,null,null,null,null,null,null,null],[-0.0006529264469275295,0.026350936945151174,0.0034430306880890646,0.04107201687575117,0.015098970498477332,0.0073134746504713395,0.03281317408091542,-0.009434120647010023,-0.002580541707291326,0.004868325744798485,0.028983516524420147,-0.020351922754965054,0.004105216467218681,null,null,null,null,null,null,null,null],[-0.029958601467988392,-0.0029522925572921794,-0.029077621806347063,-0.011949263255963908,-0.011013954695093463,0.027165510975675624,0.037771132797365395,-0.025347805785424112,-0.0338547136814375,-0.00031483547910175254,0.004937519864469917,0.05961529446087679,0.0215985621119942,0.01599614874068266,null,null,null,null,null,null,null],[-0.021420943294223553,0.0006130756499930555,-0.007378355543214177,-0.016666122534513564,-0.012372591307992842,0.03700497303918502,0.011730534410369215,-0.018388117499987987,-0.020760525088739313,0.025826454168080982,-0.023819237920395638,0.043038268105588674,0.03469919558577322,0.035575670143050915,0.5061442083433548,null,null,null,null,null,null],[0.052510354657595223,0.01393365037228793,-0.01143186555981287,-0.03940399950293255,-0.006828649366975372,-0.046627814257882524,-0.00279028899118698,0.01700255295055869,0.00620850075859248,0.013147863907840205,0.014656985160164141,-0.010645253467093312,0.006719940879503146,0.010819977788843133,-0.01733510049832937,-0.022820859653885684,null,null,null,null,null],[0.011522168448019688,-0.030236184948883298,-0.04643349691424839,-0.014007623397290642,0.0017925738443707725,0.5842455634172913,-0.009365962592532107,-0.012065410514054402,0.0015505852829662409,-0.0147326730582514,-0.0013216200581519886,-0.031173739264258045,0.00034998245201687313,0.015794939866243723,0.012032933550798295,0.030941187653777777,-0.042688021103825274,null,null,null,null],[-0.01051583536613963,0.010060684131672363,0.019755805960568244,-0.017117398029556908,-0.014827844783864685,0.016757801119348513,-0.026998677669091975,-0.002637527311245226,-0.014368228393982193,0.02377423964666761,-0.008741829782886398,0.02189133832091127,-0.0016283723577048288,-0.03045464776240744,-0.020022954064033708,0.012719879393453802,0.01719618484955997,0.013917351497663108,null,null,null],[-0.008342928835738948,-0.021863235784086183,-0.024471012567611566,0.022740333260222696,0.020084872854668548,-0.017620022497302826,0.00699300967745834,-0.0283526523501044,-0.0004093554892794404,-0.009963531365809119,0.005388963710424834,0.05182398873692636,0.030318972829504395,0.022668801572951838,0.025929424733713454,0.035422777627496016,-0.0295042871223901,0.004315639393765238,0.011917382454504768,null,null],[0.20072261211373124,0.020572854061418573,-0.00660569088173212,0.01744447923722472,0.021998207776904328,0.014771711417239467,0.0444349593889875,0.0008530365050865703,-0.03030217131438632,0.004399274799457341,0.033599300213539574,0.148857555000422,0.16581750172625534,0.9170457362649902,0.022986073167424327,0.03871127166448414,0.02185887116237482,0.023611216880045166,-0.03041107189821805,0.01878481201278905,null]],\"type\":\"heatmap\"}],                        {\"annotations\":[{\"font\":{\"color\":\"#FFFFFF\"},\"showarrow\":false,\"text\":\"\",\"x\":\"battery_power\",\"xref\":\"x\",\"y\":\"battery_power\",\"yref\":\"y\"},{\"font\":{\"color\":\"#FFFFFF\"},\"showarrow\":false,\"text\":\"\",\"x\":\"blue\",\"xref\":\"x\",\"y\":\"battery_power\",\"yref\":\"y\"},{\"font\":{\"color\":\"#FFFFFF\"},\"showarrow\":false,\"text\":\"\",\"x\":\"clock_speed\",\"xref\":\"x\",\"y\":\"battery_power\",\"yref\":\"y\"},{\"font\":{\"color\":\"#FFFFFF\"},\"showarrow\":false,\"text\":\"\",\"x\":\"dual_sim\",\"xref\":\"x\",\"y\":\"battery_power\",\"yref\":\"y\"},{\"font\":{\"color\":\"#FFFFFF\"},\"showarrow\":false,\"text\":\"\",\"x\":\"fc\",\"xref\":\"x\",\"y\":\"battery_power\",\"yref\":\"y\"},{\"font\":{\"color\":\"#FFFFFF\"},\"showarrow\":false,\"text\":\"\",\"x\":\"four_g\",\"xref\":\"x\",\"y\":\"battery_power\",\"yref\":\"y\"},{\"font\":{\"color\":\"#FFFFFF\"},\"showarrow\":false,\"text\":\"\",\"x\":\"int_memory\",\"xref\":\"x\",\"y\":\"battery_power\",\"yref\":\"y\"},{\"font\":{\"color\":\"#FFFFFF\"},\"showarrow\":false,\"text\":\"\",\"x\":\"m_dep\",\"xref\":\"x\",\"y\":\"battery_power\",\"yref\":\"y\"},{\"font\":{\"color\":\"#FFFFFF\"},\"showarrow\":false,\"text\":\"\",\"x\":\"mobile_wt\",\"xref\":\"x\",\"y\":\"battery_power\",\"yref\":\"y\"},{\"font\":{\"color\":\"#FFFFFF\"},\"showarrow\":false,\"text\":\"\",\"x\":\"n_cores\",\"xref\":\"x\",\"y\":\"battery_power\",\"yref\":\"y\"},{\"font\":{\"color\":\"#FFFFFF\"},\"showarrow\":false,\"text\":\"\",\"x\":\"pc\",\"xref\":\"x\",\"y\":\"battery_power\",\"yref\":\"y\"},{\"font\":{\"color\":\"#FFFFFF\"},\"showarrow\":false,\"text\":\"\",\"x\":\"px_height\",\"xref\":\"x\",\"y\":\"battery_power\",\"yref\":\"y\"},{\"font\":{\"color\":\"#FFFFFF\"},\"showarrow\":false,\"text\":\"\",\"x\":\"px_width\",\"xref\":\"x\",\"y\":\"battery_power\",\"yref\":\"y\"},{\"font\":{\"color\":\"#FFFFFF\"},\"showarrow\":false,\"text\":\"\",\"x\":\"ram\",\"xref\":\"x\",\"y\":\"battery_power\",\"yref\":\"y\"},{\"font\":{\"color\":\"#FFFFFF\"},\"showarrow\":false,\"text\":\"\",\"x\":\"sc_h\",\"xref\":\"x\",\"y\":\"battery_power\",\"yref\":\"y\"},{\"font\":{\"color\":\"#FFFFFF\"},\"showarrow\":false,\"text\":\"\",\"x\":\"sc_w\",\"xref\":\"x\",\"y\":\"battery_power\",\"yref\":\"y\"},{\"font\":{\"color\":\"#FFFFFF\"},\"showarrow\":false,\"text\":\"\",\"x\":\"talk_time\",\"xref\":\"x\",\"y\":\"battery_power\",\"yref\":\"y\"},{\"font\":{\"color\":\"#FFFFFF\"},\"showarrow\":false,\"text\":\"\",\"x\":\"three_g\",\"xref\":\"x\",\"y\":\"battery_power\",\"yref\":\"y\"},{\"font\":{\"color\":\"#FFFFFF\"},\"showarrow\":false,\"text\":\"\",\"x\":\"touch_screen\",\"xref\":\"x\",\"y\":\"battery_power\",\"yref\":\"y\"},{\"font\":{\"color\":\"#FFFFFF\"},\"showarrow\":false,\"text\":\"\",\"x\":\"wifi\",\"xref\":\"x\",\"y\":\"battery_power\",\"yref\":\"y\"},{\"font\":{\"color\":\"#FFFFFF\"},\"showarrow\":false,\"text\":\"\",\"x\":\"price_range\",\"xref\":\"x\",\"y\":\"battery_power\",\"yref\":\"y\"},{\"font\":{\"color\":\"#FFFFFF\"},\"showarrow\":false,\"text\":\"\",\"x\":\"battery_power\",\"xref\":\"x\",\"y\":\"blue\",\"yref\":\"y\"},{\"font\":{\"color\":\"#FFFFFF\"},\"showarrow\":false,\"text\":\"\",\"x\":\"blue\",\"xref\":\"x\",\"y\":\"blue\",\"yref\":\"y\"},{\"font\":{\"color\":\"#FFFFFF\"},\"showarrow\":false,\"text\":\"\",\"x\":\"clock_speed\",\"xref\":\"x\",\"y\":\"blue\",\"yref\":\"y\"},{\"font\":{\"color\":\"#FFFFFF\"},\"showarrow\":false,\"text\":\"\",\"x\":\"dual_sim\",\"xref\":\"x\",\"y\":\"blue\",\"yref\":\"y\"},{\"font\":{\"color\":\"#FFFFFF\"},\"showarrow\":false,\"text\":\"\",\"x\":\"fc\",\"xref\":\"x\",\"y\":\"blue\",\"yref\":\"y\"},{\"font\":{\"color\":\"#FFFFFF\"},\"showarrow\":false,\"text\":\"\",\"x\":\"four_g\",\"xref\":\"x\",\"y\":\"blue\",\"yref\":\"y\"},{\"font\":{\"color\":\"#FFFFFF\"},\"showarrow\":false,\"text\":\"\",\"x\":\"int_memory\",\"xref\":\"x\",\"y\":\"blue\",\"yref\":\"y\"},{\"font\":{\"color\":\"#FFFFFF\"},\"showarrow\":false,\"text\":\"\",\"x\":\"m_dep\",\"xref\":\"x\",\"y\":\"blue\",\"yref\":\"y\"},{\"font\":{\"color\":\"#FFFFFF\"},\"showarrow\":false,\"text\":\"\",\"x\":\"mobile_wt\",\"xref\":\"x\",\"y\":\"blue\",\"yref\":\"y\"},{\"font\":{\"color\":\"#FFFFFF\"},\"showarrow\":false,\"text\":\"\",\"x\":\"n_cores\",\"xref\":\"x\",\"y\":\"blue\",\"yref\":\"y\"},{\"font\":{\"color\":\"#FFFFFF\"},\"showarrow\":false,\"text\":\"\",\"x\":\"pc\",\"xref\":\"x\",\"y\":\"blue\",\"yref\":\"y\"},{\"font\":{\"color\":\"#FFFFFF\"},\"showarrow\":false,\"text\":\"\",\"x\":\"px_height\",\"xref\":\"x\",\"y\":\"blue\",\"yref\":\"y\"},{\"font\":{\"color\":\"#FFFFFF\"},\"showarrow\":false,\"text\":\"\",\"x\":\"px_width\",\"xref\":\"x\",\"y\":\"blue\",\"yref\":\"y\"},{\"font\":{\"color\":\"#FFFFFF\"},\"showarrow\":false,\"text\":\"\",\"x\":\"ram\",\"xref\":\"x\",\"y\":\"blue\",\"yref\":\"y\"},{\"font\":{\"color\":\"#FFFFFF\"},\"showarrow\":false,\"text\":\"\",\"x\":\"sc_h\",\"xref\":\"x\",\"y\":\"blue\",\"yref\":\"y\"},{\"font\":{\"color\":\"#FFFFFF\"},\"showarrow\":false,\"text\":\"\",\"x\":\"sc_w\",\"xref\":\"x\",\"y\":\"blue\",\"yref\":\"y\"},{\"font\":{\"color\":\"#FFFFFF\"},\"showarrow\":false,\"text\":\"\",\"x\":\"talk_time\",\"xref\":\"x\",\"y\":\"blue\",\"yref\":\"y\"},{\"font\":{\"color\":\"#FFFFFF\"},\"showarrow\":false,\"text\":\"\",\"x\":\"three_g\",\"xref\":\"x\",\"y\":\"blue\",\"yref\":\"y\"},{\"font\":{\"color\":\"#FFFFFF\"},\"showarrow\":false,\"text\":\"\",\"x\":\"touch_screen\",\"xref\":\"x\",\"y\":\"blue\",\"yref\":\"y\"},{\"font\":{\"color\":\"#FFFFFF\"},\"showarrow\":false,\"text\":\"\",\"x\":\"wifi\",\"xref\":\"x\",\"y\":\"blue\",\"yref\":\"y\"},{\"font\":{\"color\":\"#FFFFFF\"},\"showarrow\":false,\"text\":\"\",\"x\":\"price_range\",\"xref\":\"x\",\"y\":\"blue\",\"yref\":\"y\"},{\"font\":{\"color\":\"#FFFFFF\"},\"showarrow\":false,\"text\":\"\",\"x\":\"battery_power\",\"xref\":\"x\",\"y\":\"clock_speed\",\"yref\":\"y\"},{\"font\":{\"color\":\"#FFFFFF\"},\"showarrow\":false,\"text\":\"\",\"x\":\"blue\",\"xref\":\"x\",\"y\":\"clock_speed\",\"yref\":\"y\"},{\"font\":{\"color\":\"#FFFFFF\"},\"showarrow\":false,\"text\":\"\",\"x\":\"clock_speed\",\"xref\":\"x\",\"y\":\"clock_speed\",\"yref\":\"y\"},{\"font\":{\"color\":\"#FFFFFF\"},\"showarrow\":false,\"text\":\"\",\"x\":\"dual_sim\",\"xref\":\"x\",\"y\":\"clock_speed\",\"yref\":\"y\"},{\"font\":{\"color\":\"#FFFFFF\"},\"showarrow\":false,\"text\":\"\",\"x\":\"fc\",\"xref\":\"x\",\"y\":\"clock_speed\",\"yref\":\"y\"},{\"font\":{\"color\":\"#FFFFFF\"},\"showarrow\":false,\"text\":\"\",\"x\":\"four_g\",\"xref\":\"x\",\"y\":\"clock_speed\",\"yref\":\"y\"},{\"font\":{\"color\":\"#FFFFFF\"},\"showarrow\":false,\"text\":\"\",\"x\":\"int_memory\",\"xref\":\"x\",\"y\":\"clock_speed\",\"yref\":\"y\"},{\"font\":{\"color\":\"#FFFFFF\"},\"showarrow\":false,\"text\":\"\",\"x\":\"m_dep\",\"xref\":\"x\",\"y\":\"clock_speed\",\"yref\":\"y\"},{\"font\":{\"color\":\"#FFFFFF\"},\"showarrow\":false,\"text\":\"\",\"x\":\"mobile_wt\",\"xref\":\"x\",\"y\":\"clock_speed\",\"yref\":\"y\"},{\"font\":{\"color\":\"#FFFFFF\"},\"showarrow\":false,\"text\":\"\",\"x\":\"n_cores\",\"xref\":\"x\",\"y\":\"clock_speed\",\"yref\":\"y\"},{\"font\":{\"color\":\"#FFFFFF\"},\"showarrow\":false,\"text\":\"\",\"x\":\"pc\",\"xref\":\"x\",\"y\":\"clock_speed\",\"yref\":\"y\"},{\"font\":{\"color\":\"#FFFFFF\"},\"showarrow\":false,\"text\":\"\",\"x\":\"px_height\",\"xref\":\"x\",\"y\":\"clock_speed\",\"yref\":\"y\"},{\"font\":{\"color\":\"#FFFFFF\"},\"showarrow\":false,\"text\":\"\",\"x\":\"px_width\",\"xref\":\"x\",\"y\":\"clock_speed\",\"yref\":\"y\"},{\"font\":{\"color\":\"#FFFFFF\"},\"showarrow\":false,\"text\":\"\",\"x\":\"ram\",\"xref\":\"x\",\"y\":\"clock_speed\",\"yref\":\"y\"},{\"font\":{\"color\":\"#FFFFFF\"},\"showarrow\":false,\"text\":\"\",\"x\":\"sc_h\",\"xref\":\"x\",\"y\":\"clock_speed\",\"yref\":\"y\"},{\"font\":{\"color\":\"#FFFFFF\"},\"showarrow\":false,\"text\":\"\",\"x\":\"sc_w\",\"xref\":\"x\",\"y\":\"clock_speed\",\"yref\":\"y\"},{\"font\":{\"color\":\"#FFFFFF\"},\"showarrow\":false,\"text\":\"\",\"x\":\"talk_time\",\"xref\":\"x\",\"y\":\"clock_speed\",\"yref\":\"y\"},{\"font\":{\"color\":\"#FFFFFF\"},\"showarrow\":false,\"text\":\"\",\"x\":\"three_g\",\"xref\":\"x\",\"y\":\"clock_speed\",\"yref\":\"y\"},{\"font\":{\"color\":\"#FFFFFF\"},\"showarrow\":false,\"text\":\"\",\"x\":\"touch_screen\",\"xref\":\"x\",\"y\":\"clock_speed\",\"yref\":\"y\"},{\"font\":{\"color\":\"#FFFFFF\"},\"showarrow\":false,\"text\":\"\",\"x\":\"wifi\",\"xref\":\"x\",\"y\":\"clock_speed\",\"yref\":\"y\"},{\"font\":{\"color\":\"#FFFFFF\"},\"showarrow\":false,\"text\":\"\",\"x\":\"price_range\",\"xref\":\"x\",\"y\":\"clock_speed\",\"yref\":\"y\"},{\"font\":{\"color\":\"#FFFFFF\"},\"showarrow\":false,\"text\":\"\",\"x\":\"battery_power\",\"xref\":\"x\",\"y\":\"dual_sim\",\"yref\":\"y\"},{\"font\":{\"color\":\"#FFFFFF\"},\"showarrow\":false,\"text\":\"\",\"x\":\"blue\",\"xref\":\"x\",\"y\":\"dual_sim\",\"yref\":\"y\"},{\"font\":{\"color\":\"#FFFFFF\"},\"showarrow\":false,\"text\":\"\",\"x\":\"clock_speed\",\"xref\":\"x\",\"y\":\"dual_sim\",\"yref\":\"y\"},{\"font\":{\"color\":\"#FFFFFF\"},\"showarrow\":false,\"text\":\"\",\"x\":\"dual_sim\",\"xref\":\"x\",\"y\":\"dual_sim\",\"yref\":\"y\"},{\"font\":{\"color\":\"#FFFFFF\"},\"showarrow\":false,\"text\":\"\",\"x\":\"fc\",\"xref\":\"x\",\"y\":\"dual_sim\",\"yref\":\"y\"},{\"font\":{\"color\":\"#FFFFFF\"},\"showarrow\":false,\"text\":\"\",\"x\":\"four_g\",\"xref\":\"x\",\"y\":\"dual_sim\",\"yref\":\"y\"},{\"font\":{\"color\":\"#FFFFFF\"},\"showarrow\":false,\"text\":\"\",\"x\":\"int_memory\",\"xref\":\"x\",\"y\":\"dual_sim\",\"yref\":\"y\"},{\"font\":{\"color\":\"#FFFFFF\"},\"showarrow\":false,\"text\":\"\",\"x\":\"m_dep\",\"xref\":\"x\",\"y\":\"dual_sim\",\"yref\":\"y\"},{\"font\":{\"color\":\"#FFFFFF\"},\"showarrow\":false,\"text\":\"\",\"x\":\"mobile_wt\",\"xref\":\"x\",\"y\":\"dual_sim\",\"yref\":\"y\"},{\"font\":{\"color\":\"#FFFFFF\"},\"showarrow\":false,\"text\":\"\",\"x\":\"n_cores\",\"xref\":\"x\",\"y\":\"dual_sim\",\"yref\":\"y\"},{\"font\":{\"color\":\"#FFFFFF\"},\"showarrow\":false,\"text\":\"\",\"x\":\"pc\",\"xref\":\"x\",\"y\":\"dual_sim\",\"yref\":\"y\"},{\"font\":{\"color\":\"#FFFFFF\"},\"showarrow\":false,\"text\":\"\",\"x\":\"px_height\",\"xref\":\"x\",\"y\":\"dual_sim\",\"yref\":\"y\"},{\"font\":{\"color\":\"#FFFFFF\"},\"showarrow\":false,\"text\":\"\",\"x\":\"px_width\",\"xref\":\"x\",\"y\":\"dual_sim\",\"yref\":\"y\"},{\"font\":{\"color\":\"#FFFFFF\"},\"showarrow\":false,\"text\":\"\",\"x\":\"ram\",\"xref\":\"x\",\"y\":\"dual_sim\",\"yref\":\"y\"},{\"font\":{\"color\":\"#FFFFFF\"},\"showarrow\":false,\"text\":\"\",\"x\":\"sc_h\",\"xref\":\"x\",\"y\":\"dual_sim\",\"yref\":\"y\"},{\"font\":{\"color\":\"#FFFFFF\"},\"showarrow\":false,\"text\":\"\",\"x\":\"sc_w\",\"xref\":\"x\",\"y\":\"dual_sim\",\"yref\":\"y\"},{\"font\":{\"color\":\"#FFFFFF\"},\"showarrow\":false,\"text\":\"\",\"x\":\"talk_time\",\"xref\":\"x\",\"y\":\"dual_sim\",\"yref\":\"y\"},{\"font\":{\"color\":\"#FFFFFF\"},\"showarrow\":false,\"text\":\"\",\"x\":\"three_g\",\"xref\":\"x\",\"y\":\"dual_sim\",\"yref\":\"y\"},{\"font\":{\"color\":\"#FFFFFF\"},\"showarrow\":false,\"text\":\"\",\"x\":\"touch_screen\",\"xref\":\"x\",\"y\":\"dual_sim\",\"yref\":\"y\"},{\"font\":{\"color\":\"#FFFFFF\"},\"showarrow\":false,\"text\":\"\",\"x\":\"wifi\",\"xref\":\"x\",\"y\":\"dual_sim\",\"yref\":\"y\"},{\"font\":{\"color\":\"#FFFFFF\"},\"showarrow\":false,\"text\":\"\",\"x\":\"price_range\",\"xref\":\"x\",\"y\":\"dual_sim\",\"yref\":\"y\"},{\"font\":{\"color\":\"#FFFFFF\"},\"showarrow\":false,\"text\":\"\",\"x\":\"battery_power\",\"xref\":\"x\",\"y\":\"fc\",\"yref\":\"y\"},{\"font\":{\"color\":\"#FFFFFF\"},\"showarrow\":false,\"text\":\"\",\"x\":\"blue\",\"xref\":\"x\",\"y\":\"fc\",\"yref\":\"y\"},{\"font\":{\"color\":\"#FFFFFF\"},\"showarrow\":false,\"text\":\"\",\"x\":\"clock_speed\",\"xref\":\"x\",\"y\":\"fc\",\"yref\":\"y\"},{\"font\":{\"color\":\"#FFFFFF\"},\"showarrow\":false,\"text\":\"\",\"x\":\"dual_sim\",\"xref\":\"x\",\"y\":\"fc\",\"yref\":\"y\"},{\"font\":{\"color\":\"#FFFFFF\"},\"showarrow\":false,\"text\":\"\",\"x\":\"fc\",\"xref\":\"x\",\"y\":\"fc\",\"yref\":\"y\"},{\"font\":{\"color\":\"#FFFFFF\"},\"showarrow\":false,\"text\":\"\",\"x\":\"four_g\",\"xref\":\"x\",\"y\":\"fc\",\"yref\":\"y\"},{\"font\":{\"color\":\"#FFFFFF\"},\"showarrow\":false,\"text\":\"\",\"x\":\"int_memory\",\"xref\":\"x\",\"y\":\"fc\",\"yref\":\"y\"},{\"font\":{\"color\":\"#FFFFFF\"},\"showarrow\":false,\"text\":\"\",\"x\":\"m_dep\",\"xref\":\"x\",\"y\":\"fc\",\"yref\":\"y\"},{\"font\":{\"color\":\"#FFFFFF\"},\"showarrow\":false,\"text\":\"\",\"x\":\"mobile_wt\",\"xref\":\"x\",\"y\":\"fc\",\"yref\":\"y\"},{\"font\":{\"color\":\"#FFFFFF\"},\"showarrow\":false,\"text\":\"\",\"x\":\"n_cores\",\"xref\":\"x\",\"y\":\"fc\",\"yref\":\"y\"},{\"font\":{\"color\":\"#FFFFFF\"},\"showarrow\":false,\"text\":\"\",\"x\":\"pc\",\"xref\":\"x\",\"y\":\"fc\",\"yref\":\"y\"},{\"font\":{\"color\":\"#FFFFFF\"},\"showarrow\":false,\"text\":\"\",\"x\":\"px_height\",\"xref\":\"x\",\"y\":\"fc\",\"yref\":\"y\"},{\"font\":{\"color\":\"#FFFFFF\"},\"showarrow\":false,\"text\":\"\",\"x\":\"px_width\",\"xref\":\"x\",\"y\":\"fc\",\"yref\":\"y\"},{\"font\":{\"color\":\"#FFFFFF\"},\"showarrow\":false,\"text\":\"\",\"x\":\"ram\",\"xref\":\"x\",\"y\":\"fc\",\"yref\":\"y\"},{\"font\":{\"color\":\"#FFFFFF\"},\"showarrow\":false,\"text\":\"\",\"x\":\"sc_h\",\"xref\":\"x\",\"y\":\"fc\",\"yref\":\"y\"},{\"font\":{\"color\":\"#FFFFFF\"},\"showarrow\":false,\"text\":\"\",\"x\":\"sc_w\",\"xref\":\"x\",\"y\":\"fc\",\"yref\":\"y\"},{\"font\":{\"color\":\"#FFFFFF\"},\"showarrow\":false,\"text\":\"\",\"x\":\"talk_time\",\"xref\":\"x\",\"y\":\"fc\",\"yref\":\"y\"},{\"font\":{\"color\":\"#FFFFFF\"},\"showarrow\":false,\"text\":\"\",\"x\":\"three_g\",\"xref\":\"x\",\"y\":\"fc\",\"yref\":\"y\"},{\"font\":{\"color\":\"#FFFFFF\"},\"showarrow\":false,\"text\":\"\",\"x\":\"touch_screen\",\"xref\":\"x\",\"y\":\"fc\",\"yref\":\"y\"},{\"font\":{\"color\":\"#FFFFFF\"},\"showarrow\":false,\"text\":\"\",\"x\":\"wifi\",\"xref\":\"x\",\"y\":\"fc\",\"yref\":\"y\"},{\"font\":{\"color\":\"#FFFFFF\"},\"showarrow\":false,\"text\":\"\",\"x\":\"price_range\",\"xref\":\"x\",\"y\":\"fc\",\"yref\":\"y\"},{\"font\":{\"color\":\"#FFFFFF\"},\"showarrow\":false,\"text\":\"\",\"x\":\"battery_power\",\"xref\":\"x\",\"y\":\"four_g\",\"yref\":\"y\"},{\"font\":{\"color\":\"#FFFFFF\"},\"showarrow\":false,\"text\":\"\",\"x\":\"blue\",\"xref\":\"x\",\"y\":\"four_g\",\"yref\":\"y\"},{\"font\":{\"color\":\"#FFFFFF\"},\"showarrow\":false,\"text\":\"\",\"x\":\"clock_speed\",\"xref\":\"x\",\"y\":\"four_g\",\"yref\":\"y\"},{\"font\":{\"color\":\"#FFFFFF\"},\"showarrow\":false,\"text\":\"\",\"x\":\"dual_sim\",\"xref\":\"x\",\"y\":\"four_g\",\"yref\":\"y\"},{\"font\":{\"color\":\"#FFFFFF\"},\"showarrow\":false,\"text\":\"\",\"x\":\"fc\",\"xref\":\"x\",\"y\":\"four_g\",\"yref\":\"y\"},{\"font\":{\"color\":\"#FFFFFF\"},\"showarrow\":false,\"text\":\"\",\"x\":\"four_g\",\"xref\":\"x\",\"y\":\"four_g\",\"yref\":\"y\"},{\"font\":{\"color\":\"#FFFFFF\"},\"showarrow\":false,\"text\":\"\",\"x\":\"int_memory\",\"xref\":\"x\",\"y\":\"four_g\",\"yref\":\"y\"},{\"font\":{\"color\":\"#FFFFFF\"},\"showarrow\":false,\"text\":\"\",\"x\":\"m_dep\",\"xref\":\"x\",\"y\":\"four_g\",\"yref\":\"y\"},{\"font\":{\"color\":\"#FFFFFF\"},\"showarrow\":false,\"text\":\"\",\"x\":\"mobile_wt\",\"xref\":\"x\",\"y\":\"four_g\",\"yref\":\"y\"},{\"font\":{\"color\":\"#FFFFFF\"},\"showarrow\":false,\"text\":\"\",\"x\":\"n_cores\",\"xref\":\"x\",\"y\":\"four_g\",\"yref\":\"y\"},{\"font\":{\"color\":\"#FFFFFF\"},\"showarrow\":false,\"text\":\"\",\"x\":\"pc\",\"xref\":\"x\",\"y\":\"four_g\",\"yref\":\"y\"},{\"font\":{\"color\":\"#FFFFFF\"},\"showarrow\":false,\"text\":\"\",\"x\":\"px_height\",\"xref\":\"x\",\"y\":\"four_g\",\"yref\":\"y\"},{\"font\":{\"color\":\"#FFFFFF\"},\"showarrow\":false,\"text\":\"\",\"x\":\"px_width\",\"xref\":\"x\",\"y\":\"four_g\",\"yref\":\"y\"},{\"font\":{\"color\":\"#FFFFFF\"},\"showarrow\":false,\"text\":\"\",\"x\":\"ram\",\"xref\":\"x\",\"y\":\"four_g\",\"yref\":\"y\"},{\"font\":{\"color\":\"#FFFFFF\"},\"showarrow\":false,\"text\":\"\",\"x\":\"sc_h\",\"xref\":\"x\",\"y\":\"four_g\",\"yref\":\"y\"},{\"font\":{\"color\":\"#FFFFFF\"},\"showarrow\":false,\"text\":\"\",\"x\":\"sc_w\",\"xref\":\"x\",\"y\":\"four_g\",\"yref\":\"y\"},{\"font\":{\"color\":\"#FFFFFF\"},\"showarrow\":false,\"text\":\"\",\"x\":\"talk_time\",\"xref\":\"x\",\"y\":\"four_g\",\"yref\":\"y\"},{\"font\":{\"color\":\"#FFFFFF\"},\"showarrow\":false,\"text\":\"\",\"x\":\"three_g\",\"xref\":\"x\",\"y\":\"four_g\",\"yref\":\"y\"},{\"font\":{\"color\":\"#FFFFFF\"},\"showarrow\":false,\"text\":\"\",\"x\":\"touch_screen\",\"xref\":\"x\",\"y\":\"four_g\",\"yref\":\"y\"},{\"font\":{\"color\":\"#FFFFFF\"},\"showarrow\":false,\"text\":\"\",\"x\":\"wifi\",\"xref\":\"x\",\"y\":\"four_g\",\"yref\":\"y\"},{\"font\":{\"color\":\"#FFFFFF\"},\"showarrow\":false,\"text\":\"\",\"x\":\"price_range\",\"xref\":\"x\",\"y\":\"four_g\",\"yref\":\"y\"},{\"font\":{\"color\":\"#FFFFFF\"},\"showarrow\":false,\"text\":\"\",\"x\":\"battery_power\",\"xref\":\"x\",\"y\":\"int_memory\",\"yref\":\"y\"},{\"font\":{\"color\":\"#FFFFFF\"},\"showarrow\":false,\"text\":\"\",\"x\":\"blue\",\"xref\":\"x\",\"y\":\"int_memory\",\"yref\":\"y\"},{\"font\":{\"color\":\"#FFFFFF\"},\"showarrow\":false,\"text\":\"\",\"x\":\"clock_speed\",\"xref\":\"x\",\"y\":\"int_memory\",\"yref\":\"y\"},{\"font\":{\"color\":\"#FFFFFF\"},\"showarrow\":false,\"text\":\"\",\"x\":\"dual_sim\",\"xref\":\"x\",\"y\":\"int_memory\",\"yref\":\"y\"},{\"font\":{\"color\":\"#FFFFFF\"},\"showarrow\":false,\"text\":\"\",\"x\":\"fc\",\"xref\":\"x\",\"y\":\"int_memory\",\"yref\":\"y\"},{\"font\":{\"color\":\"#FFFFFF\"},\"showarrow\":false,\"text\":\"\",\"x\":\"four_g\",\"xref\":\"x\",\"y\":\"int_memory\",\"yref\":\"y\"},{\"font\":{\"color\":\"#FFFFFF\"},\"showarrow\":false,\"text\":\"\",\"x\":\"int_memory\",\"xref\":\"x\",\"y\":\"int_memory\",\"yref\":\"y\"},{\"font\":{\"color\":\"#FFFFFF\"},\"showarrow\":false,\"text\":\"\",\"x\":\"m_dep\",\"xref\":\"x\",\"y\":\"int_memory\",\"yref\":\"y\"},{\"font\":{\"color\":\"#FFFFFF\"},\"showarrow\":false,\"text\":\"\",\"x\":\"mobile_wt\",\"xref\":\"x\",\"y\":\"int_memory\",\"yref\":\"y\"},{\"font\":{\"color\":\"#FFFFFF\"},\"showarrow\":false,\"text\":\"\",\"x\":\"n_cores\",\"xref\":\"x\",\"y\":\"int_memory\",\"yref\":\"y\"},{\"font\":{\"color\":\"#FFFFFF\"},\"showarrow\":false,\"text\":\"\",\"x\":\"pc\",\"xref\":\"x\",\"y\":\"int_memory\",\"yref\":\"y\"},{\"font\":{\"color\":\"#FFFFFF\"},\"showarrow\":false,\"text\":\"\",\"x\":\"px_height\",\"xref\":\"x\",\"y\":\"int_memory\",\"yref\":\"y\"},{\"font\":{\"color\":\"#FFFFFF\"},\"showarrow\":false,\"text\":\"\",\"x\":\"px_width\",\"xref\":\"x\",\"y\":\"int_memory\",\"yref\":\"y\"},{\"font\":{\"color\":\"#FFFFFF\"},\"showarrow\":false,\"text\":\"\",\"x\":\"ram\",\"xref\":\"x\",\"y\":\"int_memory\",\"yref\":\"y\"},{\"font\":{\"color\":\"#FFFFFF\"},\"showarrow\":false,\"text\":\"\",\"x\":\"sc_h\",\"xref\":\"x\",\"y\":\"int_memory\",\"yref\":\"y\"},{\"font\":{\"color\":\"#FFFFFF\"},\"showarrow\":false,\"text\":\"\",\"x\":\"sc_w\",\"xref\":\"x\",\"y\":\"int_memory\",\"yref\":\"y\"},{\"font\":{\"color\":\"#FFFFFF\"},\"showarrow\":false,\"text\":\"\",\"x\":\"talk_time\",\"xref\":\"x\",\"y\":\"int_memory\",\"yref\":\"y\"},{\"font\":{\"color\":\"#FFFFFF\"},\"showarrow\":false,\"text\":\"\",\"x\":\"three_g\",\"xref\":\"x\",\"y\":\"int_memory\",\"yref\":\"y\"},{\"font\":{\"color\":\"#FFFFFF\"},\"showarrow\":false,\"text\":\"\",\"x\":\"touch_screen\",\"xref\":\"x\",\"y\":\"int_memory\",\"yref\":\"y\"},{\"font\":{\"color\":\"#FFFFFF\"},\"showarrow\":false,\"text\":\"\",\"x\":\"wifi\",\"xref\":\"x\",\"y\":\"int_memory\",\"yref\":\"y\"},{\"font\":{\"color\":\"#FFFFFF\"},\"showarrow\":false,\"text\":\"\",\"x\":\"price_range\",\"xref\":\"x\",\"y\":\"int_memory\",\"yref\":\"y\"},{\"font\":{\"color\":\"#FFFFFF\"},\"showarrow\":false,\"text\":\"\",\"x\":\"battery_power\",\"xref\":\"x\",\"y\":\"m_dep\",\"yref\":\"y\"},{\"font\":{\"color\":\"#FFFFFF\"},\"showarrow\":false,\"text\":\"\",\"x\":\"blue\",\"xref\":\"x\",\"y\":\"m_dep\",\"yref\":\"y\"},{\"font\":{\"color\":\"#FFFFFF\"},\"showarrow\":false,\"text\":\"\",\"x\":\"clock_speed\",\"xref\":\"x\",\"y\":\"m_dep\",\"yref\":\"y\"},{\"font\":{\"color\":\"#FFFFFF\"},\"showarrow\":false,\"text\":\"\",\"x\":\"dual_sim\",\"xref\":\"x\",\"y\":\"m_dep\",\"yref\":\"y\"},{\"font\":{\"color\":\"#FFFFFF\"},\"showarrow\":false,\"text\":\"\",\"x\":\"fc\",\"xref\":\"x\",\"y\":\"m_dep\",\"yref\":\"y\"},{\"font\":{\"color\":\"#FFFFFF\"},\"showarrow\":false,\"text\":\"\",\"x\":\"four_g\",\"xref\":\"x\",\"y\":\"m_dep\",\"yref\":\"y\"},{\"font\":{\"color\":\"#FFFFFF\"},\"showarrow\":false,\"text\":\"\",\"x\":\"int_memory\",\"xref\":\"x\",\"y\":\"m_dep\",\"yref\":\"y\"},{\"font\":{\"color\":\"#FFFFFF\"},\"showarrow\":false,\"text\":\"\",\"x\":\"m_dep\",\"xref\":\"x\",\"y\":\"m_dep\",\"yref\":\"y\"},{\"font\":{\"color\":\"#FFFFFF\"},\"showarrow\":false,\"text\":\"\",\"x\":\"mobile_wt\",\"xref\":\"x\",\"y\":\"m_dep\",\"yref\":\"y\"},{\"font\":{\"color\":\"#FFFFFF\"},\"showarrow\":false,\"text\":\"\",\"x\":\"n_cores\",\"xref\":\"x\",\"y\":\"m_dep\",\"yref\":\"y\"},{\"font\":{\"color\":\"#FFFFFF\"},\"showarrow\":false,\"text\":\"\",\"x\":\"pc\",\"xref\":\"x\",\"y\":\"m_dep\",\"yref\":\"y\"},{\"font\":{\"color\":\"#FFFFFF\"},\"showarrow\":false,\"text\":\"\",\"x\":\"px_height\",\"xref\":\"x\",\"y\":\"m_dep\",\"yref\":\"y\"},{\"font\":{\"color\":\"#FFFFFF\"},\"showarrow\":false,\"text\":\"\",\"x\":\"px_width\",\"xref\":\"x\",\"y\":\"m_dep\",\"yref\":\"y\"},{\"font\":{\"color\":\"#FFFFFF\"},\"showarrow\":false,\"text\":\"\",\"x\":\"ram\",\"xref\":\"x\",\"y\":\"m_dep\",\"yref\":\"y\"},{\"font\":{\"color\":\"#FFFFFF\"},\"showarrow\":false,\"text\":\"\",\"x\":\"sc_h\",\"xref\":\"x\",\"y\":\"m_dep\",\"yref\":\"y\"},{\"font\":{\"color\":\"#FFFFFF\"},\"showarrow\":false,\"text\":\"\",\"x\":\"sc_w\",\"xref\":\"x\",\"y\":\"m_dep\",\"yref\":\"y\"},{\"font\":{\"color\":\"#FFFFFF\"},\"showarrow\":false,\"text\":\"\",\"x\":\"talk_time\",\"xref\":\"x\",\"y\":\"m_dep\",\"yref\":\"y\"},{\"font\":{\"color\":\"#FFFFFF\"},\"showarrow\":false,\"text\":\"\",\"x\":\"three_g\",\"xref\":\"x\",\"y\":\"m_dep\",\"yref\":\"y\"},{\"font\":{\"color\":\"#FFFFFF\"},\"showarrow\":false,\"text\":\"\",\"x\":\"touch_screen\",\"xref\":\"x\",\"y\":\"m_dep\",\"yref\":\"y\"},{\"font\":{\"color\":\"#FFFFFF\"},\"showarrow\":false,\"text\":\"\",\"x\":\"wifi\",\"xref\":\"x\",\"y\":\"m_dep\",\"yref\":\"y\"},{\"font\":{\"color\":\"#FFFFFF\"},\"showarrow\":false,\"text\":\"\",\"x\":\"price_range\",\"xref\":\"x\",\"y\":\"m_dep\",\"yref\":\"y\"},{\"font\":{\"color\":\"#FFFFFF\"},\"showarrow\":false,\"text\":\"\",\"x\":\"battery_power\",\"xref\":\"x\",\"y\":\"mobile_wt\",\"yref\":\"y\"},{\"font\":{\"color\":\"#FFFFFF\"},\"showarrow\":false,\"text\":\"\",\"x\":\"blue\",\"xref\":\"x\",\"y\":\"mobile_wt\",\"yref\":\"y\"},{\"font\":{\"color\":\"#FFFFFF\"},\"showarrow\":false,\"text\":\"\",\"x\":\"clock_speed\",\"xref\":\"x\",\"y\":\"mobile_wt\",\"yref\":\"y\"},{\"font\":{\"color\":\"#FFFFFF\"},\"showarrow\":false,\"text\":\"\",\"x\":\"dual_sim\",\"xref\":\"x\",\"y\":\"mobile_wt\",\"yref\":\"y\"},{\"font\":{\"color\":\"#FFFFFF\"},\"showarrow\":false,\"text\":\"\",\"x\":\"fc\",\"xref\":\"x\",\"y\":\"mobile_wt\",\"yref\":\"y\"},{\"font\":{\"color\":\"#FFFFFF\"},\"showarrow\":false,\"text\":\"\",\"x\":\"four_g\",\"xref\":\"x\",\"y\":\"mobile_wt\",\"yref\":\"y\"},{\"font\":{\"color\":\"#FFFFFF\"},\"showarrow\":false,\"text\":\"\",\"x\":\"int_memory\",\"xref\":\"x\",\"y\":\"mobile_wt\",\"yref\":\"y\"},{\"font\":{\"color\":\"#FFFFFF\"},\"showarrow\":false,\"text\":\"\",\"x\":\"m_dep\",\"xref\":\"x\",\"y\":\"mobile_wt\",\"yref\":\"y\"},{\"font\":{\"color\":\"#FFFFFF\"},\"showarrow\":false,\"text\":\"\",\"x\":\"mobile_wt\",\"xref\":\"x\",\"y\":\"mobile_wt\",\"yref\":\"y\"},{\"font\":{\"color\":\"#FFFFFF\"},\"showarrow\":false,\"text\":\"\",\"x\":\"n_cores\",\"xref\":\"x\",\"y\":\"mobile_wt\",\"yref\":\"y\"},{\"font\":{\"color\":\"#FFFFFF\"},\"showarrow\":false,\"text\":\"\",\"x\":\"pc\",\"xref\":\"x\",\"y\":\"mobile_wt\",\"yref\":\"y\"},{\"font\":{\"color\":\"#FFFFFF\"},\"showarrow\":false,\"text\":\"\",\"x\":\"px_height\",\"xref\":\"x\",\"y\":\"mobile_wt\",\"yref\":\"y\"},{\"font\":{\"color\":\"#FFFFFF\"},\"showarrow\":false,\"text\":\"\",\"x\":\"px_width\",\"xref\":\"x\",\"y\":\"mobile_wt\",\"yref\":\"y\"},{\"font\":{\"color\":\"#FFFFFF\"},\"showarrow\":false,\"text\":\"\",\"x\":\"ram\",\"xref\":\"x\",\"y\":\"mobile_wt\",\"yref\":\"y\"},{\"font\":{\"color\":\"#FFFFFF\"},\"showarrow\":false,\"text\":\"\",\"x\":\"sc_h\",\"xref\":\"x\",\"y\":\"mobile_wt\",\"yref\":\"y\"},{\"font\":{\"color\":\"#FFFFFF\"},\"showarrow\":false,\"text\":\"\",\"x\":\"sc_w\",\"xref\":\"x\",\"y\":\"mobile_wt\",\"yref\":\"y\"},{\"font\":{\"color\":\"#FFFFFF\"},\"showarrow\":false,\"text\":\"\",\"x\":\"talk_time\",\"xref\":\"x\",\"y\":\"mobile_wt\",\"yref\":\"y\"},{\"font\":{\"color\":\"#FFFFFF\"},\"showarrow\":false,\"text\":\"\",\"x\":\"three_g\",\"xref\":\"x\",\"y\":\"mobile_wt\",\"yref\":\"y\"},{\"font\":{\"color\":\"#FFFFFF\"},\"showarrow\":false,\"text\":\"\",\"x\":\"touch_screen\",\"xref\":\"x\",\"y\":\"mobile_wt\",\"yref\":\"y\"},{\"font\":{\"color\":\"#FFFFFF\"},\"showarrow\":false,\"text\":\"\",\"x\":\"wifi\",\"xref\":\"x\",\"y\":\"mobile_wt\",\"yref\":\"y\"},{\"font\":{\"color\":\"#FFFFFF\"},\"showarrow\":false,\"text\":\"\",\"x\":\"price_range\",\"xref\":\"x\",\"y\":\"mobile_wt\",\"yref\":\"y\"},{\"font\":{\"color\":\"#FFFFFF\"},\"showarrow\":false,\"text\":\"\",\"x\":\"battery_power\",\"xref\":\"x\",\"y\":\"n_cores\",\"yref\":\"y\"},{\"font\":{\"color\":\"#FFFFFF\"},\"showarrow\":false,\"text\":\"\",\"x\":\"blue\",\"xref\":\"x\",\"y\":\"n_cores\",\"yref\":\"y\"},{\"font\":{\"color\":\"#FFFFFF\"},\"showarrow\":false,\"text\":\"\",\"x\":\"clock_speed\",\"xref\":\"x\",\"y\":\"n_cores\",\"yref\":\"y\"},{\"font\":{\"color\":\"#FFFFFF\"},\"showarrow\":false,\"text\":\"\",\"x\":\"dual_sim\",\"xref\":\"x\",\"y\":\"n_cores\",\"yref\":\"y\"},{\"font\":{\"color\":\"#FFFFFF\"},\"showarrow\":false,\"text\":\"\",\"x\":\"fc\",\"xref\":\"x\",\"y\":\"n_cores\",\"yref\":\"y\"},{\"font\":{\"color\":\"#FFFFFF\"},\"showarrow\":false,\"text\":\"\",\"x\":\"four_g\",\"xref\":\"x\",\"y\":\"n_cores\",\"yref\":\"y\"},{\"font\":{\"color\":\"#FFFFFF\"},\"showarrow\":false,\"text\":\"\",\"x\":\"int_memory\",\"xref\":\"x\",\"y\":\"n_cores\",\"yref\":\"y\"},{\"font\":{\"color\":\"#FFFFFF\"},\"showarrow\":false,\"text\":\"\",\"x\":\"m_dep\",\"xref\":\"x\",\"y\":\"n_cores\",\"yref\":\"y\"},{\"font\":{\"color\":\"#FFFFFF\"},\"showarrow\":false,\"text\":\"\",\"x\":\"mobile_wt\",\"xref\":\"x\",\"y\":\"n_cores\",\"yref\":\"y\"},{\"font\":{\"color\":\"#FFFFFF\"},\"showarrow\":false,\"text\":\"\",\"x\":\"n_cores\",\"xref\":\"x\",\"y\":\"n_cores\",\"yref\":\"y\"},{\"font\":{\"color\":\"#FFFFFF\"},\"showarrow\":false,\"text\":\"\",\"x\":\"pc\",\"xref\":\"x\",\"y\":\"n_cores\",\"yref\":\"y\"},{\"font\":{\"color\":\"#FFFFFF\"},\"showarrow\":false,\"text\":\"\",\"x\":\"px_height\",\"xref\":\"x\",\"y\":\"n_cores\",\"yref\":\"y\"},{\"font\":{\"color\":\"#FFFFFF\"},\"showarrow\":false,\"text\":\"\",\"x\":\"px_width\",\"xref\":\"x\",\"y\":\"n_cores\",\"yref\":\"y\"},{\"font\":{\"color\":\"#FFFFFF\"},\"showarrow\":false,\"text\":\"\",\"x\":\"ram\",\"xref\":\"x\",\"y\":\"n_cores\",\"yref\":\"y\"},{\"font\":{\"color\":\"#FFFFFF\"},\"showarrow\":false,\"text\":\"\",\"x\":\"sc_h\",\"xref\":\"x\",\"y\":\"n_cores\",\"yref\":\"y\"},{\"font\":{\"color\":\"#FFFFFF\"},\"showarrow\":false,\"text\":\"\",\"x\":\"sc_w\",\"xref\":\"x\",\"y\":\"n_cores\",\"yref\":\"y\"},{\"font\":{\"color\":\"#FFFFFF\"},\"showarrow\":false,\"text\":\"\",\"x\":\"talk_time\",\"xref\":\"x\",\"y\":\"n_cores\",\"yref\":\"y\"},{\"font\":{\"color\":\"#FFFFFF\"},\"showarrow\":false,\"text\":\"\",\"x\":\"three_g\",\"xref\":\"x\",\"y\":\"n_cores\",\"yref\":\"y\"},{\"font\":{\"color\":\"#FFFFFF\"},\"showarrow\":false,\"text\":\"\",\"x\":\"touch_screen\",\"xref\":\"x\",\"y\":\"n_cores\",\"yref\":\"y\"},{\"font\":{\"color\":\"#FFFFFF\"},\"showarrow\":false,\"text\":\"\",\"x\":\"wifi\",\"xref\":\"x\",\"y\":\"n_cores\",\"yref\":\"y\"},{\"font\":{\"color\":\"#FFFFFF\"},\"showarrow\":false,\"text\":\"\",\"x\":\"price_range\",\"xref\":\"x\",\"y\":\"n_cores\",\"yref\":\"y\"},{\"font\":{\"color\":\"#FFFFFF\"},\"showarrow\":false,\"text\":\"\",\"x\":\"battery_power\",\"xref\":\"x\",\"y\":\"pc\",\"yref\":\"y\"},{\"font\":{\"color\":\"#FFFFFF\"},\"showarrow\":false,\"text\":\"\",\"x\":\"blue\",\"xref\":\"x\",\"y\":\"pc\",\"yref\":\"y\"},{\"font\":{\"color\":\"#FFFFFF\"},\"showarrow\":false,\"text\":\"\",\"x\":\"clock_speed\",\"xref\":\"x\",\"y\":\"pc\",\"yref\":\"y\"},{\"font\":{\"color\":\"#FFFFFF\"},\"showarrow\":false,\"text\":\"\",\"x\":\"dual_sim\",\"xref\":\"x\",\"y\":\"pc\",\"yref\":\"y\"},{\"font\":{\"color\":\"#FFFFFF\"},\"showarrow\":false,\"text\":\"\",\"x\":\"fc\",\"xref\":\"x\",\"y\":\"pc\",\"yref\":\"y\"},{\"font\":{\"color\":\"#FFFFFF\"},\"showarrow\":false,\"text\":\"\",\"x\":\"four_g\",\"xref\":\"x\",\"y\":\"pc\",\"yref\":\"y\"},{\"font\":{\"color\":\"#FFFFFF\"},\"showarrow\":false,\"text\":\"\",\"x\":\"int_memory\",\"xref\":\"x\",\"y\":\"pc\",\"yref\":\"y\"},{\"font\":{\"color\":\"#FFFFFF\"},\"showarrow\":false,\"text\":\"\",\"x\":\"m_dep\",\"xref\":\"x\",\"y\":\"pc\",\"yref\":\"y\"},{\"font\":{\"color\":\"#FFFFFF\"},\"showarrow\":false,\"text\":\"\",\"x\":\"mobile_wt\",\"xref\":\"x\",\"y\":\"pc\",\"yref\":\"y\"},{\"font\":{\"color\":\"#FFFFFF\"},\"showarrow\":false,\"text\":\"\",\"x\":\"n_cores\",\"xref\":\"x\",\"y\":\"pc\",\"yref\":\"y\"},{\"font\":{\"color\":\"#FFFFFF\"},\"showarrow\":false,\"text\":\"\",\"x\":\"pc\",\"xref\":\"x\",\"y\":\"pc\",\"yref\":\"y\"},{\"font\":{\"color\":\"#FFFFFF\"},\"showarrow\":false,\"text\":\"\",\"x\":\"px_height\",\"xref\":\"x\",\"y\":\"pc\",\"yref\":\"y\"},{\"font\":{\"color\":\"#FFFFFF\"},\"showarrow\":false,\"text\":\"\",\"x\":\"px_width\",\"xref\":\"x\",\"y\":\"pc\",\"yref\":\"y\"},{\"font\":{\"color\":\"#FFFFFF\"},\"showarrow\":false,\"text\":\"\",\"x\":\"ram\",\"xref\":\"x\",\"y\":\"pc\",\"yref\":\"y\"},{\"font\":{\"color\":\"#FFFFFF\"},\"showarrow\":false,\"text\":\"\",\"x\":\"sc_h\",\"xref\":\"x\",\"y\":\"pc\",\"yref\":\"y\"},{\"font\":{\"color\":\"#FFFFFF\"},\"showarrow\":false,\"text\":\"\",\"x\":\"sc_w\",\"xref\":\"x\",\"y\":\"pc\",\"yref\":\"y\"},{\"font\":{\"color\":\"#FFFFFF\"},\"showarrow\":false,\"text\":\"\",\"x\":\"talk_time\",\"xref\":\"x\",\"y\":\"pc\",\"yref\":\"y\"},{\"font\":{\"color\":\"#FFFFFF\"},\"showarrow\":false,\"text\":\"\",\"x\":\"three_g\",\"xref\":\"x\",\"y\":\"pc\",\"yref\":\"y\"},{\"font\":{\"color\":\"#FFFFFF\"},\"showarrow\":false,\"text\":\"\",\"x\":\"touch_screen\",\"xref\":\"x\",\"y\":\"pc\",\"yref\":\"y\"},{\"font\":{\"color\":\"#FFFFFF\"},\"showarrow\":false,\"text\":\"\",\"x\":\"wifi\",\"xref\":\"x\",\"y\":\"pc\",\"yref\":\"y\"},{\"font\":{\"color\":\"#FFFFFF\"},\"showarrow\":false,\"text\":\"\",\"x\":\"price_range\",\"xref\":\"x\",\"y\":\"pc\",\"yref\":\"y\"},{\"font\":{\"color\":\"#FFFFFF\"},\"showarrow\":false,\"text\":\"\",\"x\":\"battery_power\",\"xref\":\"x\",\"y\":\"px_height\",\"yref\":\"y\"},{\"font\":{\"color\":\"#FFFFFF\"},\"showarrow\":false,\"text\":\"\",\"x\":\"blue\",\"xref\":\"x\",\"y\":\"px_height\",\"yref\":\"y\"},{\"font\":{\"color\":\"#FFFFFF\"},\"showarrow\":false,\"text\":\"\",\"x\":\"clock_speed\",\"xref\":\"x\",\"y\":\"px_height\",\"yref\":\"y\"},{\"font\":{\"color\":\"#FFFFFF\"},\"showarrow\":false,\"text\":\"\",\"x\":\"dual_sim\",\"xref\":\"x\",\"y\":\"px_height\",\"yref\":\"y\"},{\"font\":{\"color\":\"#FFFFFF\"},\"showarrow\":false,\"text\":\"\",\"x\":\"fc\",\"xref\":\"x\",\"y\":\"px_height\",\"yref\":\"y\"},{\"font\":{\"color\":\"#FFFFFF\"},\"showarrow\":false,\"text\":\"\",\"x\":\"four_g\",\"xref\":\"x\",\"y\":\"px_height\",\"yref\":\"y\"},{\"font\":{\"color\":\"#FFFFFF\"},\"showarrow\":false,\"text\":\"\",\"x\":\"int_memory\",\"xref\":\"x\",\"y\":\"px_height\",\"yref\":\"y\"},{\"font\":{\"color\":\"#FFFFFF\"},\"showarrow\":false,\"text\":\"\",\"x\":\"m_dep\",\"xref\":\"x\",\"y\":\"px_height\",\"yref\":\"y\"},{\"font\":{\"color\":\"#FFFFFF\"},\"showarrow\":false,\"text\":\"\",\"x\":\"mobile_wt\",\"xref\":\"x\",\"y\":\"px_height\",\"yref\":\"y\"},{\"font\":{\"color\":\"#FFFFFF\"},\"showarrow\":false,\"text\":\"\",\"x\":\"n_cores\",\"xref\":\"x\",\"y\":\"px_height\",\"yref\":\"y\"},{\"font\":{\"color\":\"#FFFFFF\"},\"showarrow\":false,\"text\":\"\",\"x\":\"pc\",\"xref\":\"x\",\"y\":\"px_height\",\"yref\":\"y\"},{\"font\":{\"color\":\"#FFFFFF\"},\"showarrow\":false,\"text\":\"\",\"x\":\"px_height\",\"xref\":\"x\",\"y\":\"px_height\",\"yref\":\"y\"},{\"font\":{\"color\":\"#FFFFFF\"},\"showarrow\":false,\"text\":\"\",\"x\":\"px_width\",\"xref\":\"x\",\"y\":\"px_height\",\"yref\":\"y\"},{\"font\":{\"color\":\"#FFFFFF\"},\"showarrow\":false,\"text\":\"\",\"x\":\"ram\",\"xref\":\"x\",\"y\":\"px_height\",\"yref\":\"y\"},{\"font\":{\"color\":\"#FFFFFF\"},\"showarrow\":false,\"text\":\"\",\"x\":\"sc_h\",\"xref\":\"x\",\"y\":\"px_height\",\"yref\":\"y\"},{\"font\":{\"color\":\"#FFFFFF\"},\"showarrow\":false,\"text\":\"\",\"x\":\"sc_w\",\"xref\":\"x\",\"y\":\"px_height\",\"yref\":\"y\"},{\"font\":{\"color\":\"#FFFFFF\"},\"showarrow\":false,\"text\":\"\",\"x\":\"talk_time\",\"xref\":\"x\",\"y\":\"px_height\",\"yref\":\"y\"},{\"font\":{\"color\":\"#FFFFFF\"},\"showarrow\":false,\"text\":\"\",\"x\":\"three_g\",\"xref\":\"x\",\"y\":\"px_height\",\"yref\":\"y\"},{\"font\":{\"color\":\"#FFFFFF\"},\"showarrow\":false,\"text\":\"\",\"x\":\"touch_screen\",\"xref\":\"x\",\"y\":\"px_height\",\"yref\":\"y\"},{\"font\":{\"color\":\"#FFFFFF\"},\"showarrow\":false,\"text\":\"\",\"x\":\"wifi\",\"xref\":\"x\",\"y\":\"px_height\",\"yref\":\"y\"},{\"font\":{\"color\":\"#FFFFFF\"},\"showarrow\":false,\"text\":\"\",\"x\":\"price_range\",\"xref\":\"x\",\"y\":\"px_height\",\"yref\":\"y\"},{\"font\":{\"color\":\"#FFFFFF\"},\"showarrow\":false,\"text\":\"\",\"x\":\"battery_power\",\"xref\":\"x\",\"y\":\"px_width\",\"yref\":\"y\"},{\"font\":{\"color\":\"#FFFFFF\"},\"showarrow\":false,\"text\":\"\",\"x\":\"blue\",\"xref\":\"x\",\"y\":\"px_width\",\"yref\":\"y\"},{\"font\":{\"color\":\"#FFFFFF\"},\"showarrow\":false,\"text\":\"\",\"x\":\"clock_speed\",\"xref\":\"x\",\"y\":\"px_width\",\"yref\":\"y\"},{\"font\":{\"color\":\"#FFFFFF\"},\"showarrow\":false,\"text\":\"\",\"x\":\"dual_sim\",\"xref\":\"x\",\"y\":\"px_width\",\"yref\":\"y\"},{\"font\":{\"color\":\"#FFFFFF\"},\"showarrow\":false,\"text\":\"\",\"x\":\"fc\",\"xref\":\"x\",\"y\":\"px_width\",\"yref\":\"y\"},{\"font\":{\"color\":\"#FFFFFF\"},\"showarrow\":false,\"text\":\"\",\"x\":\"four_g\",\"xref\":\"x\",\"y\":\"px_width\",\"yref\":\"y\"},{\"font\":{\"color\":\"#FFFFFF\"},\"showarrow\":false,\"text\":\"\",\"x\":\"int_memory\",\"xref\":\"x\",\"y\":\"px_width\",\"yref\":\"y\"},{\"font\":{\"color\":\"#FFFFFF\"},\"showarrow\":false,\"text\":\"\",\"x\":\"m_dep\",\"xref\":\"x\",\"y\":\"px_width\",\"yref\":\"y\"},{\"font\":{\"color\":\"#FFFFFF\"},\"showarrow\":false,\"text\":\"\",\"x\":\"mobile_wt\",\"xref\":\"x\",\"y\":\"px_width\",\"yref\":\"y\"},{\"font\":{\"color\":\"#FFFFFF\"},\"showarrow\":false,\"text\":\"\",\"x\":\"n_cores\",\"xref\":\"x\",\"y\":\"px_width\",\"yref\":\"y\"},{\"font\":{\"color\":\"#FFFFFF\"},\"showarrow\":false,\"text\":\"\",\"x\":\"pc\",\"xref\":\"x\",\"y\":\"px_width\",\"yref\":\"y\"},{\"font\":{\"color\":\"#FFFFFF\"},\"showarrow\":false,\"text\":\"\",\"x\":\"px_height\",\"xref\":\"x\",\"y\":\"px_width\",\"yref\":\"y\"},{\"font\":{\"color\":\"#FFFFFF\"},\"showarrow\":false,\"text\":\"\",\"x\":\"px_width\",\"xref\":\"x\",\"y\":\"px_width\",\"yref\":\"y\"},{\"font\":{\"color\":\"#FFFFFF\"},\"showarrow\":false,\"text\":\"\",\"x\":\"ram\",\"xref\":\"x\",\"y\":\"px_width\",\"yref\":\"y\"},{\"font\":{\"color\":\"#FFFFFF\"},\"showarrow\":false,\"text\":\"\",\"x\":\"sc_h\",\"xref\":\"x\",\"y\":\"px_width\",\"yref\":\"y\"},{\"font\":{\"color\":\"#FFFFFF\"},\"showarrow\":false,\"text\":\"\",\"x\":\"sc_w\",\"xref\":\"x\",\"y\":\"px_width\",\"yref\":\"y\"},{\"font\":{\"color\":\"#FFFFFF\"},\"showarrow\":false,\"text\":\"\",\"x\":\"talk_time\",\"xref\":\"x\",\"y\":\"px_width\",\"yref\":\"y\"},{\"font\":{\"color\":\"#FFFFFF\"},\"showarrow\":false,\"text\":\"\",\"x\":\"three_g\",\"xref\":\"x\",\"y\":\"px_width\",\"yref\":\"y\"},{\"font\":{\"color\":\"#FFFFFF\"},\"showarrow\":false,\"text\":\"\",\"x\":\"touch_screen\",\"xref\":\"x\",\"y\":\"px_width\",\"yref\":\"y\"},{\"font\":{\"color\":\"#FFFFFF\"},\"showarrow\":false,\"text\":\"\",\"x\":\"wifi\",\"xref\":\"x\",\"y\":\"px_width\",\"yref\":\"y\"},{\"font\":{\"color\":\"#FFFFFF\"},\"showarrow\":false,\"text\":\"\",\"x\":\"price_range\",\"xref\":\"x\",\"y\":\"px_width\",\"yref\":\"y\"},{\"font\":{\"color\":\"#FFFFFF\"},\"showarrow\":false,\"text\":\"\",\"x\":\"battery_power\",\"xref\":\"x\",\"y\":\"ram\",\"yref\":\"y\"},{\"font\":{\"color\":\"#FFFFFF\"},\"showarrow\":false,\"text\":\"\",\"x\":\"blue\",\"xref\":\"x\",\"y\":\"ram\",\"yref\":\"y\"},{\"font\":{\"color\":\"#FFFFFF\"},\"showarrow\":false,\"text\":\"\",\"x\":\"clock_speed\",\"xref\":\"x\",\"y\":\"ram\",\"yref\":\"y\"},{\"font\":{\"color\":\"#FFFFFF\"},\"showarrow\":false,\"text\":\"\",\"x\":\"dual_sim\",\"xref\":\"x\",\"y\":\"ram\",\"yref\":\"y\"},{\"font\":{\"color\":\"#FFFFFF\"},\"showarrow\":false,\"text\":\"\",\"x\":\"fc\",\"xref\":\"x\",\"y\":\"ram\",\"yref\":\"y\"},{\"font\":{\"color\":\"#FFFFFF\"},\"showarrow\":false,\"text\":\"\",\"x\":\"four_g\",\"xref\":\"x\",\"y\":\"ram\",\"yref\":\"y\"},{\"font\":{\"color\":\"#FFFFFF\"},\"showarrow\":false,\"text\":\"\",\"x\":\"int_memory\",\"xref\":\"x\",\"y\":\"ram\",\"yref\":\"y\"},{\"font\":{\"color\":\"#FFFFFF\"},\"showarrow\":false,\"text\":\"\",\"x\":\"m_dep\",\"xref\":\"x\",\"y\":\"ram\",\"yref\":\"y\"},{\"font\":{\"color\":\"#FFFFFF\"},\"showarrow\":false,\"text\":\"\",\"x\":\"mobile_wt\",\"xref\":\"x\",\"y\":\"ram\",\"yref\":\"y\"},{\"font\":{\"color\":\"#FFFFFF\"},\"showarrow\":false,\"text\":\"\",\"x\":\"n_cores\",\"xref\":\"x\",\"y\":\"ram\",\"yref\":\"y\"},{\"font\":{\"color\":\"#FFFFFF\"},\"showarrow\":false,\"text\":\"\",\"x\":\"pc\",\"xref\":\"x\",\"y\":\"ram\",\"yref\":\"y\"},{\"font\":{\"color\":\"#FFFFFF\"},\"showarrow\":false,\"text\":\"\",\"x\":\"px_height\",\"xref\":\"x\",\"y\":\"ram\",\"yref\":\"y\"},{\"font\":{\"color\":\"#FFFFFF\"},\"showarrow\":false,\"text\":\"\",\"x\":\"px_width\",\"xref\":\"x\",\"y\":\"ram\",\"yref\":\"y\"},{\"font\":{\"color\":\"#FFFFFF\"},\"showarrow\":false,\"text\":\"\",\"x\":\"ram\",\"xref\":\"x\",\"y\":\"ram\",\"yref\":\"y\"},{\"font\":{\"color\":\"#FFFFFF\"},\"showarrow\":false,\"text\":\"\",\"x\":\"sc_h\",\"xref\":\"x\",\"y\":\"ram\",\"yref\":\"y\"},{\"font\":{\"color\":\"#FFFFFF\"},\"showarrow\":false,\"text\":\"\",\"x\":\"sc_w\",\"xref\":\"x\",\"y\":\"ram\",\"yref\":\"y\"},{\"font\":{\"color\":\"#FFFFFF\"},\"showarrow\":false,\"text\":\"\",\"x\":\"talk_time\",\"xref\":\"x\",\"y\":\"ram\",\"yref\":\"y\"},{\"font\":{\"color\":\"#FFFFFF\"},\"showarrow\":false,\"text\":\"\",\"x\":\"three_g\",\"xref\":\"x\",\"y\":\"ram\",\"yref\":\"y\"},{\"font\":{\"color\":\"#FFFFFF\"},\"showarrow\":false,\"text\":\"\",\"x\":\"touch_screen\",\"xref\":\"x\",\"y\":\"ram\",\"yref\":\"y\"},{\"font\":{\"color\":\"#FFFFFF\"},\"showarrow\":false,\"text\":\"\",\"x\":\"wifi\",\"xref\":\"x\",\"y\":\"ram\",\"yref\":\"y\"},{\"font\":{\"color\":\"#FFFFFF\"},\"showarrow\":false,\"text\":\"\",\"x\":\"price_range\",\"xref\":\"x\",\"y\":\"ram\",\"yref\":\"y\"},{\"font\":{\"color\":\"#FFFFFF\"},\"showarrow\":false,\"text\":\"\",\"x\":\"battery_power\",\"xref\":\"x\",\"y\":\"sc_h\",\"yref\":\"y\"},{\"font\":{\"color\":\"#FFFFFF\"},\"showarrow\":false,\"text\":\"\",\"x\":\"blue\",\"xref\":\"x\",\"y\":\"sc_h\",\"yref\":\"y\"},{\"font\":{\"color\":\"#FFFFFF\"},\"showarrow\":false,\"text\":\"\",\"x\":\"clock_speed\",\"xref\":\"x\",\"y\":\"sc_h\",\"yref\":\"y\"},{\"font\":{\"color\":\"#FFFFFF\"},\"showarrow\":false,\"text\":\"\",\"x\":\"dual_sim\",\"xref\":\"x\",\"y\":\"sc_h\",\"yref\":\"y\"},{\"font\":{\"color\":\"#FFFFFF\"},\"showarrow\":false,\"text\":\"\",\"x\":\"fc\",\"xref\":\"x\",\"y\":\"sc_h\",\"yref\":\"y\"},{\"font\":{\"color\":\"#FFFFFF\"},\"showarrow\":false,\"text\":\"\",\"x\":\"four_g\",\"xref\":\"x\",\"y\":\"sc_h\",\"yref\":\"y\"},{\"font\":{\"color\":\"#FFFFFF\"},\"showarrow\":false,\"text\":\"\",\"x\":\"int_memory\",\"xref\":\"x\",\"y\":\"sc_h\",\"yref\":\"y\"},{\"font\":{\"color\":\"#FFFFFF\"},\"showarrow\":false,\"text\":\"\",\"x\":\"m_dep\",\"xref\":\"x\",\"y\":\"sc_h\",\"yref\":\"y\"},{\"font\":{\"color\":\"#FFFFFF\"},\"showarrow\":false,\"text\":\"\",\"x\":\"mobile_wt\",\"xref\":\"x\",\"y\":\"sc_h\",\"yref\":\"y\"},{\"font\":{\"color\":\"#FFFFFF\"},\"showarrow\":false,\"text\":\"\",\"x\":\"n_cores\",\"xref\":\"x\",\"y\":\"sc_h\",\"yref\":\"y\"},{\"font\":{\"color\":\"#FFFFFF\"},\"showarrow\":false,\"text\":\"\",\"x\":\"pc\",\"xref\":\"x\",\"y\":\"sc_h\",\"yref\":\"y\"},{\"font\":{\"color\":\"#FFFFFF\"},\"showarrow\":false,\"text\":\"\",\"x\":\"px_height\",\"xref\":\"x\",\"y\":\"sc_h\",\"yref\":\"y\"},{\"font\":{\"color\":\"#FFFFFF\"},\"showarrow\":false,\"text\":\"\",\"x\":\"px_width\",\"xref\":\"x\",\"y\":\"sc_h\",\"yref\":\"y\"},{\"font\":{\"color\":\"#FFFFFF\"},\"showarrow\":false,\"text\":\"\",\"x\":\"ram\",\"xref\":\"x\",\"y\":\"sc_h\",\"yref\":\"y\"},{\"font\":{\"color\":\"#FFFFFF\"},\"showarrow\":false,\"text\":\"\",\"x\":\"sc_h\",\"xref\":\"x\",\"y\":\"sc_h\",\"yref\":\"y\"},{\"font\":{\"color\":\"#FFFFFF\"},\"showarrow\":false,\"text\":\"\",\"x\":\"sc_w\",\"xref\":\"x\",\"y\":\"sc_h\",\"yref\":\"y\"},{\"font\":{\"color\":\"#FFFFFF\"},\"showarrow\":false,\"text\":\"\",\"x\":\"talk_time\",\"xref\":\"x\",\"y\":\"sc_h\",\"yref\":\"y\"},{\"font\":{\"color\":\"#FFFFFF\"},\"showarrow\":false,\"text\":\"\",\"x\":\"three_g\",\"xref\":\"x\",\"y\":\"sc_h\",\"yref\":\"y\"},{\"font\":{\"color\":\"#FFFFFF\"},\"showarrow\":false,\"text\":\"\",\"x\":\"touch_screen\",\"xref\":\"x\",\"y\":\"sc_h\",\"yref\":\"y\"},{\"font\":{\"color\":\"#FFFFFF\"},\"showarrow\":false,\"text\":\"\",\"x\":\"wifi\",\"xref\":\"x\",\"y\":\"sc_h\",\"yref\":\"y\"},{\"font\":{\"color\":\"#FFFFFF\"},\"showarrow\":false,\"text\":\"\",\"x\":\"price_range\",\"xref\":\"x\",\"y\":\"sc_h\",\"yref\":\"y\"},{\"font\":{\"color\":\"#FFFFFF\"},\"showarrow\":false,\"text\":\"\",\"x\":\"battery_power\",\"xref\":\"x\",\"y\":\"sc_w\",\"yref\":\"y\"},{\"font\":{\"color\":\"#FFFFFF\"},\"showarrow\":false,\"text\":\"\",\"x\":\"blue\",\"xref\":\"x\",\"y\":\"sc_w\",\"yref\":\"y\"},{\"font\":{\"color\":\"#FFFFFF\"},\"showarrow\":false,\"text\":\"\",\"x\":\"clock_speed\",\"xref\":\"x\",\"y\":\"sc_w\",\"yref\":\"y\"},{\"font\":{\"color\":\"#FFFFFF\"},\"showarrow\":false,\"text\":\"\",\"x\":\"dual_sim\",\"xref\":\"x\",\"y\":\"sc_w\",\"yref\":\"y\"},{\"font\":{\"color\":\"#FFFFFF\"},\"showarrow\":false,\"text\":\"\",\"x\":\"fc\",\"xref\":\"x\",\"y\":\"sc_w\",\"yref\":\"y\"},{\"font\":{\"color\":\"#FFFFFF\"},\"showarrow\":false,\"text\":\"\",\"x\":\"four_g\",\"xref\":\"x\",\"y\":\"sc_w\",\"yref\":\"y\"},{\"font\":{\"color\":\"#FFFFFF\"},\"showarrow\":false,\"text\":\"\",\"x\":\"int_memory\",\"xref\":\"x\",\"y\":\"sc_w\",\"yref\":\"y\"},{\"font\":{\"color\":\"#FFFFFF\"},\"showarrow\":false,\"text\":\"\",\"x\":\"m_dep\",\"xref\":\"x\",\"y\":\"sc_w\",\"yref\":\"y\"},{\"font\":{\"color\":\"#FFFFFF\"},\"showarrow\":false,\"text\":\"\",\"x\":\"mobile_wt\",\"xref\":\"x\",\"y\":\"sc_w\",\"yref\":\"y\"},{\"font\":{\"color\":\"#FFFFFF\"},\"showarrow\":false,\"text\":\"\",\"x\":\"n_cores\",\"xref\":\"x\",\"y\":\"sc_w\",\"yref\":\"y\"},{\"font\":{\"color\":\"#FFFFFF\"},\"showarrow\":false,\"text\":\"\",\"x\":\"pc\",\"xref\":\"x\",\"y\":\"sc_w\",\"yref\":\"y\"},{\"font\":{\"color\":\"#FFFFFF\"},\"showarrow\":false,\"text\":\"\",\"x\":\"px_height\",\"xref\":\"x\",\"y\":\"sc_w\",\"yref\":\"y\"},{\"font\":{\"color\":\"#FFFFFF\"},\"showarrow\":false,\"text\":\"\",\"x\":\"px_width\",\"xref\":\"x\",\"y\":\"sc_w\",\"yref\":\"y\"},{\"font\":{\"color\":\"#FFFFFF\"},\"showarrow\":false,\"text\":\"\",\"x\":\"ram\",\"xref\":\"x\",\"y\":\"sc_w\",\"yref\":\"y\"},{\"font\":{\"color\":\"#FFFFFF\"},\"showarrow\":false,\"text\":\"\",\"x\":\"sc_h\",\"xref\":\"x\",\"y\":\"sc_w\",\"yref\":\"y\"},{\"font\":{\"color\":\"#FFFFFF\"},\"showarrow\":false,\"text\":\"\",\"x\":\"sc_w\",\"xref\":\"x\",\"y\":\"sc_w\",\"yref\":\"y\"},{\"font\":{\"color\":\"#FFFFFF\"},\"showarrow\":false,\"text\":\"\",\"x\":\"talk_time\",\"xref\":\"x\",\"y\":\"sc_w\",\"yref\":\"y\"},{\"font\":{\"color\":\"#FFFFFF\"},\"showarrow\":false,\"text\":\"\",\"x\":\"three_g\",\"xref\":\"x\",\"y\":\"sc_w\",\"yref\":\"y\"},{\"font\":{\"color\":\"#FFFFFF\"},\"showarrow\":false,\"text\":\"\",\"x\":\"touch_screen\",\"xref\":\"x\",\"y\":\"sc_w\",\"yref\":\"y\"},{\"font\":{\"color\":\"#FFFFFF\"},\"showarrow\":false,\"text\":\"\",\"x\":\"wifi\",\"xref\":\"x\",\"y\":\"sc_w\",\"yref\":\"y\"},{\"font\":{\"color\":\"#FFFFFF\"},\"showarrow\":false,\"text\":\"\",\"x\":\"price_range\",\"xref\":\"x\",\"y\":\"sc_w\",\"yref\":\"y\"},{\"font\":{\"color\":\"#FFFFFF\"},\"showarrow\":false,\"text\":\"\",\"x\":\"battery_power\",\"xref\":\"x\",\"y\":\"talk_time\",\"yref\":\"y\"},{\"font\":{\"color\":\"#FFFFFF\"},\"showarrow\":false,\"text\":\"\",\"x\":\"blue\",\"xref\":\"x\",\"y\":\"talk_time\",\"yref\":\"y\"},{\"font\":{\"color\":\"#FFFFFF\"},\"showarrow\":false,\"text\":\"\",\"x\":\"clock_speed\",\"xref\":\"x\",\"y\":\"talk_time\",\"yref\":\"y\"},{\"font\":{\"color\":\"#FFFFFF\"},\"showarrow\":false,\"text\":\"\",\"x\":\"dual_sim\",\"xref\":\"x\",\"y\":\"talk_time\",\"yref\":\"y\"},{\"font\":{\"color\":\"#FFFFFF\"},\"showarrow\":false,\"text\":\"\",\"x\":\"fc\",\"xref\":\"x\",\"y\":\"talk_time\",\"yref\":\"y\"},{\"font\":{\"color\":\"#FFFFFF\"},\"showarrow\":false,\"text\":\"\",\"x\":\"four_g\",\"xref\":\"x\",\"y\":\"talk_time\",\"yref\":\"y\"},{\"font\":{\"color\":\"#FFFFFF\"},\"showarrow\":false,\"text\":\"\",\"x\":\"int_memory\",\"xref\":\"x\",\"y\":\"talk_time\",\"yref\":\"y\"},{\"font\":{\"color\":\"#FFFFFF\"},\"showarrow\":false,\"text\":\"\",\"x\":\"m_dep\",\"xref\":\"x\",\"y\":\"talk_time\",\"yref\":\"y\"},{\"font\":{\"color\":\"#FFFFFF\"},\"showarrow\":false,\"text\":\"\",\"x\":\"mobile_wt\",\"xref\":\"x\",\"y\":\"talk_time\",\"yref\":\"y\"},{\"font\":{\"color\":\"#FFFFFF\"},\"showarrow\":false,\"text\":\"\",\"x\":\"n_cores\",\"xref\":\"x\",\"y\":\"talk_time\",\"yref\":\"y\"},{\"font\":{\"color\":\"#FFFFFF\"},\"showarrow\":false,\"text\":\"\",\"x\":\"pc\",\"xref\":\"x\",\"y\":\"talk_time\",\"yref\":\"y\"},{\"font\":{\"color\":\"#FFFFFF\"},\"showarrow\":false,\"text\":\"\",\"x\":\"px_height\",\"xref\":\"x\",\"y\":\"talk_time\",\"yref\":\"y\"},{\"font\":{\"color\":\"#FFFFFF\"},\"showarrow\":false,\"text\":\"\",\"x\":\"px_width\",\"xref\":\"x\",\"y\":\"talk_time\",\"yref\":\"y\"},{\"font\":{\"color\":\"#FFFFFF\"},\"showarrow\":false,\"text\":\"\",\"x\":\"ram\",\"xref\":\"x\",\"y\":\"talk_time\",\"yref\":\"y\"},{\"font\":{\"color\":\"#FFFFFF\"},\"showarrow\":false,\"text\":\"\",\"x\":\"sc_h\",\"xref\":\"x\",\"y\":\"talk_time\",\"yref\":\"y\"},{\"font\":{\"color\":\"#FFFFFF\"},\"showarrow\":false,\"text\":\"\",\"x\":\"sc_w\",\"xref\":\"x\",\"y\":\"talk_time\",\"yref\":\"y\"},{\"font\":{\"color\":\"#FFFFFF\"},\"showarrow\":false,\"text\":\"\",\"x\":\"talk_time\",\"xref\":\"x\",\"y\":\"talk_time\",\"yref\":\"y\"},{\"font\":{\"color\":\"#FFFFFF\"},\"showarrow\":false,\"text\":\"\",\"x\":\"three_g\",\"xref\":\"x\",\"y\":\"talk_time\",\"yref\":\"y\"},{\"font\":{\"color\":\"#FFFFFF\"},\"showarrow\":false,\"text\":\"\",\"x\":\"touch_screen\",\"xref\":\"x\",\"y\":\"talk_time\",\"yref\":\"y\"},{\"font\":{\"color\":\"#FFFFFF\"},\"showarrow\":false,\"text\":\"\",\"x\":\"wifi\",\"xref\":\"x\",\"y\":\"talk_time\",\"yref\":\"y\"},{\"font\":{\"color\":\"#FFFFFF\"},\"showarrow\":false,\"text\":\"\",\"x\":\"price_range\",\"xref\":\"x\",\"y\":\"talk_time\",\"yref\":\"y\"},{\"font\":{\"color\":\"#FFFFFF\"},\"showarrow\":false,\"text\":\"\",\"x\":\"battery_power\",\"xref\":\"x\",\"y\":\"three_g\",\"yref\":\"y\"},{\"font\":{\"color\":\"#FFFFFF\"},\"showarrow\":false,\"text\":\"\",\"x\":\"blue\",\"xref\":\"x\",\"y\":\"three_g\",\"yref\":\"y\"},{\"font\":{\"color\":\"#FFFFFF\"},\"showarrow\":false,\"text\":\"\",\"x\":\"clock_speed\",\"xref\":\"x\",\"y\":\"three_g\",\"yref\":\"y\"},{\"font\":{\"color\":\"#FFFFFF\"},\"showarrow\":false,\"text\":\"\",\"x\":\"dual_sim\",\"xref\":\"x\",\"y\":\"three_g\",\"yref\":\"y\"},{\"font\":{\"color\":\"#FFFFFF\"},\"showarrow\":false,\"text\":\"\",\"x\":\"fc\",\"xref\":\"x\",\"y\":\"three_g\",\"yref\":\"y\"},{\"font\":{\"color\":\"#FFFFFF\"},\"showarrow\":false,\"text\":\"\",\"x\":\"four_g\",\"xref\":\"x\",\"y\":\"three_g\",\"yref\":\"y\"},{\"font\":{\"color\":\"#FFFFFF\"},\"showarrow\":false,\"text\":\"\",\"x\":\"int_memory\",\"xref\":\"x\",\"y\":\"three_g\",\"yref\":\"y\"},{\"font\":{\"color\":\"#FFFFFF\"},\"showarrow\":false,\"text\":\"\",\"x\":\"m_dep\",\"xref\":\"x\",\"y\":\"three_g\",\"yref\":\"y\"},{\"font\":{\"color\":\"#FFFFFF\"},\"showarrow\":false,\"text\":\"\",\"x\":\"mobile_wt\",\"xref\":\"x\",\"y\":\"three_g\",\"yref\":\"y\"},{\"font\":{\"color\":\"#FFFFFF\"},\"showarrow\":false,\"text\":\"\",\"x\":\"n_cores\",\"xref\":\"x\",\"y\":\"three_g\",\"yref\":\"y\"},{\"font\":{\"color\":\"#FFFFFF\"},\"showarrow\":false,\"text\":\"\",\"x\":\"pc\",\"xref\":\"x\",\"y\":\"three_g\",\"yref\":\"y\"},{\"font\":{\"color\":\"#FFFFFF\"},\"showarrow\":false,\"text\":\"\",\"x\":\"px_height\",\"xref\":\"x\",\"y\":\"three_g\",\"yref\":\"y\"},{\"font\":{\"color\":\"#FFFFFF\"},\"showarrow\":false,\"text\":\"\",\"x\":\"px_width\",\"xref\":\"x\",\"y\":\"three_g\",\"yref\":\"y\"},{\"font\":{\"color\":\"#FFFFFF\"},\"showarrow\":false,\"text\":\"\",\"x\":\"ram\",\"xref\":\"x\",\"y\":\"three_g\",\"yref\":\"y\"},{\"font\":{\"color\":\"#FFFFFF\"},\"showarrow\":false,\"text\":\"\",\"x\":\"sc_h\",\"xref\":\"x\",\"y\":\"three_g\",\"yref\":\"y\"},{\"font\":{\"color\":\"#FFFFFF\"},\"showarrow\":false,\"text\":\"\",\"x\":\"sc_w\",\"xref\":\"x\",\"y\":\"three_g\",\"yref\":\"y\"},{\"font\":{\"color\":\"#FFFFFF\"},\"showarrow\":false,\"text\":\"\",\"x\":\"talk_time\",\"xref\":\"x\",\"y\":\"three_g\",\"yref\":\"y\"},{\"font\":{\"color\":\"#FFFFFF\"},\"showarrow\":false,\"text\":\"\",\"x\":\"three_g\",\"xref\":\"x\",\"y\":\"three_g\",\"yref\":\"y\"},{\"font\":{\"color\":\"#FFFFFF\"},\"showarrow\":false,\"text\":\"\",\"x\":\"touch_screen\",\"xref\":\"x\",\"y\":\"three_g\",\"yref\":\"y\"},{\"font\":{\"color\":\"#FFFFFF\"},\"showarrow\":false,\"text\":\"\",\"x\":\"wifi\",\"xref\":\"x\",\"y\":\"three_g\",\"yref\":\"y\"},{\"font\":{\"color\":\"#FFFFFF\"},\"showarrow\":false,\"text\":\"\",\"x\":\"price_range\",\"xref\":\"x\",\"y\":\"three_g\",\"yref\":\"y\"},{\"font\":{\"color\":\"#FFFFFF\"},\"showarrow\":false,\"text\":\"\",\"x\":\"battery_power\",\"xref\":\"x\",\"y\":\"touch_screen\",\"yref\":\"y\"},{\"font\":{\"color\":\"#FFFFFF\"},\"showarrow\":false,\"text\":\"\",\"x\":\"blue\",\"xref\":\"x\",\"y\":\"touch_screen\",\"yref\":\"y\"},{\"font\":{\"color\":\"#FFFFFF\"},\"showarrow\":false,\"text\":\"\",\"x\":\"clock_speed\",\"xref\":\"x\",\"y\":\"touch_screen\",\"yref\":\"y\"},{\"font\":{\"color\":\"#FFFFFF\"},\"showarrow\":false,\"text\":\"\",\"x\":\"dual_sim\",\"xref\":\"x\",\"y\":\"touch_screen\",\"yref\":\"y\"},{\"font\":{\"color\":\"#FFFFFF\"},\"showarrow\":false,\"text\":\"\",\"x\":\"fc\",\"xref\":\"x\",\"y\":\"touch_screen\",\"yref\":\"y\"},{\"font\":{\"color\":\"#FFFFFF\"},\"showarrow\":false,\"text\":\"\",\"x\":\"four_g\",\"xref\":\"x\",\"y\":\"touch_screen\",\"yref\":\"y\"},{\"font\":{\"color\":\"#FFFFFF\"},\"showarrow\":false,\"text\":\"\",\"x\":\"int_memory\",\"xref\":\"x\",\"y\":\"touch_screen\",\"yref\":\"y\"},{\"font\":{\"color\":\"#FFFFFF\"},\"showarrow\":false,\"text\":\"\",\"x\":\"m_dep\",\"xref\":\"x\",\"y\":\"touch_screen\",\"yref\":\"y\"},{\"font\":{\"color\":\"#FFFFFF\"},\"showarrow\":false,\"text\":\"\",\"x\":\"mobile_wt\",\"xref\":\"x\",\"y\":\"touch_screen\",\"yref\":\"y\"},{\"font\":{\"color\":\"#FFFFFF\"},\"showarrow\":false,\"text\":\"\",\"x\":\"n_cores\",\"xref\":\"x\",\"y\":\"touch_screen\",\"yref\":\"y\"},{\"font\":{\"color\":\"#FFFFFF\"},\"showarrow\":false,\"text\":\"\",\"x\":\"pc\",\"xref\":\"x\",\"y\":\"touch_screen\",\"yref\":\"y\"},{\"font\":{\"color\":\"#FFFFFF\"},\"showarrow\":false,\"text\":\"\",\"x\":\"px_height\",\"xref\":\"x\",\"y\":\"touch_screen\",\"yref\":\"y\"},{\"font\":{\"color\":\"#FFFFFF\"},\"showarrow\":false,\"text\":\"\",\"x\":\"px_width\",\"xref\":\"x\",\"y\":\"touch_screen\",\"yref\":\"y\"},{\"font\":{\"color\":\"#FFFFFF\"},\"showarrow\":false,\"text\":\"\",\"x\":\"ram\",\"xref\":\"x\",\"y\":\"touch_screen\",\"yref\":\"y\"},{\"font\":{\"color\":\"#FFFFFF\"},\"showarrow\":false,\"text\":\"\",\"x\":\"sc_h\",\"xref\":\"x\",\"y\":\"touch_screen\",\"yref\":\"y\"},{\"font\":{\"color\":\"#FFFFFF\"},\"showarrow\":false,\"text\":\"\",\"x\":\"sc_w\",\"xref\":\"x\",\"y\":\"touch_screen\",\"yref\":\"y\"},{\"font\":{\"color\":\"#FFFFFF\"},\"showarrow\":false,\"text\":\"\",\"x\":\"talk_time\",\"xref\":\"x\",\"y\":\"touch_screen\",\"yref\":\"y\"},{\"font\":{\"color\":\"#FFFFFF\"},\"showarrow\":false,\"text\":\"\",\"x\":\"three_g\",\"xref\":\"x\",\"y\":\"touch_screen\",\"yref\":\"y\"},{\"font\":{\"color\":\"#FFFFFF\"},\"showarrow\":false,\"text\":\"\",\"x\":\"touch_screen\",\"xref\":\"x\",\"y\":\"touch_screen\",\"yref\":\"y\"},{\"font\":{\"color\":\"#FFFFFF\"},\"showarrow\":false,\"text\":\"\",\"x\":\"wifi\",\"xref\":\"x\",\"y\":\"touch_screen\",\"yref\":\"y\"},{\"font\":{\"color\":\"#FFFFFF\"},\"showarrow\":false,\"text\":\"\",\"x\":\"price_range\",\"xref\":\"x\",\"y\":\"touch_screen\",\"yref\":\"y\"},{\"font\":{\"color\":\"#FFFFFF\"},\"showarrow\":false,\"text\":\"\",\"x\":\"battery_power\",\"xref\":\"x\",\"y\":\"wifi\",\"yref\":\"y\"},{\"font\":{\"color\":\"#FFFFFF\"},\"showarrow\":false,\"text\":\"\",\"x\":\"blue\",\"xref\":\"x\",\"y\":\"wifi\",\"yref\":\"y\"},{\"font\":{\"color\":\"#FFFFFF\"},\"showarrow\":false,\"text\":\"\",\"x\":\"clock_speed\",\"xref\":\"x\",\"y\":\"wifi\",\"yref\":\"y\"},{\"font\":{\"color\":\"#FFFFFF\"},\"showarrow\":false,\"text\":\"\",\"x\":\"dual_sim\",\"xref\":\"x\",\"y\":\"wifi\",\"yref\":\"y\"},{\"font\":{\"color\":\"#FFFFFF\"},\"showarrow\":false,\"text\":\"\",\"x\":\"fc\",\"xref\":\"x\",\"y\":\"wifi\",\"yref\":\"y\"},{\"font\":{\"color\":\"#FFFFFF\"},\"showarrow\":false,\"text\":\"\",\"x\":\"four_g\",\"xref\":\"x\",\"y\":\"wifi\",\"yref\":\"y\"},{\"font\":{\"color\":\"#FFFFFF\"},\"showarrow\":false,\"text\":\"\",\"x\":\"int_memory\",\"xref\":\"x\",\"y\":\"wifi\",\"yref\":\"y\"},{\"font\":{\"color\":\"#FFFFFF\"},\"showarrow\":false,\"text\":\"\",\"x\":\"m_dep\",\"xref\":\"x\",\"y\":\"wifi\",\"yref\":\"y\"},{\"font\":{\"color\":\"#FFFFFF\"},\"showarrow\":false,\"text\":\"\",\"x\":\"mobile_wt\",\"xref\":\"x\",\"y\":\"wifi\",\"yref\":\"y\"},{\"font\":{\"color\":\"#FFFFFF\"},\"showarrow\":false,\"text\":\"\",\"x\":\"n_cores\",\"xref\":\"x\",\"y\":\"wifi\",\"yref\":\"y\"},{\"font\":{\"color\":\"#FFFFFF\"},\"showarrow\":false,\"text\":\"\",\"x\":\"pc\",\"xref\":\"x\",\"y\":\"wifi\",\"yref\":\"y\"},{\"font\":{\"color\":\"#FFFFFF\"},\"showarrow\":false,\"text\":\"\",\"x\":\"px_height\",\"xref\":\"x\",\"y\":\"wifi\",\"yref\":\"y\"},{\"font\":{\"color\":\"#FFFFFF\"},\"showarrow\":false,\"text\":\"\",\"x\":\"px_width\",\"xref\":\"x\",\"y\":\"wifi\",\"yref\":\"y\"},{\"font\":{\"color\":\"#FFFFFF\"},\"showarrow\":false,\"text\":\"\",\"x\":\"ram\",\"xref\":\"x\",\"y\":\"wifi\",\"yref\":\"y\"},{\"font\":{\"color\":\"#FFFFFF\"},\"showarrow\":false,\"text\":\"\",\"x\":\"sc_h\",\"xref\":\"x\",\"y\":\"wifi\",\"yref\":\"y\"},{\"font\":{\"color\":\"#FFFFFF\"},\"showarrow\":false,\"text\":\"\",\"x\":\"sc_w\",\"xref\":\"x\",\"y\":\"wifi\",\"yref\":\"y\"},{\"font\":{\"color\":\"#FFFFFF\"},\"showarrow\":false,\"text\":\"\",\"x\":\"talk_time\",\"xref\":\"x\",\"y\":\"wifi\",\"yref\":\"y\"},{\"font\":{\"color\":\"#FFFFFF\"},\"showarrow\":false,\"text\":\"\",\"x\":\"three_g\",\"xref\":\"x\",\"y\":\"wifi\",\"yref\":\"y\"},{\"font\":{\"color\":\"#FFFFFF\"},\"showarrow\":false,\"text\":\"\",\"x\":\"touch_screen\",\"xref\":\"x\",\"y\":\"wifi\",\"yref\":\"y\"},{\"font\":{\"color\":\"#FFFFFF\"},\"showarrow\":false,\"text\":\"\",\"x\":\"wifi\",\"xref\":\"x\",\"y\":\"wifi\",\"yref\":\"y\"},{\"font\":{\"color\":\"#FFFFFF\"},\"showarrow\":false,\"text\":\"\",\"x\":\"price_range\",\"xref\":\"x\",\"y\":\"wifi\",\"yref\":\"y\"},{\"font\":{\"color\":\"#FFFFFF\"},\"showarrow\":false,\"text\":\"\",\"x\":\"battery_power\",\"xref\":\"x\",\"y\":\"price_range\",\"yref\":\"y\"},{\"font\":{\"color\":\"#FFFFFF\"},\"showarrow\":false,\"text\":\"\",\"x\":\"blue\",\"xref\":\"x\",\"y\":\"price_range\",\"yref\":\"y\"},{\"font\":{\"color\":\"#FFFFFF\"},\"showarrow\":false,\"text\":\"\",\"x\":\"clock_speed\",\"xref\":\"x\",\"y\":\"price_range\",\"yref\":\"y\"},{\"font\":{\"color\":\"#FFFFFF\"},\"showarrow\":false,\"text\":\"\",\"x\":\"dual_sim\",\"xref\":\"x\",\"y\":\"price_range\",\"yref\":\"y\"},{\"font\":{\"color\":\"#FFFFFF\"},\"showarrow\":false,\"text\":\"\",\"x\":\"fc\",\"xref\":\"x\",\"y\":\"price_range\",\"yref\":\"y\"},{\"font\":{\"color\":\"#FFFFFF\"},\"showarrow\":false,\"text\":\"\",\"x\":\"four_g\",\"xref\":\"x\",\"y\":\"price_range\",\"yref\":\"y\"},{\"font\":{\"color\":\"#FFFFFF\"},\"showarrow\":false,\"text\":\"\",\"x\":\"int_memory\",\"xref\":\"x\",\"y\":\"price_range\",\"yref\":\"y\"},{\"font\":{\"color\":\"#FFFFFF\"},\"showarrow\":false,\"text\":\"\",\"x\":\"m_dep\",\"xref\":\"x\",\"y\":\"price_range\",\"yref\":\"y\"},{\"font\":{\"color\":\"#FFFFFF\"},\"showarrow\":false,\"text\":\"\",\"x\":\"mobile_wt\",\"xref\":\"x\",\"y\":\"price_range\",\"yref\":\"y\"},{\"font\":{\"color\":\"#FFFFFF\"},\"showarrow\":false,\"text\":\"\",\"x\":\"n_cores\",\"xref\":\"x\",\"y\":\"price_range\",\"yref\":\"y\"},{\"font\":{\"color\":\"#FFFFFF\"},\"showarrow\":false,\"text\":\"\",\"x\":\"pc\",\"xref\":\"x\",\"y\":\"price_range\",\"yref\":\"y\"},{\"font\":{\"color\":\"#FFFFFF\"},\"showarrow\":false,\"text\":\"\",\"x\":\"px_height\",\"xref\":\"x\",\"y\":\"price_range\",\"yref\":\"y\"},{\"font\":{\"color\":\"#FFFFFF\"},\"showarrow\":false,\"text\":\"\",\"x\":\"px_width\",\"xref\":\"x\",\"y\":\"price_range\",\"yref\":\"y\"},{\"font\":{\"color\":\"#FFFFFF\"},\"showarrow\":false,\"text\":\"\",\"x\":\"ram\",\"xref\":\"x\",\"y\":\"price_range\",\"yref\":\"y\"},{\"font\":{\"color\":\"#FFFFFF\"},\"showarrow\":false,\"text\":\"\",\"x\":\"sc_h\",\"xref\":\"x\",\"y\":\"price_range\",\"yref\":\"y\"},{\"font\":{\"color\":\"#FFFFFF\"},\"showarrow\":false,\"text\":\"\",\"x\":\"sc_w\",\"xref\":\"x\",\"y\":\"price_range\",\"yref\":\"y\"},{\"font\":{\"color\":\"#FFFFFF\"},\"showarrow\":false,\"text\":\"\",\"x\":\"talk_time\",\"xref\":\"x\",\"y\":\"price_range\",\"yref\":\"y\"},{\"font\":{\"color\":\"#FFFFFF\"},\"showarrow\":false,\"text\":\"\",\"x\":\"three_g\",\"xref\":\"x\",\"y\":\"price_range\",\"yref\":\"y\"},{\"font\":{\"color\":\"#FFFFFF\"},\"showarrow\":false,\"text\":\"\",\"x\":\"touch_screen\",\"xref\":\"x\",\"y\":\"price_range\",\"yref\":\"y\"},{\"font\":{\"color\":\"#FFFFFF\"},\"showarrow\":false,\"text\":\"\",\"x\":\"wifi\",\"xref\":\"x\",\"y\":\"price_range\",\"yref\":\"y\"},{\"font\":{\"color\":\"#FFFFFF\"},\"showarrow\":false,\"text\":\"\",\"x\":\"price_range\",\"xref\":\"x\",\"y\":\"price_range\",\"yref\":\"y\"}],\"xaxis\":{\"dtick\":1,\"gridcolor\":\"rgb(0, 0, 0)\",\"side\":\"bottom\",\"ticks\":\"\",\"showgrid\":false,\"zeroline\":false},\"yaxis\":{\"dtick\":1,\"ticks\":\"\",\"ticksuffix\":\"  \",\"showgrid\":false,\"zeroline\":false,\"autorange\":\"reversed\"},\"template\":{\"data\":{\"barpolar\":[{\"marker\":{\"line\":{\"color\":\"white\",\"width\":0.5},\"pattern\":{\"fillmode\":\"overlay\",\"size\":10,\"solidity\":0.2}},\"type\":\"barpolar\"}],\"bar\":[{\"error_x\":{\"color\":\"rgb(36,36,36)\"},\"error_y\":{\"color\":\"rgb(36,36,36)\"},\"marker\":{\"line\":{\"color\":\"white\",\"width\":0.5},\"pattern\":{\"fillmode\":\"overlay\",\"size\":10,\"solidity\":0.2}},\"type\":\"bar\"}],\"carpet\":[{\"aaxis\":{\"endlinecolor\":\"rgb(36,36,36)\",\"gridcolor\":\"white\",\"linecolor\":\"white\",\"minorgridcolor\":\"white\",\"startlinecolor\":\"rgb(36,36,36)\"},\"baxis\":{\"endlinecolor\":\"rgb(36,36,36)\",\"gridcolor\":\"white\",\"linecolor\":\"white\",\"minorgridcolor\":\"white\",\"startlinecolor\":\"rgb(36,36,36)\"},\"type\":\"carpet\"}],\"choropleth\":[{\"colorbar\":{\"outlinewidth\":1,\"tickcolor\":\"rgb(36,36,36)\",\"ticks\":\"outside\"},\"type\":\"choropleth\"}],\"contourcarpet\":[{\"colorbar\":{\"outlinewidth\":1,\"tickcolor\":\"rgb(36,36,36)\",\"ticks\":\"outside\"},\"type\":\"contourcarpet\"}],\"contour\":[{\"colorbar\":{\"outlinewidth\":1,\"tickcolor\":\"rgb(36,36,36)\",\"ticks\":\"outside\"},\"colorscale\":[[0.0,\"#440154\"],[0.1111111111111111,\"#482878\"],[0.2222222222222222,\"#3e4989\"],[0.3333333333333333,\"#31688e\"],[0.4444444444444444,\"#26828e\"],[0.5555555555555556,\"#1f9e89\"],[0.6666666666666666,\"#35b779\"],[0.7777777777777778,\"#6ece58\"],[0.8888888888888888,\"#b5de2b\"],[1.0,\"#fde725\"]],\"type\":\"contour\"}],\"heatmapgl\":[{\"colorbar\":{\"outlinewidth\":1,\"tickcolor\":\"rgb(36,36,36)\",\"ticks\":\"outside\"},\"colorscale\":[[0.0,\"#440154\"],[0.1111111111111111,\"#482878\"],[0.2222222222222222,\"#3e4989\"],[0.3333333333333333,\"#31688e\"],[0.4444444444444444,\"#26828e\"],[0.5555555555555556,\"#1f9e89\"],[0.6666666666666666,\"#35b779\"],[0.7777777777777778,\"#6ece58\"],[0.8888888888888888,\"#b5de2b\"],[1.0,\"#fde725\"]],\"type\":\"heatmapgl\"}],\"heatmap\":[{\"colorbar\":{\"outlinewidth\":1,\"tickcolor\":\"rgb(36,36,36)\",\"ticks\":\"outside\"},\"colorscale\":[[0.0,\"#440154\"],[0.1111111111111111,\"#482878\"],[0.2222222222222222,\"#3e4989\"],[0.3333333333333333,\"#31688e\"],[0.4444444444444444,\"#26828e\"],[0.5555555555555556,\"#1f9e89\"],[0.6666666666666666,\"#35b779\"],[0.7777777777777778,\"#6ece58\"],[0.8888888888888888,\"#b5de2b\"],[1.0,\"#fde725\"]],\"type\":\"heatmap\"}],\"histogram2dcontour\":[{\"colorbar\":{\"outlinewidth\":1,\"tickcolor\":\"rgb(36,36,36)\",\"ticks\":\"outside\"},\"colorscale\":[[0.0,\"#440154\"],[0.1111111111111111,\"#482878\"],[0.2222222222222222,\"#3e4989\"],[0.3333333333333333,\"#31688e\"],[0.4444444444444444,\"#26828e\"],[0.5555555555555556,\"#1f9e89\"],[0.6666666666666666,\"#35b779\"],[0.7777777777777778,\"#6ece58\"],[0.8888888888888888,\"#b5de2b\"],[1.0,\"#fde725\"]],\"type\":\"histogram2dcontour\"}],\"histogram2d\":[{\"colorbar\":{\"outlinewidth\":1,\"tickcolor\":\"rgb(36,36,36)\",\"ticks\":\"outside\"},\"colorscale\":[[0.0,\"#440154\"],[0.1111111111111111,\"#482878\"],[0.2222222222222222,\"#3e4989\"],[0.3333333333333333,\"#31688e\"],[0.4444444444444444,\"#26828e\"],[0.5555555555555556,\"#1f9e89\"],[0.6666666666666666,\"#35b779\"],[0.7777777777777778,\"#6ece58\"],[0.8888888888888888,\"#b5de2b\"],[1.0,\"#fde725\"]],\"type\":\"histogram2d\"}],\"histogram\":[{\"marker\":{\"line\":{\"color\":\"white\",\"width\":0.6}},\"type\":\"histogram\"}],\"mesh3d\":[{\"colorbar\":{\"outlinewidth\":1,\"tickcolor\":\"rgb(36,36,36)\",\"ticks\":\"outside\"},\"type\":\"mesh3d\"}],\"parcoords\":[{\"line\":{\"colorbar\":{\"outlinewidth\":1,\"tickcolor\":\"rgb(36,36,36)\",\"ticks\":\"outside\"}},\"type\":\"parcoords\"}],\"pie\":[{\"automargin\":true,\"type\":\"pie\"}],\"scatter3d\":[{\"line\":{\"colorbar\":{\"outlinewidth\":1,\"tickcolor\":\"rgb(36,36,36)\",\"ticks\":\"outside\"}},\"marker\":{\"colorbar\":{\"outlinewidth\":1,\"tickcolor\":\"rgb(36,36,36)\",\"ticks\":\"outside\"}},\"type\":\"scatter3d\"}],\"scattercarpet\":[{\"marker\":{\"colorbar\":{\"outlinewidth\":1,\"tickcolor\":\"rgb(36,36,36)\",\"ticks\":\"outside\"}},\"type\":\"scattercarpet\"}],\"scattergeo\":[{\"marker\":{\"colorbar\":{\"outlinewidth\":1,\"tickcolor\":\"rgb(36,36,36)\",\"ticks\":\"outside\"}},\"type\":\"scattergeo\"}],\"scattergl\":[{\"marker\":{\"colorbar\":{\"outlinewidth\":1,\"tickcolor\":\"rgb(36,36,36)\",\"ticks\":\"outside\"}},\"type\":\"scattergl\"}],\"scattermapbox\":[{\"marker\":{\"colorbar\":{\"outlinewidth\":1,\"tickcolor\":\"rgb(36,36,36)\",\"ticks\":\"outside\"}},\"type\":\"scattermapbox\"}],\"scatterpolargl\":[{\"marker\":{\"colorbar\":{\"outlinewidth\":1,\"tickcolor\":\"rgb(36,36,36)\",\"ticks\":\"outside\"}},\"type\":\"scatterpolargl\"}],\"scatterpolar\":[{\"marker\":{\"colorbar\":{\"outlinewidth\":1,\"tickcolor\":\"rgb(36,36,36)\",\"ticks\":\"outside\"}},\"type\":\"scatterpolar\"}],\"scatter\":[{\"fillpattern\":{\"fillmode\":\"overlay\",\"size\":10,\"solidity\":0.2},\"type\":\"scatter\"}],\"scatterternary\":[{\"marker\":{\"colorbar\":{\"outlinewidth\":1,\"tickcolor\":\"rgb(36,36,36)\",\"ticks\":\"outside\"}},\"type\":\"scatterternary\"}],\"surface\":[{\"colorbar\":{\"outlinewidth\":1,\"tickcolor\":\"rgb(36,36,36)\",\"ticks\":\"outside\"},\"colorscale\":[[0.0,\"#440154\"],[0.1111111111111111,\"#482878\"],[0.2222222222222222,\"#3e4989\"],[0.3333333333333333,\"#31688e\"],[0.4444444444444444,\"#26828e\"],[0.5555555555555556,\"#1f9e89\"],[0.6666666666666666,\"#35b779\"],[0.7777777777777778,\"#6ece58\"],[0.8888888888888888,\"#b5de2b\"],[1.0,\"#fde725\"]],\"type\":\"surface\"}],\"table\":[{\"cells\":{\"fill\":{\"color\":\"rgb(237,237,237)\"},\"line\":{\"color\":\"white\"}},\"header\":{\"fill\":{\"color\":\"rgb(217,217,217)\"},\"line\":{\"color\":\"white\"}},\"type\":\"table\"}]},\"layout\":{\"annotationdefaults\":{\"arrowhead\":0,\"arrowwidth\":1},\"autotypenumbers\":\"strict\",\"coloraxis\":{\"colorbar\":{\"outlinewidth\":1,\"tickcolor\":\"rgb(36,36,36)\",\"ticks\":\"outside\"}},\"colorscale\":{\"diverging\":[[0.0,\"rgb(103,0,31)\"],[0.1,\"rgb(178,24,43)\"],[0.2,\"rgb(214,96,77)\"],[0.3,\"rgb(244,165,130)\"],[0.4,\"rgb(253,219,199)\"],[0.5,\"rgb(247,247,247)\"],[0.6,\"rgb(209,229,240)\"],[0.7,\"rgb(146,197,222)\"],[0.8,\"rgb(67,147,195)\"],[0.9,\"rgb(33,102,172)\"],[1.0,\"rgb(5,48,97)\"]],\"sequential\":[[0.0,\"#440154\"],[0.1111111111111111,\"#482878\"],[0.2222222222222222,\"#3e4989\"],[0.3333333333333333,\"#31688e\"],[0.4444444444444444,\"#26828e\"],[0.5555555555555556,\"#1f9e89\"],[0.6666666666666666,\"#35b779\"],[0.7777777777777778,\"#6ece58\"],[0.8888888888888888,\"#b5de2b\"],[1.0,\"#fde725\"]],\"sequentialminus\":[[0.0,\"#440154\"],[0.1111111111111111,\"#482878\"],[0.2222222222222222,\"#3e4989\"],[0.3333333333333333,\"#31688e\"],[0.4444444444444444,\"#26828e\"],[0.5555555555555556,\"#1f9e89\"],[0.6666666666666666,\"#35b779\"],[0.7777777777777778,\"#6ece58\"],[0.8888888888888888,\"#b5de2b\"],[1.0,\"#fde725\"]]},\"colorway\":[\"#1F77B4\",\"#FF7F0E\",\"#2CA02C\",\"#D62728\",\"#9467BD\",\"#8C564B\",\"#E377C2\",\"#7F7F7F\",\"#BCBD22\",\"#17BECF\"],\"font\":{\"color\":\"rgb(36,36,36)\"},\"geo\":{\"bgcolor\":\"white\",\"lakecolor\":\"white\",\"landcolor\":\"white\",\"showlakes\":true,\"showland\":true,\"subunitcolor\":\"white\"},\"hoverlabel\":{\"align\":\"left\"},\"hovermode\":\"closest\",\"mapbox\":{\"style\":\"light\"},\"paper_bgcolor\":\"white\",\"plot_bgcolor\":\"white\",\"polar\":{\"angularaxis\":{\"gridcolor\":\"rgb(232,232,232)\",\"linecolor\":\"rgb(36,36,36)\",\"showgrid\":false,\"showline\":true,\"ticks\":\"outside\"},\"bgcolor\":\"white\",\"radialaxis\":{\"gridcolor\":\"rgb(232,232,232)\",\"linecolor\":\"rgb(36,36,36)\",\"showgrid\":false,\"showline\":true,\"ticks\":\"outside\"}},\"scene\":{\"xaxis\":{\"backgroundcolor\":\"white\",\"gridcolor\":\"rgb(232,232,232)\",\"gridwidth\":2,\"linecolor\":\"rgb(36,36,36)\",\"showbackground\":true,\"showgrid\":false,\"showline\":true,\"ticks\":\"outside\",\"zeroline\":false,\"zerolinecolor\":\"rgb(36,36,36)\"},\"yaxis\":{\"backgroundcolor\":\"white\",\"gridcolor\":\"rgb(232,232,232)\",\"gridwidth\":2,\"linecolor\":\"rgb(36,36,36)\",\"showbackground\":true,\"showgrid\":false,\"showline\":true,\"ticks\":\"outside\",\"zeroline\":false,\"zerolinecolor\":\"rgb(36,36,36)\"},\"zaxis\":{\"backgroundcolor\":\"white\",\"gridcolor\":\"rgb(232,232,232)\",\"gridwidth\":2,\"linecolor\":\"rgb(36,36,36)\",\"showbackground\":true,\"showgrid\":false,\"showline\":true,\"ticks\":\"outside\",\"zeroline\":false,\"zerolinecolor\":\"rgb(36,36,36)\"}},\"shapedefaults\":{\"fillcolor\":\"black\",\"line\":{\"width\":0},\"opacity\":0.3},\"ternary\":{\"aaxis\":{\"gridcolor\":\"rgb(232,232,232)\",\"linecolor\":\"rgb(36,36,36)\",\"showgrid\":false,\"showline\":true,\"ticks\":\"outside\"},\"baxis\":{\"gridcolor\":\"rgb(232,232,232)\",\"linecolor\":\"rgb(36,36,36)\",\"showgrid\":false,\"showline\":true,\"ticks\":\"outside\"},\"bgcolor\":\"white\",\"caxis\":{\"gridcolor\":\"rgb(232,232,232)\",\"linecolor\":\"rgb(36,36,36)\",\"showgrid\":false,\"showline\":true,\"ticks\":\"outside\"}},\"title\":{\"x\":0.05},\"xaxis\":{\"automargin\":true,\"gridcolor\":\"rgb(232,232,232)\",\"linecolor\":\"rgb(36,36,36)\",\"showgrid\":false,\"showline\":true,\"ticks\":\"outside\",\"title\":{\"standoff\":15},\"zeroline\":false,\"zerolinecolor\":\"rgb(36,36,36)\"},\"yaxis\":{\"automargin\":true,\"gridcolor\":\"rgb(232,232,232)\",\"linecolor\":\"rgb(36,36,36)\",\"showgrid\":false,\"showline\":true,\"ticks\":\"outside\",\"title\":{\"standoff\":15},\"zeroline\":false,\"zerolinecolor\":\"rgb(36,36,36)\"}}},\"title\":{\"text\":\"Heatmap\",\"x\":0.5},\"height\":600},                        {\"responsive\": true}                    ).then(function(){\n",
       "                            \n",
       "var gd = document.getElementById('c5b66f00-4f71-45f4-9a9b-8a26255b7773');\n",
       "var x = new MutationObserver(function (mutations, observer) {{\n",
       "        var display = window.getComputedStyle(gd).display;\n",
       "        if (!display || display === 'none') {{\n",
       "            console.log([gd, 'removed!']);\n",
       "            Plotly.purge(gd);\n",
       "            observer.disconnect();\n",
       "        }}\n",
       "}});\n",
       "\n",
       "// Listen for the removal of the full notebook cells\n",
       "var notebookContainer = gd.closest('#notebook-container');\n",
       "if (notebookContainer) {{\n",
       "    x.observe(notebookContainer, {childList: true});\n",
       "}}\n",
       "\n",
       "// Listen for the clearing of the current output cell\n",
       "var outputEl = gd.closest('.output');\n",
       "if (outputEl) {{\n",
       "    x.observe(outputEl, {childList: true});\n",
       "}}\n",
       "\n",
       "                        })                };                });            </script>        </div>"
      ]
     },
     "metadata": {},
     "output_type": "display_data"
    }
   ],
   "source": [
    "import plotly.figure_factory as ff\n",
    "import plotly.express as px\n",
    "\n",
    "corr = pd.DataFrame(df.corr())\n",
    "mask = np.triu(np.ones_like(corr, dtype=bool))\n",
    "df_mask = corr.mask(mask)\n",
    "\n",
    "fig = ff.create_annotated_heatmap(z=df_mask.to_numpy(), \n",
    "                                  x=df_mask.columns.tolist(),\n",
    "                                  y=df_mask.columns.tolist(),\n",
    "                                  colorscale=px.colors.diverging.RdBu,\n",
    "                                  showscale=True, ygap=1, xgap=1)\n",
    "\n",
    "fig.update_xaxes(side=\"bottom\")\n",
    "\n",
    "fig.update_layout(\n",
    "    title_text='Heatmap', \n",
    "    title_x=0.5, \n",
    "    height=600,\n",
    "    xaxis_showgrid=False,\n",
    "    yaxis_showgrid=False,\n",
    "    xaxis_zeroline=False,\n",
    "    yaxis_zeroline=False,\n",
    "    yaxis_autorange='reversed',\n",
    "    template='simple_white')\n",
    "\n",
    "## Let's get rid of the text manually\n",
    "for i in range(len(fig.layout.annotations)):\n",
    "    fig.layout.annotations[i].text = \"\"\n",
    "\n",
    "fig.show()"
   ]
  },
  {
   "cell_type": "markdown",
   "id": "4f391e54",
   "metadata": {
    "papermill": {
     "duration": 0.008408,
     "end_time": "2022-12-22T11:31:10.622277",
     "exception": false,
     "start_time": "2022-12-22T11:31:10.613869",
     "status": "completed"
    },
    "tags": []
   },
   "source": [
    "We see that RAM has the highest correlation with price range. \n",
    "\n",
    "Battery power, and width and height in pixels are moderately correlated with price range.\n",
    "\n",
    "Other variables are very weakly correlated with price range."
   ]
  },
  {
   "cell_type": "markdown",
   "id": "0c035753",
   "metadata": {
    "papermill": {
     "duration": 0.008283,
     "end_time": "2022-12-22T11:31:10.639137",
     "exception": false,
     "start_time": "2022-12-22T11:31:10.630854",
     "status": "completed"
    },
    "tags": []
   },
   "source": [
    "## Decision Tree Classifier"
   ]
  },
  {
   "cell_type": "markdown",
   "id": "3214ad42",
   "metadata": {
    "papermill": {
     "duration": 0.008495,
     "end_time": "2022-12-22T11:31:10.656761",
     "exception": false,
     "start_time": "2022-12-22T11:31:10.648266",
     "status": "completed"
    },
    "tags": []
   },
   "source": [
    "Now, let's prepare our data for the Decision Tree model.\n",
    "\n",
    "First, we'll separate the features (independent variables) from the label (dependent variable) \n",
    "in the `df` dataset. "
   ]
  },
  {
   "cell_type": "code",
   "execution_count": 7,
   "id": "29098df9",
   "metadata": {
    "execution": {
     "iopub.execute_input": "2022-12-22T11:31:10.678281Z",
     "iopub.status.busy": "2022-12-22T11:31:10.677562Z",
     "iopub.status.idle": "2022-12-22T11:31:10.684490Z",
     "shell.execute_reply": "2022-12-22T11:31:10.683304Z"
    },
    "papermill": {
     "duration": 0.02058,
     "end_time": "2022-12-22T11:31:10.687258",
     "exception": false,
     "start_time": "2022-12-22T11:31:10.666678",
     "status": "completed"
    },
    "tags": []
   },
   "outputs": [],
   "source": [
    "X = df.drop([\"price_range\"], axis = 1) \n",
    "y = df[\"price_range\"]"
   ]
  },
  {
   "cell_type": "code",
   "execution_count": 8,
   "id": "ad827595",
   "metadata": {
    "execution": {
     "iopub.execute_input": "2022-12-22T11:31:10.708326Z",
     "iopub.status.busy": "2022-12-22T11:31:10.707210Z",
     "iopub.status.idle": "2022-12-22T11:31:10.923205Z",
     "shell.execute_reply": "2022-12-22T11:31:10.921918Z"
    },
    "papermill": {
     "duration": 0.22961,
     "end_time": "2022-12-22T11:31:10.925996",
     "exception": false,
     "start_time": "2022-12-22T11:31:10.696386",
     "status": "completed"
    },
    "tags": []
   },
   "outputs": [],
   "source": [
    "from sklearn.model_selection import train_test_split\n",
    "\n",
    "X_train, X_test, y_train, y_test = train_test_split(X, y, test_size = 0.3, random_state = 0)"
   ]
  },
  {
   "cell_type": "code",
   "execution_count": 9,
   "id": "a3381563",
   "metadata": {
    "execution": {
     "iopub.execute_input": "2022-12-22T11:31:10.946130Z",
     "iopub.status.busy": "2022-12-22T11:31:10.945690Z",
     "iopub.status.idle": "2022-12-22T11:31:11.135754Z",
     "shell.execute_reply": "2022-12-22T11:31:11.134158Z"
    },
    "papermill": {
     "duration": 0.204806,
     "end_time": "2022-12-22T11:31:11.139672",
     "exception": false,
     "start_time": "2022-12-22T11:31:10.934866",
     "status": "completed"
    },
    "tags": []
   },
   "outputs": [
    {
     "name": "stdout",
     "output_type": "stream",
     "text": [
      "DecisionTreeClassifier(random_state=0)\n"
     ]
    }
   ],
   "source": [
    "from sklearn.tree import DecisionTreeClassifier \n",
    "\n",
    "## Fit the Decision Tree classifier with default hyper-parameters\n",
    "classifier = DecisionTreeClassifier(random_state = 0)\n",
    "model = classifier.fit(X_train, y_train)\n",
    "print(model)"
   ]
  },
  {
   "cell_type": "code",
   "execution_count": 10,
   "id": "16229d6b",
   "metadata": {
    "execution": {
     "iopub.execute_input": "2022-12-22T11:31:11.162219Z",
     "iopub.status.busy": "2022-12-22T11:31:11.160790Z",
     "iopub.status.idle": "2022-12-22T11:31:29.060755Z",
     "shell.execute_reply": "2022-12-22T11:31:29.059372Z"
    },
    "papermill": {
     "duration": 17.915167,
     "end_time": "2022-12-22T11:31:29.064609",
     "exception": false,
     "start_time": "2022-12-22T11:31:11.149442",
     "status": "completed"
    },
    "tags": []
   },
   "outputs": [
    {
     "data": {
      "image/png": "[encoded data removed]",
      "text/plain": [
       "<Figure size 1440x1440 with 1 Axes>"
      ]
     },
     "metadata": {
      "needs_background": "light"
     },
     "output_type": "display_data"
    }
   ],
   "source": [
    "from sklearn import tree\n",
    "import matplotlib.pyplot as plt\n",
    "\n",
    "## Visualizing the classifier\n",
    "fig = plt.figure(figsize = (20, 20))\n",
    "_ = tree.plot_tree(classifier, \n",
    "                   feature_names = X_train.columns,  \n",
    "                   class_names = [\"0\", \"1\", \"2\", \"3\"],\n",
    "                   filled = True)"
   ]
  },
  {
   "cell_type": "code",
   "execution_count": 11,
   "id": "eceba3ea",
   "metadata": {
    "execution": {
     "iopub.execute_input": "2022-12-22T11:31:29.089351Z",
     "iopub.status.busy": "2022-12-22T11:31:29.088927Z",
     "iopub.status.idle": "2022-12-22T11:31:29.102533Z",
     "shell.execute_reply": "2022-12-22T11:31:29.101004Z"
    },
    "papermill": {
     "duration": 0.028696,
     "end_time": "2022-12-22T11:31:29.105010",
     "exception": false,
     "start_time": "2022-12-22T11:31:29.076314",
     "status": "completed"
    },
    "tags": []
   },
   "outputs": [
    {
     "name": "stdout",
     "output_type": "stream",
     "text": [
      "0.0\n",
      "0.17\n"
     ]
    }
   ],
   "source": [
    "from sklearn.metrics import mean_absolute_error\n",
    "\n",
    "## Train data\n",
    "predicted_phone_prices = classifier.predict(X_train)\n",
    "print(mean_absolute_error(y_train, predicted_phone_prices))\n",
    "\n",
    "## Test data\n",
    "predicted_phone_prices = classifier.predict(X_test)\n",
    "print(round(mean_absolute_error(y_test, predicted_phone_prices), 2))"
   ]
  },
  {
   "cell_type": "code",
   "execution_count": 12,
   "id": "72e1a579",
   "metadata": {
    "execution": {
     "iopub.execute_input": "2022-12-22T11:31:29.128954Z",
     "iopub.status.busy": "2022-12-22T11:31:29.128539Z",
     "iopub.status.idle": "2022-12-22T11:31:29.211958Z",
     "shell.execute_reply": "2022-12-22T11:31:29.210381Z"
    },
    "papermill": {
     "duration": 0.098831,
     "end_time": "2022-12-22T11:31:29.214812",
     "exception": false,
     "start_time": "2022-12-22T11:31:29.115981",
     "status": "completed"
    },
    "tags": []
   },
   "outputs": [
    {
     "name": "stdout",
     "output_type": "stream",
     "text": [
      "Max leaf nodes: 5  \t\t Mean Absolute Error:  0.265\n",
      "Max leaf nodes: 50  \t\t Mean Absolute Error:  0.15833333333333333\n",
      "Max leaf nodes: 500  \t\t Mean Absolute Error:  0.16333333333333333\n",
      "Max leaf nodes: 5000  \t\t Mean Absolute Error:  0.16333333333333333\n",
      "Max leaf nodes: 50000  \t\t Mean Absolute Error:  0.16333333333333333\n"
     ]
    }
   ],
   "source": [
    "def get_mae(max_leaf_nodes, X_train, X_test, y_train, y_test):\n",
    "    model = DecisionTreeClassifier(max_leaf_nodes = max_leaf_nodes, random_state = 0)\n",
    "    model.fit(X_train, y_train)\n",
    "    preds_val = model.predict(X_test)\n",
    "    mae = mean_absolute_error(y_test, preds_val)\n",
    "    return(mae)\n",
    "\n",
    "## compare MAE with differing values of max_leaf_nodes\n",
    "for max_leaf_nodes in [5, 50, 500, 5000, 50000]:\n",
    "    my_mae = get_mae(max_leaf_nodes, X_train, X_test, y_train, y_test)\n",
    "    print(f\"Max leaf nodes: {max_leaf_nodes}  \\t\\t Mean Absolute Error:  {my_mae}\")"
   ]
  },
  {
   "cell_type": "markdown",
   "id": "b6c4a322",
   "metadata": {
    "papermill": {
     "duration": 0.010862,
     "end_time": "2022-12-22T11:31:29.237023",
     "exception": false,
     "start_time": "2022-12-22T11:31:29.226161",
     "status": "completed"
    },
    "tags": []
   },
   "source": [
    "So, we'd get the best results with max leaf nodes equal to 50 :)\n",
    "\n",
    "Now, let's try to improve our data a bit, to try and get the best possible results out of our random forest classification models. Let's see how much they will improve on the decision tree classifier."
   ]
  },
  {
   "cell_type": "code",
   "execution_count": 13,
   "id": "3c62ff3d",
   "metadata": {
    "execution": {
     "iopub.execute_input": "2022-12-22T11:31:29.261192Z",
     "iopub.status.busy": "2022-12-22T11:31:29.260733Z",
     "iopub.status.idle": "2022-12-22T11:31:29.286598Z",
     "shell.execute_reply": "2022-12-22T11:31:29.285005Z"
    },
    "papermill": {
     "duration": 0.041015,
     "end_time": "2022-12-22T11:31:29.289146",
     "exception": false,
     "start_time": "2022-12-22T11:31:29.248131",
     "status": "completed"
    },
    "tags": []
   },
   "outputs": [
    {
     "name": "stdout",
     "output_type": "stream",
     "text": [
      "              precision    recall  f1-score   support\n",
      "\n",
      "           0       0.90      0.92      0.91       151\n",
      "           1       0.80      0.78      0.79       135\n",
      "           2       0.78      0.76      0.77       151\n",
      "           3       0.87      0.90      0.88       163\n",
      "\n",
      "    accuracy                           0.84       600\n",
      "   macro avg       0.84      0.84      0.84       600\n",
      "weighted avg       0.84      0.84      0.84       600\n",
      "\n"
     ]
    }
   ],
   "source": [
    "from sklearn.metrics import classification_report\n",
    "\n",
    "tree_model = DecisionTreeClassifier(max_leaf_nodes = 50, random_state = 0)\n",
    "tree_model.fit(X_train, y_train)\n",
    "\n",
    "print(classification_report(y_test, tree_model.predict(X_test)))"
   ]
  },
  {
   "cell_type": "markdown",
   "id": "677cb129",
   "metadata": {
    "papermill": {
     "duration": 0.010861,
     "end_time": "2022-12-22T11:31:29.311199",
     "exception": false,
     "start_time": "2022-12-22T11:31:29.300338",
     "status": "completed"
    },
    "tags": []
   },
   "source": [
    "## Backward elimination"
   ]
  },
  {
   "cell_type": "markdown",
   "id": "b91afc7d",
   "metadata": {
    "papermill": {
     "duration": 0.012964,
     "end_time": "2022-12-22T11:31:29.335186",
     "exception": false,
     "start_time": "2022-12-22T11:31:29.322222",
     "status": "completed"
    },
    "tags": []
   },
   "source": [
    "We can use a linear regression model to see which variables are the least likely to be related with price categories, and drop them out of our the set of features we'll feed into the classification algorithm. "
   ]
  },
  {
   "cell_type": "code",
   "execution_count": 14,
   "id": "45d48be6",
   "metadata": {
    "execution": {
     "iopub.execute_input": "2022-12-22T11:31:29.361104Z",
     "iopub.status.busy": "2022-12-22T11:31:29.359804Z",
     "iopub.status.idle": "2022-12-22T11:31:30.103321Z",
     "shell.execute_reply": "2022-12-22T11:31:30.101530Z"
    },
    "papermill": {
     "duration": 0.765822,
     "end_time": "2022-12-22T11:31:30.112404",
     "exception": false,
     "start_time": "2022-12-22T11:31:29.346582",
     "status": "completed"
    },
    "tags": []
   },
   "outputs": [
    {
     "name": "stdout",
     "output_type": "stream",
     "text": [
      "                                 OLS Regression Results                                \n",
      "=======================================================================================\n",
      "Dep. Variable:            price_range   R-squared (uncentered):                   0.960\n",
      "Model:                            OLS   Adj. R-squared (uncentered):              0.960\n",
      "Method:                 Least Squares   F-statistic:                              1660.\n",
      "Date:                Thu, 22 Dec 2022   Prob (F-statistic):                        0.00\n",
      "Time:                        11:31:30   Log-Likelihood:                         -593.23\n",
      "No. Observations:                1400   AIC:                                      1226.\n",
      "Df Residuals:                    1380   BIC:                                      1331.\n",
      "Df Model:                          20                                                  \n",
      "Covariance Type:            nonrobust                                                  \n",
      "==============================================================================\n",
      "                 coef    std err          t      P>|t|      [0.025      0.975]\n",
      "------------------------------------------------------------------------------\n",
      "x1             0.0004   2.16e-05     17.779      0.000       0.000       0.000\n",
      "x2            -0.0378      0.020     -1.901      0.057      -0.077       0.001\n",
      "x3            -0.0676      0.012     -5.700      0.000      -0.091      -0.044\n",
      "x4            -0.0848      0.020     -4.270      0.000      -0.124      -0.046\n",
      "x5             0.0012      0.003      0.397      0.692      -0.005       0.007\n",
      "x6            -0.0137      0.025     -0.556      0.578      -0.062       0.035\n",
      "x7            -0.0010      0.001     -1.943      0.052      -0.002    1.01e-05\n",
      "x8            -0.1211      0.034     -3.548      0.000      -0.188      -0.054\n",
      "x9            -0.0033      0.000    -13.245      0.000      -0.004      -0.003\n",
      "x10           -0.0146      0.004     -3.390      0.001      -0.023      -0.006\n",
      "x11           -0.0071      0.002     -3.347      0.001      -0.011      -0.003\n",
      "x12            0.0003   2.61e-05     11.358      0.000       0.000       0.000\n",
      "x13            0.0001   2.58e-05      5.510      0.000    9.17e-05       0.000\n",
      "x14            0.0009   9.11e-06     99.868      0.000       0.001       0.001\n",
      "x15           -0.0189      0.003     -7.156      0.000      -0.024      -0.014\n",
      "x16            0.0044      0.003      1.677      0.094      -0.001       0.010\n",
      "x17           -0.0078      0.002     -4.414      0.000      -0.011      -0.004\n",
      "x18           -0.0696      0.029     -2.439      0.015      -0.126      -0.014\n",
      "x19           -0.0556      0.020     -2.795      0.005      -0.095      -0.017\n",
      "x20           -0.0585      0.020     -2.937      0.003      -0.098      -0.019\n",
      "==============================================================================\n",
      "Omnibus:                       14.688   Durbin-Watson:                   2.013\n",
      "Prob(Omnibus):                  0.001   Jarque-Bera (JB):               10.288\n",
      "Skew:                           0.079   Prob(JB):                      0.00583\n",
      "Kurtosis:                       2.611   Cond. No.                     1.02e+04\n",
      "==============================================================================\n",
      "\n",
      "Notes:\n",
      "[1] R² is computed without centering (uncentered) since the model does not contain a constant.\n",
      "[2] Standard Errors assume that the covariance matrix of the errors is correctly specified.\n",
      "[3] The condition number is large, 1.02e+04. This might indicate that there are\n",
      "strong multicollinearity or other numerical problems.\n"
     ]
    }
   ],
   "source": [
    "import statsmodels.api as sm\n",
    "\n",
    "regressor_ols = sm.OLS(endog = y_train, exog = X_train.values).fit()\n",
    "print(regressor_ols.summary())"
   ]
  },
  {
   "cell_type": "code",
   "execution_count": 15,
   "id": "110f9a00",
   "metadata": {
    "execution": {
     "iopub.execute_input": "2022-12-22T11:31:30.175145Z",
     "iopub.status.busy": "2022-12-22T11:31:30.174335Z",
     "iopub.status.idle": "2022-12-22T11:31:30.420832Z",
     "shell.execute_reply": "2022-12-22T11:31:30.419144Z"
    },
    "papermill": {
     "duration": 0.285637,
     "end_time": "2022-12-22T11:31:30.427813",
     "exception": false,
     "start_time": "2022-12-22T11:31:30.142176",
     "status": "completed"
    },
    "tags": []
   },
   "outputs": [
    {
     "name": "stdout",
     "output_type": "stream",
     "text": [
      "                                 OLS Regression Results                                \n",
      "=======================================================================================\n",
      "Dep. Variable:            price_range   R-squared (uncentered):                   0.960\n",
      "Model:                            OLS   Adj. R-squared (uncentered):              0.959\n",
      "Method:                 Least Squares   F-statistic:                              2070.\n",
      "Date:                Thu, 22 Dec 2022   Prob (F-statistic):                        0.00\n",
      "Time:                        11:31:30   Log-Likelihood:                         -596.74\n",
      "No. Observations:                1400   AIC:                                      1225.\n",
      "Df Residuals:                    1384   BIC:                                      1309.\n",
      "Df Model:                          16                                                  \n",
      "Covariance Type:            nonrobust                                                  \n",
      "==============================================================================\n",
      "                 coef    std err          t      P>|t|      [0.025      0.975]\n",
      "------------------------------------------------------------------------------\n",
      "x1             0.0004   2.15e-05     17.653      0.000       0.000       0.000\n",
      "x2            -0.0684      0.012     -5.778      0.000      -0.092      -0.045\n",
      "x3            -0.0873      0.020     -4.403      0.000      -0.126      -0.048\n",
      "x4            -0.0011      0.001     -2.131      0.033      -0.002   -8.99e-05\n",
      "x5            -0.1238      0.034     -3.629      0.000      -0.191      -0.057\n",
      "x6            -0.0033      0.000    -13.347      0.000      -0.004      -0.003\n",
      "x7            -0.0148      0.004     -3.450      0.001      -0.023      -0.006\n",
      "x8            -0.0067      0.002     -4.122      0.000      -0.010      -0.004\n",
      "x9             0.0003   2.61e-05     11.359      0.000       0.000       0.000\n",
      "x10            0.0001   2.59e-05      5.536      0.000    9.24e-05       0.000\n",
      "x11            0.0009   9.11e-06     99.819      0.000       0.001       0.001\n",
      "x12           -0.0168      0.002     -7.499      0.000      -0.021      -0.012\n",
      "x13           -0.0079      0.002     -4.468      0.000      -0.011      -0.004\n",
      "x14           -0.0783      0.023     -3.392      0.001      -0.124      -0.033\n",
      "x15           -0.0568      0.020     -2.858      0.004      -0.096      -0.018\n",
      "x16           -0.0577      0.020     -2.892      0.004      -0.097      -0.019\n",
      "==============================================================================\n",
      "Omnibus:                       14.612   Durbin-Watson:                   2.014\n",
      "Prob(Omnibus):                  0.001   Jarque-Bera (JB):               10.248\n",
      "Skew:                           0.079   Prob(JB):                      0.00595\n",
      "Kurtosis:                       2.612   Cond. No.                     1.01e+04\n",
      "==============================================================================\n",
      "\n",
      "Notes:\n",
      "[1] R² is computed without centering (uncentered) since the model does not contain a constant.\n",
      "[2] Standard Errors assume that the covariance matrix of the errors is correctly specified.\n",
      "[3] The condition number is large, 1.01e+04. This might indicate that there are\n",
      "strong multicollinearity or other numerical problems.\n"
     ]
    }
   ],
   "source": [
    "## Buliding the optimal data using automatic backward elimnation\n",
    "\n",
    "def backward_elimination(train_x_data, test_x_data, significance_level):\n",
    "    \n",
    "    train_x_data = train_x_data.values ## -> array\n",
    "    test_x_data = test_x_data.values ## -> array\n",
    "    \n",
    "    num_variables = train_x_data.shape[1]\n",
    "\n",
    "    ## Here's what we'll repeat for as many times as there are variables in our training dataset:\n",
    "    for i in range(0, num_variables): \n",
    "        ## We fit the model to the data\n",
    "        regressor_OLS = sm.OLS(y_train, train_x_data).fit()\n",
    "        ## We identify the highest p-value (corresponding to the variable that's the least likely to ... \n",
    "        ## ... have a systematic impact on the dependent variable)\n",
    "        max_p_value = max(regressor_OLS.pvalues)\n",
    "        ## If this highest p-value is greater than the significance level we've chosen to compare against\n",
    "        if max_p_value > significance_level:\n",
    "            ## We look for the variable it corresponds to, by searching through variables at all ...\n",
    "            ## ... available indexes\n",
    "            for j in range(0, num_variables):\n",
    "                ## If we find such a variable:\n",
    "                if (regressor_OLS.pvalues[j] == max_p_value):\n",
    "                    \n",
    "                    ## We remove it from the train and test datasets\n",
    "                    train_x_data = np.delete(train_x_data, j, 1)\n",
    "                    test_x_data = np.delete(test_x_data, j, 1)\n",
    "                    \n",
    "                    num_variables -= 1\n",
    "                    \n",
    "    print(regressor_OLS.summary())\n",
    "    return train_x_data, test_x_data\n",
    "    \n",
    "X_train, X_test = backward_elimination(X_train, X_test, 0.05)"
   ]
  },
  {
   "cell_type": "code",
   "execution_count": 16,
   "id": "53870fc6",
   "metadata": {
    "execution": {
     "iopub.execute_input": "2022-12-22T11:31:30.517998Z",
     "iopub.status.busy": "2022-12-22T11:31:30.516979Z",
     "iopub.status.idle": "2022-12-22T11:31:30.530048Z",
     "shell.execute_reply": "2022-12-22T11:31:30.528839Z"
    },
    "papermill": {
     "duration": 0.044709,
     "end_time": "2022-12-22T11:31:30.532763",
     "exception": false,
     "start_time": "2022-12-22T11:31:30.488054",
     "status": "completed"
    },
    "tags": []
   },
   "outputs": [],
   "source": [
    "## Applying feature scaling\n",
    "\n",
    "from sklearn.preprocessing import StandardScaler\n",
    "\n",
    "scaler = StandardScaler()\n",
    "\n",
    "X_train = scaler.fit_transform(X_train)\n",
    "X_test = scaler.fit_transform(X_test)"
   ]
  },
  {
   "cell_type": "markdown",
   "id": "5389bbd7",
   "metadata": {
    "papermill": {
     "duration": 0.013323,
     "end_time": "2022-12-22T11:31:30.558420",
     "exception": false,
     "start_time": "2022-12-22T11:31:30.545097",
     "status": "completed"
    },
    "tags": []
   },
   "source": [
    "## Random Forest"
   ]
  },
  {
   "cell_type": "code",
   "execution_count": 17,
   "id": "949e5b85",
   "metadata": {
    "execution": {
     "iopub.execute_input": "2022-12-22T11:31:30.587077Z",
     "iopub.status.busy": "2022-12-22T11:31:30.586156Z",
     "iopub.status.idle": "2022-12-22T11:31:31.142027Z",
     "shell.execute_reply": "2022-12-22T11:31:31.140141Z"
    },
    "papermill": {
     "duration": 0.574344,
     "end_time": "2022-12-22T11:31:31.145421",
     "exception": false,
     "start_time": "2022-12-22T11:31:30.571077",
     "status": "completed"
    },
    "tags": []
   },
   "outputs": [
    {
     "name": "stdout",
     "output_type": "stream",
     "text": [
      "0.11666666666666667\n"
     ]
    }
   ],
   "source": [
    "from sklearn.ensemble import RandomForestClassifier\n",
    "\n",
    "forest_model = RandomForestClassifier(n_estimators = 100, \n",
    "                                      criterion=\"entropy\",\n",
    "                                      random_state = 0)\n",
    "\n",
    "forest_model.fit(X_train, y_train)\n",
    "\n",
    "phone_preds = forest_model.predict(X_test)\n",
    "print(mean_absolute_error(y_test, phone_preds))"
   ]
  },
  {
   "cell_type": "code",
   "execution_count": 18,
   "id": "cd3e4018",
   "metadata": {
    "execution": {
     "iopub.execute_input": "2022-12-22T11:31:31.170697Z",
     "iopub.status.busy": "2022-12-22T11:31:31.170282Z",
     "iopub.status.idle": "2022-12-22T11:31:31.209011Z",
     "shell.execute_reply": "2022-12-22T11:31:31.207341Z"
    },
    "papermill": {
     "duration": 0.054313,
     "end_time": "2022-12-22T11:31:31.211935",
     "exception": false,
     "start_time": "2022-12-22T11:31:31.157622",
     "status": "completed"
    },
    "tags": []
   },
   "outputs": [
    {
     "name": "stdout",
     "output_type": "stream",
     "text": [
      "              precision    recall  f1-score   support\n",
      "\n",
      "           0       0.93      0.99      0.96       151\n",
      "           1       0.81      0.87      0.84       135\n",
      "           2       0.82      0.80      0.81       151\n",
      "           3       0.97      0.87      0.92       163\n",
      "\n",
      "    accuracy                           0.88       600\n",
      "   macro avg       0.88      0.88      0.88       600\n",
      "weighted avg       0.89      0.88      0.88       600\n",
      "\n"
     ]
    }
   ],
   "source": [
    "print(classification_report(y_test, forest_model.predict(X_test)))"
   ]
  }
 ],
 "metadata": {
  "kernelspec": {
   "display_name": "Python 3",
   "language": "python",
   "name": "python3"
  },
  "language_info": {
   "codemirror_mode": {
    "name": "ipython",
    "version": 3
   },
   "file_extension": ".py",
   "mimetype": "text/x-python",
   "name": "python",
   "nbconvert_exporter": "python",
   "pygments_lexer": "ipython3",
   "version": "3.7.12"
  },
  "papermill": {
   "default_parameters": {},
   "duration": 35.987688,
   "end_time": "2022-12-22T11:31:32.249279",
   "environment_variables": {},
   "exception": null,
   "input_path": "__notebook__.ipynb",
   "output_path": "__notebook__.ipynb",
   "parameters": {},
   "start_time": "2022-12-22T11:30:56.261591",
   "version": "2.3.4"
  }
 },
 "nbformat": 4,
 "nbformat_minor": 5
}
