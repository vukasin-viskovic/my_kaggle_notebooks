{
 "cells": [
  {
   "cell_type": "markdown",
   "id": "8148b8f2",
   "metadata": {
    "papermill": {
     "duration": 0.008767,
     "end_time": "2022-12-09T13:15:23.039155",
     "exception": false,
     "start_time": "2022-12-09T13:15:23.030388",
     "status": "completed"
    },
    "tags": []
   },
   "source": [
    "# Layoffs Worldwide 2020-2022"
   ]
  },
  {
   "cell_type": "markdown",
   "id": "70a72148",
   "metadata": {
    "papermill": {
     "duration": 0.007132,
     "end_time": "2022-12-09T13:15:23.054042",
     "exception": false,
     "start_time": "2022-12-09T13:15:23.046910",
     "status": "completed"
    },
    "tags": []
   },
   "source": [
    "This is my second portfolio project in Python :)\n",
    "\n",
    "---\n",
    "\n",
    "> This dataset was scraped from **Layoffs.fyi** with the hope to enable Kaggle community to look into analyzing recent mass layoffs and discover useful insights and patterns.\n",
    "\n",
    "> Original dataset can be tracked at https://layoffs.fyi/\n",
    "\n",
    "> Credits: **Roger Lee**\n",
    "\n",
    "---\n",
    "\n",
    "I'll be joining the above dataset with the free version of **World Cities Database** dataset, available [here](https://simplemaps.com/data/world-cities), to be able to graph cities across the world more precisely on a map.\n",
    "\n",
    "As I did some exploration of the data, I realized that the dataset is quite imperfect, and isn't representative world-wide. Most of the data contained within it is about layoffs in US-based companies. The disproportion between total number of layoffs in the US vs the rest of the world doesn't match reality, I'm pretty sure.\n",
    "\n",
    "---\n",
    "\n",
    "### Sills showcased:\n",
    "\n",
    "\n",
    "1) Data manipulation with Pandas\n",
    "\n",
    "2) Creating DFs from lists\n",
    "\n",
    "3) Working with dictionaries\n",
    "\n",
    "4) Data visualization with plotly express\n",
    "\n",
    "5) Working with dates\n",
    "\n",
    "6) Changing values in a dataframe using indexing\n",
    "\n",
    "7) Merging (joining) dataframes in Pandas on multiple columns, and taking care of the necessary preconditions for a successful join\n",
    "\n",
    "---\n",
    "\n",
    "### New useful things I've learned:\n",
    "\n",
    "\n",
    "1) Renaming single columns by their integer index\n",
    "\n",
    "`df.rename(columns={df.columns[int_index]: 'new_name'},inplace=True)`\n",
    "\n",
    "2) Using `pd.groupby()` method + `.size()`:\n",
    "\n",
    "`df.groupby('column_name').size()`\n",
    "\n",
    "3) Creating simple animations with plotly express\n",
    "\n",
    "3) Creating geographical scatter plots with `px.scatter_geo`\n",
    "\n",
    "4) What fuzzy matching is, how to apply it & why it doesn't suit my needs for this project :)"
   ]
  },
  {
   "cell_type": "markdown",
   "id": "0a0aac2d",
   "metadata": {
    "papermill": {
     "duration": 0.007402,
     "end_time": "2022-12-09T13:15:23.068912",
     "exception": false,
     "start_time": "2022-12-09T13:15:23.061510",
     "status": "completed"
    },
    "tags": []
   },
   "source": [
    "## Imports and preparation"
   ]
  },
  {
   "cell_type": "code",
   "execution_count": 1,
   "id": "fc939220",
   "metadata": {
    "_cell_guid": "b1076dfc-b9ad-4769-8c92-a6c4dae69d19",
    "_uuid": "8f2839f25d086af736a60e9eeb907d3b93b6e0e5",
    "execution": {
     "iopub.execute_input": "2022-12-09T13:15:23.089166Z",
     "iopub.status.busy": "2022-12-09T13:15:23.087860Z",
     "iopub.status.idle": "2022-12-09T13:15:24.628691Z",
     "shell.execute_reply": "2022-12-09T13:15:24.627109Z"
    },
    "papermill": {
     "duration": 1.553556,
     "end_time": "2022-12-09T13:15:24.631601",
     "exception": false,
     "start_time": "2022-12-09T13:15:23.078045",
     "status": "completed"
    },
    "tags": []
   },
   "outputs": [],
   "source": [
    "import numpy as np \n",
    "import pandas as pd \n",
    "import plotly.express as px"
   ]
  },
  {
   "cell_type": "code",
   "execution_count": 2,
   "id": "dd40a5fa",
   "metadata": {
    "execution": {
     "iopub.execute_input": "2022-12-09T13:15:24.651764Z",
     "iopub.status.busy": "2022-12-09T13:15:24.651085Z",
     "iopub.status.idle": "2022-12-09T13:15:24.687040Z",
     "shell.execute_reply": "2022-12-09T13:15:24.685748Z"
    },
    "papermill": {
     "duration": 0.050393,
     "end_time": "2022-12-09T13:15:24.689921",
     "exception": false,
     "start_time": "2022-12-09T13:15:24.639528",
     "status": "completed"
    },
    "tags": []
   },
   "outputs": [],
   "source": [
    "df = pd.read_csv(\"/kaggle/input/layoffs-data-2022/layoffs_data.csv\")"
   ]
  },
  {
   "cell_type": "markdown",
   "id": "86a90060",
   "metadata": {
    "papermill": {
     "duration": 0.009485,
     "end_time": "2022-12-09T13:15:24.707681",
     "exception": false,
     "start_time": "2022-12-09T13:15:24.698196",
     "status": "completed"
    },
    "tags": []
   },
   "source": [
    "## Initial exploration of the data - a first overview :)"
   ]
  },
  {
   "cell_type": "code",
   "execution_count": 3,
   "id": "105c5dfa",
   "metadata": {
    "execution": {
     "iopub.execute_input": "2022-12-09T13:15:24.725270Z",
     "iopub.status.busy": "2022-12-09T13:15:24.724807Z",
     "iopub.status.idle": "2022-12-09T13:15:24.753127Z",
     "shell.execute_reply": "2022-12-09T13:15:24.751988Z"
    },
    "papermill": {
     "duration": 0.040074,
     "end_time": "2022-12-09T13:15:24.755592",
     "exception": false,
     "start_time": "2022-12-09T13:15:24.715518",
     "status": "completed"
    },
    "tags": []
   },
   "outputs": [
    {
     "data": {
      "text/html": [
       "<div>\n",
       "<style scoped>\n",
       "    .dataframe tbody tr th:only-of-type {\n",
       "        vertical-align: middle;\n",
       "    }\n",
       "\n",
       "    .dataframe tbody tr th {\n",
       "        vertical-align: top;\n",
       "    }\n",
       "\n",
       "    .dataframe thead th {\n",
       "        text-align: right;\n",
       "    }\n",
       "</style>\n",
       "<table border=\"1\" class=\"dataframe\">\n",
       "  <thead>\n",
       "    <tr style=\"text-align: right;\">\n",
       "      <th></th>\n",
       "      <th>Company</th>\n",
       "      <th>Location</th>\n",
       "      <th>Industry</th>\n",
       "      <th>Laid_Off_Count</th>\n",
       "      <th>Date</th>\n",
       "      <th>Source</th>\n",
       "      <th>Funds_Raised</th>\n",
       "      <th>Stage</th>\n",
       "      <th>Date_Added</th>\n",
       "      <th>Country</th>\n",
       "      <th>Percentage</th>\n",
       "      <th>List_of_Employees_Laid_Off</th>\n",
       "    </tr>\n",
       "  </thead>\n",
       "  <tbody>\n",
       "    <tr>\n",
       "      <th>0</th>\n",
       "      <td>Vedantu</td>\n",
       "      <td>Bengaluru</td>\n",
       "      <td>Education</td>\n",
       "      <td>385.0</td>\n",
       "      <td>2022-12-07</td>\n",
       "      <td>https://economictimes.indiatimes.com/tech/star...</td>\n",
       "      <td>292.0</td>\n",
       "      <td>Series E</td>\n",
       "      <td>2022-12-07 16:28:02</td>\n",
       "      <td>India</td>\n",
       "      <td>NaN</td>\n",
       "      <td>Unknown</td>\n",
       "    </tr>\n",
       "    <tr>\n",
       "      <th>1</th>\n",
       "      <td>Loft</td>\n",
       "      <td>Sao Paulo</td>\n",
       "      <td>Real Estate</td>\n",
       "      <td>312.0</td>\n",
       "      <td>2022-12-07</td>\n",
       "      <td>https://www.bloomberglinea.com/english/brazili...</td>\n",
       "      <td>788.0</td>\n",
       "      <td>Unknown</td>\n",
       "      <td>2022-12-08 06:26:02</td>\n",
       "      <td>Brazil</td>\n",
       "      <td>0.12</td>\n",
       "      <td>Unknown</td>\n",
       "    </tr>\n",
       "    <tr>\n",
       "      <th>2</th>\n",
       "      <td>Plaid</td>\n",
       "      <td>SF Bay Area</td>\n",
       "      <td>Finance</td>\n",
       "      <td>260.0</td>\n",
       "      <td>2022-12-07</td>\n",
       "      <td>https://techcrunch.com/2022/12/07/plaid-layoff...</td>\n",
       "      <td>734.0</td>\n",
       "      <td>Series D</td>\n",
       "      <td>2022-12-07 16:22:04</td>\n",
       "      <td>United States</td>\n",
       "      <td>0.20</td>\n",
       "      <td>https://docs.google.com/spreadsheets/d/1Tqw-Iu...</td>\n",
       "    </tr>\n",
       "    <tr>\n",
       "      <th>3</th>\n",
       "      <td>Motive</td>\n",
       "      <td>SF Bay Area</td>\n",
       "      <td>Transportation</td>\n",
       "      <td>237.0</td>\n",
       "      <td>2022-12-07</td>\n",
       "      <td>https://gomotive.com/blog/shoaib-makanis-messa...</td>\n",
       "      <td>567.0</td>\n",
       "      <td>Series F</td>\n",
       "      <td>2022-12-08 06:21:12</td>\n",
       "      <td>United States</td>\n",
       "      <td>0.06</td>\n",
       "      <td>Unknown</td>\n",
       "    </tr>\n",
       "    <tr>\n",
       "      <th>4</th>\n",
       "      <td>Relativity</td>\n",
       "      <td>Chicago</td>\n",
       "      <td>Legal</td>\n",
       "      <td>150.0</td>\n",
       "      <td>2022-12-07</td>\n",
       "      <td>https://www.chicagobusiness.com/technology/sof...</td>\n",
       "      <td>125.0</td>\n",
       "      <td>Private Equity</td>\n",
       "      <td>2022-12-08 06:22:20</td>\n",
       "      <td>United States</td>\n",
       "      <td>0.10</td>\n",
       "      <td>Unknown</td>\n",
       "    </tr>\n",
       "  </tbody>\n",
       "</table>\n",
       "</div>"
      ],
      "text/plain": [
       "      Company     Location        Industry  Laid_Off_Count        Date  \\\n",
       "0     Vedantu    Bengaluru       Education           385.0  2022-12-07   \n",
       "1        Loft    Sao Paulo     Real Estate           312.0  2022-12-07   \n",
       "2       Plaid  SF Bay Area         Finance           260.0  2022-12-07   \n",
       "3      Motive  SF Bay Area  Transportation           237.0  2022-12-07   \n",
       "4  Relativity      Chicago           Legal           150.0  2022-12-07   \n",
       "\n",
       "                                              Source  Funds_Raised  \\\n",
       "0  https://economictimes.indiatimes.com/tech/star...         292.0   \n",
       "1  https://www.bloomberglinea.com/english/brazili...         788.0   \n",
       "2  https://techcrunch.com/2022/12/07/plaid-layoff...         734.0   \n",
       "3  https://gomotive.com/blog/shoaib-makanis-messa...         567.0   \n",
       "4  https://www.chicagobusiness.com/technology/sof...         125.0   \n",
       "\n",
       "            Stage           Date_Added        Country  Percentage  \\\n",
       "0        Series E  2022-12-07 16:28:02          India         NaN   \n",
       "1         Unknown  2022-12-08 06:26:02         Brazil        0.12   \n",
       "2        Series D  2022-12-07 16:22:04  United States        0.20   \n",
       "3        Series F  2022-12-08 06:21:12  United States        0.06   \n",
       "4  Private Equity  2022-12-08 06:22:20  United States        0.10   \n",
       "\n",
       "                          List_of_Employees_Laid_Off  \n",
       "0                                            Unknown  \n",
       "1                                            Unknown  \n",
       "2  https://docs.google.com/spreadsheets/d/1Tqw-Iu...  \n",
       "3                                            Unknown  \n",
       "4                                            Unknown  "
      ]
     },
     "execution_count": 3,
     "metadata": {},
     "output_type": "execute_result"
    }
   ],
   "source": [
    "## A first look at the data\n",
    "\n",
    "df.head() ## I don't like that the column names are capitalized. I'll change that in a bit.\n",
    "\n",
    "## But I can already think of some interesting questions to try and answer with this data"
   ]
  },
  {
   "cell_type": "markdown",
   "id": "6344e681",
   "metadata": {
    "papermill": {
     "duration": 0.007624,
     "end_time": "2022-12-09T13:15:24.773563",
     "exception": false,
     "start_time": "2022-12-09T13:15:24.765939",
     "status": "completed"
    },
    "tags": []
   },
   "source": [
    "## Questions:\n",
    "\n",
    "- Top 10 companies with most layoffs per year?\n",
    "- Top 10 countries with most layoffs per year?\n",
    "- Top 10 industries with most layoffs per year?\n",
    "- Map of the world with layoffs per city, per year?\n",
    "\n",
    "- Average percentage of layoffs per industry, per country?\n",
    "- Companies with highest layoffs percentages?\n",
    "- Companies with most layoff \"rounds\"?"
   ]
  },
  {
   "cell_type": "code",
   "execution_count": 4,
   "id": "0334ccc0",
   "metadata": {
    "execution": {
     "iopub.execute_input": "2022-12-09T13:15:24.791018Z",
     "iopub.status.busy": "2022-12-09T13:15:24.790230Z",
     "iopub.status.idle": "2022-12-09T13:15:24.798162Z",
     "shell.execute_reply": "2022-12-09T13:15:24.797073Z"
    },
    "papermill": {
     "duration": 0.019139,
     "end_time": "2022-12-09T13:15:24.800418",
     "exception": false,
     "start_time": "2022-12-09T13:15:24.781279",
     "status": "completed"
    },
    "tags": []
   },
   "outputs": [
    {
     "data": {
      "text/plain": [
       "Index(['company', 'location', 'industry', 'laid_off_count', 'date', 'source',\n",
       "       'funds_raised', 'stage', 'date_added', 'country', 'percentage',\n",
       "       'list_of_employees_laid_off'],\n",
       "      dtype='object')"
      ]
     },
     "execution_count": 4,
     "metadata": {},
     "output_type": "execute_result"
    }
   ],
   "source": [
    "## Let's change column names to all lower case\n",
    "df.columns = df.columns.str.lower()\n",
    "\n",
    "df.columns ## Let's see what we've done"
   ]
  },
  {
   "cell_type": "code",
   "execution_count": 5,
   "id": "f733e9f1",
   "metadata": {
    "execution": {
     "iopub.execute_input": "2022-12-09T13:15:24.818653Z",
     "iopub.status.busy": "2022-12-09T13:15:24.817926Z",
     "iopub.status.idle": "2022-12-09T13:15:24.842878Z",
     "shell.execute_reply": "2022-12-09T13:15:24.841126Z"
    },
    "papermill": {
     "duration": 0.037177,
     "end_time": "2022-12-09T13:15:24.845674",
     "exception": false,
     "start_time": "2022-12-09T13:15:24.808497",
     "status": "completed"
    },
    "tags": []
   },
   "outputs": [
    {
     "name": "stdout",
     "output_type": "stream",
     "text": [
      "Total N of rows: 1757\n",
      "Unique companies: 1466\n",
      "Unique companies + locations: 1494\n",
      "Unique companies + locations + layoff dates: 1749\n",
      "Unique companies + locations + layoff dates + date added: 1757\n"
     ]
    }
   ],
   "source": [
    "## Let's see how the rows are structured:\n",
    "\n",
    "print(f\"Total N of rows: {df.shape[0]}\")\n",
    "print(f\"Unique companies: {df.drop_duplicates(subset = ['company']).shape[0]}\")\n",
    "print(f\"Unique companies + locations: {df.drop_duplicates(subset = ['company', 'location']).shape[0]}\")\n",
    "print(f\"Unique companies + locations + layoff dates: {df.drop_duplicates(subset = ['company', 'location', 'date']).shape[0]}\")\n",
    "print(f\"Unique companies + locations + layoff dates + date added: {df.drop_duplicates(subset = ['company', 'location', 'date', 'date_added']).shape[0]}\")"
   ]
  },
  {
   "cell_type": "code",
   "execution_count": 6,
   "id": "a3004377",
   "metadata": {
    "execution": {
     "iopub.execute_input": "2022-12-09T13:15:24.865114Z",
     "iopub.status.busy": "2022-12-09T13:15:24.863866Z",
     "iopub.status.idle": "2022-12-09T13:15:24.895131Z",
     "shell.execute_reply": "2022-12-09T13:15:24.893979Z"
    },
    "papermill": {
     "duration": 0.044194,
     "end_time": "2022-12-09T13:15:24.898063",
     "exception": false,
     "start_time": "2022-12-09T13:15:24.853869",
     "status": "completed"
    },
    "tags": []
   },
   "outputs": [
    {
     "data": {
      "text/html": [
       "<div>\n",
       "<style scoped>\n",
       "    .dataframe tbody tr th:only-of-type {\n",
       "        vertical-align: middle;\n",
       "    }\n",
       "\n",
       "    .dataframe tbody tr th {\n",
       "        vertical-align: top;\n",
       "    }\n",
       "\n",
       "    .dataframe thead th {\n",
       "        text-align: right;\n",
       "    }\n",
       "</style>\n",
       "<table border=\"1\" class=\"dataframe\">\n",
       "  <thead>\n",
       "    <tr style=\"text-align: right;\">\n",
       "      <th></th>\n",
       "      <th>column</th>\n",
       "      <th>dtypes</th>\n",
       "      <th>nunique</th>\n",
       "      <th>not_na</th>\n",
       "      <th>sum_na</th>\n",
       "    </tr>\n",
       "  </thead>\n",
       "  <tbody>\n",
       "    <tr>\n",
       "      <th>0</th>\n",
       "      <td>company</td>\n",
       "      <td>object</td>\n",
       "      <td>1466</td>\n",
       "      <td>1757</td>\n",
       "      <td>0</td>\n",
       "    </tr>\n",
       "    <tr>\n",
       "      <th>1</th>\n",
       "      <td>location</td>\n",
       "      <td>object</td>\n",
       "      <td>162</td>\n",
       "      <td>1757</td>\n",
       "      <td>0</td>\n",
       "    </tr>\n",
       "    <tr>\n",
       "      <th>2</th>\n",
       "      <td>industry</td>\n",
       "      <td>object</td>\n",
       "      <td>28</td>\n",
       "      <td>1757</td>\n",
       "      <td>0</td>\n",
       "    </tr>\n",
       "    <tr>\n",
       "      <th>3</th>\n",
       "      <td>laid_off_count</td>\n",
       "      <td>float64</td>\n",
       "      <td>235</td>\n",
       "      <td>1237</td>\n",
       "      <td>520</td>\n",
       "    </tr>\n",
       "    <tr>\n",
       "      <th>4</th>\n",
       "      <td>date</td>\n",
       "      <td>object</td>\n",
       "      <td>407</td>\n",
       "      <td>1756</td>\n",
       "      <td>1</td>\n",
       "    </tr>\n",
       "    <tr>\n",
       "      <th>5</th>\n",
       "      <td>source</td>\n",
       "      <td>object</td>\n",
       "      <td>1584</td>\n",
       "      <td>1757</td>\n",
       "      <td>0</td>\n",
       "    </tr>\n",
       "    <tr>\n",
       "      <th>6</th>\n",
       "      <td>funds_raised</td>\n",
       "      <td>float64</td>\n",
       "      <td>561</td>\n",
       "      <td>1627</td>\n",
       "      <td>130</td>\n",
       "    </tr>\n",
       "    <tr>\n",
       "      <th>7</th>\n",
       "      <td>stage</td>\n",
       "      <td>object</td>\n",
       "      <td>15</td>\n",
       "      <td>1757</td>\n",
       "      <td>0</td>\n",
       "    </tr>\n",
       "    <tr>\n",
       "      <th>8</th>\n",
       "      <td>date_added</td>\n",
       "      <td>object</td>\n",
       "      <td>1718</td>\n",
       "      <td>1757</td>\n",
       "      <td>0</td>\n",
       "    </tr>\n",
       "    <tr>\n",
       "      <th>9</th>\n",
       "      <td>country</td>\n",
       "      <td>object</td>\n",
       "      <td>55</td>\n",
       "      <td>1757</td>\n",
       "      <td>0</td>\n",
       "    </tr>\n",
       "    <tr>\n",
       "      <th>10</th>\n",
       "      <td>percentage</td>\n",
       "      <td>float64</td>\n",
       "      <td>70</td>\n",
       "      <td>1181</td>\n",
       "      <td>576</td>\n",
       "    </tr>\n",
       "    <tr>\n",
       "      <th>11</th>\n",
       "      <td>list_of_employees_laid_off</td>\n",
       "      <td>object</td>\n",
       "      <td>86</td>\n",
       "      <td>1757</td>\n",
       "      <td>0</td>\n",
       "    </tr>\n",
       "  </tbody>\n",
       "</table>\n",
       "</div>"
      ],
      "text/plain": [
       "                        column   dtypes  nunique  not_na  sum_na\n",
       "0                      company   object     1466    1757       0\n",
       "1                     location   object      162    1757       0\n",
       "2                     industry   object       28    1757       0\n",
       "3               laid_off_count  float64      235    1237     520\n",
       "4                         date   object      407    1756       1\n",
       "5                       source   object     1584    1757       0\n",
       "6                 funds_raised  float64      561    1627     130\n",
       "7                        stage   object       15    1757       0\n",
       "8                   date_added   object     1718    1757       0\n",
       "9                      country   object       55    1757       0\n",
       "10                  percentage  float64       70    1181     576\n",
       "11  list_of_employees_laid_off   object       86    1757       0"
      ]
     },
     "execution_count": 6,
     "metadata": {},
     "output_type": "execute_result"
    }
   ],
   "source": [
    "def check_nunique_missing(df):\n",
    "    \"\"\"\n",
    "    This is a nice little function I'm borrowing from another Kaggle user and slightly modifying.\n",
    "    It has all the same data as \"pd.DataFrame.info()\" method, but also includes:\n",
    "        - the number of unique values per column and\n",
    "        - explicit number of NAs per column\n",
    "    \"\"\"\n",
    "    check_list = []\n",
    "    \n",
    "    for col in df.columns:\n",
    "        \n",
    "        dtypes = df[col].dtypes\n",
    "        nunique = df[col].nunique()\n",
    "        not_na = df[col].notna().sum()\n",
    "        sum_na = df[col].isna().sum()\n",
    "        \n",
    "        ## I'm creating a list of lists - with one \"sublist\" per each column of the original df\n",
    "        check_list.append([col, dtypes, nunique, not_na, sum_na]) \n",
    "        \n",
    "    df_check = pd.DataFrame(check_list) ## list (of lists) -> pd.DataFrame\n",
    "    \n",
    "    df_check.columns = ['column', 'dtypes', 'nunique', 'not_na', 'sum_na'] ## Setting appropriate column names\n",
    "    \n",
    "    return df_check \n",
    "\n",
    "check_nunique_missing(df)\n",
    "\n",
    "## So, a lot of NAs in the \"laid_off_count\" and \"percentage\" columns"
   ]
  },
  {
   "cell_type": "code",
   "execution_count": 7,
   "id": "aa14541b",
   "metadata": {
    "execution": {
     "iopub.execute_input": "2022-12-09T13:15:24.918765Z",
     "iopub.status.busy": "2022-12-09T13:15:24.917647Z",
     "iopub.status.idle": "2022-12-09T13:15:24.935385Z",
     "shell.execute_reply": "2022-12-09T13:15:24.934088Z"
    },
    "papermill": {
     "duration": 0.030063,
     "end_time": "2022-12-09T13:15:24.938095",
     "exception": false,
     "start_time": "2022-12-09T13:15:24.908032",
     "status": "completed"
    },
    "tags": []
   },
   "outputs": [
    {
     "data": {
      "text/plain": [
       "count                             1756\n",
       "mean     2021-10-08 23:25:33.485193728\n",
       "min                2020-03-11 00:00:00\n",
       "25%                2020-05-12 00:00:00\n",
       "50%                2022-06-10 00:00:00\n",
       "75%                2022-08-31 00:00:00\n",
       "max                2022-12-07 00:00:00\n",
       "Name: date, dtype: object"
      ]
     },
     "execution_count": 7,
     "metadata": {},
     "output_type": "execute_result"
    }
   ],
   "source": [
    "df['date'] = pd.to_datetime(df['date']) ## Changing format\n",
    "df['date'].describe(datetime_is_numeric = True) ## What timeframe does the data fall into? ## 2020-2022"
   ]
  },
  {
   "cell_type": "code",
   "execution_count": 8,
   "id": "e341faad",
   "metadata": {
    "execution": {
     "iopub.execute_input": "2022-12-09T13:15:24.956829Z",
     "iopub.status.busy": "2022-12-09T13:15:24.956367Z",
     "iopub.status.idle": "2022-12-09T13:15:24.968071Z",
     "shell.execute_reply": "2022-12-09T13:15:24.966779Z"
    },
    "papermill": {
     "duration": 0.024006,
     "end_time": "2022-12-09T13:15:24.970644",
     "exception": false,
     "start_time": "2022-12-09T13:15:24.946638",
     "status": "completed"
    },
    "tags": []
   },
   "outputs": [
    {
     "data": {
      "text/plain": [
       "0    2022.0\n",
       "1    2022.0\n",
       "2    2022.0\n",
       "3    2022.0\n",
       "4    2022.0\n",
       "Name: year, dtype: float64"
      ]
     },
     "execution_count": 8,
     "metadata": {},
     "output_type": "execute_result"
    }
   ],
   "source": [
    "df['year'] = df['date'].dt.year ## Let's extract years from the \"date\" column, and store them in a separate column\n",
    "df['year'][:5] ## Let's have a quick look"
   ]
  },
  {
   "cell_type": "markdown",
   "id": "c0fa52a4",
   "metadata": {
    "papermill": {
     "duration": 0.008349,
     "end_time": "2022-12-09T13:15:24.987790",
     "exception": false,
     "start_time": "2022-12-09T13:15:24.979441",
     "status": "completed"
    },
    "tags": []
   },
   "source": [
    "## Companies"
   ]
  },
  {
   "cell_type": "code",
   "execution_count": 9,
   "id": "c3973d8f",
   "metadata": {
    "execution": {
     "iopub.execute_input": "2022-12-09T13:15:25.007186Z",
     "iopub.status.busy": "2022-12-09T13:15:25.006088Z",
     "iopub.status.idle": "2022-12-09T13:15:26.195769Z",
     "shell.execute_reply": "2022-12-09T13:15:26.194522Z"
    },
    "papermill": {
     "duration": 1.201902,
     "end_time": "2022-12-09T13:15:26.198192",
     "exception": false,
     "start_time": "2022-12-09T13:15:24.996290",
     "status": "completed"
    },
    "tags": []
   },
   "outputs": [
    {
     "name": "stdout",
     "output_type": "stream",
     "text": [
      "          company  laid_off_count  year\n",
      "0            Uber          7525.0  2020\n",
      "1     Booking.com          4375.0  2020\n",
      "2         Groupon          2800.0  2020\n",
      "3          Swiggy          2250.0  2020\n",
      "4          Airbnb          1900.0  2020\n",
      "5           Agoda          1500.0  2020\n",
      "6     PaisaBazaar          1500.0  2020\n",
      "7      Stitch Fix          1400.0  2020\n",
      "8             Ola          1400.0  2020\n",
      "9           Toast          1300.0  2020\n",
      "10      Bytedance          3600.0  2021\n",
      "11        Katerra          2434.0  2021\n",
      "12         Zillow          2000.0  2021\n",
      "13      Instacart          1877.0  2021\n",
      "14    WhiteHat Jr          1800.0  2021\n",
      "15     Better.com           900.0  2021\n",
      "16        Dropbox           315.0  2021\n",
      "17  Delivery Hero           300.0  2021\n",
      "18        ThredUp           243.0  2021\n",
      "19         Bounce           200.0  2021\n",
      "20           Meta         11000.0  2022\n",
      "21         Amazon         10000.0  2022\n",
      "22          Cisco          4100.0  2022\n",
      "23        Peloton          4084.0  2022\n",
      "24        Carvana          4000.0  2022\n",
      "25        Twitter          3700.0  2022\n",
      "26     Better.com          3000.0  2022\n",
      "27         Byju's          2500.0  2022\n",
      "28         Gopuff          2300.0  2022\n",
      "29     Crypto.com          2260.0  2022\n"
     ]
    },
    {
     "data": {
      "text/html": [
       "        <script type=\"text/javascript\">\n",
       "        window.PlotlyConfig = {MathJaxConfig: 'local'};\n",
       "        if (window.MathJax && window.MathJax.Hub && window.MathJax.Hub.Config) {window.MathJax.Hub.Config({SVG: {font: \"STIX-Web\"}});}\n",
       "        if (typeof require !== 'undefined') {\n",
       "        require.undef(\"plotly\");\n",
       "        requirejs.config({\n",
       "            paths: {\n",
       "                'plotly': ['https://cdn.plot.ly/plotly-2.14.0.min']\n",
       "            }\n",
       "        });\n",
       "        require(['plotly'], function(Plotly) {\n",
       "            window._Plotly = Plotly;\n",
       "        });\n",
       "        }\n",
       "        </script>\n",
       "        "
      ]
     },
     "metadata": {},
     "output_type": "display_data"
    },
    {
     "data": {
      "text/html": [
       "<div>                            <div id=\"f69be0df-01dc-4a85-9c6e-84a974161775\" class=\"plotly-graph-div\" style=\"height:525px; width:100%;\"></div>            <script type=\"text/javascript\">                require([\"plotly\"], function(Plotly) {                    window.PLOTLYENV=window.PLOTLYENV || {};                                    if (document.getElementById(\"f69be0df-01dc-4a85-9c6e-84a974161775\")) {                    Plotly.newPlot(                        \"f69be0df-01dc-4a85-9c6e-84a974161775\",                        [{\"alignmentgroup\":\"True\",\"hovertemplate\":\"year=2020<br>Companies=%{x}<br>Total Layoffs=%{y}<extra></extra>\",\"legendgroup\":\"\",\"marker\":{\"color\":\"#636efa\",\"pattern\":{\"shape\":\"\"}},\"name\":\"\",\"offsetgroup\":\"\",\"orientation\":\"v\",\"showlegend\":false,\"textposition\":\"auto\",\"x\":[\"Uber\",\"Booking.com\",\"Groupon\",\"Swiggy\",\"Airbnb\",\"Agoda\",\"PaisaBazaar\",\"Stitch Fix\",\"Ola\",\"Toast\"],\"xaxis\":\"x\",\"y\":[7525.0,4375.0,2800.0,2250.0,1900.0,1500.0,1500.0,1400.0,1400.0,1300.0],\"yaxis\":\"y\",\"type\":\"bar\"}],                        {\"template\":{\"data\":{\"histogram2dcontour\":[{\"type\":\"histogram2dcontour\",\"colorbar\":{\"outlinewidth\":0,\"ticks\":\"\"},\"colorscale\":[[0.0,\"#0d0887\"],[0.1111111111111111,\"#46039f\"],[0.2222222222222222,\"#7201a8\"],[0.3333333333333333,\"#9c179e\"],[0.4444444444444444,\"#bd3786\"],[0.5555555555555556,\"#d8576b\"],[0.6666666666666666,\"#ed7953\"],[0.7777777777777778,\"#fb9f3a\"],[0.8888888888888888,\"#fdca26\"],[1.0,\"#f0f921\"]]}],\"choropleth\":[{\"type\":\"choropleth\",\"colorbar\":{\"outlinewidth\":0,\"ticks\":\"\"}}],\"histogram2d\":[{\"type\":\"histogram2d\",\"colorbar\":{\"outlinewidth\":0,\"ticks\":\"\"},\"colorscale\":[[0.0,\"#0d0887\"],[0.1111111111111111,\"#46039f\"],[0.2222222222222222,\"#7201a8\"],[0.3333333333333333,\"#9c179e\"],[0.4444444444444444,\"#bd3786\"],[0.5555555555555556,\"#d8576b\"],[0.6666666666666666,\"#ed7953\"],[0.7777777777777778,\"#fb9f3a\"],[0.8888888888888888,\"#fdca26\"],[1.0,\"#f0f921\"]]}],\"heatmap\":[{\"type\":\"heatmap\",\"colorbar\":{\"outlinewidth\":0,\"ticks\":\"\"},\"colorscale\":[[0.0,\"#0d0887\"],[0.1111111111111111,\"#46039f\"],[0.2222222222222222,\"#7201a8\"],[0.3333333333333333,\"#9c179e\"],[0.4444444444444444,\"#bd3786\"],[0.5555555555555556,\"#d8576b\"],[0.6666666666666666,\"#ed7953\"],[0.7777777777777778,\"#fb9f3a\"],[0.8888888888888888,\"#fdca26\"],[1.0,\"#f0f921\"]]}],\"heatmapgl\":[{\"type\":\"heatmapgl\",\"colorbar\":{\"outlinewidth\":0,\"ticks\":\"\"},\"colorscale\":[[0.0,\"#0d0887\"],[0.1111111111111111,\"#46039f\"],[0.2222222222222222,\"#7201a8\"],[0.3333333333333333,\"#9c179e\"],[0.4444444444444444,\"#bd3786\"],[0.5555555555555556,\"#d8576b\"],[0.6666666666666666,\"#ed7953\"],[0.7777777777777778,\"#fb9f3a\"],[0.8888888888888888,\"#fdca26\"],[1.0,\"#f0f921\"]]}],\"contourcarpet\":[{\"type\":\"contourcarpet\",\"colorbar\":{\"outlinewidth\":0,\"ticks\":\"\"}}],\"contour\":[{\"type\":\"contour\",\"colorbar\":{\"outlinewidth\":0,\"ticks\":\"\"},\"colorscale\":[[0.0,\"#0d0887\"],[0.1111111111111111,\"#46039f\"],[0.2222222222222222,\"#7201a8\"],[0.3333333333333333,\"#9c179e\"],[0.4444444444444444,\"#bd3786\"],[0.5555555555555556,\"#d8576b\"],[0.6666666666666666,\"#ed7953\"],[0.7777777777777778,\"#fb9f3a\"],[0.8888888888888888,\"#fdca26\"],[1.0,\"#f0f921\"]]}],\"surface\":[{\"type\":\"surface\",\"colorbar\":{\"outlinewidth\":0,\"ticks\":\"\"},\"colorscale\":[[0.0,\"#0d0887\"],[0.1111111111111111,\"#46039f\"],[0.2222222222222222,\"#7201a8\"],[0.3333333333333333,\"#9c179e\"],[0.4444444444444444,\"#bd3786\"],[0.5555555555555556,\"#d8576b\"],[0.6666666666666666,\"#ed7953\"],[0.7777777777777778,\"#fb9f3a\"],[0.8888888888888888,\"#fdca26\"],[1.0,\"#f0f921\"]]}],\"mesh3d\":[{\"type\":\"mesh3d\",\"colorbar\":{\"outlinewidth\":0,\"ticks\":\"\"}}],\"scatter\":[{\"fillpattern\":{\"fillmode\":\"overlay\",\"size\":10,\"solidity\":0.2},\"type\":\"scatter\"}],\"parcoords\":[{\"type\":\"parcoords\",\"line\":{\"colorbar\":{\"outlinewidth\":0,\"ticks\":\"\"}}}],\"scatterpolargl\":[{\"type\":\"scatterpolargl\",\"marker\":{\"colorbar\":{\"outlinewidth\":0,\"ticks\":\"\"}}}],\"bar\":[{\"error_x\":{\"color\":\"#2a3f5f\"},\"error_y\":{\"color\":\"#2a3f5f\"},\"marker\":{\"line\":{\"color\":\"#E5ECF6\",\"width\":0.5},\"pattern\":{\"fillmode\":\"overlay\",\"size\":10,\"solidity\":0.2}},\"type\":\"bar\"}],\"scattergeo\":[{\"type\":\"scattergeo\",\"marker\":{\"colorbar\":{\"outlinewidth\":0,\"ticks\":\"\"}}}],\"scatterpolar\":[{\"type\":\"scatterpolar\",\"marker\":{\"colorbar\":{\"outlinewidth\":0,\"ticks\":\"\"}}}],\"histogram\":[{\"marker\":{\"pattern\":{\"fillmode\":\"overlay\",\"size\":10,\"solidity\":0.2}},\"type\":\"histogram\"}],\"scattergl\":[{\"type\":\"scattergl\",\"marker\":{\"colorbar\":{\"outlinewidth\":0,\"ticks\":\"\"}}}],\"scatter3d\":[{\"type\":\"scatter3d\",\"line\":{\"colorbar\":{\"outlinewidth\":0,\"ticks\":\"\"}},\"marker\":{\"colorbar\":{\"outlinewidth\":0,\"ticks\":\"\"}}}],\"scattermapbox\":[{\"type\":\"scattermapbox\",\"marker\":{\"colorbar\":{\"outlinewidth\":0,\"ticks\":\"\"}}}],\"scatterternary\":[{\"type\":\"scatterternary\",\"marker\":{\"colorbar\":{\"outlinewidth\":0,\"ticks\":\"\"}}}],\"scattercarpet\":[{\"type\":\"scattercarpet\",\"marker\":{\"colorbar\":{\"outlinewidth\":0,\"ticks\":\"\"}}}],\"carpet\":[{\"aaxis\":{\"endlinecolor\":\"#2a3f5f\",\"gridcolor\":\"white\",\"linecolor\":\"white\",\"minorgridcolor\":\"white\",\"startlinecolor\":\"#2a3f5f\"},\"baxis\":{\"endlinecolor\":\"#2a3f5f\",\"gridcolor\":\"white\",\"linecolor\":\"white\",\"minorgridcolor\":\"white\",\"startlinecolor\":\"#2a3f5f\"},\"type\":\"carpet\"}],\"table\":[{\"cells\":{\"fill\":{\"color\":\"#EBF0F8\"},\"line\":{\"color\":\"white\"}},\"header\":{\"fill\":{\"color\":\"#C8D4E3\"},\"line\":{\"color\":\"white\"}},\"type\":\"table\"}],\"barpolar\":[{\"marker\":{\"line\":{\"color\":\"#E5ECF6\",\"width\":0.5},\"pattern\":{\"fillmode\":\"overlay\",\"size\":10,\"solidity\":0.2}},\"type\":\"barpolar\"}],\"pie\":[{\"automargin\":true,\"type\":\"pie\"}]},\"layout\":{\"autotypenumbers\":\"strict\",\"colorway\":[\"#636efa\",\"#EF553B\",\"#00cc96\",\"#ab63fa\",\"#FFA15A\",\"#19d3f3\",\"#FF6692\",\"#B6E880\",\"#FF97FF\",\"#FECB52\"],\"font\":{\"color\":\"#2a3f5f\"},\"hovermode\":\"closest\",\"hoverlabel\":{\"align\":\"left\"},\"paper_bgcolor\":\"white\",\"plot_bgcolor\":\"#E5ECF6\",\"polar\":{\"bgcolor\":\"#E5ECF6\",\"angularaxis\":{\"gridcolor\":\"white\",\"linecolor\":\"white\",\"ticks\":\"\"},\"radialaxis\":{\"gridcolor\":\"white\",\"linecolor\":\"white\",\"ticks\":\"\"}},\"ternary\":{\"bgcolor\":\"#E5ECF6\",\"aaxis\":{\"gridcolor\":\"white\",\"linecolor\":\"white\",\"ticks\":\"\"},\"baxis\":{\"gridcolor\":\"white\",\"linecolor\":\"white\",\"ticks\":\"\"},\"caxis\":{\"gridcolor\":\"white\",\"linecolor\":\"white\",\"ticks\":\"\"}},\"coloraxis\":{\"colorbar\":{\"outlinewidth\":0,\"ticks\":\"\"}},\"colorscale\":{\"sequential\":[[0.0,\"#0d0887\"],[0.1111111111111111,\"#46039f\"],[0.2222222222222222,\"#7201a8\"],[0.3333333333333333,\"#9c179e\"],[0.4444444444444444,\"#bd3786\"],[0.5555555555555556,\"#d8576b\"],[0.6666666666666666,\"#ed7953\"],[0.7777777777777778,\"#fb9f3a\"],[0.8888888888888888,\"#fdca26\"],[1.0,\"#f0f921\"]],\"sequentialminus\":[[0.0,\"#0d0887\"],[0.1111111111111111,\"#46039f\"],[0.2222222222222222,\"#7201a8\"],[0.3333333333333333,\"#9c179e\"],[0.4444444444444444,\"#bd3786\"],[0.5555555555555556,\"#d8576b\"],[0.6666666666666666,\"#ed7953\"],[0.7777777777777778,\"#fb9f3a\"],[0.8888888888888888,\"#fdca26\"],[1.0,\"#f0f921\"]],\"diverging\":[[0,\"#8e0152\"],[0.1,\"#c51b7d\"],[0.2,\"#de77ae\"],[0.3,\"#f1b6da\"],[0.4,\"#fde0ef\"],[0.5,\"#f7f7f7\"],[0.6,\"#e6f5d0\"],[0.7,\"#b8e186\"],[0.8,\"#7fbc41\"],[0.9,\"#4d9221\"],[1,\"#276419\"]]},\"xaxis\":{\"gridcolor\":\"white\",\"linecolor\":\"white\",\"ticks\":\"\",\"title\":{\"standoff\":15},\"zerolinecolor\":\"white\",\"automargin\":true,\"zerolinewidth\":2},\"yaxis\":{\"gridcolor\":\"white\",\"linecolor\":\"white\",\"ticks\":\"\",\"title\":{\"standoff\":15},\"zerolinecolor\":\"white\",\"automargin\":true,\"zerolinewidth\":2},\"scene\":{\"xaxis\":{\"backgroundcolor\":\"#E5ECF6\",\"gridcolor\":\"white\",\"linecolor\":\"white\",\"showbackground\":true,\"ticks\":\"\",\"zerolinecolor\":\"white\",\"gridwidth\":2},\"yaxis\":{\"backgroundcolor\":\"#E5ECF6\",\"gridcolor\":\"white\",\"linecolor\":\"white\",\"showbackground\":true,\"ticks\":\"\",\"zerolinecolor\":\"white\",\"gridwidth\":2},\"zaxis\":{\"backgroundcolor\":\"#E5ECF6\",\"gridcolor\":\"white\",\"linecolor\":\"white\",\"showbackground\":true,\"ticks\":\"\",\"zerolinecolor\":\"white\",\"gridwidth\":2}},\"shapedefaults\":{\"line\":{\"color\":\"#2a3f5f\"}},\"annotationdefaults\":{\"arrowcolor\":\"#2a3f5f\",\"arrowhead\":0,\"arrowwidth\":1},\"geo\":{\"bgcolor\":\"white\",\"landcolor\":\"#E5ECF6\",\"subunitcolor\":\"white\",\"showland\":true,\"showlakes\":true,\"lakecolor\":\"white\"},\"title\":{\"x\":0.05},\"mapbox\":{\"style\":\"light\"}}},\"xaxis\":{\"anchor\":\"y\",\"domain\":[0.0,1.0],\"title\":{\"text\":\"Companies\"}},\"yaxis\":{\"anchor\":\"x\",\"domain\":[0.0,1.0],\"title\":{\"text\":\"Total Layoffs\"},\"range\":[0,12000.0]},\"legend\":{\"tracegroupgap\":0},\"margin\":{\"t\":60},\"barmode\":\"relative\",\"updatemenus\":[{\"buttons\":[{\"args\":[null,{\"frame\":{\"duration\":500,\"redraw\":true},\"mode\":\"immediate\",\"fromcurrent\":true,\"transition\":{\"duration\":500,\"easing\":\"linear\"}}],\"label\":\"&#9654;\",\"method\":\"animate\"},{\"args\":[[null],{\"frame\":{\"duration\":0,\"redraw\":true},\"mode\":\"immediate\",\"fromcurrent\":true,\"transition\":{\"duration\":0,\"easing\":\"linear\"}}],\"label\":\"&#9724;\",\"method\":\"animate\"}],\"direction\":\"left\",\"pad\":{\"r\":10,\"t\":70},\"showactive\":false,\"type\":\"buttons\",\"x\":0.1,\"xanchor\":\"right\",\"y\":0,\"yanchor\":\"top\"}],\"sliders\":[{\"active\":0,\"currentvalue\":{\"prefix\":\"year=\"},\"len\":0.9,\"pad\":{\"b\":10,\"t\":60},\"steps\":[{\"args\":[[\"2020\"],{\"frame\":{\"duration\":0,\"redraw\":true},\"mode\":\"immediate\",\"fromcurrent\":true,\"transition\":{\"duration\":0,\"easing\":\"linear\"}}],\"label\":\"2020\",\"method\":\"animate\"},{\"args\":[[\"2021\"],{\"frame\":{\"duration\":0,\"redraw\":true},\"mode\":\"immediate\",\"fromcurrent\":true,\"transition\":{\"duration\":0,\"easing\":\"linear\"}}],\"label\":\"2021\",\"method\":\"animate\"},{\"args\":[[\"2022\"],{\"frame\":{\"duration\":0,\"redraw\":true},\"mode\":\"immediate\",\"fromcurrent\":true,\"transition\":{\"duration\":0,\"easing\":\"linear\"}}],\"label\":\"2022\",\"method\":\"animate\"}],\"x\":0.1,\"xanchor\":\"left\",\"y\":0,\"yanchor\":\"top\"}]},                        {\"responsive\": true}                    ).then(function(){\n",
       "                            Plotly.addFrames('f69be0df-01dc-4a85-9c6e-84a974161775', [{\"data\":[{\"alignmentgroup\":\"True\",\"hovertemplate\":\"year=2020<br>Companies=%{x}<br>Total Layoffs=%{y}<extra></extra>\",\"legendgroup\":\"\",\"marker\":{\"color\":\"#636efa\",\"pattern\":{\"shape\":\"\"}},\"name\":\"\",\"offsetgroup\":\"\",\"orientation\":\"v\",\"showlegend\":false,\"textposition\":\"auto\",\"x\":[\"Uber\",\"Booking.com\",\"Groupon\",\"Swiggy\",\"Airbnb\",\"Agoda\",\"PaisaBazaar\",\"Stitch Fix\",\"Ola\",\"Toast\"],\"xaxis\":\"x\",\"y\":[7525.0,4375.0,2800.0,2250.0,1900.0,1500.0,1500.0,1400.0,1400.0,1300.0],\"yaxis\":\"y\",\"type\":\"bar\"}],\"name\":\"2020\"},{\"data\":[{\"alignmentgroup\":\"True\",\"hovertemplate\":\"year=2021<br>Companies=%{x}<br>Total Layoffs=%{y}<extra></extra>\",\"legendgroup\":\"\",\"marker\":{\"color\":\"#636efa\",\"pattern\":{\"shape\":\"\"}},\"name\":\"\",\"offsetgroup\":\"\",\"orientation\":\"v\",\"showlegend\":false,\"textposition\":\"auto\",\"x\":[\"Bytedance\",\"Katerra\",\"Zillow\",\"Instacart\",\"WhiteHat Jr\",\"Better.com\",\"Dropbox\",\"Delivery Hero\",\"ThredUp\",\"Bounce\"],\"xaxis\":\"x\",\"y\":[3600.0,2434.0,2000.0,1877.0,1800.0,900.0,315.0,300.0,243.0,200.0],\"yaxis\":\"y\",\"type\":\"bar\"}],\"name\":\"2021\"},{\"data\":[{\"alignmentgroup\":\"True\",\"hovertemplate\":\"year=2022<br>Companies=%{x}<br>Total Layoffs=%{y}<extra></extra>\",\"legendgroup\":\"\",\"marker\":{\"color\":\"#636efa\",\"pattern\":{\"shape\":\"\"}},\"name\":\"\",\"offsetgroup\":\"\",\"orientation\":\"v\",\"showlegend\":false,\"textposition\":\"auto\",\"x\":[\"Meta\",\"Amazon\",\"Cisco\",\"Peloton\",\"Carvana\",\"Twitter\",\"Better.com\",\"Byju's\",\"Gopuff\",\"Crypto.com\"],\"xaxis\":\"x\",\"y\":[11000.0,10000.0,4100.0,4084.0,4000.0,3700.0,3000.0,2500.0,2300.0,2260.0],\"yaxis\":\"y\",\"type\":\"bar\"}],\"name\":\"2022\"}]);\n",
       "                        }).then(function(){\n",
       "                            \n",
       "var gd = document.getElementById('f69be0df-01dc-4a85-9c6e-84a974161775');\n",
       "var x = new MutationObserver(function (mutations, observer) {{\n",
       "        var display = window.getComputedStyle(gd).display;\n",
       "        if (!display || display === 'none') {{\n",
       "            console.log([gd, 'removed!']);\n",
       "            Plotly.purge(gd);\n",
       "            observer.disconnect();\n",
       "        }}\n",
       "}});\n",
       "\n",
       "// Listen for the removal of the full notebook cells\n",
       "var notebookContainer = gd.closest('#notebook-container');\n",
       "if (notebookContainer) {{\n",
       "    x.observe(notebookContainer, {childList: true});\n",
       "}}\n",
       "\n",
       "// Listen for the clearing of the current output cell\n",
       "var outputEl = gd.closest('.output');\n",
       "if (outputEl) {{\n",
       "    x.observe(outputEl, {childList: true});\n",
       "}}\n",
       "\n",
       "                        })                };                });            </script>        </div>"
      ]
     },
     "metadata": {},
     "output_type": "display_data"
    }
   ],
   "source": [
    "## Generating an emty DF to concatenate subequent ones with\n",
    "companies_data = pd.DataFrame([])\n",
    "\n",
    "## For each year\n",
    "for year in [2020, 2021, 2022]:\n",
    "    \n",
    "    ## I'm grouping data by \"company\", summing up total count of layoffs, sorting the results in descending orfer,\n",
    "    ## limiting the output to only the first 10 rows and resetting index \n",
    "    new_data = pd.DataFrame(df[df['year'] == year].groupby(['company'])['laid_off_count'].sum()\\\n",
    "                            .sort_values(ascending = False)\\\n",
    "                            .head(10))\\\n",
    "                            .reset_index()\n",
    "    ## I'm adding the \"year\" column to the resulting df\n",
    "    new_data['year'] = year\n",
    "    \n",
    "    ## Concatenating \"companies_data\" and \"new_data\"\n",
    "    ## This should leave us with 10 rows per each of the 3 years [2020, 2021, 2022] -> 10 * 3 = 30 rows of data\n",
    "    companies_data = pd.concat([companies_data, new_data])\n",
    "\n",
    "companies_data.reset_index(drop = True, inplace = True)\n",
    "print(companies_data)\n",
    "    \n",
    "fig = px.bar(companies_data, \n",
    "             x = 'company', \n",
    "             y = 'laid_off_count',  \n",
    "             animation_frame = \"year\",\n",
    "             labels=dict(company = \"Companies\", laid_off_count = \"Total Layoffs\"))\n",
    "\n",
    "max_layoff = companies_data['laid_off_count'].max() + 1000\n",
    "\n",
    "fig.update_yaxes(range = [0, max_layoff])\n",
    "\n",
    "fig.show()"
   ]
  },
  {
   "cell_type": "markdown",
   "id": "56949478",
   "metadata": {
    "papermill": {
     "duration": 0.008751,
     "end_time": "2022-12-09T13:15:26.216578",
     "exception": false,
     "start_time": "2022-12-09T13:15:26.207827",
     "status": "completed"
    },
    "tags": []
   },
   "source": [
    "## Countries"
   ]
  },
  {
   "cell_type": "code",
   "execution_count": 10,
   "id": "525a2455",
   "metadata": {
    "execution": {
     "iopub.execute_input": "2022-12-09T13:15:26.237443Z",
     "iopub.status.busy": "2022-12-09T13:15:26.236716Z",
     "iopub.status.idle": "2022-12-09T13:15:26.345000Z",
     "shell.execute_reply": "2022-12-09T13:15:26.343550Z"
    },
    "papermill": {
     "duration": 0.123809,
     "end_time": "2022-12-09T13:15:26.349513",
     "exception": false,
     "start_time": "2022-12-09T13:15:26.225704",
     "status": "completed"
    },
    "tags": []
   },
   "outputs": [
    {
     "name": "stdout",
     "output_type": "stream",
     "text": [
      "                 country  laid_off_count  year\n",
      "0          United States         50355.0  2020\n",
      "1                  India         12932.0  2020\n",
      "2            Netherlands          4600.0  2020\n",
      "3                 Brazil          3341.0  2020\n",
      "4              Singapore          2361.0  2020\n",
      "5         United Kingdom          1858.0  2020\n",
      "6                 Canada          1211.0  2020\n",
      "7              Indonesia           880.0  2020\n",
      "8              Hong Kong           700.0  2020\n",
      "9   United Arab Emirates           536.0  2020\n",
      "10         United States          8670.0  2021\n",
      "11                 India          4080.0  2021\n",
      "12                 China          1800.0  2021\n",
      "13               Germany           387.0  2021\n",
      "14                Canada            45.0  2021\n",
      "15             Singapore            21.0  2021\n",
      "16        United Kingdom            20.0  2021\n",
      "17         United States        101364.0  2022\n",
      "18                 India         13974.0  2022\n",
      "19                Brazil          4496.0  2022\n",
      "20                Canada          3943.0  2022\n",
      "21             Singapore          3221.0  2022\n",
      "22               Germany          3195.0  2022\n",
      "23        United Kingdom          2877.0  2022\n",
      "24                 China          2630.0  2022\n",
      "25             Indonesia          2081.0  2022\n",
      "26                Israel          2034.0  2022\n"
     ]
    },
    {
     "data": {
      "text/html": [
       "<div>                            <div id=\"23e0bcf2-3fd1-4234-9d6d-7286ef209e6c\" class=\"plotly-graph-div\" style=\"height:525px; width:100%;\"></div>            <script type=\"text/javascript\">                require([\"plotly\"], function(Plotly) {                    window.PLOTLYENV=window.PLOTLYENV || {};                                    if (document.getElementById(\"23e0bcf2-3fd1-4234-9d6d-7286ef209e6c\")) {                    Plotly.newPlot(                        \"23e0bcf2-3fd1-4234-9d6d-7286ef209e6c\",                        [{\"alignmentgroup\":\"True\",\"hovertemplate\":\"year=2020<br>Countries=%{x}<br>Total Layoffs=%{y}<extra></extra>\",\"legendgroup\":\"\",\"marker\":{\"color\":\"#636efa\",\"pattern\":{\"shape\":\"\"}},\"name\":\"\",\"offsetgroup\":\"\",\"orientation\":\"v\",\"showlegend\":false,\"textposition\":\"auto\",\"x\":[\"United States\",\"India\",\"Netherlands\",\"Brazil\",\"Singapore\",\"United Kingdom\",\"Canada\",\"Indonesia\",\"Hong Kong\",\"United Arab Emirates\"],\"xaxis\":\"x\",\"y\":[50355.0,12932.0,4600.0,3341.0,2361.0,1858.0,1211.0,880.0,700.0,536.0],\"yaxis\":\"y\",\"type\":\"bar\"}],                        {\"template\":{\"data\":{\"histogram2dcontour\":[{\"type\":\"histogram2dcontour\",\"colorbar\":{\"outlinewidth\":0,\"ticks\":\"\"},\"colorscale\":[[0.0,\"#0d0887\"],[0.1111111111111111,\"#46039f\"],[0.2222222222222222,\"#7201a8\"],[0.3333333333333333,\"#9c179e\"],[0.4444444444444444,\"#bd3786\"],[0.5555555555555556,\"#d8576b\"],[0.6666666666666666,\"#ed7953\"],[0.7777777777777778,\"#fb9f3a\"],[0.8888888888888888,\"#fdca26\"],[1.0,\"#f0f921\"]]}],\"choropleth\":[{\"type\":\"choropleth\",\"colorbar\":{\"outlinewidth\":0,\"ticks\":\"\"}}],\"histogram2d\":[{\"type\":\"histogram2d\",\"colorbar\":{\"outlinewidth\":0,\"ticks\":\"\"},\"colorscale\":[[0.0,\"#0d0887\"],[0.1111111111111111,\"#46039f\"],[0.2222222222222222,\"#7201a8\"],[0.3333333333333333,\"#9c179e\"],[0.4444444444444444,\"#bd3786\"],[0.5555555555555556,\"#d8576b\"],[0.6666666666666666,\"#ed7953\"],[0.7777777777777778,\"#fb9f3a\"],[0.8888888888888888,\"#fdca26\"],[1.0,\"#f0f921\"]]}],\"heatmap\":[{\"type\":\"heatmap\",\"colorbar\":{\"outlinewidth\":0,\"ticks\":\"\"},\"colorscale\":[[0.0,\"#0d0887\"],[0.1111111111111111,\"#46039f\"],[0.2222222222222222,\"#7201a8\"],[0.3333333333333333,\"#9c179e\"],[0.4444444444444444,\"#bd3786\"],[0.5555555555555556,\"#d8576b\"],[0.6666666666666666,\"#ed7953\"],[0.7777777777777778,\"#fb9f3a\"],[0.8888888888888888,\"#fdca26\"],[1.0,\"#f0f921\"]]}],\"heatmapgl\":[{\"type\":\"heatmapgl\",\"colorbar\":{\"outlinewidth\":0,\"ticks\":\"\"},\"colorscale\":[[0.0,\"#0d0887\"],[0.1111111111111111,\"#46039f\"],[0.2222222222222222,\"#7201a8\"],[0.3333333333333333,\"#9c179e\"],[0.4444444444444444,\"#bd3786\"],[0.5555555555555556,\"#d8576b\"],[0.6666666666666666,\"#ed7953\"],[0.7777777777777778,\"#fb9f3a\"],[0.8888888888888888,\"#fdca26\"],[1.0,\"#f0f921\"]]}],\"contourcarpet\":[{\"type\":\"contourcarpet\",\"colorbar\":{\"outlinewidth\":0,\"ticks\":\"\"}}],\"contour\":[{\"type\":\"contour\",\"colorbar\":{\"outlinewidth\":0,\"ticks\":\"\"},\"colorscale\":[[0.0,\"#0d0887\"],[0.1111111111111111,\"#46039f\"],[0.2222222222222222,\"#7201a8\"],[0.3333333333333333,\"#9c179e\"],[0.4444444444444444,\"#bd3786\"],[0.5555555555555556,\"#d8576b\"],[0.6666666666666666,\"#ed7953\"],[0.7777777777777778,\"#fb9f3a\"],[0.8888888888888888,\"#fdca26\"],[1.0,\"#f0f921\"]]}],\"surface\":[{\"type\":\"surface\",\"colorbar\":{\"outlinewidth\":0,\"ticks\":\"\"},\"colorscale\":[[0.0,\"#0d0887\"],[0.1111111111111111,\"#46039f\"],[0.2222222222222222,\"#7201a8\"],[0.3333333333333333,\"#9c179e\"],[0.4444444444444444,\"#bd3786\"],[0.5555555555555556,\"#d8576b\"],[0.6666666666666666,\"#ed7953\"],[0.7777777777777778,\"#fb9f3a\"],[0.8888888888888888,\"#fdca26\"],[1.0,\"#f0f921\"]]}],\"mesh3d\":[{\"type\":\"mesh3d\",\"colorbar\":{\"outlinewidth\":0,\"ticks\":\"\"}}],\"scatter\":[{\"fillpattern\":{\"fillmode\":\"overlay\",\"size\":10,\"solidity\":0.2},\"type\":\"scatter\"}],\"parcoords\":[{\"type\":\"parcoords\",\"line\":{\"colorbar\":{\"outlinewidth\":0,\"ticks\":\"\"}}}],\"scatterpolargl\":[{\"type\":\"scatterpolargl\",\"marker\":{\"colorbar\":{\"outlinewidth\":0,\"ticks\":\"\"}}}],\"bar\":[{\"error_x\":{\"color\":\"#2a3f5f\"},\"error_y\":{\"color\":\"#2a3f5f\"},\"marker\":{\"line\":{\"color\":\"#E5ECF6\",\"width\":0.5},\"pattern\":{\"fillmode\":\"overlay\",\"size\":10,\"solidity\":0.2}},\"type\":\"bar\"}],\"scattergeo\":[{\"type\":\"scattergeo\",\"marker\":{\"colorbar\":{\"outlinewidth\":0,\"ticks\":\"\"}}}],\"scatterpolar\":[{\"type\":\"scatterpolar\",\"marker\":{\"colorbar\":{\"outlinewidth\":0,\"ticks\":\"\"}}}],\"histogram\":[{\"marker\":{\"pattern\":{\"fillmode\":\"overlay\",\"size\":10,\"solidity\":0.2}},\"type\":\"histogram\"}],\"scattergl\":[{\"type\":\"scattergl\",\"marker\":{\"colorbar\":{\"outlinewidth\":0,\"ticks\":\"\"}}}],\"scatter3d\":[{\"type\":\"scatter3d\",\"line\":{\"colorbar\":{\"outlinewidth\":0,\"ticks\":\"\"}},\"marker\":{\"colorbar\":{\"outlinewidth\":0,\"ticks\":\"\"}}}],\"scattermapbox\":[{\"type\":\"scattermapbox\",\"marker\":{\"colorbar\":{\"outlinewidth\":0,\"ticks\":\"\"}}}],\"scatterternary\":[{\"type\":\"scatterternary\",\"marker\":{\"colorbar\":{\"outlinewidth\":0,\"ticks\":\"\"}}}],\"scattercarpet\":[{\"type\":\"scattercarpet\",\"marker\":{\"colorbar\":{\"outlinewidth\":0,\"ticks\":\"\"}}}],\"carpet\":[{\"aaxis\":{\"endlinecolor\":\"#2a3f5f\",\"gridcolor\":\"white\",\"linecolor\":\"white\",\"minorgridcolor\":\"white\",\"startlinecolor\":\"#2a3f5f\"},\"baxis\":{\"endlinecolor\":\"#2a3f5f\",\"gridcolor\":\"white\",\"linecolor\":\"white\",\"minorgridcolor\":\"white\",\"startlinecolor\":\"#2a3f5f\"},\"type\":\"carpet\"}],\"table\":[{\"cells\":{\"fill\":{\"color\":\"#EBF0F8\"},\"line\":{\"color\":\"white\"}},\"header\":{\"fill\":{\"color\":\"#C8D4E3\"},\"line\":{\"color\":\"white\"}},\"type\":\"table\"}],\"barpolar\":[{\"marker\":{\"line\":{\"color\":\"#E5ECF6\",\"width\":0.5},\"pattern\":{\"fillmode\":\"overlay\",\"size\":10,\"solidity\":0.2}},\"type\":\"barpolar\"}],\"pie\":[{\"automargin\":true,\"type\":\"pie\"}]},\"layout\":{\"autotypenumbers\":\"strict\",\"colorway\":[\"#636efa\",\"#EF553B\",\"#00cc96\",\"#ab63fa\",\"#FFA15A\",\"#19d3f3\",\"#FF6692\",\"#B6E880\",\"#FF97FF\",\"#FECB52\"],\"font\":{\"color\":\"#2a3f5f\"},\"hovermode\":\"closest\",\"hoverlabel\":{\"align\":\"left\"},\"paper_bgcolor\":\"white\",\"plot_bgcolor\":\"#E5ECF6\",\"polar\":{\"bgcolor\":\"#E5ECF6\",\"angularaxis\":{\"gridcolor\":\"white\",\"linecolor\":\"white\",\"ticks\":\"\"},\"radialaxis\":{\"gridcolor\":\"white\",\"linecolor\":\"white\",\"ticks\":\"\"}},\"ternary\":{\"bgcolor\":\"#E5ECF6\",\"aaxis\":{\"gridcolor\":\"white\",\"linecolor\":\"white\",\"ticks\":\"\"},\"baxis\":{\"gridcolor\":\"white\",\"linecolor\":\"white\",\"ticks\":\"\"},\"caxis\":{\"gridcolor\":\"white\",\"linecolor\":\"white\",\"ticks\":\"\"}},\"coloraxis\":{\"colorbar\":{\"outlinewidth\":0,\"ticks\":\"\"}},\"colorscale\":{\"sequential\":[[0.0,\"#0d0887\"],[0.1111111111111111,\"#46039f\"],[0.2222222222222222,\"#7201a8\"],[0.3333333333333333,\"#9c179e\"],[0.4444444444444444,\"#bd3786\"],[0.5555555555555556,\"#d8576b\"],[0.6666666666666666,\"#ed7953\"],[0.7777777777777778,\"#fb9f3a\"],[0.8888888888888888,\"#fdca26\"],[1.0,\"#f0f921\"]],\"sequentialminus\":[[0.0,\"#0d0887\"],[0.1111111111111111,\"#46039f\"],[0.2222222222222222,\"#7201a8\"],[0.3333333333333333,\"#9c179e\"],[0.4444444444444444,\"#bd3786\"],[0.5555555555555556,\"#d8576b\"],[0.6666666666666666,\"#ed7953\"],[0.7777777777777778,\"#fb9f3a\"],[0.8888888888888888,\"#fdca26\"],[1.0,\"#f0f921\"]],\"diverging\":[[0,\"#8e0152\"],[0.1,\"#c51b7d\"],[0.2,\"#de77ae\"],[0.3,\"#f1b6da\"],[0.4,\"#fde0ef\"],[0.5,\"#f7f7f7\"],[0.6,\"#e6f5d0\"],[0.7,\"#b8e186\"],[0.8,\"#7fbc41\"],[0.9,\"#4d9221\"],[1,\"#276419\"]]},\"xaxis\":{\"gridcolor\":\"white\",\"linecolor\":\"white\",\"ticks\":\"\",\"title\":{\"standoff\":15},\"zerolinecolor\":\"white\",\"automargin\":true,\"zerolinewidth\":2},\"yaxis\":{\"gridcolor\":\"white\",\"linecolor\":\"white\",\"ticks\":\"\",\"title\":{\"standoff\":15},\"zerolinecolor\":\"white\",\"automargin\":true,\"zerolinewidth\":2},\"scene\":{\"xaxis\":{\"backgroundcolor\":\"#E5ECF6\",\"gridcolor\":\"white\",\"linecolor\":\"white\",\"showbackground\":true,\"ticks\":\"\",\"zerolinecolor\":\"white\",\"gridwidth\":2},\"yaxis\":{\"backgroundcolor\":\"#E5ECF6\",\"gridcolor\":\"white\",\"linecolor\":\"white\",\"showbackground\":true,\"ticks\":\"\",\"zerolinecolor\":\"white\",\"gridwidth\":2},\"zaxis\":{\"backgroundcolor\":\"#E5ECF6\",\"gridcolor\":\"white\",\"linecolor\":\"white\",\"showbackground\":true,\"ticks\":\"\",\"zerolinecolor\":\"white\",\"gridwidth\":2}},\"shapedefaults\":{\"line\":{\"color\":\"#2a3f5f\"}},\"annotationdefaults\":{\"arrowcolor\":\"#2a3f5f\",\"arrowhead\":0,\"arrowwidth\":1},\"geo\":{\"bgcolor\":\"white\",\"landcolor\":\"#E5ECF6\",\"subunitcolor\":\"white\",\"showland\":true,\"showlakes\":true,\"lakecolor\":\"white\"},\"title\":{\"x\":0.05},\"mapbox\":{\"style\":\"light\"}}},\"xaxis\":{\"anchor\":\"y\",\"domain\":[0.0,1.0],\"title\":{\"text\":\"Countries\"}},\"yaxis\":{\"anchor\":\"x\",\"domain\":[0.0,1.0],\"title\":{\"text\":\"Total Layoffs\"},\"range\":[0,102364.0]},\"legend\":{\"tracegroupgap\":0},\"margin\":{\"t\":60},\"barmode\":\"relative\",\"updatemenus\":[{\"buttons\":[{\"args\":[null,{\"frame\":{\"duration\":500,\"redraw\":true},\"mode\":\"immediate\",\"fromcurrent\":true,\"transition\":{\"duration\":500,\"easing\":\"linear\"}}],\"label\":\"&#9654;\",\"method\":\"animate\"},{\"args\":[[null],{\"frame\":{\"duration\":0,\"redraw\":true},\"mode\":\"immediate\",\"fromcurrent\":true,\"transition\":{\"duration\":0,\"easing\":\"linear\"}}],\"label\":\"&#9724;\",\"method\":\"animate\"}],\"direction\":\"left\",\"pad\":{\"r\":10,\"t\":70},\"showactive\":false,\"type\":\"buttons\",\"x\":0.1,\"xanchor\":\"right\",\"y\":0,\"yanchor\":\"top\"}],\"sliders\":[{\"active\":0,\"currentvalue\":{\"prefix\":\"year=\"},\"len\":0.9,\"pad\":{\"b\":10,\"t\":60},\"steps\":[{\"args\":[[\"2020\"],{\"frame\":{\"duration\":0,\"redraw\":true},\"mode\":\"immediate\",\"fromcurrent\":true,\"transition\":{\"duration\":0,\"easing\":\"linear\"}}],\"label\":\"2020\",\"method\":\"animate\"},{\"args\":[[\"2021\"],{\"frame\":{\"duration\":0,\"redraw\":true},\"mode\":\"immediate\",\"fromcurrent\":true,\"transition\":{\"duration\":0,\"easing\":\"linear\"}}],\"label\":\"2021\",\"method\":\"animate\"},{\"args\":[[\"2022\"],{\"frame\":{\"duration\":0,\"redraw\":true},\"mode\":\"immediate\",\"fromcurrent\":true,\"transition\":{\"duration\":0,\"easing\":\"linear\"}}],\"label\":\"2022\",\"method\":\"animate\"}],\"x\":0.1,\"xanchor\":\"left\",\"y\":0,\"yanchor\":\"top\"}]},                        {\"responsive\": true}                    ).then(function(){\n",
       "                            Plotly.addFrames('23e0bcf2-3fd1-4234-9d6d-7286ef209e6c', [{\"data\":[{\"alignmentgroup\":\"True\",\"hovertemplate\":\"year=2020<br>Countries=%{x}<br>Total Layoffs=%{y}<extra></extra>\",\"legendgroup\":\"\",\"marker\":{\"color\":\"#636efa\",\"pattern\":{\"shape\":\"\"}},\"name\":\"\",\"offsetgroup\":\"\",\"orientation\":\"v\",\"showlegend\":false,\"textposition\":\"auto\",\"x\":[\"United States\",\"India\",\"Netherlands\",\"Brazil\",\"Singapore\",\"United Kingdom\",\"Canada\",\"Indonesia\",\"Hong Kong\",\"United Arab Emirates\"],\"xaxis\":\"x\",\"y\":[50355.0,12932.0,4600.0,3341.0,2361.0,1858.0,1211.0,880.0,700.0,536.0],\"yaxis\":\"y\",\"type\":\"bar\"}],\"name\":\"2020\"},{\"data\":[{\"alignmentgroup\":\"True\",\"hovertemplate\":\"year=2021<br>Countries=%{x}<br>Total Layoffs=%{y}<extra></extra>\",\"legendgroup\":\"\",\"marker\":{\"color\":\"#636efa\",\"pattern\":{\"shape\":\"\"}},\"name\":\"\",\"offsetgroup\":\"\",\"orientation\":\"v\",\"showlegend\":false,\"textposition\":\"auto\",\"x\":[\"United States\",\"India\",\"China\",\"Germany\",\"Canada\",\"Singapore\",\"United Kingdom\"],\"xaxis\":\"x\",\"y\":[8670.0,4080.0,1800.0,387.0,45.0,21.0,20.0],\"yaxis\":\"y\",\"type\":\"bar\"}],\"name\":\"2021\"},{\"data\":[{\"alignmentgroup\":\"True\",\"hovertemplate\":\"year=2022<br>Countries=%{x}<br>Total Layoffs=%{y}<extra></extra>\",\"legendgroup\":\"\",\"marker\":{\"color\":\"#636efa\",\"pattern\":{\"shape\":\"\"}},\"name\":\"\",\"offsetgroup\":\"\",\"orientation\":\"v\",\"showlegend\":false,\"textposition\":\"auto\",\"x\":[\"United States\",\"India\",\"Brazil\",\"Canada\",\"Singapore\",\"Germany\",\"United Kingdom\",\"China\",\"Indonesia\",\"Israel\"],\"xaxis\":\"x\",\"y\":[101364.0,13974.0,4496.0,3943.0,3221.0,3195.0,2877.0,2630.0,2081.0,2034.0],\"yaxis\":\"y\",\"type\":\"bar\"}],\"name\":\"2022\"}]);\n",
       "                        }).then(function(){\n",
       "                            \n",
       "var gd = document.getElementById('23e0bcf2-3fd1-4234-9d6d-7286ef209e6c');\n",
       "var x = new MutationObserver(function (mutations, observer) {{\n",
       "        var display = window.getComputedStyle(gd).display;\n",
       "        if (!display || display === 'none') {{\n",
       "            console.log([gd, 'removed!']);\n",
       "            Plotly.purge(gd);\n",
       "            observer.disconnect();\n",
       "        }}\n",
       "}});\n",
       "\n",
       "// Listen for the removal of the full notebook cells\n",
       "var notebookContainer = gd.closest('#notebook-container');\n",
       "if (notebookContainer) {{\n",
       "    x.observe(notebookContainer, {childList: true});\n",
       "}}\n",
       "\n",
       "// Listen for the clearing of the current output cell\n",
       "var outputEl = gd.closest('.output');\n",
       "if (outputEl) {{\n",
       "    x.observe(outputEl, {childList: true});\n",
       "}}\n",
       "\n",
       "                        })                };                });            </script>        </div>"
      ]
     },
     "metadata": {},
     "output_type": "display_data"
    }
   ],
   "source": [
    "countries_data = pd.DataFrame([])\n",
    "\n",
    "for year in [2020, 2021, 2022]:\n",
    "    \n",
    "    new_data = pd.DataFrame(df[df['year'] == year].groupby(['country'])['laid_off_count'].sum()\\\n",
    "                            .sort_values(ascending = False)\\\n",
    "                            .head(10))\\\n",
    "                            .reset_index()\n",
    "    \n",
    "    new_data['year'] = year\n",
    "    \n",
    "    countries_data = pd.concat([countries_data, new_data])\n",
    "\n",
    "countries_data.reset_index(drop = True, inplace = True)\n",
    "print(countries_data)\n",
    "\n",
    "fig = px.bar(countries_data, \n",
    "             x = 'country', \n",
    "             y = 'laid_off_count',  \n",
    "             animation_frame = \"year\",\n",
    "             labels=dict(country = \"Countries\", laid_off_count = \"Total Layoffs\"))\n",
    "\n",
    "max_layoff = countries_data['laid_off_count'].max() + 1000\n",
    "\n",
    "fig.update_yaxes(range = [0, max_layoff])\n",
    "\n",
    "fig.show()\n",
    "\n",
    "## Here, we can really see how imperfect our dataset is. It is by no means a complete, representative overview\n",
    "## of layoffs - just have a look at how few layoffs in UK it has recorded"
   ]
  },
  {
   "cell_type": "markdown",
   "id": "e221f155",
   "metadata": {
    "papermill": {
     "duration": 0.009283,
     "end_time": "2022-12-09T13:15:26.369936",
     "exception": false,
     "start_time": "2022-12-09T13:15:26.360653",
     "status": "completed"
    },
    "tags": []
   },
   "source": [
    "## Industries"
   ]
  },
  {
   "cell_type": "code",
   "execution_count": 11,
   "id": "3b8042fc",
   "metadata": {
    "execution": {
     "iopub.execute_input": "2022-12-09T13:15:26.391769Z",
     "iopub.status.busy": "2022-12-09T13:15:26.390972Z",
     "iopub.status.idle": "2022-12-09T13:15:26.488069Z",
     "shell.execute_reply": "2022-12-09T13:15:26.486809Z"
    },
    "papermill": {
     "duration": 0.11064,
     "end_time": "2022-12-09T13:15:26.490556",
     "exception": false,
     "start_time": "2022-12-09T13:15:26.379916",
     "status": "completed"
    },
    "tags": []
   },
   "outputs": [
    {
     "name": "stdout",
     "output_type": "stream",
     "text": [
      "          industry  laid_off_count  year\n",
      "0   Transportation         14656.0  2020\n",
      "1           Travel         13983.0  2020\n",
      "2          Finance          8624.0  2020\n",
      "3           Retail          8002.0  2020\n",
      "4             Food          6218.0  2020\n",
      "5         Consumer          6063.0  2020\n",
      "6      Real Estate          3699.0  2020\n",
      "7          Fitness          3142.0  2020\n",
      "8        Marketing          2958.0  2020\n",
      "9       Recruiting          2382.0  2020\n",
      "10        Consumer          3600.0  2021\n",
      "11     Real Estate          2900.0  2021\n",
      "12            Food          2644.0  2021\n",
      "13    Construction          2434.0  2021\n",
      "14       Education          1943.0  2021\n",
      "15           Other           515.0  2021\n",
      "16          Retail           288.0  2021\n",
      "17  Transportation           200.0  2021\n",
      "18  Infrastructure           160.0  2021\n",
      "19            Data            90.0  2021\n",
      "20          Retail         19281.0  2022\n",
      "21        Consumer         18931.0  2022\n",
      "22  Transportation         14156.0  2022\n",
      "23         Finance         12116.0  2022\n",
      "24      Healthcare         10775.0  2022\n",
      "25            Food         10544.0  2022\n",
      "26     Real Estate          9735.0  2022\n",
      "27       Education          8115.0  2022\n",
      "28          Crypto          7969.0  2022\n",
      "29         Fitness          5546.0  2022\n"
     ]
    },
    {
     "data": {
      "text/html": [
       "<div>                            <div id=\"4565089e-6b36-4705-bebb-36e313efed5c\" class=\"plotly-graph-div\" style=\"height:525px; width:100%;\"></div>            <script type=\"text/javascript\">                require([\"plotly\"], function(Plotly) {                    window.PLOTLYENV=window.PLOTLYENV || {};                                    if (document.getElementById(\"4565089e-6b36-4705-bebb-36e313efed5c\")) {                    Plotly.newPlot(                        \"4565089e-6b36-4705-bebb-36e313efed5c\",                        [{\"alignmentgroup\":\"True\",\"hovertemplate\":\"year=2020<br>Industry=%{x}<br>Total Layoffs=%{y}<extra></extra>\",\"legendgroup\":\"\",\"marker\":{\"color\":\"#636efa\",\"pattern\":{\"shape\":\"\"}},\"name\":\"\",\"offsetgroup\":\"\",\"orientation\":\"v\",\"showlegend\":false,\"textposition\":\"auto\",\"x\":[\"Transportation\",\"Travel\",\"Finance\",\"Retail\",\"Food\",\"Consumer\",\"Real Estate\",\"Fitness\",\"Marketing\",\"Recruiting\"],\"xaxis\":\"x\",\"y\":[14656.0,13983.0,8624.0,8002.0,6218.0,6063.0,3699.0,3142.0,2958.0,2382.0],\"yaxis\":\"y\",\"type\":\"bar\"}],                        {\"template\":{\"data\":{\"histogram2dcontour\":[{\"type\":\"histogram2dcontour\",\"colorbar\":{\"outlinewidth\":0,\"ticks\":\"\"},\"colorscale\":[[0.0,\"#0d0887\"],[0.1111111111111111,\"#46039f\"],[0.2222222222222222,\"#7201a8\"],[0.3333333333333333,\"#9c179e\"],[0.4444444444444444,\"#bd3786\"],[0.5555555555555556,\"#d8576b\"],[0.6666666666666666,\"#ed7953\"],[0.7777777777777778,\"#fb9f3a\"],[0.8888888888888888,\"#fdca26\"],[1.0,\"#f0f921\"]]}],\"choropleth\":[{\"type\":\"choropleth\",\"colorbar\":{\"outlinewidth\":0,\"ticks\":\"\"}}],\"histogram2d\":[{\"type\":\"histogram2d\",\"colorbar\":{\"outlinewidth\":0,\"ticks\":\"\"},\"colorscale\":[[0.0,\"#0d0887\"],[0.1111111111111111,\"#46039f\"],[0.2222222222222222,\"#7201a8\"],[0.3333333333333333,\"#9c179e\"],[0.4444444444444444,\"#bd3786\"],[0.5555555555555556,\"#d8576b\"],[0.6666666666666666,\"#ed7953\"],[0.7777777777777778,\"#fb9f3a\"],[0.8888888888888888,\"#fdca26\"],[1.0,\"#f0f921\"]]}],\"heatmap\":[{\"type\":\"heatmap\",\"colorbar\":{\"outlinewidth\":0,\"ticks\":\"\"},\"colorscale\":[[0.0,\"#0d0887\"],[0.1111111111111111,\"#46039f\"],[0.2222222222222222,\"#7201a8\"],[0.3333333333333333,\"#9c179e\"],[0.4444444444444444,\"#bd3786\"],[0.5555555555555556,\"#d8576b\"],[0.6666666666666666,\"#ed7953\"],[0.7777777777777778,\"#fb9f3a\"],[0.8888888888888888,\"#fdca26\"],[1.0,\"#f0f921\"]]}],\"heatmapgl\":[{\"type\":\"heatmapgl\",\"colorbar\":{\"outlinewidth\":0,\"ticks\":\"\"},\"colorscale\":[[0.0,\"#0d0887\"],[0.1111111111111111,\"#46039f\"],[0.2222222222222222,\"#7201a8\"],[0.3333333333333333,\"#9c179e\"],[0.4444444444444444,\"#bd3786\"],[0.5555555555555556,\"#d8576b\"],[0.6666666666666666,\"#ed7953\"],[0.7777777777777778,\"#fb9f3a\"],[0.8888888888888888,\"#fdca26\"],[1.0,\"#f0f921\"]]}],\"contourcarpet\":[{\"type\":\"contourcarpet\",\"colorbar\":{\"outlinewidth\":0,\"ticks\":\"\"}}],\"contour\":[{\"type\":\"contour\",\"colorbar\":{\"outlinewidth\":0,\"ticks\":\"\"},\"colorscale\":[[0.0,\"#0d0887\"],[0.1111111111111111,\"#46039f\"],[0.2222222222222222,\"#7201a8\"],[0.3333333333333333,\"#9c179e\"],[0.4444444444444444,\"#bd3786\"],[0.5555555555555556,\"#d8576b\"],[0.6666666666666666,\"#ed7953\"],[0.7777777777777778,\"#fb9f3a\"],[0.8888888888888888,\"#fdca26\"],[1.0,\"#f0f921\"]]}],\"surface\":[{\"type\":\"surface\",\"colorbar\":{\"outlinewidth\":0,\"ticks\":\"\"},\"colorscale\":[[0.0,\"#0d0887\"],[0.1111111111111111,\"#46039f\"],[0.2222222222222222,\"#7201a8\"],[0.3333333333333333,\"#9c179e\"],[0.4444444444444444,\"#bd3786\"],[0.5555555555555556,\"#d8576b\"],[0.6666666666666666,\"#ed7953\"],[0.7777777777777778,\"#fb9f3a\"],[0.8888888888888888,\"#fdca26\"],[1.0,\"#f0f921\"]]}],\"mesh3d\":[{\"type\":\"mesh3d\",\"colorbar\":{\"outlinewidth\":0,\"ticks\":\"\"}}],\"scatter\":[{\"fillpattern\":{\"fillmode\":\"overlay\",\"size\":10,\"solidity\":0.2},\"type\":\"scatter\"}],\"parcoords\":[{\"type\":\"parcoords\",\"line\":{\"colorbar\":{\"outlinewidth\":0,\"ticks\":\"\"}}}],\"scatterpolargl\":[{\"type\":\"scatterpolargl\",\"marker\":{\"colorbar\":{\"outlinewidth\":0,\"ticks\":\"\"}}}],\"bar\":[{\"error_x\":{\"color\":\"#2a3f5f\"},\"error_y\":{\"color\":\"#2a3f5f\"},\"marker\":{\"line\":{\"color\":\"#E5ECF6\",\"width\":0.5},\"pattern\":{\"fillmode\":\"overlay\",\"size\":10,\"solidity\":0.2}},\"type\":\"bar\"}],\"scattergeo\":[{\"type\":\"scattergeo\",\"marker\":{\"colorbar\":{\"outlinewidth\":0,\"ticks\":\"\"}}}],\"scatterpolar\":[{\"type\":\"scatterpolar\",\"marker\":{\"colorbar\":{\"outlinewidth\":0,\"ticks\":\"\"}}}],\"histogram\":[{\"marker\":{\"pattern\":{\"fillmode\":\"overlay\",\"size\":10,\"solidity\":0.2}},\"type\":\"histogram\"}],\"scattergl\":[{\"type\":\"scattergl\",\"marker\":{\"colorbar\":{\"outlinewidth\":0,\"ticks\":\"\"}}}],\"scatter3d\":[{\"type\":\"scatter3d\",\"line\":{\"colorbar\":{\"outlinewidth\":0,\"ticks\":\"\"}},\"marker\":{\"colorbar\":{\"outlinewidth\":0,\"ticks\":\"\"}}}],\"scattermapbox\":[{\"type\":\"scattermapbox\",\"marker\":{\"colorbar\":{\"outlinewidth\":0,\"ticks\":\"\"}}}],\"scatterternary\":[{\"type\":\"scatterternary\",\"marker\":{\"colorbar\":{\"outlinewidth\":0,\"ticks\":\"\"}}}],\"scattercarpet\":[{\"type\":\"scattercarpet\",\"marker\":{\"colorbar\":{\"outlinewidth\":0,\"ticks\":\"\"}}}],\"carpet\":[{\"aaxis\":{\"endlinecolor\":\"#2a3f5f\",\"gridcolor\":\"white\",\"linecolor\":\"white\",\"minorgridcolor\":\"white\",\"startlinecolor\":\"#2a3f5f\"},\"baxis\":{\"endlinecolor\":\"#2a3f5f\",\"gridcolor\":\"white\",\"linecolor\":\"white\",\"minorgridcolor\":\"white\",\"startlinecolor\":\"#2a3f5f\"},\"type\":\"carpet\"}],\"table\":[{\"cells\":{\"fill\":{\"color\":\"#EBF0F8\"},\"line\":{\"color\":\"white\"}},\"header\":{\"fill\":{\"color\":\"#C8D4E3\"},\"line\":{\"color\":\"white\"}},\"type\":\"table\"}],\"barpolar\":[{\"marker\":{\"line\":{\"color\":\"#E5ECF6\",\"width\":0.5},\"pattern\":{\"fillmode\":\"overlay\",\"size\":10,\"solidity\":0.2}},\"type\":\"barpolar\"}],\"pie\":[{\"automargin\":true,\"type\":\"pie\"}]},\"layout\":{\"autotypenumbers\":\"strict\",\"colorway\":[\"#636efa\",\"#EF553B\",\"#00cc96\",\"#ab63fa\",\"#FFA15A\",\"#19d3f3\",\"#FF6692\",\"#B6E880\",\"#FF97FF\",\"#FECB52\"],\"font\":{\"color\":\"#2a3f5f\"},\"hovermode\":\"closest\",\"hoverlabel\":{\"align\":\"left\"},\"paper_bgcolor\":\"white\",\"plot_bgcolor\":\"#E5ECF6\",\"polar\":{\"bgcolor\":\"#E5ECF6\",\"angularaxis\":{\"gridcolor\":\"white\",\"linecolor\":\"white\",\"ticks\":\"\"},\"radialaxis\":{\"gridcolor\":\"white\",\"linecolor\":\"white\",\"ticks\":\"\"}},\"ternary\":{\"bgcolor\":\"#E5ECF6\",\"aaxis\":{\"gridcolor\":\"white\",\"linecolor\":\"white\",\"ticks\":\"\"},\"baxis\":{\"gridcolor\":\"white\",\"linecolor\":\"white\",\"ticks\":\"\"},\"caxis\":{\"gridcolor\":\"white\",\"linecolor\":\"white\",\"ticks\":\"\"}},\"coloraxis\":{\"colorbar\":{\"outlinewidth\":0,\"ticks\":\"\"}},\"colorscale\":{\"sequential\":[[0.0,\"#0d0887\"],[0.1111111111111111,\"#46039f\"],[0.2222222222222222,\"#7201a8\"],[0.3333333333333333,\"#9c179e\"],[0.4444444444444444,\"#bd3786\"],[0.5555555555555556,\"#d8576b\"],[0.6666666666666666,\"#ed7953\"],[0.7777777777777778,\"#fb9f3a\"],[0.8888888888888888,\"#fdca26\"],[1.0,\"#f0f921\"]],\"sequentialminus\":[[0.0,\"#0d0887\"],[0.1111111111111111,\"#46039f\"],[0.2222222222222222,\"#7201a8\"],[0.3333333333333333,\"#9c179e\"],[0.4444444444444444,\"#bd3786\"],[0.5555555555555556,\"#d8576b\"],[0.6666666666666666,\"#ed7953\"],[0.7777777777777778,\"#fb9f3a\"],[0.8888888888888888,\"#fdca26\"],[1.0,\"#f0f921\"]],\"diverging\":[[0,\"#8e0152\"],[0.1,\"#c51b7d\"],[0.2,\"#de77ae\"],[0.3,\"#f1b6da\"],[0.4,\"#fde0ef\"],[0.5,\"#f7f7f7\"],[0.6,\"#e6f5d0\"],[0.7,\"#b8e186\"],[0.8,\"#7fbc41\"],[0.9,\"#4d9221\"],[1,\"#276419\"]]},\"xaxis\":{\"gridcolor\":\"white\",\"linecolor\":\"white\",\"ticks\":\"\",\"title\":{\"standoff\":15},\"zerolinecolor\":\"white\",\"automargin\":true,\"zerolinewidth\":2},\"yaxis\":{\"gridcolor\":\"white\",\"linecolor\":\"white\",\"ticks\":\"\",\"title\":{\"standoff\":15},\"zerolinecolor\":\"white\",\"automargin\":true,\"zerolinewidth\":2},\"scene\":{\"xaxis\":{\"backgroundcolor\":\"#E5ECF6\",\"gridcolor\":\"white\",\"linecolor\":\"white\",\"showbackground\":true,\"ticks\":\"\",\"zerolinecolor\":\"white\",\"gridwidth\":2},\"yaxis\":{\"backgroundcolor\":\"#E5ECF6\",\"gridcolor\":\"white\",\"linecolor\":\"white\",\"showbackground\":true,\"ticks\":\"\",\"zerolinecolor\":\"white\",\"gridwidth\":2},\"zaxis\":{\"backgroundcolor\":\"#E5ECF6\",\"gridcolor\":\"white\",\"linecolor\":\"white\",\"showbackground\":true,\"ticks\":\"\",\"zerolinecolor\":\"white\",\"gridwidth\":2}},\"shapedefaults\":{\"line\":{\"color\":\"#2a3f5f\"}},\"annotationdefaults\":{\"arrowcolor\":\"#2a3f5f\",\"arrowhead\":0,\"arrowwidth\":1},\"geo\":{\"bgcolor\":\"white\",\"landcolor\":\"#E5ECF6\",\"subunitcolor\":\"white\",\"showland\":true,\"showlakes\":true,\"lakecolor\":\"white\"},\"title\":{\"x\":0.05},\"mapbox\":{\"style\":\"light\"}}},\"xaxis\":{\"anchor\":\"y\",\"domain\":[0.0,1.0],\"title\":{\"text\":\"Industry\"}},\"yaxis\":{\"anchor\":\"x\",\"domain\":[0.0,1.0],\"title\":{\"text\":\"Total Layoffs\"},\"range\":[0,20281.0]},\"legend\":{\"tracegroupgap\":0},\"margin\":{\"t\":60},\"barmode\":\"relative\",\"updatemenus\":[{\"buttons\":[{\"args\":[null,{\"frame\":{\"duration\":500,\"redraw\":true},\"mode\":\"immediate\",\"fromcurrent\":true,\"transition\":{\"duration\":500,\"easing\":\"linear\"}}],\"label\":\"&#9654;\",\"method\":\"animate\"},{\"args\":[[null],{\"frame\":{\"duration\":0,\"redraw\":true},\"mode\":\"immediate\",\"fromcurrent\":true,\"transition\":{\"duration\":0,\"easing\":\"linear\"}}],\"label\":\"&#9724;\",\"method\":\"animate\"}],\"direction\":\"left\",\"pad\":{\"r\":10,\"t\":70},\"showactive\":false,\"type\":\"buttons\",\"x\":0.1,\"xanchor\":\"right\",\"y\":0,\"yanchor\":\"top\"}],\"sliders\":[{\"active\":0,\"currentvalue\":{\"prefix\":\"year=\"},\"len\":0.9,\"pad\":{\"b\":10,\"t\":60},\"steps\":[{\"args\":[[\"2020\"],{\"frame\":{\"duration\":0,\"redraw\":true},\"mode\":\"immediate\",\"fromcurrent\":true,\"transition\":{\"duration\":0,\"easing\":\"linear\"}}],\"label\":\"2020\",\"method\":\"animate\"},{\"args\":[[\"2021\"],{\"frame\":{\"duration\":0,\"redraw\":true},\"mode\":\"immediate\",\"fromcurrent\":true,\"transition\":{\"duration\":0,\"easing\":\"linear\"}}],\"label\":\"2021\",\"method\":\"animate\"},{\"args\":[[\"2022\"],{\"frame\":{\"duration\":0,\"redraw\":true},\"mode\":\"immediate\",\"fromcurrent\":true,\"transition\":{\"duration\":0,\"easing\":\"linear\"}}],\"label\":\"2022\",\"method\":\"animate\"}],\"x\":0.1,\"xanchor\":\"left\",\"y\":0,\"yanchor\":\"top\"}]},                        {\"responsive\": true}                    ).then(function(){\n",
       "                            Plotly.addFrames('4565089e-6b36-4705-bebb-36e313efed5c', [{\"data\":[{\"alignmentgroup\":\"True\",\"hovertemplate\":\"year=2020<br>Industry=%{x}<br>Total Layoffs=%{y}<extra></extra>\",\"legendgroup\":\"\",\"marker\":{\"color\":\"#636efa\",\"pattern\":{\"shape\":\"\"}},\"name\":\"\",\"offsetgroup\":\"\",\"orientation\":\"v\",\"showlegend\":false,\"textposition\":\"auto\",\"x\":[\"Transportation\",\"Travel\",\"Finance\",\"Retail\",\"Food\",\"Consumer\",\"Real Estate\",\"Fitness\",\"Marketing\",\"Recruiting\"],\"xaxis\":\"x\",\"y\":[14656.0,13983.0,8624.0,8002.0,6218.0,6063.0,3699.0,3142.0,2958.0,2382.0],\"yaxis\":\"y\",\"type\":\"bar\"}],\"name\":\"2020\"},{\"data\":[{\"alignmentgroup\":\"True\",\"hovertemplate\":\"year=2021<br>Industry=%{x}<br>Total Layoffs=%{y}<extra></extra>\",\"legendgroup\":\"\",\"marker\":{\"color\":\"#636efa\",\"pattern\":{\"shape\":\"\"}},\"name\":\"\",\"offsetgroup\":\"\",\"orientation\":\"v\",\"showlegend\":false,\"textposition\":\"auto\",\"x\":[\"Consumer\",\"Real Estate\",\"Food\",\"Construction\",\"Education\",\"Other\",\"Retail\",\"Transportation\",\"Infrastructure\",\"Data\"],\"xaxis\":\"x\",\"y\":[3600.0,2900.0,2644.0,2434.0,1943.0,515.0,288.0,200.0,160.0,90.0],\"yaxis\":\"y\",\"type\":\"bar\"}],\"name\":\"2021\"},{\"data\":[{\"alignmentgroup\":\"True\",\"hovertemplate\":\"year=2022<br>Industry=%{x}<br>Total Layoffs=%{y}<extra></extra>\",\"legendgroup\":\"\",\"marker\":{\"color\":\"#636efa\",\"pattern\":{\"shape\":\"\"}},\"name\":\"\",\"offsetgroup\":\"\",\"orientation\":\"v\",\"showlegend\":false,\"textposition\":\"auto\",\"x\":[\"Retail\",\"Consumer\",\"Transportation\",\"Finance\",\"Healthcare\",\"Food\",\"Real Estate\",\"Education\",\"Crypto\",\"Fitness\"],\"xaxis\":\"x\",\"y\":[19281.0,18931.0,14156.0,12116.0,10775.0,10544.0,9735.0,8115.0,7969.0,5546.0],\"yaxis\":\"y\",\"type\":\"bar\"}],\"name\":\"2022\"}]);\n",
       "                        }).then(function(){\n",
       "                            \n",
       "var gd = document.getElementById('4565089e-6b36-4705-bebb-36e313efed5c');\n",
       "var x = new MutationObserver(function (mutations, observer) {{\n",
       "        var display = window.getComputedStyle(gd).display;\n",
       "        if (!display || display === 'none') {{\n",
       "            console.log([gd, 'removed!']);\n",
       "            Plotly.purge(gd);\n",
       "            observer.disconnect();\n",
       "        }}\n",
       "}});\n",
       "\n",
       "// Listen for the removal of the full notebook cells\n",
       "var notebookContainer = gd.closest('#notebook-container');\n",
       "if (notebookContainer) {{\n",
       "    x.observe(notebookContainer, {childList: true});\n",
       "}}\n",
       "\n",
       "// Listen for the clearing of the current output cell\n",
       "var outputEl = gd.closest('.output');\n",
       "if (outputEl) {{\n",
       "    x.observe(outputEl, {childList: true});\n",
       "}}\n",
       "\n",
       "                        })                };                });            </script>        </div>"
      ]
     },
     "metadata": {},
     "output_type": "display_data"
    }
   ],
   "source": [
    "industries_data = pd.DataFrame([])\n",
    "\n",
    "for year in [2020, 2021, 2022]:\n",
    "    \n",
    "    new_data = pd.DataFrame(df[df['year'] == year].groupby(['industry'])['laid_off_count'].sum()\\\n",
    "                            .sort_values(ascending = False)\\\n",
    "                            .head(10))\\\n",
    "                            .reset_index()\n",
    "    \n",
    "    new_data['year'] = year\n",
    "    \n",
    "    industries_data = pd.concat([industries_data, new_data])\n",
    "\n",
    "industries_data.reset_index(drop = True, inplace = True)\n",
    "print(industries_data)    \n",
    "\n",
    "fig = px.bar(industries_data, \n",
    "             x = 'industry', \n",
    "             y = 'laid_off_count',  \n",
    "             animation_frame = \"year\",\n",
    "             labels=dict(industry = \"Industry\", laid_off_count = \"Total Layoffs\"))\n",
    "\n",
    "max_layoff = industries_data['laid_off_count'].max() + 1000\n",
    "\n",
    "fig.update_yaxes(range = [0, max_layoff])\n",
    "\n",
    "fig.show()"
   ]
  },
  {
   "cell_type": "markdown",
   "id": "7d5169f1",
   "metadata": {
    "papermill": {
     "duration": 0.009598,
     "end_time": "2022-12-09T13:15:26.510168",
     "exception": false,
     "start_time": "2022-12-09T13:15:26.500570",
     "status": "completed"
    },
    "tags": []
   },
   "source": [
    "## CITIES MAP :)\n",
    "\n",
    "Now, let's add another dataset to be able to plot cities on a map!"
   ]
  },
  {
   "cell_type": "code",
   "execution_count": 12,
   "id": "e74ae4ab",
   "metadata": {
    "execution": {
     "iopub.execute_input": "2022-12-09T13:15:26.531497Z",
     "iopub.status.busy": "2022-12-09T13:15:26.531060Z",
     "iopub.status.idle": "2022-12-09T13:15:26.723945Z",
     "shell.execute_reply": "2022-12-09T13:15:26.722510Z"
    },
    "papermill": {
     "duration": 0.206439,
     "end_time": "2022-12-09T13:15:26.726338",
     "exception": false,
     "start_time": "2022-12-09T13:15:26.519899",
     "status": "completed"
    },
    "tags": []
   },
   "outputs": [
    {
     "data": {
      "text/html": [
       "<div>\n",
       "<style scoped>\n",
       "    .dataframe tbody tr th:only-of-type {\n",
       "        vertical-align: middle;\n",
       "    }\n",
       "\n",
       "    .dataframe tbody tr th {\n",
       "        vertical-align: top;\n",
       "    }\n",
       "\n",
       "    .dataframe thead th {\n",
       "        text-align: right;\n",
       "    }\n",
       "</style>\n",
       "<table border=\"1\" class=\"dataframe\">\n",
       "  <thead>\n",
       "    <tr style=\"text-align: right;\">\n",
       "      <th></th>\n",
       "      <th>city</th>\n",
       "      <th>city_ascii</th>\n",
       "      <th>lat</th>\n",
       "      <th>lng</th>\n",
       "      <th>country</th>\n",
       "      <th>iso2</th>\n",
       "      <th>iso3</th>\n",
       "      <th>admin_name</th>\n",
       "      <th>capital</th>\n",
       "      <th>population</th>\n",
       "      <th>id</th>\n",
       "    </tr>\n",
       "  </thead>\n",
       "  <tbody>\n",
       "    <tr>\n",
       "      <th>0</th>\n",
       "      <td>Tokyo</td>\n",
       "      <td>Tokyo</td>\n",
       "      <td>35.6839</td>\n",
       "      <td>139.7744</td>\n",
       "      <td>Japan</td>\n",
       "      <td>JP</td>\n",
       "      <td>JPN</td>\n",
       "      <td>Tōkyō</td>\n",
       "      <td>primary</td>\n",
       "      <td>39105000.0</td>\n",
       "      <td>1392685764</td>\n",
       "    </tr>\n",
       "    <tr>\n",
       "      <th>1</th>\n",
       "      <td>Jakarta</td>\n",
       "      <td>Jakarta</td>\n",
       "      <td>-6.2146</td>\n",
       "      <td>106.8451</td>\n",
       "      <td>Indonesia</td>\n",
       "      <td>ID</td>\n",
       "      <td>IDN</td>\n",
       "      <td>Jakarta</td>\n",
       "      <td>primary</td>\n",
       "      <td>35362000.0</td>\n",
       "      <td>1360771077</td>\n",
       "    </tr>\n",
       "    <tr>\n",
       "      <th>2</th>\n",
       "      <td>Delhi</td>\n",
       "      <td>Delhi</td>\n",
       "      <td>28.6667</td>\n",
       "      <td>77.2167</td>\n",
       "      <td>India</td>\n",
       "      <td>IN</td>\n",
       "      <td>IND</td>\n",
       "      <td>Delhi</td>\n",
       "      <td>admin</td>\n",
       "      <td>31870000.0</td>\n",
       "      <td>1356872604</td>\n",
       "    </tr>\n",
       "    <tr>\n",
       "      <th>3</th>\n",
       "      <td>Manila</td>\n",
       "      <td>Manila</td>\n",
       "      <td>14.6000</td>\n",
       "      <td>120.9833</td>\n",
       "      <td>Philippines</td>\n",
       "      <td>PH</td>\n",
       "      <td>PHL</td>\n",
       "      <td>Manila</td>\n",
       "      <td>primary</td>\n",
       "      <td>23971000.0</td>\n",
       "      <td>1608618140</td>\n",
       "    </tr>\n",
       "    <tr>\n",
       "      <th>4</th>\n",
       "      <td>São Paulo</td>\n",
       "      <td>Sao Paulo</td>\n",
       "      <td>-23.5504</td>\n",
       "      <td>-46.6339</td>\n",
       "      <td>Brazil</td>\n",
       "      <td>BR</td>\n",
       "      <td>BRA</td>\n",
       "      <td>São Paulo</td>\n",
       "      <td>admin</td>\n",
       "      <td>22495000.0</td>\n",
       "      <td>1076532519</td>\n",
       "    </tr>\n",
       "  </tbody>\n",
       "</table>\n",
       "</div>"
      ],
      "text/plain": [
       "        city city_ascii      lat       lng      country iso2 iso3 admin_name  \\\n",
       "0      Tokyo      Tokyo  35.6839  139.7744        Japan   JP  JPN      Tōkyō   \n",
       "1    Jakarta    Jakarta  -6.2146  106.8451    Indonesia   ID  IDN    Jakarta   \n",
       "2      Delhi      Delhi  28.6667   77.2167        India   IN  IND      Delhi   \n",
       "3     Manila     Manila  14.6000  120.9833  Philippines   PH  PHL     Manila   \n",
       "4  São Paulo  Sao Paulo -23.5504  -46.6339       Brazil   BR  BRA  São Paulo   \n",
       "\n",
       "   capital  population          id  \n",
       "0  primary  39105000.0  1392685764  \n",
       "1  primary  35362000.0  1360771077  \n",
       "2    admin  31870000.0  1356872604  \n",
       "3  primary  23971000.0  1608618140  \n",
       "4    admin  22495000.0  1076532519  "
      ]
     },
     "execution_count": 12,
     "metadata": {},
     "output_type": "execute_result"
    }
   ],
   "source": [
    "cities_df = pd.read_csv('/kaggle/input/world-cities-database-free-basic/worldcities.csv')\n",
    "\n",
    "cities_df.head() ## I'm interested in joing the two dataframes on \"city_ascii\" = \"city\" and \"country\" columns"
   ]
  },
  {
   "cell_type": "code",
   "execution_count": 13,
   "id": "e5d5a054",
   "metadata": {
    "execution": {
     "iopub.execute_input": "2022-12-09T13:15:26.748566Z",
     "iopub.status.busy": "2022-12-09T13:15:26.748150Z",
     "iopub.status.idle": "2022-12-09T13:15:26.758206Z",
     "shell.execute_reply": "2022-12-09T13:15:26.756633Z"
    },
    "papermill": {
     "duration": 0.023897,
     "end_time": "2022-12-09T13:15:26.760790",
     "exception": false,
     "start_time": "2022-12-09T13:15:26.736893",
     "status": "completed"
    },
    "tags": []
   },
   "outputs": [
    {
     "name": "stdout",
     "output_type": "stream",
     "text": [
      "CITIES in the 'df' (layoffs) dataset: \n",
      "\n",
      "['Bengaluru', 'Sao Paulo', 'SF Bay Area', 'Chicago', 'Stockholm', 'New York City', 'Berlin', 'Los Angeles', 'Tel Aviv', 'London', 'Phoenix', 'Boston', 'Brisbane', 'Lehi', 'Gurugram', 'Singapore', 'Burlington', 'Bend', 'Jakarta', 'Sacramento', 'Buenos Aires', 'Mexico City', 'Melbourne', 'Lagos', 'Amsterdam', 'Guadalajara', 'Waterloo', 'Seattle', 'Sydney', 'Zug', 'Salt Lake City', 'Toronto', 'Cairo', 'Dubai', 'Dallas', 'Washington D.C.', 'Gothenburg', 'Dublin', 'San Diego', 'Calgary', 'Nairobi', 'Dover', 'Austin', 'Hamburg', 'Luxembourg', 'Vancouver', 'Miami', 'Malmö', 'Boulder', 'Lexington', 'Shenzen', 'Barcelona', 'Stamford', 'Logan', 'Tallin', 'Atlanta', 'Eindhoven', 'Columbus', 'Athens', 'Minneapolis', 'Krakow', 'Hyderabad', 'Nebraska City', 'Copenhagen', 'Non-U.S.', 'Trondheim', 'Grand Rapids', 'Oslo', 'Pittsburgh', 'Düsseldorf', 'Montreal', 'Mumbai', 'San Luis Obispo', 'Jerusalem', 'New Delhi', 'Belo Horizonte', 'Baltimore', 'Philadelphia', 'St. Louis', 'Brussels', 'Noida', 'The Hague', 'Hong Kong', 'Birmingham', 'Auckland', 'Kuala Lumpur', 'Munich', 'Bristol', 'Las Vegas', 'Budapest', 'Ho Chi Minh City', 'Winnipeg', 'Denver', 'Vienna', 'Bangkok', 'Vilnius', 'Raleigh', 'Portland', 'Ottawa', 'Richmond', 'Saskatoon', 'Porto Alegre', 'Indianapolis', 'Santiago', 'Curitiba', 'New Haven', 'Victoria', 'Beijing', 'Detroit', 'Ferdericton', 'Dakar', 'Florianópolis', 'Lahore', 'Santa Barbara', 'Durham', 'Louisville', 'Nashua', 'Huntsville', 'Spokane', 'Bogota', 'Chennai', 'Shanghai', 'Reno', 'Helsinki', 'Lima', 'Houston', 'Malmo', 'Selangor', 'Manama', 'Karachi', 'Bucharest', 'Cincinnati', 'Istanbul', 'Moscow', 'Davenport', 'Nashville', 'Montevideo', 'Edinburgh', 'Fayetteville', 'Madison', 'Sofia', 'Santa Fe', 'Cork', 'Paris', 'Ahmedabad', 'Joinville', 'Hanoi', 'Norwalk', 'Zurich', 'Dusseldorf', 'Lisbon', 'Cape Town', 'Missoula', 'Blumenau', 'Milwaukee', 'Ann Arbor', 'Quebec', 'Prague', 'Yangon', 'New Orleans', 'Charlotte', 'Tampa Bay']\n",
      "\n",
      "\n",
      "Number of cities in the 'df' (layoffs) dataset: 162\n",
      "-------\n",
      "COUNTRIES in the 'df' (layoffs) dataset: \n",
      "\n",
      "['India', 'Brazil', 'United States', 'Israel', 'United Kingdom', 'Australia', 'Singapore', 'Indonesia', 'Argentina', 'Mexico', 'Nigeria', 'Netherlands', 'Germany', 'Canada', 'Switzerland', 'Egypt', 'Sweden', 'Ireland', 'Kenya', 'Luxembourg', 'China', 'Spain', 'Estonia', 'Greece', 'Poland', 'Seychelles', 'Norway', 'Belgium', 'Denmark', 'Hong Kong', 'New Zealand', 'Malaysia', 'Hungary', 'Vietnam', 'Austria', 'Thailand', 'Romania', 'Lithuania', 'Chile', 'Senegal', 'Pakistan', 'United Arab Emirates', 'Colombia', 'Finland', 'Peru', 'Bahrain', 'Turkey', 'Russia', 'Uruguay', 'Bulgaria', 'France', 'Portugal', 'South Africa', 'Czech Republic', 'Myanmar']\n",
      "\n",
      "\n",
      "Number of countries in the 'df' (layoffs) dataset: 55\n"
     ]
    }
   ],
   "source": [
    "## Since we'll be using df['location'] and df['country'] columns for the merging, \n",
    "## ... let's have a look at values stored there.\n",
    "\n",
    "print(f\"CITIES in the 'df' (layoffs) dataset: \\n\\n{list(df['location'].unique())}\")\n",
    "print('\\n')\n",
    "print(f\"Number of cities in the 'df' (layoffs) dataset: {df['location'].nunique()}\")\n",
    "print(\"-------\")\n",
    "print(f\"COUNTRIES in the 'df' (layoffs) dataset: \\n\\n{list(df['country'].unique())}\")\n",
    "print('\\n')\n",
    "print(f\"Number of countries in the 'df' (layoffs) dataset: {df['country'].nunique()}\")\n",
    "\n",
    "## So, just by eye-balling it, I see we might have problems with joining on the following values:\n",
    "## \"SF Bay Area\", \"New York City\", \"Ho Chi Minh City\"\n",
    "\n",
    "## County names look pretty good.\n",
    "## I won't focus on them too much, even though they are super important for the ...\n",
    "## ... proper functioning of my join.\n"
   ]
  },
  {
   "cell_type": "code",
   "execution_count": 14,
   "id": "48d2d3ab",
   "metadata": {
    "execution": {
     "iopub.execute_input": "2022-12-09T13:15:26.783545Z",
     "iopub.status.busy": "2022-12-09T13:15:26.783101Z",
     "iopub.status.idle": "2022-12-09T13:15:26.826301Z",
     "shell.execute_reply": "2022-12-09T13:15:26.824993Z"
    },
    "papermill": {
     "duration": 0.057728,
     "end_time": "2022-12-09T13:15:26.828913",
     "exception": false,
     "start_time": "2022-12-09T13:15:26.771185",
     "status": "completed"
    },
    "tags": []
   },
   "outputs": [
    {
     "data": {
      "text/html": [
       "<div>\n",
       "<style scoped>\n",
       "    .dataframe tbody tr th:only-of-type {\n",
       "        vertical-align: middle;\n",
       "    }\n",
       "\n",
       "    .dataframe tbody tr th {\n",
       "        vertical-align: top;\n",
       "    }\n",
       "\n",
       "    .dataframe thead th {\n",
       "        text-align: right;\n",
       "    }\n",
       "</style>\n",
       "<table border=\"1\" class=\"dataframe\">\n",
       "  <thead>\n",
       "    <tr style=\"text-align: right;\">\n",
       "      <th></th>\n",
       "      <th>city</th>\n",
       "      <th>city_ascii</th>\n",
       "      <th>lat</th>\n",
       "      <th>lng</th>\n",
       "      <th>country</th>\n",
       "      <th>iso2</th>\n",
       "      <th>iso3</th>\n",
       "      <th>admin_name</th>\n",
       "      <th>capital</th>\n",
       "      <th>population</th>\n",
       "      <th>id</th>\n",
       "    </tr>\n",
       "  </thead>\n",
       "  <tbody>\n",
       "    <tr>\n",
       "      <th>12</th>\n",
       "      <td>New York</td>\n",
       "      <td>New York</td>\n",
       "      <td>40.6943</td>\n",
       "      <td>-73.9249</td>\n",
       "      <td>United States</td>\n",
       "      <td>US</td>\n",
       "      <td>USA</td>\n",
       "      <td>New York</td>\n",
       "      <td>NaN</td>\n",
       "      <td>18713220.0</td>\n",
       "      <td>1840034016</td>\n",
       "    </tr>\n",
       "    <tr>\n",
       "      <th>214</th>\n",
       "      <td>San Francisco</td>\n",
       "      <td>San Francisco</td>\n",
       "      <td>37.7562</td>\n",
       "      <td>-122.4430</td>\n",
       "      <td>United States</td>\n",
       "      <td>US</td>\n",
       "      <td>USA</td>\n",
       "      <td>California</td>\n",
       "      <td>NaN</td>\n",
       "      <td>3592294.0</td>\n",
       "      <td>1840021543</td>\n",
       "    </tr>\n",
       "    <tr>\n",
       "      <th>7512</th>\n",
       "      <td>San Francisco</td>\n",
       "      <td>San Francisco</td>\n",
       "      <td>13.7000</td>\n",
       "      <td>-88.1000</td>\n",
       "      <td>El Salvador</td>\n",
       "      <td>SV</td>\n",
       "      <td>SLV</td>\n",
       "      <td>Morazán</td>\n",
       "      <td>admin</td>\n",
       "      <td>21049.0</td>\n",
       "      <td>1222399599</td>\n",
       "    </tr>\n",
       "    <tr>\n",
       "      <th>10444</th>\n",
       "      <td>San Francisco</td>\n",
       "      <td>San Francisco</td>\n",
       "      <td>30.9000</td>\n",
       "      <td>-112.6000</td>\n",
       "      <td>Mexico</td>\n",
       "      <td>MX</td>\n",
       "      <td>MEX</td>\n",
       "      <td>Sonora</td>\n",
       "      <td>NaN</td>\n",
       "      <td>89122.0</td>\n",
       "      <td>1484657489</td>\n",
       "    </tr>\n",
       "    <tr>\n",
       "      <th>10762</th>\n",
       "      <td>San Francisco</td>\n",
       "      <td>San Francisco</td>\n",
       "      <td>8.5050</td>\n",
       "      <td>125.9771</td>\n",
       "      <td>Philippines</td>\n",
       "      <td>PH</td>\n",
       "      <td>PHL</td>\n",
       "      <td>Agusan del Sur</td>\n",
       "      <td>NaN</td>\n",
       "      <td>80760.0</td>\n",
       "      <td>1608328732</td>\n",
       "    </tr>\n",
       "    <tr>\n",
       "      <th>11852</th>\n",
       "      <td>San Francisco</td>\n",
       "      <td>San Francisco</td>\n",
       "      <td>-31.4356</td>\n",
       "      <td>-62.0714</td>\n",
       "      <td>Argentina</td>\n",
       "      <td>AR</td>\n",
       "      <td>ARG</td>\n",
       "      <td>Córdoba</td>\n",
       "      <td>minor</td>\n",
       "      <td>62000.0</td>\n",
       "      <td>1032491643</td>\n",
       "    </tr>\n",
       "    <tr>\n",
       "      <th>12019</th>\n",
       "      <td>San Francisco</td>\n",
       "      <td>San Francisco</td>\n",
       "      <td>10.6500</td>\n",
       "      <td>124.3500</td>\n",
       "      <td>Philippines</td>\n",
       "      <td>PH</td>\n",
       "      <td>PHL</td>\n",
       "      <td>Cebu</td>\n",
       "      <td>NaN</td>\n",
       "      <td>59236.0</td>\n",
       "      <td>1608306591</td>\n",
       "    </tr>\n",
       "    <tr>\n",
       "      <th>13180</th>\n",
       "      <td>San Francisco</td>\n",
       "      <td>San Francisco</td>\n",
       "      <td>16.8017</td>\n",
       "      <td>-89.9342</td>\n",
       "      <td>Guatemala</td>\n",
       "      <td>GT</td>\n",
       "      <td>GTM</td>\n",
       "      <td>Petén</td>\n",
       "      <td>minor</td>\n",
       "      <td>47919.0</td>\n",
       "      <td>1320240607</td>\n",
       "    </tr>\n",
       "    <tr>\n",
       "      <th>28429</th>\n",
       "      <td>San Francisco</td>\n",
       "      <td>San Francisco</td>\n",
       "      <td>15.6667</td>\n",
       "      <td>-87.0333</td>\n",
       "      <td>Honduras</td>\n",
       "      <td>HN</td>\n",
       "      <td>HND</td>\n",
       "      <td>Atlántida</td>\n",
       "      <td>NaN</td>\n",
       "      <td>11206.0</td>\n",
       "      <td>1340403835</td>\n",
       "    </tr>\n",
       "    <tr>\n",
       "      <th>33311</th>\n",
       "      <td>San Francisco</td>\n",
       "      <td>San Francisco</td>\n",
       "      <td>4.9711</td>\n",
       "      <td>-74.2892</td>\n",
       "      <td>Colombia</td>\n",
       "      <td>CO</td>\n",
       "      <td>COL</td>\n",
       "      <td>Cundinamarca</td>\n",
       "      <td>minor</td>\n",
       "      <td>8304.0</td>\n",
       "      <td>1170500747</td>\n",
       "    </tr>\n",
       "    <tr>\n",
       "      <th>42670</th>\n",
       "      <td>San Francisco</td>\n",
       "      <td>San Francisco</td>\n",
       "      <td>20.5333</td>\n",
       "      <td>-102.5000</td>\n",
       "      <td>Mexico</td>\n",
       "      <td>MX</td>\n",
       "      <td>MEX</td>\n",
       "      <td>Jalisco</td>\n",
       "      <td>NaN</td>\n",
       "      <td>5167.0</td>\n",
       "      <td>1484609468</td>\n",
       "    </tr>\n",
       "  </tbody>\n",
       "</table>\n",
       "</div>"
      ],
      "text/plain": [
       "                city     city_ascii      lat       lng        country iso2  \\\n",
       "12          New York       New York  40.6943  -73.9249  United States   US   \n",
       "214    San Francisco  San Francisco  37.7562 -122.4430  United States   US   \n",
       "7512   San Francisco  San Francisco  13.7000  -88.1000    El Salvador   SV   \n",
       "10444  San Francisco  San Francisco  30.9000 -112.6000         Mexico   MX   \n",
       "10762  San Francisco  San Francisco   8.5050  125.9771    Philippines   PH   \n",
       "11852  San Francisco  San Francisco -31.4356  -62.0714      Argentina   AR   \n",
       "12019  San Francisco  San Francisco  10.6500  124.3500    Philippines   PH   \n",
       "13180  San Francisco  San Francisco  16.8017  -89.9342      Guatemala   GT   \n",
       "28429  San Francisco  San Francisco  15.6667  -87.0333       Honduras   HN   \n",
       "33311  San Francisco  San Francisco   4.9711  -74.2892       Colombia   CO   \n",
       "42670  San Francisco  San Francisco  20.5333 -102.5000         Mexico   MX   \n",
       "\n",
       "      iso3      admin_name capital  population          id  \n",
       "12     USA        New York     NaN  18713220.0  1840034016  \n",
       "214    USA      California     NaN   3592294.0  1840021543  \n",
       "7512   SLV         Morazán   admin     21049.0  1222399599  \n",
       "10444  MEX          Sonora     NaN     89122.0  1484657489  \n",
       "10762  PHL  Agusan del Sur     NaN     80760.0  1608328732  \n",
       "11852  ARG         Córdoba   minor     62000.0  1032491643  \n",
       "12019  PHL            Cebu     NaN     59236.0  1608306591  \n",
       "13180  GTM           Petén   minor     47919.0  1320240607  \n",
       "28429  HND       Atlántida     NaN     11206.0  1340403835  \n",
       "33311  COL    Cundinamarca   minor      8304.0  1170500747  \n",
       "42670  MEX         Jalisco     NaN      5167.0  1484609468  "
      ]
     },
     "execution_count": 14,
     "metadata": {},
     "output_type": "execute_result"
    }
   ],
   "source": [
    "## [\"New York City\", \"SF Bay Area\", \"Ho Chi Minh City\"] from df['location']...\n",
    "\n",
    "## ... correspond to...\n",
    "\n",
    "cities_df[cities_df['city_ascii'].str.lower().isin(['new york', 'san francisco', 'ho chi minh'])]\n",
    "\n",
    "## [\"New York\", \"San Francisco\", NA] from cities_df['city_ascii']"
   ]
  },
  {
   "cell_type": "code",
   "execution_count": 15,
   "id": "726c4cdb",
   "metadata": {
    "execution": {
     "iopub.execute_input": "2022-12-09T13:15:26.852565Z",
     "iopub.status.busy": "2022-12-09T13:15:26.851840Z",
     "iopub.status.idle": "2022-12-09T13:15:26.868815Z",
     "shell.execute_reply": "2022-12-09T13:15:26.867284Z"
    },
    "papermill": {
     "duration": 0.032059,
     "end_time": "2022-12-09T13:15:26.871715",
     "exception": false,
     "start_time": "2022-12-09T13:15:26.839656",
     "status": "completed"
    },
    "tags": []
   },
   "outputs": [
    {
     "name": "stdout",
     "output_type": "stream",
     "text": [
      "0\n"
     ]
    }
   ],
   "source": [
    "df.replace({'location': 'New York City'}, {'location': 'New York'}, inplace = True)\n",
    "df.replace({'location': 'SF Bay Area'}, {'location': 'San Francisco'}, inplace = True)\n",
    "\n",
    "print(len(df[df['location'].isin(['New York City', 'SF Bay Area'])])) ## A quick check\n",
    "\n",
    "## There's quite a few Washingtons in USA, so this is also a necessary renaming:\n",
    "cities_df.loc[cities_df[\"admin_name\"] == \"District of Columbia\", \"city_ascii\"] = \"Washington D.C.\""
   ]
  },
  {
   "cell_type": "code",
   "execution_count": 16,
   "id": "f5587297",
   "metadata": {
    "execution": {
     "iopub.execute_input": "2022-12-09T13:15:26.894938Z",
     "iopub.status.busy": "2022-12-09T13:15:26.894540Z",
     "iopub.status.idle": "2022-12-09T13:15:26.967836Z",
     "shell.execute_reply": "2022-12-09T13:15:26.966552Z"
    },
    "papermill": {
     "duration": 0.088181,
     "end_time": "2022-12-09T13:15:26.970595",
     "exception": false,
     "start_time": "2022-12-09T13:15:26.882414",
     "status": "completed"
    },
    "tags": []
   },
   "outputs": [
    {
     "name": "stdout",
     "output_type": "stream",
     "text": [
      "Unique cities in the 'df' (layoffs) dataset: 162\n",
      "Unique cities in the 'new_df' (layoffs) dataset: 144\n",
      "N of cities lost in the merging: 18\n"
     ]
    }
   ],
   "source": [
    "## Merging the dfs. Using all lowercase values, to avoid any potential issues due to discrepancies there.\n",
    "\n",
    "new_df = df.merge(cities_df, how='inner',\n",
    "                  left_on=[df['country'].str.lower(), df['location'].str.lower()], \n",
    "                  right_on=[cities_df['country'].str.lower(), cities_df['city_ascii'].str.lower()])\n",
    "\n",
    "print(f\"Unique cities in the 'df' (layoffs) dataset: {df['location'].nunique()}\")\n",
    "print(f\"Unique cities in the 'new_df' (layoffs) dataset: {new_df['location'].nunique()}\")\n",
    "print(f\"N of cities lost in the merging: {df['location'].nunique() - new_df['location'].nunique()}\")"
   ]
  },
  {
   "cell_type": "markdown",
   "id": "1bffb73a",
   "metadata": {
    "papermill": {
     "duration": 0.010397,
     "end_time": "2022-12-09T13:15:26.991746",
     "exception": false,
     "start_time": "2022-12-09T13:15:26.981349",
     "status": "completed"
    },
    "tags": []
   },
   "source": [
    "Let's see if we can bring this number down a bit."
   ]
  },
  {
   "cell_type": "code",
   "execution_count": 17,
   "id": "a6ff4eb0",
   "metadata": {
    "execution": {
     "iopub.execute_input": "2022-12-09T13:15:27.015361Z",
     "iopub.status.busy": "2022-12-09T13:15:27.014668Z",
     "iopub.status.idle": "2022-12-09T13:15:27.038837Z",
     "shell.execute_reply": "2022-12-09T13:15:27.037300Z"
    },
    "papermill": {
     "duration": 0.039303,
     "end_time": "2022-12-09T13:15:27.041508",
     "exception": false,
     "start_time": "2022-12-09T13:15:27.002205",
     "status": "completed"
    },
    "tags": []
   },
   "outputs": [
    {
     "name": "stdout",
     "output_type": "stream",
     "text": [
      "City names that are present in df['location'], but not in cities_df['city_ascii']: \n",
      "\n",
      "['yangon', 'non-u.s.', 'joinville', 'tallin', 'bengaluru', 'quebec', 'tel aviv', 'selangor', 'düsseldorf', 'ferdericton', 'tampa bay', 'shenzen', 'florianópolis', 'noida', 'gurugram', 'malmö']\n"
     ]
    }
   ],
   "source": [
    "# initializing list and convert into set object\n",
    "\n",
    "x = set(df['location'].str.lower().values)\n",
    "y = set(cities_df['city_ascii'].str.lower().values)\n",
    "\n",
    "# take difference of two lists\n",
    "z = x.difference(y)\n",
    "\n",
    "print(f\"City names that are present in df['location'], but not in cities_df['city_ascii']: \\n\\n{list(z)}\")"
   ]
  },
  {
   "cell_type": "code",
   "execution_count": 18,
   "id": "01759f95",
   "metadata": {
    "execution": {
     "iopub.execute_input": "2022-12-09T13:15:27.065228Z",
     "iopub.status.busy": "2022-12-09T13:15:27.064775Z",
     "iopub.status.idle": "2022-12-09T13:15:31.014224Z",
     "shell.execute_reply": "2022-12-09T13:15:31.013011Z"
    },
    "papermill": {
     "duration": 3.964225,
     "end_time": "2022-12-09T13:15:31.016841",
     "exception": false,
     "start_time": "2022-12-09T13:15:27.052616",
     "status": "completed"
    },
    "tags": []
   },
   "outputs": [
    {
     "name": "stdout",
     "output_type": "stream",
     "text": [
      "1. bengaluru --> ['belluru', 'abengourou', 'nguru']\n",
      "2. düsseldorf --> ['dusseldorf', 'dielsdorf', 'adelsdorf']\n",
      "3. ferdericton --> ['fredericton', 'frederickson', 'federacion']\n",
      "4. florianópolis --> ['florianopolis', 'floriano', 'goianapolis']\n",
      "5. gurugram --> ['gourrama', 'uruara', 'gurupa']\n",
      "6. joinville --> ['joinvile', 'morinville', 'woodinville']\n",
      "7. malmö --> ['malmo', 'matalom', 'matalam']\n",
      "8. noida --> ['noda', 'nida', 'nokia']\n",
      "9. non-u.s. --> ['onrus', 'nyons']\n",
      "10. quebec --> ['quebec city', 'ube', 'queven']\n",
      "11. selangor --> ['shenango', 'erlanger', 'solano']\n",
      "12. shenzen --> ['shenzhen', 'senden', 'senden']\n",
      "13. tallin --> ['tallinn', 'stallings', 'tullins']\n",
      "14. tampa bay --> ['mbamba bay', 'tampa', 'tamba']\n",
      "15. tel aviv --> ['telavi', 'tel aviv-yafo', 'tela']\n",
      "16. yangon --> ['langon', 'angono', 'nyaungdon']\n"
     ]
    }
   ],
   "source": [
    "## Let's see if the above city names have a close match in cities_df['city_ascii']\n",
    "\n",
    "import difflib\n",
    "\n",
    "counter = 1\n",
    "\n",
    "for name in sorted(list(z)):\n",
    "    \n",
    "    print(f\"{counter}. {name} --> {difflib.get_close_matches(name, cities_df['city_ascii'].str.lower())}\")\n",
    "    \n",
    "    counter += 1"
   ]
  },
  {
   "cell_type": "code",
   "execution_count": 19,
   "id": "a600a051",
   "metadata": {
    "execution": {
     "iopub.execute_input": "2022-12-09T13:15:31.042482Z",
     "iopub.status.busy": "2022-12-09T13:15:31.041456Z",
     "iopub.status.idle": "2022-12-09T13:15:31.065945Z",
     "shell.execute_reply": "2022-12-09T13:15:31.064623Z"
    },
    "papermill": {
     "duration": 0.040242,
     "end_time": "2022-12-09T13:15:31.068810",
     "exception": false,
     "start_time": "2022-12-09T13:15:31.028568",
     "status": "completed"
    },
    "tags": []
   },
   "outputs": [],
   "source": [
    "old_new_names = {'düsseldorf' : 'Dusseldorf', \n",
    "                 'ferdericton' : 'Fredericton', \n",
    "                 'florianópolis' : 'Florianopolis',\n",
    "                 'joinville' : 'Joinvile',      \n",
    "                 'malmö' : 'malmo',\n",
    "                 'quebec' : 'quebec city',\n",
    "                 'shenzen' : 'Shenzhen',\n",
    "                 'tallin' : 'Tallinn', \n",
    "                 'tel aviv' : 'tel aviv-yafo'}\n",
    "\n",
    "## Replace old name with the new name\n",
    "for name in old_new_names.keys():\n",
    "    df.loc[df[\"location\"].str.lower() == name, 'location'] = old_new_names[name]"
   ]
  },
  {
   "cell_type": "code",
   "execution_count": 20,
   "id": "2a98b2e9",
   "metadata": {
    "execution": {
     "iopub.execute_input": "2022-12-09T13:15:31.095168Z",
     "iopub.status.busy": "2022-12-09T13:15:31.094371Z",
     "iopub.status.idle": "2022-12-09T13:15:31.154583Z",
     "shell.execute_reply": "2022-12-09T13:15:31.153295Z"
    },
    "papermill": {
     "duration": 0.076467,
     "end_time": "2022-12-09T13:15:31.157253",
     "exception": false,
     "start_time": "2022-12-09T13:15:31.080786",
     "status": "completed"
    },
    "tags": []
   },
   "outputs": [
    {
     "name": "stdout",
     "output_type": "stream",
     "text": [
      "Unique cities in the 'df' (layoffs) dataset: 161\n",
      "Unique cities in the 'new_df' (layoffs) dataset: 152\n",
      "N of cities lost in the merging: 9\n"
     ]
    }
   ],
   "source": [
    "## Re-do the merging, with the updated names\n",
    "\n",
    "new_df = df.merge(cities_df, how='inner',\n",
    "                  left_on=[df['country'].str.lower(), df['location'].str.lower()], \n",
    "                  right_on=[cities_df['country'].str.lower(), cities_df['city_ascii'].str.lower()])\n",
    "\n",
    "print(f\"Unique cities in the 'df' (layoffs) dataset: {df['location'].nunique()}\")\n",
    "print(f\"Unique cities in the 'new_df' (layoffs) dataset: {new_df['location'].nunique()}\")\n",
    "print(f\"N of cities lost in the merging: {df['location'].nunique() - new_df['location'].nunique()}\")"
   ]
  },
  {
   "cell_type": "markdown",
   "id": "7c52f740",
   "metadata": {
    "papermill": {
     "duration": 0.011594,
     "end_time": "2022-12-09T13:15:31.181026",
     "exception": false,
     "start_time": "2022-12-09T13:15:31.169432",
     "status": "completed"
    },
    "tags": []
   },
   "source": [
    "Ok, I'm happy with only 9 cities \"lost\" in the merging. \n",
    "\n",
    "It's the best I can do since, as we've seen above, these remaining 9 cities from `df` don't have a clear match in `cities_df`.\n",
    "\n",
    "Now, let's make a geo plot :)"
   ]
  },
  {
   "cell_type": "code",
   "execution_count": 21,
   "id": "6176ecb0",
   "metadata": {
    "execution": {
     "iopub.execute_input": "2022-12-09T13:15:31.207272Z",
     "iopub.status.busy": "2022-12-09T13:15:31.206818Z",
     "iopub.status.idle": "2022-12-09T13:15:31.428036Z",
     "shell.execute_reply": "2022-12-09T13:15:31.426765Z"
    },
    "papermill": {
     "duration": 0.237486,
     "end_time": "2022-12-09T13:15:31.430534",
     "exception": false,
     "start_time": "2022-12-09T13:15:31.193048",
     "status": "completed"
    },
    "tags": []
   },
   "outputs": [
    {
     "data": {
      "text/html": [
       "<div>                            <div id=\"82c04c77-a93f-48de-b5f6-12da1b1adb8b\" class=\"plotly-graph-div\" style=\"height:525px; width:100%;\"></div>            <script type=\"text/javascript\">                require([\"plotly\"], function(Plotly) {                    window.PLOTLYENV=window.PLOTLYENV || {};                                    if (document.getElementById(\"82c04c77-a93f-48de-b5f6-12da1b1adb8b\")) {                    Plotly.newPlot(                        \"82c04c77-a93f-48de-b5f6-12da1b1adb8b\",                        [{\"geo\":\"geo\",\"hovertemplate\":\"<b>%{hovertext}</b><br><br>year=2022.0<br>laid_off_count=%{marker.size}<br>lat=%{lat}<br>lng=%{lon}<extra></extra>\",\"hovertext\":[\"San Francisco\",\"San Francisco\",\"San Francisco\",\"San Francisco\",\"San Francisco\",\"San Francisco\",\"San Francisco\",\"San Francisco\",\"San Francisco\",\"San Francisco\",\"San Francisco\",\"San Francisco\",\"San Francisco\",\"San Francisco\",\"San Francisco\",\"San Francisco\",\"San Francisco\",\"San Francisco\",\"San Francisco\",\"San Francisco\",\"San Francisco\",\"San Francisco\",\"San Francisco\",\"San Francisco\",\"San Francisco\",\"San Francisco\",\"San Francisco\",\"San Francisco\",\"San Francisco\",\"San Francisco\",\"San Francisco\",\"San Francisco\",\"San Francisco\",\"San Francisco\",\"San Francisco\",\"San Francisco\",\"San Francisco\",\"San Francisco\",\"San Francisco\",\"San Francisco\",\"San Francisco\",\"San Francisco\",\"San Francisco\",\"San Francisco\",\"San Francisco\",\"San Francisco\",\"San Francisco\",\"San Francisco\",\"San Francisco\",\"San Francisco\",\"San Francisco\",\"San Francisco\",\"San Francisco\",\"San Francisco\",\"San Francisco\",\"San Francisco\",\"San Francisco\",\"San Francisco\",\"San Francisco\",\"San Francisco\",\"San Francisco\",\"San Francisco\",\"San Francisco\",\"San Francisco\",\"San Francisco\",\"San Francisco\",\"San Francisco\",\"San Francisco\",\"San Francisco\",\"San Francisco\",\"San Francisco\",\"San Francisco\",\"San Francisco\",\"San Francisco\",\"San Francisco\",\"San Francisco\",\"San Francisco\",\"San Francisco\",\"San Francisco\",\"San Francisco\",\"San Francisco\",\"San Francisco\",\"San Francisco\",\"San Francisco\",\"San Francisco\",\"San Francisco\",\"San Francisco\",\"San Francisco\",\"San Francisco\",\"San Francisco\",\"San Francisco\",\"San Francisco\",\"San Francisco\",\"San Francisco\",\"San Francisco\",\"San Francisco\",\"San Francisco\",\"San Francisco\",\"San Francisco\",\"San Francisco\",\"San Francisco\",\"San Francisco\",\"San Francisco\",\"San Francisco\",\"San Francisco\",\"San Francisco\",\"San Francisco\",\"San Francisco\",\"San Francisco\",\"San Francisco\",\"San Francisco\",\"San Francisco\",\"San Francisco\",\"San Francisco\",\"San Francisco\",\"San Francisco\",\"San Francisco\",\"San Francisco\",\"San Francisco\",\"San Francisco\",\"San Francisco\",\"San Francisco\",\"San Francisco\",\"San Francisco\",\"San Francisco\",\"San Francisco\",\"San Francisco\",\"San Francisco\",\"San Francisco\",\"San Francisco\",\"San Francisco\",\"San Francisco\",\"San Francisco\",\"San Francisco\",\"San Francisco\",\"San Francisco\",\"San Francisco\",\"San Francisco\",\"San Francisco\",\"San Francisco\",\"San Francisco\",\"San Francisco\",\"San Francisco\",\"San Francisco\",\"San Francisco\",\"San Francisco\",\"San Francisco\",\"San Francisco\",\"San Francisco\",\"San Francisco\",\"San Francisco\",\"San Francisco\",\"San Francisco\",\"San Francisco\",\"San Francisco\",\"San Francisco\",\"San Francisco\",\"San Francisco\",\"San Francisco\",\"San Francisco\",\"San Francisco\",\"San Francisco\",\"San Francisco\",\"San Francisco\",\"San Francisco\",\"San Francisco\",\"San Francisco\",\"San Francisco\",\"San Francisco\",\"San Francisco\",\"San Francisco\",\"San Francisco\",\"San Francisco\",\"San Francisco\",\"San Francisco\",\"San Francisco\",\"San Francisco\",\"San Francisco\",\"San Francisco\",\"San Francisco\",\"San Francisco\",\"San Francisco\",\"San Francisco\",\"San Francisco\",\"San Francisco\",\"San Francisco\",\"San Francisco\",\"San Francisco\",\"San Francisco\",\"San Francisco\",\"San Francisco\",\"San Francisco\",\"San Francisco\",\"San Francisco\",\"San Francisco\",\"San Francisco\",\"San Francisco\",\"San Francisco\",\"San Francisco\",\"San Francisco\",\"San Francisco\",\"San Francisco\",\"San Francisco\",\"San Francisco\",\"San Francisco\",\"San Francisco\",\"San Francisco\",\"San Francisco\",\"San Francisco\",\"San Francisco\",\"San Francisco\",\"San Francisco\",\"San Francisco\",\"San Francisco\",\"San Francisco\",\"San Francisco\",\"San Francisco\",\"San Francisco\",\"San Francisco\",\"San Francisco\",\"San Francisco\",\"San Francisco\",\"San Francisco\",\"San Francisco\",\"San Francisco\",\"San Francisco\",\"San Francisco\",\"San Francisco\",\"San Francisco\",\"San Francisco\",\"San Francisco\",\"San Francisco\",\"San Francisco\",\"San Francisco\",\"San Francisco\",\"San Francisco\",\"San Francisco\",\"San Francisco\",\"San Francisco\",\"San Francisco\",\"San Francisco\",\"San Francisco\",\"San Francisco\",\"San Francisco\",\"San Francisco\",\"San Francisco\",\"San Francisco\",\"San Francisco\",\"San Francisco\",\"San Francisco\",\"San Francisco\",\"San Francisco\",\"San Francisco\",\"San Francisco\",\"San Francisco\",\"San Francisco\",\"San Francisco\",\"San Francisco\",\"San Francisco\",\"San Francisco\",\"San Francisco\",\"San Francisco\",\"San Francisco\",\"San Francisco\",\"San Francisco\",\"San Francisco\",\"San Francisco\",\"San Francisco\",\"San Francisco\",\"San Francisco\",\"San Francisco\",\"San Francisco\",\"San Francisco\",\"Chicago\",\"Chicago\",\"Chicago\",\"Chicago\",\"Chicago\",\"Chicago\",\"Chicago\",\"Chicago\",\"Chicago\",\"Chicago\",\"Chicago\",\"Chicago\",\"Chicago\",\"Chicago\",\"Chicago\",\"Chicago\",\"Chicago\",\"Chicago\",\"Chicago\",\"New York\",\"New York\",\"New York\",\"New York\",\"New York\",\"New York\",\"New York\",\"New York\",\"New York\",\"New York\",\"New York\",\"New York\",\"New York\",\"New York\",\"New York\",\"New York\",\"New York\",\"New York\",\"New York\",\"New York\",\"New York\",\"New York\",\"New York\",\"New York\",\"New York\",\"New York\",\"New York\",\"New York\",\"New York\",\"New York\",\"New York\",\"New York\",\"New York\",\"New York\",\"New York\",\"New York\",\"New York\",\"New York\",\"New York\",\"New York\",\"New York\",\"New York\",\"New York\",\"New York\",\"New York\",\"New York\",\"New York\",\"New York\",\"New York\",\"New York\",\"New York\",\"New York\",\"New York\",\"New York\",\"New York\",\"New York\",\"New York\",\"New York\",\"New York\",\"New York\",\"New York\",\"New York\",\"New York\",\"New York\",\"New York\",\"New York\",\"New York\",\"New York\",\"New York\",\"New York\",\"New York\",\"New York\",\"New York\",\"New York\",\"New York\",\"New York\",\"New York\",\"New York\",\"New York\",\"New York\",\"New York\",\"New York\",\"New York\",\"New York\",\"New York\",\"New York\",\"New York\",\"New York\",\"New York\",\"New York\",\"New York\",\"New York\",\"New York\",\"New York\",\"New York\",\"New York\",\"New York\",\"New York\",\"New York\",\"New York\",\"New York\",\"New York\",\"New York\",\"New York\",\"New York\",\"New York\",\"New York\",\"New York\",\"New York\",\"New York\",\"New York\",\"New York\",\"New York\",\"New York\",\"New York\",\"Berlin\",\"Berlin\",\"Berlin\",\"Berlin\",\"Los Angeles\",\"Los Angeles\",\"Los Angeles\",\"Los Angeles\",\"Los Angeles\",\"Los Angeles\",\"Los Angeles\",\"Los Angeles\",\"Los Angeles\",\"Los Angeles\",\"Los Angeles\",\"Los Angeles\",\"Los Angeles\",\"Los Angeles\",\"Los Angeles\",\"Los Angeles\",\"Los Angeles\",\"Los Angeles\",\"Los Angeles\",\"Los Angeles\",\"Los Angeles\",\"Los Angeles\",\"Los Angeles\",\"Los Angeles\",\"Los Angeles\",\"Los Angeles\",\"Los Angeles\",\"Los Angeles\",\"Los Angeles\",\"Los Angeles\",\"Los Angeles\",\"Los Angeles\",\"Los Angeles\",\"Los Angeles\",\"Los Angeles\",\"Los Angeles\",\"Los Angeles\",\"Los Angeles\",\"Los Angeles\",\"Los Angeles\",\"Phoenix\",\"Phoenix\",\"Phoenix\",\"Phoenix\",\"Phoenix\",\"Phoenix\",\"Boston\",\"Boston\",\"Boston\",\"Boston\",\"Boston\",\"Boston\",\"Boston\",\"Boston\",\"Boston\",\"Boston\",\"Boston\",\"Boston\",\"Boston\",\"Boston\",\"Boston\",\"Boston\",\"Boston\",\"Boston\",\"Boston\",\"Boston\",\"Boston\",\"Boston\",\"Boston\",\"Boston\",\"Boston\",\"Boston\",\"Boston\",\"Boston\",\"Boston\",\"Boston\",\"Boston\",\"Boston\",\"Boston\",\"Boston\",\"Boston\",\"Boston\",\"Boston\",\"Boston\",\"Boston\",\"Boston\",\"Boston\",\"Boston\",\"Boston\",\"Boston\",\"Boston\",\"Boston\",\"Boston\",\"Boston\",\"Boston\",\"Boston\",\"Boston\",\"Boston\",\"Boston\",\"Boston\",\"Boston\",\"Boston\",\"Boston\",\"Boston\",\"Boston\",\"Boston\",\"Boston\",\"Boston\",\"Boston\",\"Boston\",\"Boston\",\"Boston\",\"Boston\",\"Boston\",\"Boston\",\"Boston\",\"Boston\",\"Boston\",\"Boston\",\"Boston\",\"Boston\",\"Boston\",\"Boston\",\"Boston\",\"Boston\",\"Boston\",\"Boston\",\"Boston\",\"Boston\",\"Boston\",\"Boston\",\"Boston\",\"Boston\",\"Boston\",\"Lehi\",\"Lehi\",\"Lehi\",\"Lehi\",\"Lehi\",\"Burlington\",\"Burlington\",\"Burlington\",\"Burlington\",\"Burlington\",\"Burlington\",\"Burlington\",\"Burlington\",\"Burlington\",\"Bend\",\"Bend\",\"Sacramento\",\"Seattle\",\"Seattle\",\"Seattle\",\"Seattle\",\"Seattle\",\"Seattle\",\"Seattle\",\"Seattle\",\"Seattle\",\"Seattle\",\"Seattle\",\"Seattle\",\"Seattle\",\"Seattle\",\"Seattle\",\"Seattle\",\"Seattle\",\"Seattle\",\"Seattle\",\"Seattle\",\"Seattle\",\"Seattle\",\"Seattle\",\"Seattle\",\"Seattle\",\"Seattle\",\"Seattle\",\"Seattle\",\"Seattle\",\"Seattle\",\"Seattle\",\"Seattle\",\"Seattle\",\"Seattle\",\"Salt Lake City\",\"Salt Lake City\",\"Salt Lake City\",\"Salt Lake City\",\"Dallas\",\"Dallas\",\"Dallas\",\"Dallas\",\"Dallas\",\"Dallas\",\"Dallas\",\"Dallas\",\"Dallas\",\"Dallas\",\"Dallas\",\"Dallas\",\"Washington D.C.\",\"Washington D.C.\",\"Washington D.C.\",\"Washington D.C.\",\"Washington D.C.\",\"Washington D.C.\",\"Washington D.C.\",\"Washington D.C.\",\"San Diego\",\"San Diego\",\"San Diego\",\"San Diego\",\"Dover\",\"Dover\",\"Dover\",\"Dover\",\"Dover\",\"Dover\",\"Dover\",\"Austin\",\"Austin\",\"Austin\",\"Austin\",\"Austin\",\"Austin\",\"Austin\",\"Austin\",\"Austin\",\"Austin\",\"Austin\",\"Austin\",\"Austin\",\"Austin\",\"Austin\",\"Austin\",\"Austin\",\"Austin\",\"Austin\",\"Austin\",\"Austin\",\"Austin\",\"Austin\",\"Austin\",\"Austin\",\"Austin\",\"Miami\",\"Miami\",\"Miami\",\"Miami\",\"Miami\",\"Miami\",\"Miami\",\"Miami\",\"Miami\",\"Miami\",\"Miami\",\"Miami\",\"Miami\",\"Miami\",\"Boulder\",\"Boulder\",\"Boulder\",\"Boulder\",\"Boulder\",\"Boulder\",\"Boulder\",\"Lexington\",\"Lexington\",\"Lexington\",\"Lexington\",\"Lexington\",\"Lexington\",\"Lexington\",\"Stamford\",\"Stamford\",\"Stamford\",\"Stamford\",\"Logan\",\"Logan\",\"Logan\",\"Logan\",\"Logan\",\"Logan\",\"Logan\",\"Logan\",\"Logan\",\"Logan\",\"Atlanta\",\"Atlanta\",\"Atlanta\",\"Atlanta\",\"Atlanta\",\"Atlanta\",\"Atlanta\",\"Atlanta\",\"Atlanta\",\"Atlanta\",\"Atlanta\",\"Atlanta\",\"Atlanta\",\"Atlanta\",\"Atlanta\",\"Atlanta\",\"Atlanta\",\"Atlanta\",\"Columbus\",\"Columbus\",\"Columbus\",\"Columbus\",\"Columbus\",\"Columbus\",\"Columbus\",\"Columbus\",\"Columbus\",\"Columbus\",\"Columbus\",\"Columbus\",\"Columbus\",\"Columbus\",\"Columbus\",\"Columbus\",\"Columbus\",\"Columbus\",\"Columbus\",\"Columbus\",\"Columbus\",\"Columbus\",\"Columbus\",\"Columbus\",\"Columbus\",\"Columbus\",\"Columbus\",\"Columbus\",\"Columbus\",\"Columbus\",\"Minneapolis\",\"Minneapolis\",\"Nebraska City\",\"Vancouver\",\"Vancouver\",\"Vancouver\",\"Grand Rapids\",\"Grand Rapids\",\"Pittsburgh\",\"Pittsburgh\",\"Pittsburgh\",\"Pittsburgh\",\"San Luis Obispo\",\"Baltimore\",\"Baltimore\",\"Philadelphia\",\"Philadelphia\",\"Philadelphia\",\"Philadelphia\",\"Philadelphia\",\"Philadelphia\",\"Philadelphia\",\"Philadelphia\",\"Philadelphia\",\"Philadelphia\",\"St. Louis\",\"St. Louis\",\"St. Louis\",\"St. Louis\",\"Birmingham\",\"Birmingham\",\"London\",\"London\",\"London\",\"London\",\"London\",\"London\",\"Denver\",\"Denver\",\"Denver\",\"Raleigh\",\"Portland\",\"Portland\",\"Portland\",\"Portland\",\"Portland\",\"Portland\",\"Portland\",\"Portland\",\"Portland\",\"Portland\",\"Portland\",\"Portland\",\"Portland\",\"Portland\",\"Portland\",\"Portland\",\"Portland\",\"Portland\",\"Portland\",\"Portland\",\"Portland\",\"Portland\",\"Portland\",\"Portland\",\"Portland\",\"Portland\",\"Portland\",\"Portland\",\"Richmond\",\"Richmond\",\"Richmond\",\"Richmond\",\"Richmond\",\"Richmond\",\"Richmond\",\"Richmond\",\"Melbourne\",\"Indianapolis\",\"New Haven\",\"New Haven\",\"Detroit\",\"Detroit\",\"Detroit\",\"Santa Barbara\",\"Durham\",\"Durham\",\"Durham\",\"Durham\",\"Louisville\",\"Louisville\",\"Louisville\",\"Louisville\",\"Nashua\",\"Huntsville\",\"Huntsville\",\"Spokane\",\"Reno\",\"Houston\",\"Cincinnati\",\"Davenport\",\"Davenport\"],\"lat\":[37.7562,37.7562,37.7562,37.7562,37.7562,37.7562,37.7562,37.7562,37.7562,37.7562,37.7562,37.7562,37.7562,37.7562,37.7562,37.7562,37.7562,37.7562,37.7562,37.7562,37.7562,37.7562,37.7562,37.7562,37.7562,37.7562,37.7562,37.7562,37.7562,37.7562,37.7562,37.7562,37.7562,37.7562,37.7562,37.7562,37.7562,37.7562,37.7562,37.7562,37.7562,37.7562,37.7562,37.7562,37.7562,37.7562,37.7562,37.7562,37.7562,37.7562,37.7562,37.7562,37.7562,37.7562,37.7562,37.7562,37.7562,37.7562,37.7562,37.7562,37.7562,37.7562,37.7562,37.7562,37.7562,37.7562,37.7562,37.7562,37.7562,37.7562,37.7562,37.7562,37.7562,37.7562,37.7562,37.7562,37.7562,37.7562,37.7562,37.7562,37.7562,37.7562,37.7562,37.7562,37.7562,37.7562,37.7562,37.7562,37.7562,37.7562,37.7562,37.7562,37.7562,37.7562,37.7562,37.7562,37.7562,37.7562,37.7562,37.7562,37.7562,37.7562,37.7562,37.7562,37.7562,37.7562,37.7562,37.7562,37.7562,37.7562,37.7562,37.7562,37.7562,37.7562,37.7562,37.7562,37.7562,37.7562,37.7562,37.7562,37.7562,37.7562,37.7562,37.7562,37.7562,37.7562,37.7562,37.7562,37.7562,37.7562,37.7562,37.7562,37.7562,37.7562,37.7562,37.7562,37.7562,37.7562,37.7562,37.7562,37.7562,37.7562,37.7562,37.7562,37.7562,37.7562,37.7562,37.7562,37.7562,37.7562,37.7562,37.7562,37.7562,37.7562,37.7562,37.7562,37.7562,37.7562,37.7562,37.7562,37.7562,37.7562,37.7562,37.7562,37.7562,37.7562,37.7562,37.7562,37.7562,37.7562,37.7562,37.7562,37.7562,37.7562,37.7562,37.7562,37.7562,37.7562,37.7562,37.7562,37.7562,37.7562,37.7562,37.7562,37.7562,37.7562,37.7562,37.7562,37.7562,37.7562,37.7562,37.7562,37.7562,37.7562,37.7562,37.7562,37.7562,37.7562,37.7562,37.7562,37.7562,37.7562,37.7562,37.7562,37.7562,37.7562,37.7562,37.7562,37.7562,37.7562,37.7562,37.7562,37.7562,37.7562,37.7562,37.7562,37.7562,37.7562,37.7562,37.7562,37.7562,37.7562,37.7562,37.7562,37.7562,37.7562,37.7562,37.7562,37.7562,37.7562,37.7562,37.7562,37.7562,37.7562,37.7562,37.7562,37.7562,37.7562,37.7562,37.7562,37.7562,37.7562,37.7562,37.7562,37.7562,37.7562,37.7562,37.7562,37.7562,37.7562,37.7562,37.7562,37.7562,37.7562,37.7562,37.7562,37.7562,37.7562,37.7562,37.7562,37.7562,37.7562,37.7562,37.7562,37.7562,37.7562,37.7562,37.7562,37.7562,37.7562,37.7562,37.7562,37.7562,41.8373,41.8373,41.8373,41.8373,41.8373,41.8373,41.8373,41.8373,41.8373,41.8373,41.8373,41.8373,41.8373,41.8373,41.8373,41.8373,41.8373,41.8373,41.8373,40.6943,40.6943,40.6943,40.6943,40.6943,40.6943,40.6943,40.6943,40.6943,40.6943,40.6943,40.6943,40.6943,40.6943,40.6943,40.6943,40.6943,40.6943,40.6943,40.6943,40.6943,40.6943,40.6943,40.6943,40.6943,40.6943,40.6943,40.6943,40.6943,40.6943,40.6943,40.6943,40.6943,40.6943,40.6943,40.6943,40.6943,40.6943,40.6943,40.6943,40.6943,40.6943,40.6943,40.6943,40.6943,40.6943,40.6943,40.6943,40.6943,40.6943,40.6943,40.6943,40.6943,40.6943,40.6943,40.6943,40.6943,40.6943,40.6943,40.6943,40.6943,40.6943,40.6943,40.6943,40.6943,40.6943,40.6943,40.6943,40.6943,40.6943,40.6943,40.6943,40.6943,40.6943,40.6943,40.6943,40.6943,40.6943,40.6943,40.6943,40.6943,40.6943,40.6943,40.6943,40.6943,40.6943,40.6943,40.6943,40.6943,40.6943,40.6943,40.6943,40.6943,40.6943,40.6943,40.6943,40.6943,40.6943,40.6943,40.6943,40.6943,40.6943,40.6943,40.6943,40.6943,40.6943,40.6943,40.6943,40.6943,40.6943,40.6943,40.6943,40.6943,40.6943,40.6943,41.6114,44.4869,39.7915,43.9704,34.1139,34.1139,34.1139,34.1139,34.1139,34.1139,34.1139,34.1139,34.1139,34.1139,34.1139,34.1139,34.1139,34.1139,34.1139,34.1139,34.1139,34.1139,34.1139,34.1139,34.1139,34.1139,34.1139,34.1139,34.1139,34.1139,34.1139,34.1139,34.1139,34.1139,34.1139,34.1139,34.1139,34.1139,34.1139,34.1139,34.1139,34.1139,34.1139,34.1139,33.5722,33.5722,33.5722,33.5722,33.5722,33.5722,42.3188,42.6528,42.3188,42.6528,42.3188,42.6528,42.3188,42.6528,42.3188,42.6528,42.3188,42.6528,42.3188,42.6528,42.3188,42.6528,42.3188,42.6528,42.3188,42.6528,42.3188,42.6528,42.3188,42.6528,42.3188,42.6528,42.3188,42.6528,42.3188,42.6528,42.3188,42.6528,42.3188,42.6528,42.3188,42.6528,42.3188,42.6528,42.3188,42.6528,42.3188,42.6528,42.3188,42.6528,42.3188,42.6528,42.3188,42.6528,42.3188,42.6528,42.3188,42.6528,42.3188,42.6528,42.3188,42.6528,42.3188,42.6528,42.3188,42.6528,42.3188,42.6528,42.3188,42.6528,42.3188,42.6528,42.3188,42.6528,42.3188,42.6528,42.3188,42.6528,42.3188,42.6528,42.3188,42.6528,42.3188,42.6528,42.3188,42.6528,42.3188,42.6528,42.3188,42.6528,42.3188,42.6528,42.3188,42.6528,40.4136,40.4136,40.4136,40.4136,40.4136,36.0758,44.4877,40.8072,42.5022,42.6746,40.0641,39.0223,41.7598,48.4676,44.0562,44.0562,38.5667,47.6211,47.6211,47.6211,47.6211,47.6211,47.6211,47.6211,47.6211,47.6211,47.6211,47.6211,47.6211,47.6211,47.6211,47.6211,47.6211,47.6211,47.6211,47.6211,47.6211,47.6211,47.6211,47.6211,47.6211,47.6211,47.6211,47.6211,47.6211,47.6211,47.6211,47.6211,47.6211,47.6211,47.6211,40.7777,40.7777,40.7777,40.7777,32.7936,44.9222,33.9153,41.3604,32.7936,44.9222,33.9153,41.3604,32.7936,44.9222,33.9153,41.3604,38.9047,38.9047,38.9047,38.9047,38.9047,38.9047,38.9047,38.9047,32.8312,32.8312,32.8312,32.8312,39.161,40.002,40.8859,43.1887,40.5302,41.6839,42.2366,30.3004,43.6718,30.3004,43.6718,30.3004,43.6718,30.3004,43.6718,30.3004,43.6718,30.3004,43.6718,30.3004,43.6718,30.3004,43.6718,30.3004,43.6718,30.3004,43.6718,30.3004,43.6718,30.3004,43.6718,30.3004,43.6718,25.7839,36.8877,25.7839,36.8877,25.7839,36.8877,25.7839,36.8877,25.7839,36.8877,25.7839,36.8877,25.7839,36.8877,40.0249,40.0249,40.0249,40.0249,40.0249,40.0249,40.0249,38.0423,42.4456,33.989,35.8017,40.7779,37.7825,35.6618,41.1035,41.1035,41.1035,41.1035,41.74,40.5263,37.8509,39.5386,39.7923,41.74,40.5263,37.8509,39.5386,39.7923,33.7627,33.1136,33.7627,33.1136,33.7627,33.1136,33.7627,33.1136,33.7627,33.1136,33.7627,33.1136,33.7627,33.1136,33.7627,33.1136,33.7627,33.1136,39.9862,32.51,39.2093,33.5088,41.4368,43.3354,39.9862,32.51,39.2093,33.5088,41.4368,43.3354,39.9862,32.51,39.2093,33.5088,41.4368,43.3354,39.9862,32.51,39.2093,33.5088,41.4368,43.3354,39.9862,32.51,39.2093,33.5088,41.4368,43.3354,44.9635,44.9635,40.6762,45.6366,45.6366,45.6366,42.962,47.238,40.4396,40.4396,40.4396,40.4396,35.2669,39.3051,39.3051,40.0077,32.7761,40.0077,32.7761,40.0077,32.7761,40.0077,32.7761,40.0077,32.7761,38.6358,43.4082,38.6358,43.4082,33.5277,42.5447,37.1175,39.8936,37.1175,39.8936,37.1175,39.8936,39.7621,39.7621,39.7621,35.8325,45.5372,43.6773,27.8911,36.5883,41.5988,40.4375,42.8696,45.5372,43.6773,27.8911,36.5883,41.5988,40.4375,42.8696,45.5372,43.6773,27.8911,36.5883,41.5988,40.4375,42.8696,45.5372,43.6773,27.8911,36.5883,41.5988,40.4375,42.8696,37.5295,37.9477,39.8318,37.7306,29.5825,41.4983,42.8094,39.2755,28.1085,39.7771,41.3112,41.0675,42.3834,42.3834,42.3834,34.4285,35.9794,43.1174,41.4622,39.6232,38.1663,39.9709,40.8371,33.1224,42.7491,34.6988,30.705,47.6671,39.5497,29.7863,39.1413,41.5563,28.1588],\"legendgroup\":\"\",\"lon\":[-122.443,-122.443,-122.443,-122.443,-122.443,-122.443,-122.443,-122.443,-122.443,-122.443,-122.443,-122.443,-122.443,-122.443,-122.443,-122.443,-122.443,-122.443,-122.443,-122.443,-122.443,-122.443,-122.443,-122.443,-122.443,-122.443,-122.443,-122.443,-122.443,-122.443,-122.443,-122.443,-122.443,-122.443,-122.443,-122.443,-122.443,-122.443,-122.443,-122.443,-122.443,-122.443,-122.443,-122.443,-122.443,-122.443,-122.443,-122.443,-122.443,-122.443,-122.443,-122.443,-122.443,-122.443,-122.443,-122.443,-122.443,-122.443,-122.443,-122.443,-122.443,-122.443,-122.443,-122.443,-122.443,-122.443,-122.443,-122.443,-122.443,-122.443,-122.443,-122.443,-122.443,-122.443,-122.443,-122.443,-122.443,-122.443,-122.443,-122.443,-122.443,-122.443,-122.443,-122.443,-122.443,-122.443,-122.443,-122.443,-122.443,-122.443,-122.443,-122.443,-122.443,-122.443,-122.443,-122.443,-122.443,-122.443,-122.443,-122.443,-122.443,-122.443,-122.443,-122.443,-122.443,-122.443,-122.443,-122.443,-122.443,-122.443,-122.443,-122.443,-122.443,-122.443,-122.443,-122.443,-122.443,-122.443,-122.443,-122.443,-122.443,-122.443,-122.443,-122.443,-122.443,-122.443,-122.443,-122.443,-122.443,-122.443,-122.443,-122.443,-122.443,-122.443,-122.443,-122.443,-122.443,-122.443,-122.443,-122.443,-122.443,-122.443,-122.443,-122.443,-122.443,-122.443,-122.443,-122.443,-122.443,-122.443,-122.443,-122.443,-122.443,-122.443,-122.443,-122.443,-122.443,-122.443,-122.443,-122.443,-122.443,-122.443,-122.443,-122.443,-122.443,-122.443,-122.443,-122.443,-122.443,-122.443,-122.443,-122.443,-122.443,-122.443,-122.443,-122.443,-122.443,-122.443,-122.443,-122.443,-122.443,-122.443,-122.443,-122.443,-122.443,-122.443,-122.443,-122.443,-122.443,-122.443,-122.443,-122.443,-122.443,-122.443,-122.443,-122.443,-122.443,-122.443,-122.443,-122.443,-122.443,-122.443,-122.443,-122.443,-122.443,-122.443,-122.443,-122.443,-122.443,-122.443,-122.443,-122.443,-122.443,-122.443,-122.443,-122.443,-122.443,-122.443,-122.443,-122.443,-122.443,-122.443,-122.443,-122.443,-122.443,-122.443,-122.443,-122.443,-122.443,-122.443,-122.443,-122.443,-122.443,-122.443,-122.443,-122.443,-122.443,-122.443,-122.443,-122.443,-122.443,-122.443,-122.443,-122.443,-122.443,-122.443,-122.443,-122.443,-122.443,-122.443,-122.443,-122.443,-122.443,-122.443,-122.443,-122.443,-122.443,-122.443,-122.443,-122.443,-122.443,-122.443,-122.443,-122.443,-122.443,-122.443,-122.443,-122.443,-122.443,-122.443,-122.443,-122.443,-122.443,-87.6862,-87.6862,-87.6862,-87.6862,-87.6862,-87.6862,-87.6862,-87.6862,-87.6862,-87.6862,-87.6862,-87.6862,-87.6862,-87.6862,-87.6862,-87.6862,-87.6862,-87.6862,-87.6862,-73.9249,-73.9249,-73.9249,-73.9249,-73.9249,-73.9249,-73.9249,-73.9249,-73.9249,-73.9249,-73.9249,-73.9249,-73.9249,-73.9249,-73.9249,-73.9249,-73.9249,-73.9249,-73.9249,-73.9249,-73.9249,-73.9249,-73.9249,-73.9249,-73.9249,-73.9249,-73.9249,-73.9249,-73.9249,-73.9249,-73.9249,-73.9249,-73.9249,-73.9249,-73.9249,-73.9249,-73.9249,-73.9249,-73.9249,-73.9249,-73.9249,-73.9249,-73.9249,-73.9249,-73.9249,-73.9249,-73.9249,-73.9249,-73.9249,-73.9249,-73.9249,-73.9249,-73.9249,-73.9249,-73.9249,-73.9249,-73.9249,-73.9249,-73.9249,-73.9249,-73.9249,-73.9249,-73.9249,-73.9249,-73.9249,-73.9249,-73.9249,-73.9249,-73.9249,-73.9249,-73.9249,-73.9249,-73.9249,-73.9249,-73.9249,-73.9249,-73.9249,-73.9249,-73.9249,-73.9249,-73.9249,-73.9249,-73.9249,-73.9249,-73.9249,-73.9249,-73.9249,-73.9249,-73.9249,-73.9249,-73.9249,-73.9249,-73.9249,-73.9249,-73.9249,-73.9249,-73.9249,-73.9249,-73.9249,-73.9249,-73.9249,-73.9249,-73.9249,-73.9249,-73.9249,-73.9249,-73.9249,-73.9249,-73.9249,-73.9249,-73.9249,-73.9249,-73.9249,-73.9249,-73.9249,-72.7758,-71.2599,-74.9375,-88.9505,-118.4068,-118.4068,-118.4068,-118.4068,-118.4068,-118.4068,-118.4068,-118.4068,-118.4068,-118.4068,-118.4068,-118.4068,-118.4068,-118.4068,-118.4068,-118.4068,-118.4068,-118.4068,-118.4068,-118.4068,-118.4068,-118.4068,-118.4068,-118.4068,-118.4068,-118.4068,-118.4068,-118.4068,-118.4068,-118.4068,-118.4068,-118.4068,-118.4068,-118.4068,-118.4068,-118.4068,-118.4068,-118.4068,-118.4068,-118.4068,-112.0891,-112.0891,-112.0891,-112.0891,-112.0891,-112.0891,-71.0846,-78.7555,-71.0846,-78.7555,-71.0846,-78.7555,-71.0846,-78.7555,-71.0846,-78.7555,-71.0846,-78.7555,-71.0846,-78.7555,-71.0846,-78.7555,-71.0846,-78.7555,-71.0846,-78.7555,-71.0846,-78.7555,-71.0846,-78.7555,-71.0846,-78.7555,-71.0846,-78.7555,-71.0846,-78.7555,-71.0846,-78.7555,-71.0846,-78.7555,-71.0846,-78.7555,-71.0846,-78.7555,-71.0846,-78.7555,-71.0846,-78.7555,-71.0846,-78.7555,-71.0846,-78.7555,-71.0846,-78.7555,-71.0846,-78.7555,-71.0846,-78.7555,-71.0846,-78.7555,-71.0846,-78.7555,-71.0846,-78.7555,-71.0846,-78.7555,-71.0846,-78.7555,-71.0846,-78.7555,-71.0846,-78.7555,-71.0846,-78.7555,-71.0846,-78.7555,-71.0846,-78.7555,-71.0846,-78.7555,-71.0846,-78.7555,-71.0846,-78.7555,-71.0846,-78.7555,-71.0846,-78.7555,-71.0846,-78.7555,-71.0846,-78.7555,-71.0846,-78.7555,-111.8726,-111.8726,-111.8726,-111.8726,-111.8726,-79.4686,-73.2314,-91.1247,-71.2027,-88.2723,-74.8393,-84.7217,-72.9589,-122.3298,-121.3087,-121.3087,-121.4683,-122.3244,-122.3244,-122.3244,-122.3244,-122.3244,-122.3244,-122.3244,-122.3244,-122.3244,-122.3244,-122.3244,-122.3244,-122.3244,-122.3244,-122.3244,-122.3244,-122.3244,-122.3244,-122.3244,-122.3244,-122.3244,-122.3244,-122.3244,-122.3244,-122.3244,-122.3244,-122.3244,-122.3244,-122.3244,-122.3244,-122.3244,-122.3244,-122.3244,-122.3244,-111.9306,-111.9306,-111.9306,-111.9306,-96.7662,-123.3131,-84.8416,-75.9662,-96.7662,-123.3131,-84.8416,-75.9662,-96.7662,-123.3131,-84.8416,-75.9662,-77.0163,-77.0163,-77.0163,-77.0163,-77.0163,-77.0163,-77.0163,-77.0163,-117.1225,-117.1225,-117.1225,-117.1225,-75.5203,-76.8699,-74.5597,-70.8845,-81.4805,-73.5739,-71.2842,-97.7522,-92.9783,-97.7522,-92.9783,-97.7522,-92.9783,-97.7522,-92.9783,-97.7522,-92.9783,-97.7522,-92.9783,-97.7522,-92.9783,-97.7522,-92.9783,-97.7522,-92.9783,-97.7522,-92.9783,-97.7522,-92.9783,-97.7522,-92.9783,-97.7522,-92.9783,-80.2102,-94.8718,-80.2102,-94.8718,-80.2102,-94.8718,-80.2102,-94.8718,-80.2102,-94.8718,-80.2102,-94.8718,-80.2102,-94.8718,-105.2523,-105.2523,-105.2523,-105.2523,-105.2523,-105.2523,-105.2523,-84.4587,-71.2307,-81.2202,-80.2682,-99.7461,-79.444,-88.3945,-73.5583,-73.5583,-73.5583,-73.5583,-111.8419,-78.4235,-81.9857,-82.4063,-75.355,-111.8419,-78.4235,-81.9857,-82.4063,-75.355,-84.4224,-94.1672,-84.4224,-94.1672,-84.4224,-94.1672,-84.4224,-94.1672,-84.4224,-94.1672,-84.4224,-94.1672,-84.4224,-94.1672,-84.4224,-94.1672,-84.4224,-94.1672,-82.985,-84.8771,-85.9183,-88.4096,-97.3563,-89.03,-82.985,-84.8771,-85.9183,-88.4096,-97.3563,-89.03,-82.985,-84.8771,-85.9183,-88.4096,-97.3563,-89.03,-82.985,-84.8771,-85.9183,-88.4096,-97.3563,-89.03,-82.985,-84.8771,-85.9183,-88.4096,-97.3563,-89.03,-93.2678,-93.2678,-95.8613,-122.5967,-122.5967,-122.5967,-85.6562,-93.5327,-79.9762,-79.9762,-79.9762,-79.9762,-120.6691,-76.6144,-76.6144,-75.1339,-89.1221,-75.1339,-89.1221,-75.1339,-89.1221,-75.1339,-89.1221,-75.1339,-89.1221,-90.2451,-84.6118,-90.2451,-84.6118,-86.7987,-83.2166,-84.0767,-83.4376,-84.0767,-83.4376,-84.0767,-83.4376,-104.8759,-104.8759,-104.8759,-78.6435,-122.65,-70.2715,-97.3284,-86.5194,-72.589,-84.9833,-84.899,-122.65,-70.2715,-97.3284,-86.5194,-72.589,-84.9833,-84.899,-122.65,-70.2715,-97.3284,-86.5194,-72.589,-84.9833,-84.899,-122.65,-70.2715,-97.3284,-86.5194,-72.589,-84.9833,-84.899,-77.4756,-122.339,-84.8905,-84.2926,-95.7602,-71.6608,-82.7518,-93.9731,-80.6627,-86.1458,-72.9246,-85.0175,-83.1024,-83.1024,-83.1024,-119.7202,-78.9031,-70.9195,-72.6829,-121.7875,-85.6485,-105.1441,-81.2643,-89.0553,-71.491,-86.6412,-95.5544,-117.433,-119.8483,-95.3889,-84.5061,-90.6052,-81.6084],\"marker\":{\"color\":\"#636efa\",\"size\":[260.0,237.0,0.0,515.0,100.0,50.0,0.0,0.0,88.0,0.0,1250.0,1100.0,0.0,0.0,0.0,0.0,0.0,0.0,0.0,300.0,105.0,200.0,4100.0,0.0,180.0,100.0,60.0,31.0,124.0,40.0,100.0,400.0,65.0,60.0,45.0,0.0,0.0,11000.0,130.0,35.0,0.0,0.0,0.0,0.0,1000.0,350.0,0.0,3700.0,1000.0,700.0,60.0,0.0,0.0,0.0,0.0,550.0,156.0,142.0,50.0,200.0,140.0,100.0,0.0,25.0,13.0,94.0,150.0,30.0,0.0,400.0,0.0,64.0,23.0,0.0,32.0,0.0,84.0,24.0,378.0,90.0,150.0,136.0,100.0,55.0,611.0,180.0,96.0,120.0,51.0,50.0,0.0,0.0,0.0,78.0,0.0,0.0,40.0,671.0,0.0,0.0,40.0,0.0,0.0,100.0,0.0,0.0,35.0,0.0,0.0,800.0,30.0,80.0,25.0,0.0,0.0,5.0,23.0,0.0,49.0,27.0,0.0,0.0,90.0,70.0,45.0,29.0,0.0,0.0,80.0,24.0,140.0,0.0,31.0,29.0,50.0,110.0,125.0,54.0,0.0,0.0,220.0,0.0,0.0,175.0,90.0,0.0,270.0,48.0,0.0,0.0,0.0,36.0,0.0,250.0,100.0,80.0,73.0,50.0,0.0,713.0,80.0,0.0,50.0,40.0,60.0,60.0,23.0,0.0,0.0,0.0,23.0,80.0,0.0,45.0,15.0,0.0,0.0,140.0,0.0,75.0,60.0,60.0,13.0,1000.0,94.0,0.0,23.0,0.0,42.0,39.0,0.0,262.0,7.0,0.0,45.0,0.0,0.0,0.0,0.0,150.0,0.0,100.0,31.0,85.0,15.0,400.0,12.0,0.0,0.0,200.0,85.0,16.0,13.0,0.0,0.0,0.0,300.0,27.0,43.0,40.0,300.0,15.0,120.0,70.0,24.0,0.0,101.0,45.0,150.0,23.0,1100.0,33.0,330.0,0.0,250.0,150.0,40.0,0.0,0.0,0.0,23.0,0.0,250.0,30.0,29.0,25.0,34.0,25.0,0.0,0.0,0.0,300.0,240.0,83.0,70.0,150.0,310.0,90.0,72.0,45.0,150.0,25.0,340.0,200.0,10.0,44.0,0.0,0.0,0.0,150.0,0.0,190.0,0.0,150.0,0.0,80.0,0.0,50.0,0.0,26.0,0.0,0.0,60.0,800.0,500.0,0.0,38.0,63.0,54.0,0.0,80.0,87.0,120.0,180.0,32.0,100.0,130.0,33.0,0.0,180.0,58.0,37.0,0.0,120.0,70.0,241.0,170.0,170.0,110.0,0.0,30.0,65.0,500.0,67.0,500.0,110.0,271.0,193.0,100.0,0.0,0.0,0.0,0.0,81.0,30.0,20.0,0.0,138.0,0.0,0.0,0.0,52.0,0.0,16.0,784.0,60.0,0.0,0.0,337.0,63.0,0.0,0.0,115.0,19.0,0.0,136.0,38.0,60.0,0.0,0.0,23.0,0.0,68.0,30.0,0.0,0.0,0.0,120.0,24.0,1000.0,156.0,0.0,30.0,120.0,80.0,20.0,150.0,0.0,0.0,40.0,30.0,210.0,0.0,0.0,0.0,0.0,50.0,0.0,50.0,450.0,250.0,0.0,0.0,21.0,170.0,100.0,31.0,30.0,130.0,24.0,22.0,32.0,30.0,270.0,25.0,495.0,22.0,52.0,0.0,0.0,20.0,115.0,3000.0,100.0,2800.0,57.0,80.0,40.0,40.0,40.0,40.0,175.0,158.0,90.0,90.0,144.0,0.0,0.0,0.0,84.0,200.0,109.0,0.0,1280.0,140.0,0.0,0.0,200.0,0.0,40.0,0.0,0.0,0.0,100.0,12.0,30.0,58.0,0.0,80.0,110.0,8.0,52.0,40.0,56.0,20.0,138.0,50.0,75.0,0.0,150.0,111.0,0.0,1500.0,113.0,0.0,0.0,2500.0,0.0,0.0,65.0,65.0,0.0,0.0,0.0,0.0,90.0,90.0,59.0,59.0,40.0,40.0,0.0,0.0,65.0,65.0,0.0,0.0,0.0,0.0,60.0,60.0,200.0,200.0,198.0,198.0,0.0,0.0,29.0,29.0,160.0,160.0,0.0,0.0,55.0,55.0,870.0,870.0,0.0,0.0,130.0,130.0,0.0,0.0,140.0,140.0,40.0,40.0,0.0,0.0,25.0,25.0,95.0,95.0,0.0,0.0,0.0,0.0,27.0,27.0,30.0,30.0,0.0,0.0,70.0,70.0,35.0,35.0,110.0,110.0,0.0,0.0,40.0,40.0,26.0,26.0,0.0,0.0,100.0,100.0,70.0,70.0,97.0,97.0,0.0,0.0,0.0,0.0,20.0,200.0,0.0,47.0,47.0,47.0,47.0,47.0,47.0,47.0,47.0,47.0,0.0,50.0,60.0,0.0,10000.0,0.0,862.0,300.0,0.0,32.0,300.0,0.0,100.0,56.0,0.0,0.0,0.0,0.0,13.0,60.0,43.0,63.0,11.0,0.0,200.0,0.0,80.0,0.0,0.0,470.0,0.0,90.0,0.0,40.0,100.0,100.0,0.0,0.0,40.0,12.0,119.0,0.0,0.0,0.0,0.0,0.0,0.0,0.0,0.0,41.0,41.0,41.0,41.0,0.0,95.0,15.0,0.0,39.0,90.0,55.0,130.0,0.0,500.0,170.0,60.0,76.0,76.0,76.0,76.0,76.0,76.0,76.0,0.0,0.0,50.0,50.0,0.0,0.0,0.0,0.0,120.0,120.0,0.0,0.0,85.0,85.0,35.0,35.0,0.0,0.0,0.0,0.0,0.0,0.0,40.0,40.0,450.0,450.0,0.0,0.0,149.0,149.0,0.0,0.0,130.0,130.0,0.0,0.0,90.0,90.0,750.0,750.0,0.0,23.0,20.0,24.0,0.0,87.0,0.0,0.0,0.0,0.0,0.0,0.0,0.0,0.0,500.0,10.0,250.0,44.0,300.0,300.0,300.0,300.0,300.0,0.0,0.0,0.0,0.0,0.0,51.0,51.0,0.0,0.0,0.0,0.0,0.0,0.0,90.0,90.0,950.0,950.0,59.0,59.0,0.0,0.0,50.0,50.0,137.0,137.0,137.0,137.0,137.0,137.0,450.0,450.0,450.0,450.0,450.0,450.0,16.0,16.0,16.0,16.0,16.0,16.0,0.0,0.0,0.0,0.0,0.0,0.0,330.0,330.0,330.0,330.0,330.0,330.0,0.0,0.0,59.0,134.0,0.0,40.0,226.0,226.0,100.0,0.0,90.0,150.0,400.0,20.0,0.0,250.0,250.0,40.0,40.0,1500.0,1500.0,450.0,450.0,100.0,100.0,0.0,0.0,30.0,30.0,110.0,110.0,40.0,40.0,24.0,24.0,138.0,138.0,0.0,0.0,0.0,45.0,40.0,40.0,40.0,40.0,40.0,40.0,40.0,0.0,0.0,0.0,0.0,0.0,0.0,0.0,0.0,0.0,0.0,0.0,0.0,0.0,0.0,0.0,0.0,0.0,0.0,0.0,0.0,0.0,0.0,0.0,0.0,0.0,0.0,0.0,0.0,0.0,0.0,5.0,0.0,0.0,840.0,120.0,80.0,0.0,40.0,40.0,40.0,40.0,52.0,52.0,52.0,52.0,60.0,0.0,0.0,22.0,69.0,0.0,30.0,62.0,62.0],\"sizemode\":\"area\",\"sizeref\":27.5,\"symbol\":\"circle\"},\"mode\":\"markers\",\"name\":\"\",\"showlegend\":false,\"type\":\"scattergeo\"}],                        {\"template\":{\"data\":{\"histogram2dcontour\":[{\"type\":\"histogram2dcontour\",\"colorbar\":{\"outlinewidth\":0,\"ticks\":\"\"},\"colorscale\":[[0.0,\"#0d0887\"],[0.1111111111111111,\"#46039f\"],[0.2222222222222222,\"#7201a8\"],[0.3333333333333333,\"#9c179e\"],[0.4444444444444444,\"#bd3786\"],[0.5555555555555556,\"#d8576b\"],[0.6666666666666666,\"#ed7953\"],[0.7777777777777778,\"#fb9f3a\"],[0.8888888888888888,\"#fdca26\"],[1.0,\"#f0f921\"]]}],\"choropleth\":[{\"type\":\"choropleth\",\"colorbar\":{\"outlinewidth\":0,\"ticks\":\"\"}}],\"histogram2d\":[{\"type\":\"histogram2d\",\"colorbar\":{\"outlinewidth\":0,\"ticks\":\"\"},\"colorscale\":[[0.0,\"#0d0887\"],[0.1111111111111111,\"#46039f\"],[0.2222222222222222,\"#7201a8\"],[0.3333333333333333,\"#9c179e\"],[0.4444444444444444,\"#bd3786\"],[0.5555555555555556,\"#d8576b\"],[0.6666666666666666,\"#ed7953\"],[0.7777777777777778,\"#fb9f3a\"],[0.8888888888888888,\"#fdca26\"],[1.0,\"#f0f921\"]]}],\"heatmap\":[{\"type\":\"heatmap\",\"colorbar\":{\"outlinewidth\":0,\"ticks\":\"\"},\"colorscale\":[[0.0,\"#0d0887\"],[0.1111111111111111,\"#46039f\"],[0.2222222222222222,\"#7201a8\"],[0.3333333333333333,\"#9c179e\"],[0.4444444444444444,\"#bd3786\"],[0.5555555555555556,\"#d8576b\"],[0.6666666666666666,\"#ed7953\"],[0.7777777777777778,\"#fb9f3a\"],[0.8888888888888888,\"#fdca26\"],[1.0,\"#f0f921\"]]}],\"heatmapgl\":[{\"type\":\"heatmapgl\",\"colorbar\":{\"outlinewidth\":0,\"ticks\":\"\"},\"colorscale\":[[0.0,\"#0d0887\"],[0.1111111111111111,\"#46039f\"],[0.2222222222222222,\"#7201a8\"],[0.3333333333333333,\"#9c179e\"],[0.4444444444444444,\"#bd3786\"],[0.5555555555555556,\"#d8576b\"],[0.6666666666666666,\"#ed7953\"],[0.7777777777777778,\"#fb9f3a\"],[0.8888888888888888,\"#fdca26\"],[1.0,\"#f0f921\"]]}],\"contourcarpet\":[{\"type\":\"contourcarpet\",\"colorbar\":{\"outlinewidth\":0,\"ticks\":\"\"}}],\"contour\":[{\"type\":\"contour\",\"colorbar\":{\"outlinewidth\":0,\"ticks\":\"\"},\"colorscale\":[[0.0,\"#0d0887\"],[0.1111111111111111,\"#46039f\"],[0.2222222222222222,\"#7201a8\"],[0.3333333333333333,\"#9c179e\"],[0.4444444444444444,\"#bd3786\"],[0.5555555555555556,\"#d8576b\"],[0.6666666666666666,\"#ed7953\"],[0.7777777777777778,\"#fb9f3a\"],[0.8888888888888888,\"#fdca26\"],[1.0,\"#f0f921\"]]}],\"surface\":[{\"type\":\"surface\",\"colorbar\":{\"outlinewidth\":0,\"ticks\":\"\"},\"colorscale\":[[0.0,\"#0d0887\"],[0.1111111111111111,\"#46039f\"],[0.2222222222222222,\"#7201a8\"],[0.3333333333333333,\"#9c179e\"],[0.4444444444444444,\"#bd3786\"],[0.5555555555555556,\"#d8576b\"],[0.6666666666666666,\"#ed7953\"],[0.7777777777777778,\"#fb9f3a\"],[0.8888888888888888,\"#fdca26\"],[1.0,\"#f0f921\"]]}],\"mesh3d\":[{\"type\":\"mesh3d\",\"colorbar\":{\"outlinewidth\":0,\"ticks\":\"\"}}],\"scatter\":[{\"fillpattern\":{\"fillmode\":\"overlay\",\"size\":10,\"solidity\":0.2},\"type\":\"scatter\"}],\"parcoords\":[{\"type\":\"parcoords\",\"line\":{\"colorbar\":{\"outlinewidth\":0,\"ticks\":\"\"}}}],\"scatterpolargl\":[{\"type\":\"scatterpolargl\",\"marker\":{\"colorbar\":{\"outlinewidth\":0,\"ticks\":\"\"}}}],\"bar\":[{\"error_x\":{\"color\":\"#2a3f5f\"},\"error_y\":{\"color\":\"#2a3f5f\"},\"marker\":{\"line\":{\"color\":\"#E5ECF6\",\"width\":0.5},\"pattern\":{\"fillmode\":\"overlay\",\"size\":10,\"solidity\":0.2}},\"type\":\"bar\"}],\"scattergeo\":[{\"type\":\"scattergeo\",\"marker\":{\"colorbar\":{\"outlinewidth\":0,\"ticks\":\"\"}}}],\"scatterpolar\":[{\"type\":\"scatterpolar\",\"marker\":{\"colorbar\":{\"outlinewidth\":0,\"ticks\":\"\"}}}],\"histogram\":[{\"marker\":{\"pattern\":{\"fillmode\":\"overlay\",\"size\":10,\"solidity\":0.2}},\"type\":\"histogram\"}],\"scattergl\":[{\"type\":\"scattergl\",\"marker\":{\"colorbar\":{\"outlinewidth\":0,\"ticks\":\"\"}}}],\"scatter3d\":[{\"type\":\"scatter3d\",\"line\":{\"colorbar\":{\"outlinewidth\":0,\"ticks\":\"\"}},\"marker\":{\"colorbar\":{\"outlinewidth\":0,\"ticks\":\"\"}}}],\"scattermapbox\":[{\"type\":\"scattermapbox\",\"marker\":{\"colorbar\":{\"outlinewidth\":0,\"ticks\":\"\"}}}],\"scatterternary\":[{\"type\":\"scatterternary\",\"marker\":{\"colorbar\":{\"outlinewidth\":0,\"ticks\":\"\"}}}],\"scattercarpet\":[{\"type\":\"scattercarpet\",\"marker\":{\"colorbar\":{\"outlinewidth\":0,\"ticks\":\"\"}}}],\"carpet\":[{\"aaxis\":{\"endlinecolor\":\"#2a3f5f\",\"gridcolor\":\"white\",\"linecolor\":\"white\",\"minorgridcolor\":\"white\",\"startlinecolor\":\"#2a3f5f\"},\"baxis\":{\"endlinecolor\":\"#2a3f5f\",\"gridcolor\":\"white\",\"linecolor\":\"white\",\"minorgridcolor\":\"white\",\"startlinecolor\":\"#2a3f5f\"},\"type\":\"carpet\"}],\"table\":[{\"cells\":{\"fill\":{\"color\":\"#EBF0F8\"},\"line\":{\"color\":\"white\"}},\"header\":{\"fill\":{\"color\":\"#C8D4E3\"},\"line\":{\"color\":\"white\"}},\"type\":\"table\"}],\"barpolar\":[{\"marker\":{\"line\":{\"color\":\"#E5ECF6\",\"width\":0.5},\"pattern\":{\"fillmode\":\"overlay\",\"size\":10,\"solidity\":0.2}},\"type\":\"barpolar\"}],\"pie\":[{\"automargin\":true,\"type\":\"pie\"}]},\"layout\":{\"autotypenumbers\":\"strict\",\"colorway\":[\"#636efa\",\"#EF553B\",\"#00cc96\",\"#ab63fa\",\"#FFA15A\",\"#19d3f3\",\"#FF6692\",\"#B6E880\",\"#FF97FF\",\"#FECB52\"],\"font\":{\"color\":\"#2a3f5f\"},\"hovermode\":\"closest\",\"hoverlabel\":{\"align\":\"left\"},\"paper_bgcolor\":\"white\",\"plot_bgcolor\":\"#E5ECF6\",\"polar\":{\"bgcolor\":\"#E5ECF6\",\"angularaxis\":{\"gridcolor\":\"white\",\"linecolor\":\"white\",\"ticks\":\"\"},\"radialaxis\":{\"gridcolor\":\"white\",\"linecolor\":\"white\",\"ticks\":\"\"}},\"ternary\":{\"bgcolor\":\"#E5ECF6\",\"aaxis\":{\"gridcolor\":\"white\",\"linecolor\":\"white\",\"ticks\":\"\"},\"baxis\":{\"gridcolor\":\"white\",\"linecolor\":\"white\",\"ticks\":\"\"},\"caxis\":{\"gridcolor\":\"white\",\"linecolor\":\"white\",\"ticks\":\"\"}},\"coloraxis\":{\"colorbar\":{\"outlinewidth\":0,\"ticks\":\"\"}},\"colorscale\":{\"sequential\":[[0.0,\"#0d0887\"],[0.1111111111111111,\"#46039f\"],[0.2222222222222222,\"#7201a8\"],[0.3333333333333333,\"#9c179e\"],[0.4444444444444444,\"#bd3786\"],[0.5555555555555556,\"#d8576b\"],[0.6666666666666666,\"#ed7953\"],[0.7777777777777778,\"#fb9f3a\"],[0.8888888888888888,\"#fdca26\"],[1.0,\"#f0f921\"]],\"sequentialminus\":[[0.0,\"#0d0887\"],[0.1111111111111111,\"#46039f\"],[0.2222222222222222,\"#7201a8\"],[0.3333333333333333,\"#9c179e\"],[0.4444444444444444,\"#bd3786\"],[0.5555555555555556,\"#d8576b\"],[0.6666666666666666,\"#ed7953\"],[0.7777777777777778,\"#fb9f3a\"],[0.8888888888888888,\"#fdca26\"],[1.0,\"#f0f921\"]],\"diverging\":[[0,\"#8e0152\"],[0.1,\"#c51b7d\"],[0.2,\"#de77ae\"],[0.3,\"#f1b6da\"],[0.4,\"#fde0ef\"],[0.5,\"#f7f7f7\"],[0.6,\"#e6f5d0\"],[0.7,\"#b8e186\"],[0.8,\"#7fbc41\"],[0.9,\"#4d9221\"],[1,\"#276419\"]]},\"xaxis\":{\"gridcolor\":\"white\",\"linecolor\":\"white\",\"ticks\":\"\",\"title\":{\"standoff\":15},\"zerolinecolor\":\"white\",\"automargin\":true,\"zerolinewidth\":2},\"yaxis\":{\"gridcolor\":\"white\",\"linecolor\":\"white\",\"ticks\":\"\",\"title\":{\"standoff\":15},\"zerolinecolor\":\"white\",\"automargin\":true,\"zerolinewidth\":2},\"scene\":{\"xaxis\":{\"backgroundcolor\":\"#E5ECF6\",\"gridcolor\":\"white\",\"linecolor\":\"white\",\"showbackground\":true,\"ticks\":\"\",\"zerolinecolor\":\"white\",\"gridwidth\":2},\"yaxis\":{\"backgroundcolor\":\"#E5ECF6\",\"gridcolor\":\"white\",\"linecolor\":\"white\",\"showbackground\":true,\"ticks\":\"\",\"zerolinecolor\":\"white\",\"gridwidth\":2},\"zaxis\":{\"backgroundcolor\":\"#E5ECF6\",\"gridcolor\":\"white\",\"linecolor\":\"white\",\"showbackground\":true,\"ticks\":\"\",\"zerolinecolor\":\"white\",\"gridwidth\":2}},\"shapedefaults\":{\"line\":{\"color\":\"#2a3f5f\"}},\"annotationdefaults\":{\"arrowcolor\":\"#2a3f5f\",\"arrowhead\":0,\"arrowwidth\":1},\"geo\":{\"bgcolor\":\"white\",\"landcolor\":\"#E5ECF6\",\"subunitcolor\":\"white\",\"showland\":true,\"showlakes\":true,\"lakecolor\":\"white\"},\"title\":{\"x\":0.05},\"mapbox\":{\"style\":\"light\"}}},\"geo\":{\"domain\":{\"x\":[0.0,1.0],\"y\":[0.0,1.0]},\"projection\":{\"type\":\"natural earth\"},\"center\":{}},\"legend\":{\"tracegroupgap\":0,\"itemsizing\":\"constant\"},\"title\":{\"text\":\"Layoffs Tracker\"},\"updatemenus\":[{\"buttons\":[{\"args\":[null,{\"frame\":{\"duration\":500,\"redraw\":true},\"mode\":\"immediate\",\"fromcurrent\":true,\"transition\":{\"duration\":500,\"easing\":\"linear\"}}],\"label\":\"&#9654;\",\"method\":\"animate\"},{\"args\":[[null],{\"frame\":{\"duration\":0,\"redraw\":true},\"mode\":\"immediate\",\"fromcurrent\":true,\"transition\":{\"duration\":0,\"easing\":\"linear\"}}],\"label\":\"&#9724;\",\"method\":\"animate\"}],\"direction\":\"left\",\"pad\":{\"r\":10,\"t\":70},\"showactive\":false,\"type\":\"buttons\",\"x\":0.1,\"xanchor\":\"right\",\"y\":0,\"yanchor\":\"top\"}],\"sliders\":[{\"active\":0,\"currentvalue\":{\"prefix\":\"year=\"},\"len\":0.9,\"pad\":{\"b\":10,\"t\":60},\"steps\":[{\"args\":[[\"2022.0\"],{\"frame\":{\"duration\":0,\"redraw\":true},\"mode\":\"immediate\",\"fromcurrent\":true,\"transition\":{\"duration\":0,\"easing\":\"linear\"}}],\"label\":\"2022.0\",\"method\":\"animate\"},{\"args\":[[\"2021.0\"],{\"frame\":{\"duration\":0,\"redraw\":true},\"mode\":\"immediate\",\"fromcurrent\":true,\"transition\":{\"duration\":0,\"easing\":\"linear\"}}],\"label\":\"2021.0\",\"method\":\"animate\"},{\"args\":[[\"2020.0\"],{\"frame\":{\"duration\":0,\"redraw\":true},\"mode\":\"immediate\",\"fromcurrent\":true,\"transition\":{\"duration\":0,\"easing\":\"linear\"}}],\"label\":\"2020.0\",\"method\":\"animate\"}],\"x\":0.1,\"xanchor\":\"left\",\"y\":0,\"yanchor\":\"top\"}]},                        {\"responsive\": true}                    ).then(function(){\n",
       "                            Plotly.addFrames('82c04c77-a93f-48de-b5f6-12da1b1adb8b', [{\"data\":[{\"geo\":\"geo\",\"hovertemplate\":\"<b>%{hovertext}</b><br><br>year=2022.0<br>laid_off_count=%{marker.size}<br>lat=%{lat}<br>lng=%{lon}<extra></extra>\",\"hovertext\":[\"San Francisco\",\"San Francisco\",\"San Francisco\",\"San Francisco\",\"San Francisco\",\"San Francisco\",\"San Francisco\",\"San Francisco\",\"San Francisco\",\"San Francisco\",\"San Francisco\",\"San Francisco\",\"San Francisco\",\"San Francisco\",\"San Francisco\",\"San Francisco\",\"San Francisco\",\"San Francisco\",\"San Francisco\",\"San Francisco\",\"San Francisco\",\"San Francisco\",\"San Francisco\",\"San Francisco\",\"San Francisco\",\"San Francisco\",\"San Francisco\",\"San Francisco\",\"San Francisco\",\"San Francisco\",\"San Francisco\",\"San Francisco\",\"San Francisco\",\"San Francisco\",\"San Francisco\",\"San Francisco\",\"San Francisco\",\"San Francisco\",\"San Francisco\",\"San Francisco\",\"San Francisco\",\"San Francisco\",\"San Francisco\",\"San Francisco\",\"San Francisco\",\"San Francisco\",\"San Francisco\",\"San Francisco\",\"San Francisco\",\"San Francisco\",\"San Francisco\",\"San Francisco\",\"San Francisco\",\"San Francisco\",\"San Francisco\",\"San Francisco\",\"San Francisco\",\"San Francisco\",\"San Francisco\",\"San Francisco\",\"San Francisco\",\"San Francisco\",\"San Francisco\",\"San Francisco\",\"San Francisco\",\"San Francisco\",\"San Francisco\",\"San Francisco\",\"San Francisco\",\"San Francisco\",\"San Francisco\",\"San Francisco\",\"San Francisco\",\"San Francisco\",\"San Francisco\",\"San Francisco\",\"San Francisco\",\"San Francisco\",\"San Francisco\",\"San Francisco\",\"San Francisco\",\"San Francisco\",\"San Francisco\",\"San Francisco\",\"San Francisco\",\"San Francisco\",\"San Francisco\",\"San Francisco\",\"San Francisco\",\"San Francisco\",\"San Francisco\",\"San Francisco\",\"San Francisco\",\"San Francisco\",\"San Francisco\",\"San Francisco\",\"San Francisco\",\"San Francisco\",\"San Francisco\",\"San Francisco\",\"San Francisco\",\"San Francisco\",\"San Francisco\",\"San Francisco\",\"San Francisco\",\"San Francisco\",\"San Francisco\",\"San Francisco\",\"San Francisco\",\"San Francisco\",\"San Francisco\",\"San Francisco\",\"San Francisco\",\"San Francisco\",\"San Francisco\",\"San Francisco\",\"San Francisco\",\"San Francisco\",\"San Francisco\",\"San Francisco\",\"San Francisco\",\"San Francisco\",\"San Francisco\",\"San Francisco\",\"San Francisco\",\"San Francisco\",\"San Francisco\",\"San Francisco\",\"San Francisco\",\"San Francisco\",\"San Francisco\",\"San Francisco\",\"San Francisco\",\"San Francisco\",\"San Francisco\",\"San Francisco\",\"San Francisco\",\"San Francisco\",\"San Francisco\",\"San Francisco\",\"San Francisco\",\"San Francisco\",\"San Francisco\",\"San Francisco\",\"San Francisco\",\"San Francisco\",\"San Francisco\",\"San Francisco\",\"San Francisco\",\"San Francisco\",\"San Francisco\",\"San Francisco\",\"San Francisco\",\"San Francisco\",\"San Francisco\",\"San Francisco\",\"San Francisco\",\"San Francisco\",\"San Francisco\",\"San Francisco\",\"San Francisco\",\"San Francisco\",\"San Francisco\",\"San Francisco\",\"San Francisco\",\"San Francisco\",\"San Francisco\",\"San Francisco\",\"San Francisco\",\"San Francisco\",\"San Francisco\",\"San Francisco\",\"San Francisco\",\"San Francisco\",\"San Francisco\",\"San Francisco\",\"San Francisco\",\"San Francisco\",\"San Francisco\",\"San Francisco\",\"San Francisco\",\"San Francisco\",\"San Francisco\",\"San Francisco\",\"San Francisco\",\"San Francisco\",\"San Francisco\",\"San Francisco\",\"San Francisco\",\"San Francisco\",\"San Francisco\",\"San Francisco\",\"San Francisco\",\"San Francisco\",\"San Francisco\",\"San Francisco\",\"San Francisco\",\"San Francisco\",\"San Francisco\",\"San Francisco\",\"San Francisco\",\"San Francisco\",\"San Francisco\",\"San Francisco\",\"San Francisco\",\"San Francisco\",\"San Francisco\",\"San Francisco\",\"San Francisco\",\"San Francisco\",\"San Francisco\",\"San Francisco\",\"San Francisco\",\"San Francisco\",\"San Francisco\",\"San Francisco\",\"San Francisco\",\"San Francisco\",\"San Francisco\",\"San Francisco\",\"San Francisco\",\"San Francisco\",\"San Francisco\",\"San Francisco\",\"San Francisco\",\"San Francisco\",\"San Francisco\",\"San Francisco\",\"San Francisco\",\"San Francisco\",\"San Francisco\",\"San Francisco\",\"San Francisco\",\"San Francisco\",\"San Francisco\",\"San Francisco\",\"San Francisco\",\"San Francisco\",\"San Francisco\",\"San Francisco\",\"San Francisco\",\"San Francisco\",\"San Francisco\",\"San Francisco\",\"San Francisco\",\"San Francisco\",\"San Francisco\",\"San Francisco\",\"San Francisco\",\"San Francisco\",\"San Francisco\",\"San Francisco\",\"San Francisco\",\"San Francisco\",\"San Francisco\",\"San Francisco\",\"San Francisco\",\"San Francisco\",\"San Francisco\",\"San Francisco\",\"San Francisco\",\"San Francisco\",\"San Francisco\",\"San Francisco\",\"San Francisco\",\"San Francisco\",\"San Francisco\",\"San Francisco\",\"San Francisco\",\"San Francisco\",\"San Francisco\",\"San Francisco\",\"San Francisco\",\"Chicago\",\"Chicago\",\"Chicago\",\"Chicago\",\"Chicago\",\"Chicago\",\"Chicago\",\"Chicago\",\"Chicago\",\"Chicago\",\"Chicago\",\"Chicago\",\"Chicago\",\"Chicago\",\"Chicago\",\"Chicago\",\"Chicago\",\"Chicago\",\"Chicago\",\"New York\",\"New York\",\"New York\",\"New York\",\"New York\",\"New York\",\"New York\",\"New York\",\"New York\",\"New York\",\"New York\",\"New York\",\"New York\",\"New York\",\"New York\",\"New York\",\"New York\",\"New York\",\"New York\",\"New York\",\"New York\",\"New York\",\"New York\",\"New York\",\"New York\",\"New York\",\"New York\",\"New York\",\"New York\",\"New York\",\"New York\",\"New York\",\"New York\",\"New York\",\"New York\",\"New York\",\"New York\",\"New York\",\"New York\",\"New York\",\"New York\",\"New York\",\"New York\",\"New York\",\"New York\",\"New York\",\"New York\",\"New York\",\"New York\",\"New York\",\"New York\",\"New York\",\"New York\",\"New York\",\"New York\",\"New York\",\"New York\",\"New York\",\"New York\",\"New York\",\"New York\",\"New York\",\"New York\",\"New York\",\"New York\",\"New York\",\"New York\",\"New York\",\"New York\",\"New York\",\"New York\",\"New York\",\"New York\",\"New York\",\"New York\",\"New York\",\"New York\",\"New York\",\"New York\",\"New York\",\"New York\",\"New York\",\"New York\",\"New York\",\"New York\",\"New York\",\"New York\",\"New York\",\"New York\",\"New York\",\"New York\",\"New York\",\"New York\",\"New York\",\"New York\",\"New York\",\"New York\",\"New York\",\"New York\",\"New York\",\"New York\",\"New York\",\"New York\",\"New York\",\"New York\",\"New York\",\"New York\",\"New York\",\"New York\",\"New York\",\"New York\",\"New York\",\"New York\",\"New York\",\"New York\",\"Berlin\",\"Berlin\",\"Berlin\",\"Berlin\",\"Los Angeles\",\"Los Angeles\",\"Los Angeles\",\"Los Angeles\",\"Los Angeles\",\"Los Angeles\",\"Los Angeles\",\"Los Angeles\",\"Los Angeles\",\"Los Angeles\",\"Los Angeles\",\"Los Angeles\",\"Los Angeles\",\"Los Angeles\",\"Los Angeles\",\"Los Angeles\",\"Los Angeles\",\"Los Angeles\",\"Los Angeles\",\"Los Angeles\",\"Los Angeles\",\"Los Angeles\",\"Los Angeles\",\"Los Angeles\",\"Los Angeles\",\"Los Angeles\",\"Los Angeles\",\"Los Angeles\",\"Los Angeles\",\"Los Angeles\",\"Los Angeles\",\"Los Angeles\",\"Los Angeles\",\"Los Angeles\",\"Los Angeles\",\"Los Angeles\",\"Los Angeles\",\"Los Angeles\",\"Los Angeles\",\"Los Angeles\",\"Phoenix\",\"Phoenix\",\"Phoenix\",\"Phoenix\",\"Phoenix\",\"Phoenix\",\"Boston\",\"Boston\",\"Boston\",\"Boston\",\"Boston\",\"Boston\",\"Boston\",\"Boston\",\"Boston\",\"Boston\",\"Boston\",\"Boston\",\"Boston\",\"Boston\",\"Boston\",\"Boston\",\"Boston\",\"Boston\",\"Boston\",\"Boston\",\"Boston\",\"Boston\",\"Boston\",\"Boston\",\"Boston\",\"Boston\",\"Boston\",\"Boston\",\"Boston\",\"Boston\",\"Boston\",\"Boston\",\"Boston\",\"Boston\",\"Boston\",\"Boston\",\"Boston\",\"Boston\",\"Boston\",\"Boston\",\"Boston\",\"Boston\",\"Boston\",\"Boston\",\"Boston\",\"Boston\",\"Boston\",\"Boston\",\"Boston\",\"Boston\",\"Boston\",\"Boston\",\"Boston\",\"Boston\",\"Boston\",\"Boston\",\"Boston\",\"Boston\",\"Boston\",\"Boston\",\"Boston\",\"Boston\",\"Boston\",\"Boston\",\"Boston\",\"Boston\",\"Boston\",\"Boston\",\"Boston\",\"Boston\",\"Boston\",\"Boston\",\"Boston\",\"Boston\",\"Boston\",\"Boston\",\"Boston\",\"Boston\",\"Boston\",\"Boston\",\"Boston\",\"Boston\",\"Boston\",\"Boston\",\"Boston\",\"Boston\",\"Boston\",\"Boston\",\"Lehi\",\"Lehi\",\"Lehi\",\"Lehi\",\"Lehi\",\"Burlington\",\"Burlington\",\"Burlington\",\"Burlington\",\"Burlington\",\"Burlington\",\"Burlington\",\"Burlington\",\"Burlington\",\"Bend\",\"Bend\",\"Sacramento\",\"Seattle\",\"Seattle\",\"Seattle\",\"Seattle\",\"Seattle\",\"Seattle\",\"Seattle\",\"Seattle\",\"Seattle\",\"Seattle\",\"Seattle\",\"Seattle\",\"Seattle\",\"Seattle\",\"Seattle\",\"Seattle\",\"Seattle\",\"Seattle\",\"Seattle\",\"Seattle\",\"Seattle\",\"Seattle\",\"Seattle\",\"Seattle\",\"Seattle\",\"Seattle\",\"Seattle\",\"Seattle\",\"Seattle\",\"Seattle\",\"Seattle\",\"Seattle\",\"Seattle\",\"Seattle\",\"Salt Lake City\",\"Salt Lake City\",\"Salt Lake City\",\"Salt Lake City\",\"Dallas\",\"Dallas\",\"Dallas\",\"Dallas\",\"Dallas\",\"Dallas\",\"Dallas\",\"Dallas\",\"Dallas\",\"Dallas\",\"Dallas\",\"Dallas\",\"Washington D.C.\",\"Washington D.C.\",\"Washington D.C.\",\"Washington D.C.\",\"Washington D.C.\",\"Washington D.C.\",\"Washington D.C.\",\"Washington D.C.\",\"San Diego\",\"San Diego\",\"San Diego\",\"San Diego\",\"Dover\",\"Dover\",\"Dover\",\"Dover\",\"Dover\",\"Dover\",\"Dover\",\"Austin\",\"Austin\",\"Austin\",\"Austin\",\"Austin\",\"Austin\",\"Austin\",\"Austin\",\"Austin\",\"Austin\",\"Austin\",\"Austin\",\"Austin\",\"Austin\",\"Austin\",\"Austin\",\"Austin\",\"Austin\",\"Austin\",\"Austin\",\"Austin\",\"Austin\",\"Austin\",\"Austin\",\"Austin\",\"Austin\",\"Miami\",\"Miami\",\"Miami\",\"Miami\",\"Miami\",\"Miami\",\"Miami\",\"Miami\",\"Miami\",\"Miami\",\"Miami\",\"Miami\",\"Miami\",\"Miami\",\"Boulder\",\"Boulder\",\"Boulder\",\"Boulder\",\"Boulder\",\"Boulder\",\"Boulder\",\"Lexington\",\"Lexington\",\"Lexington\",\"Lexington\",\"Lexington\",\"Lexington\",\"Lexington\",\"Stamford\",\"Stamford\",\"Stamford\",\"Stamford\",\"Logan\",\"Logan\",\"Logan\",\"Logan\",\"Logan\",\"Logan\",\"Logan\",\"Logan\",\"Logan\",\"Logan\",\"Atlanta\",\"Atlanta\",\"Atlanta\",\"Atlanta\",\"Atlanta\",\"Atlanta\",\"Atlanta\",\"Atlanta\",\"Atlanta\",\"Atlanta\",\"Atlanta\",\"Atlanta\",\"Atlanta\",\"Atlanta\",\"Atlanta\",\"Atlanta\",\"Atlanta\",\"Atlanta\",\"Columbus\",\"Columbus\",\"Columbus\",\"Columbus\",\"Columbus\",\"Columbus\",\"Columbus\",\"Columbus\",\"Columbus\",\"Columbus\",\"Columbus\",\"Columbus\",\"Columbus\",\"Columbus\",\"Columbus\",\"Columbus\",\"Columbus\",\"Columbus\",\"Columbus\",\"Columbus\",\"Columbus\",\"Columbus\",\"Columbus\",\"Columbus\",\"Columbus\",\"Columbus\",\"Columbus\",\"Columbus\",\"Columbus\",\"Columbus\",\"Minneapolis\",\"Minneapolis\",\"Nebraska City\",\"Vancouver\",\"Vancouver\",\"Vancouver\",\"Grand Rapids\",\"Grand Rapids\",\"Pittsburgh\",\"Pittsburgh\",\"Pittsburgh\",\"Pittsburgh\",\"San Luis Obispo\",\"Baltimore\",\"Baltimore\",\"Philadelphia\",\"Philadelphia\",\"Philadelphia\",\"Philadelphia\",\"Philadelphia\",\"Philadelphia\",\"Philadelphia\",\"Philadelphia\",\"Philadelphia\",\"Philadelphia\",\"St. Louis\",\"St. Louis\",\"St. Louis\",\"St. Louis\",\"Birmingham\",\"Birmingham\",\"London\",\"London\",\"London\",\"London\",\"London\",\"London\",\"Denver\",\"Denver\",\"Denver\",\"Raleigh\",\"Portland\",\"Portland\",\"Portland\",\"Portland\",\"Portland\",\"Portland\",\"Portland\",\"Portland\",\"Portland\",\"Portland\",\"Portland\",\"Portland\",\"Portland\",\"Portland\",\"Portland\",\"Portland\",\"Portland\",\"Portland\",\"Portland\",\"Portland\",\"Portland\",\"Portland\",\"Portland\",\"Portland\",\"Portland\",\"Portland\",\"Portland\",\"Portland\",\"Richmond\",\"Richmond\",\"Richmond\",\"Richmond\",\"Richmond\",\"Richmond\",\"Richmond\",\"Richmond\",\"Melbourne\",\"Indianapolis\",\"New Haven\",\"New Haven\",\"Detroit\",\"Detroit\",\"Detroit\",\"Santa Barbara\",\"Durham\",\"Durham\",\"Durham\",\"Durham\",\"Louisville\",\"Louisville\",\"Louisville\",\"Louisville\",\"Nashua\",\"Huntsville\",\"Huntsville\",\"Spokane\",\"Reno\",\"Houston\",\"Cincinnati\",\"Davenport\",\"Davenport\"],\"lat\":[37.7562,37.7562,37.7562,37.7562,37.7562,37.7562,37.7562,37.7562,37.7562,37.7562,37.7562,37.7562,37.7562,37.7562,37.7562,37.7562,37.7562,37.7562,37.7562,37.7562,37.7562,37.7562,37.7562,37.7562,37.7562,37.7562,37.7562,37.7562,37.7562,37.7562,37.7562,37.7562,37.7562,37.7562,37.7562,37.7562,37.7562,37.7562,37.7562,37.7562,37.7562,37.7562,37.7562,37.7562,37.7562,37.7562,37.7562,37.7562,37.7562,37.7562,37.7562,37.7562,37.7562,37.7562,37.7562,37.7562,37.7562,37.7562,37.7562,37.7562,37.7562,37.7562,37.7562,37.7562,37.7562,37.7562,37.7562,37.7562,37.7562,37.7562,37.7562,37.7562,37.7562,37.7562,37.7562,37.7562,37.7562,37.7562,37.7562,37.7562,37.7562,37.7562,37.7562,37.7562,37.7562,37.7562,37.7562,37.7562,37.7562,37.7562,37.7562,37.7562,37.7562,37.7562,37.7562,37.7562,37.7562,37.7562,37.7562,37.7562,37.7562,37.7562,37.7562,37.7562,37.7562,37.7562,37.7562,37.7562,37.7562,37.7562,37.7562,37.7562,37.7562,37.7562,37.7562,37.7562,37.7562,37.7562,37.7562,37.7562,37.7562,37.7562,37.7562,37.7562,37.7562,37.7562,37.7562,37.7562,37.7562,37.7562,37.7562,37.7562,37.7562,37.7562,37.7562,37.7562,37.7562,37.7562,37.7562,37.7562,37.7562,37.7562,37.7562,37.7562,37.7562,37.7562,37.7562,37.7562,37.7562,37.7562,37.7562,37.7562,37.7562,37.7562,37.7562,37.7562,37.7562,37.7562,37.7562,37.7562,37.7562,37.7562,37.7562,37.7562,37.7562,37.7562,37.7562,37.7562,37.7562,37.7562,37.7562,37.7562,37.7562,37.7562,37.7562,37.7562,37.7562,37.7562,37.7562,37.7562,37.7562,37.7562,37.7562,37.7562,37.7562,37.7562,37.7562,37.7562,37.7562,37.7562,37.7562,37.7562,37.7562,37.7562,37.7562,37.7562,37.7562,37.7562,37.7562,37.7562,37.7562,37.7562,37.7562,37.7562,37.7562,37.7562,37.7562,37.7562,37.7562,37.7562,37.7562,37.7562,37.7562,37.7562,37.7562,37.7562,37.7562,37.7562,37.7562,37.7562,37.7562,37.7562,37.7562,37.7562,37.7562,37.7562,37.7562,37.7562,37.7562,37.7562,37.7562,37.7562,37.7562,37.7562,37.7562,37.7562,37.7562,37.7562,37.7562,37.7562,37.7562,37.7562,37.7562,37.7562,37.7562,37.7562,37.7562,37.7562,37.7562,37.7562,37.7562,37.7562,37.7562,37.7562,37.7562,37.7562,37.7562,37.7562,37.7562,37.7562,37.7562,37.7562,37.7562,37.7562,37.7562,37.7562,37.7562,37.7562,37.7562,37.7562,37.7562,37.7562,37.7562,41.8373,41.8373,41.8373,41.8373,41.8373,41.8373,41.8373,41.8373,41.8373,41.8373,41.8373,41.8373,41.8373,41.8373,41.8373,41.8373,41.8373,41.8373,41.8373,40.6943,40.6943,40.6943,40.6943,40.6943,40.6943,40.6943,40.6943,40.6943,40.6943,40.6943,40.6943,40.6943,40.6943,40.6943,40.6943,40.6943,40.6943,40.6943,40.6943,40.6943,40.6943,40.6943,40.6943,40.6943,40.6943,40.6943,40.6943,40.6943,40.6943,40.6943,40.6943,40.6943,40.6943,40.6943,40.6943,40.6943,40.6943,40.6943,40.6943,40.6943,40.6943,40.6943,40.6943,40.6943,40.6943,40.6943,40.6943,40.6943,40.6943,40.6943,40.6943,40.6943,40.6943,40.6943,40.6943,40.6943,40.6943,40.6943,40.6943,40.6943,40.6943,40.6943,40.6943,40.6943,40.6943,40.6943,40.6943,40.6943,40.6943,40.6943,40.6943,40.6943,40.6943,40.6943,40.6943,40.6943,40.6943,40.6943,40.6943,40.6943,40.6943,40.6943,40.6943,40.6943,40.6943,40.6943,40.6943,40.6943,40.6943,40.6943,40.6943,40.6943,40.6943,40.6943,40.6943,40.6943,40.6943,40.6943,40.6943,40.6943,40.6943,40.6943,40.6943,40.6943,40.6943,40.6943,40.6943,40.6943,40.6943,40.6943,40.6943,40.6943,40.6943,40.6943,41.6114,44.4869,39.7915,43.9704,34.1139,34.1139,34.1139,34.1139,34.1139,34.1139,34.1139,34.1139,34.1139,34.1139,34.1139,34.1139,34.1139,34.1139,34.1139,34.1139,34.1139,34.1139,34.1139,34.1139,34.1139,34.1139,34.1139,34.1139,34.1139,34.1139,34.1139,34.1139,34.1139,34.1139,34.1139,34.1139,34.1139,34.1139,34.1139,34.1139,34.1139,34.1139,34.1139,34.1139,33.5722,33.5722,33.5722,33.5722,33.5722,33.5722,42.3188,42.6528,42.3188,42.6528,42.3188,42.6528,42.3188,42.6528,42.3188,42.6528,42.3188,42.6528,42.3188,42.6528,42.3188,42.6528,42.3188,42.6528,42.3188,42.6528,42.3188,42.6528,42.3188,42.6528,42.3188,42.6528,42.3188,42.6528,42.3188,42.6528,42.3188,42.6528,42.3188,42.6528,42.3188,42.6528,42.3188,42.6528,42.3188,42.6528,42.3188,42.6528,42.3188,42.6528,42.3188,42.6528,42.3188,42.6528,42.3188,42.6528,42.3188,42.6528,42.3188,42.6528,42.3188,42.6528,42.3188,42.6528,42.3188,42.6528,42.3188,42.6528,42.3188,42.6528,42.3188,42.6528,42.3188,42.6528,42.3188,42.6528,42.3188,42.6528,42.3188,42.6528,42.3188,42.6528,42.3188,42.6528,42.3188,42.6528,42.3188,42.6528,42.3188,42.6528,42.3188,42.6528,42.3188,42.6528,40.4136,40.4136,40.4136,40.4136,40.4136,36.0758,44.4877,40.8072,42.5022,42.6746,40.0641,39.0223,41.7598,48.4676,44.0562,44.0562,38.5667,47.6211,47.6211,47.6211,47.6211,47.6211,47.6211,47.6211,47.6211,47.6211,47.6211,47.6211,47.6211,47.6211,47.6211,47.6211,47.6211,47.6211,47.6211,47.6211,47.6211,47.6211,47.6211,47.6211,47.6211,47.6211,47.6211,47.6211,47.6211,47.6211,47.6211,47.6211,47.6211,47.6211,47.6211,40.7777,40.7777,40.7777,40.7777,32.7936,44.9222,33.9153,41.3604,32.7936,44.9222,33.9153,41.3604,32.7936,44.9222,33.9153,41.3604,38.9047,38.9047,38.9047,38.9047,38.9047,38.9047,38.9047,38.9047,32.8312,32.8312,32.8312,32.8312,39.161,40.002,40.8859,43.1887,40.5302,41.6839,42.2366,30.3004,43.6718,30.3004,43.6718,30.3004,43.6718,30.3004,43.6718,30.3004,43.6718,30.3004,43.6718,30.3004,43.6718,30.3004,43.6718,30.3004,43.6718,30.3004,43.6718,30.3004,43.6718,30.3004,43.6718,30.3004,43.6718,25.7839,36.8877,25.7839,36.8877,25.7839,36.8877,25.7839,36.8877,25.7839,36.8877,25.7839,36.8877,25.7839,36.8877,40.0249,40.0249,40.0249,40.0249,40.0249,40.0249,40.0249,38.0423,42.4456,33.989,35.8017,40.7779,37.7825,35.6618,41.1035,41.1035,41.1035,41.1035,41.74,40.5263,37.8509,39.5386,39.7923,41.74,40.5263,37.8509,39.5386,39.7923,33.7627,33.1136,33.7627,33.1136,33.7627,33.1136,33.7627,33.1136,33.7627,33.1136,33.7627,33.1136,33.7627,33.1136,33.7627,33.1136,33.7627,33.1136,39.9862,32.51,39.2093,33.5088,41.4368,43.3354,39.9862,32.51,39.2093,33.5088,41.4368,43.3354,39.9862,32.51,39.2093,33.5088,41.4368,43.3354,39.9862,32.51,39.2093,33.5088,41.4368,43.3354,39.9862,32.51,39.2093,33.5088,41.4368,43.3354,44.9635,44.9635,40.6762,45.6366,45.6366,45.6366,42.962,47.238,40.4396,40.4396,40.4396,40.4396,35.2669,39.3051,39.3051,40.0077,32.7761,40.0077,32.7761,40.0077,32.7761,40.0077,32.7761,40.0077,32.7761,38.6358,43.4082,38.6358,43.4082,33.5277,42.5447,37.1175,39.8936,37.1175,39.8936,37.1175,39.8936,39.7621,39.7621,39.7621,35.8325,45.5372,43.6773,27.8911,36.5883,41.5988,40.4375,42.8696,45.5372,43.6773,27.8911,36.5883,41.5988,40.4375,42.8696,45.5372,43.6773,27.8911,36.5883,41.5988,40.4375,42.8696,45.5372,43.6773,27.8911,36.5883,41.5988,40.4375,42.8696,37.5295,37.9477,39.8318,37.7306,29.5825,41.4983,42.8094,39.2755,28.1085,39.7771,41.3112,41.0675,42.3834,42.3834,42.3834,34.4285,35.9794,43.1174,41.4622,39.6232,38.1663,39.9709,40.8371,33.1224,42.7491,34.6988,30.705,47.6671,39.5497,29.7863,39.1413,41.5563,28.1588],\"legendgroup\":\"\",\"lon\":[-122.443,-122.443,-122.443,-122.443,-122.443,-122.443,-122.443,-122.443,-122.443,-122.443,-122.443,-122.443,-122.443,-122.443,-122.443,-122.443,-122.443,-122.443,-122.443,-122.443,-122.443,-122.443,-122.443,-122.443,-122.443,-122.443,-122.443,-122.443,-122.443,-122.443,-122.443,-122.443,-122.443,-122.443,-122.443,-122.443,-122.443,-122.443,-122.443,-122.443,-122.443,-122.443,-122.443,-122.443,-122.443,-122.443,-122.443,-122.443,-122.443,-122.443,-122.443,-122.443,-122.443,-122.443,-122.443,-122.443,-122.443,-122.443,-122.443,-122.443,-122.443,-122.443,-122.443,-122.443,-122.443,-122.443,-122.443,-122.443,-122.443,-122.443,-122.443,-122.443,-122.443,-122.443,-122.443,-122.443,-122.443,-122.443,-122.443,-122.443,-122.443,-122.443,-122.443,-122.443,-122.443,-122.443,-122.443,-122.443,-122.443,-122.443,-122.443,-122.443,-122.443,-122.443,-122.443,-122.443,-122.443,-122.443,-122.443,-122.443,-122.443,-122.443,-122.443,-122.443,-122.443,-122.443,-122.443,-122.443,-122.443,-122.443,-122.443,-122.443,-122.443,-122.443,-122.443,-122.443,-122.443,-122.443,-122.443,-122.443,-122.443,-122.443,-122.443,-122.443,-122.443,-122.443,-122.443,-122.443,-122.443,-122.443,-122.443,-122.443,-122.443,-122.443,-122.443,-122.443,-122.443,-122.443,-122.443,-122.443,-122.443,-122.443,-122.443,-122.443,-122.443,-122.443,-122.443,-122.443,-122.443,-122.443,-122.443,-122.443,-122.443,-122.443,-122.443,-122.443,-122.443,-122.443,-122.443,-122.443,-122.443,-122.443,-122.443,-122.443,-122.443,-122.443,-122.443,-122.443,-122.443,-122.443,-122.443,-122.443,-122.443,-122.443,-122.443,-122.443,-122.443,-122.443,-122.443,-122.443,-122.443,-122.443,-122.443,-122.443,-122.443,-122.443,-122.443,-122.443,-122.443,-122.443,-122.443,-122.443,-122.443,-122.443,-122.443,-122.443,-122.443,-122.443,-122.443,-122.443,-122.443,-122.443,-122.443,-122.443,-122.443,-122.443,-122.443,-122.443,-122.443,-122.443,-122.443,-122.443,-122.443,-122.443,-122.443,-122.443,-122.443,-122.443,-122.443,-122.443,-122.443,-122.443,-122.443,-122.443,-122.443,-122.443,-122.443,-122.443,-122.443,-122.443,-122.443,-122.443,-122.443,-122.443,-122.443,-122.443,-122.443,-122.443,-122.443,-122.443,-122.443,-122.443,-122.443,-122.443,-122.443,-122.443,-122.443,-122.443,-122.443,-122.443,-122.443,-122.443,-122.443,-122.443,-122.443,-122.443,-122.443,-122.443,-122.443,-122.443,-122.443,-122.443,-122.443,-122.443,-122.443,-122.443,-122.443,-122.443,-122.443,-122.443,-122.443,-122.443,-122.443,-87.6862,-87.6862,-87.6862,-87.6862,-87.6862,-87.6862,-87.6862,-87.6862,-87.6862,-87.6862,-87.6862,-87.6862,-87.6862,-87.6862,-87.6862,-87.6862,-87.6862,-87.6862,-87.6862,-73.9249,-73.9249,-73.9249,-73.9249,-73.9249,-73.9249,-73.9249,-73.9249,-73.9249,-73.9249,-73.9249,-73.9249,-73.9249,-73.9249,-73.9249,-73.9249,-73.9249,-73.9249,-73.9249,-73.9249,-73.9249,-73.9249,-73.9249,-73.9249,-73.9249,-73.9249,-73.9249,-73.9249,-73.9249,-73.9249,-73.9249,-73.9249,-73.9249,-73.9249,-73.9249,-73.9249,-73.9249,-73.9249,-73.9249,-73.9249,-73.9249,-73.9249,-73.9249,-73.9249,-73.9249,-73.9249,-73.9249,-73.9249,-73.9249,-73.9249,-73.9249,-73.9249,-73.9249,-73.9249,-73.9249,-73.9249,-73.9249,-73.9249,-73.9249,-73.9249,-73.9249,-73.9249,-73.9249,-73.9249,-73.9249,-73.9249,-73.9249,-73.9249,-73.9249,-73.9249,-73.9249,-73.9249,-73.9249,-73.9249,-73.9249,-73.9249,-73.9249,-73.9249,-73.9249,-73.9249,-73.9249,-73.9249,-73.9249,-73.9249,-73.9249,-73.9249,-73.9249,-73.9249,-73.9249,-73.9249,-73.9249,-73.9249,-73.9249,-73.9249,-73.9249,-73.9249,-73.9249,-73.9249,-73.9249,-73.9249,-73.9249,-73.9249,-73.9249,-73.9249,-73.9249,-73.9249,-73.9249,-73.9249,-73.9249,-73.9249,-73.9249,-73.9249,-73.9249,-73.9249,-73.9249,-72.7758,-71.2599,-74.9375,-88.9505,-118.4068,-118.4068,-118.4068,-118.4068,-118.4068,-118.4068,-118.4068,-118.4068,-118.4068,-118.4068,-118.4068,-118.4068,-118.4068,-118.4068,-118.4068,-118.4068,-118.4068,-118.4068,-118.4068,-118.4068,-118.4068,-118.4068,-118.4068,-118.4068,-118.4068,-118.4068,-118.4068,-118.4068,-118.4068,-118.4068,-118.4068,-118.4068,-118.4068,-118.4068,-118.4068,-118.4068,-118.4068,-118.4068,-118.4068,-118.4068,-112.0891,-112.0891,-112.0891,-112.0891,-112.0891,-112.0891,-71.0846,-78.7555,-71.0846,-78.7555,-71.0846,-78.7555,-71.0846,-78.7555,-71.0846,-78.7555,-71.0846,-78.7555,-71.0846,-78.7555,-71.0846,-78.7555,-71.0846,-78.7555,-71.0846,-78.7555,-71.0846,-78.7555,-71.0846,-78.7555,-71.0846,-78.7555,-71.0846,-78.7555,-71.0846,-78.7555,-71.0846,-78.7555,-71.0846,-78.7555,-71.0846,-78.7555,-71.0846,-78.7555,-71.0846,-78.7555,-71.0846,-78.7555,-71.0846,-78.7555,-71.0846,-78.7555,-71.0846,-78.7555,-71.0846,-78.7555,-71.0846,-78.7555,-71.0846,-78.7555,-71.0846,-78.7555,-71.0846,-78.7555,-71.0846,-78.7555,-71.0846,-78.7555,-71.0846,-78.7555,-71.0846,-78.7555,-71.0846,-78.7555,-71.0846,-78.7555,-71.0846,-78.7555,-71.0846,-78.7555,-71.0846,-78.7555,-71.0846,-78.7555,-71.0846,-78.7555,-71.0846,-78.7555,-71.0846,-78.7555,-71.0846,-78.7555,-71.0846,-78.7555,-111.8726,-111.8726,-111.8726,-111.8726,-111.8726,-79.4686,-73.2314,-91.1247,-71.2027,-88.2723,-74.8393,-84.7217,-72.9589,-122.3298,-121.3087,-121.3087,-121.4683,-122.3244,-122.3244,-122.3244,-122.3244,-122.3244,-122.3244,-122.3244,-122.3244,-122.3244,-122.3244,-122.3244,-122.3244,-122.3244,-122.3244,-122.3244,-122.3244,-122.3244,-122.3244,-122.3244,-122.3244,-122.3244,-122.3244,-122.3244,-122.3244,-122.3244,-122.3244,-122.3244,-122.3244,-122.3244,-122.3244,-122.3244,-122.3244,-122.3244,-122.3244,-111.9306,-111.9306,-111.9306,-111.9306,-96.7662,-123.3131,-84.8416,-75.9662,-96.7662,-123.3131,-84.8416,-75.9662,-96.7662,-123.3131,-84.8416,-75.9662,-77.0163,-77.0163,-77.0163,-77.0163,-77.0163,-77.0163,-77.0163,-77.0163,-117.1225,-117.1225,-117.1225,-117.1225,-75.5203,-76.8699,-74.5597,-70.8845,-81.4805,-73.5739,-71.2842,-97.7522,-92.9783,-97.7522,-92.9783,-97.7522,-92.9783,-97.7522,-92.9783,-97.7522,-92.9783,-97.7522,-92.9783,-97.7522,-92.9783,-97.7522,-92.9783,-97.7522,-92.9783,-97.7522,-92.9783,-97.7522,-92.9783,-97.7522,-92.9783,-97.7522,-92.9783,-80.2102,-94.8718,-80.2102,-94.8718,-80.2102,-94.8718,-80.2102,-94.8718,-80.2102,-94.8718,-80.2102,-94.8718,-80.2102,-94.8718,-105.2523,-105.2523,-105.2523,-105.2523,-105.2523,-105.2523,-105.2523,-84.4587,-71.2307,-81.2202,-80.2682,-99.7461,-79.444,-88.3945,-73.5583,-73.5583,-73.5583,-73.5583,-111.8419,-78.4235,-81.9857,-82.4063,-75.355,-111.8419,-78.4235,-81.9857,-82.4063,-75.355,-84.4224,-94.1672,-84.4224,-94.1672,-84.4224,-94.1672,-84.4224,-94.1672,-84.4224,-94.1672,-84.4224,-94.1672,-84.4224,-94.1672,-84.4224,-94.1672,-84.4224,-94.1672,-82.985,-84.8771,-85.9183,-88.4096,-97.3563,-89.03,-82.985,-84.8771,-85.9183,-88.4096,-97.3563,-89.03,-82.985,-84.8771,-85.9183,-88.4096,-97.3563,-89.03,-82.985,-84.8771,-85.9183,-88.4096,-97.3563,-89.03,-82.985,-84.8771,-85.9183,-88.4096,-97.3563,-89.03,-93.2678,-93.2678,-95.8613,-122.5967,-122.5967,-122.5967,-85.6562,-93.5327,-79.9762,-79.9762,-79.9762,-79.9762,-120.6691,-76.6144,-76.6144,-75.1339,-89.1221,-75.1339,-89.1221,-75.1339,-89.1221,-75.1339,-89.1221,-75.1339,-89.1221,-90.2451,-84.6118,-90.2451,-84.6118,-86.7987,-83.2166,-84.0767,-83.4376,-84.0767,-83.4376,-84.0767,-83.4376,-104.8759,-104.8759,-104.8759,-78.6435,-122.65,-70.2715,-97.3284,-86.5194,-72.589,-84.9833,-84.899,-122.65,-70.2715,-97.3284,-86.5194,-72.589,-84.9833,-84.899,-122.65,-70.2715,-97.3284,-86.5194,-72.589,-84.9833,-84.899,-122.65,-70.2715,-97.3284,-86.5194,-72.589,-84.9833,-84.899,-77.4756,-122.339,-84.8905,-84.2926,-95.7602,-71.6608,-82.7518,-93.9731,-80.6627,-86.1458,-72.9246,-85.0175,-83.1024,-83.1024,-83.1024,-119.7202,-78.9031,-70.9195,-72.6829,-121.7875,-85.6485,-105.1441,-81.2643,-89.0553,-71.491,-86.6412,-95.5544,-117.433,-119.8483,-95.3889,-84.5061,-90.6052,-81.6084],\"marker\":{\"color\":\"#636efa\",\"size\":[260.0,237.0,0.0,515.0,100.0,50.0,0.0,0.0,88.0,0.0,1250.0,1100.0,0.0,0.0,0.0,0.0,0.0,0.0,0.0,300.0,105.0,200.0,4100.0,0.0,180.0,100.0,60.0,31.0,124.0,40.0,100.0,400.0,65.0,60.0,45.0,0.0,0.0,11000.0,130.0,35.0,0.0,0.0,0.0,0.0,1000.0,350.0,0.0,3700.0,1000.0,700.0,60.0,0.0,0.0,0.0,0.0,550.0,156.0,142.0,50.0,200.0,140.0,100.0,0.0,25.0,13.0,94.0,150.0,30.0,0.0,400.0,0.0,64.0,23.0,0.0,32.0,0.0,84.0,24.0,378.0,90.0,150.0,136.0,100.0,55.0,611.0,180.0,96.0,120.0,51.0,50.0,0.0,0.0,0.0,78.0,0.0,0.0,40.0,671.0,0.0,0.0,40.0,0.0,0.0,100.0,0.0,0.0,35.0,0.0,0.0,800.0,30.0,80.0,25.0,0.0,0.0,5.0,23.0,0.0,49.0,27.0,0.0,0.0,90.0,70.0,45.0,29.0,0.0,0.0,80.0,24.0,140.0,0.0,31.0,29.0,50.0,110.0,125.0,54.0,0.0,0.0,220.0,0.0,0.0,175.0,90.0,0.0,270.0,48.0,0.0,0.0,0.0,36.0,0.0,250.0,100.0,80.0,73.0,50.0,0.0,713.0,80.0,0.0,50.0,40.0,60.0,60.0,23.0,0.0,0.0,0.0,23.0,80.0,0.0,45.0,15.0,0.0,0.0,140.0,0.0,75.0,60.0,60.0,13.0,1000.0,94.0,0.0,23.0,0.0,42.0,39.0,0.0,262.0,7.0,0.0,45.0,0.0,0.0,0.0,0.0,150.0,0.0,100.0,31.0,85.0,15.0,400.0,12.0,0.0,0.0,200.0,85.0,16.0,13.0,0.0,0.0,0.0,300.0,27.0,43.0,40.0,300.0,15.0,120.0,70.0,24.0,0.0,101.0,45.0,150.0,23.0,1100.0,33.0,330.0,0.0,250.0,150.0,40.0,0.0,0.0,0.0,23.0,0.0,250.0,30.0,29.0,25.0,34.0,25.0,0.0,0.0,0.0,300.0,240.0,83.0,70.0,150.0,310.0,90.0,72.0,45.0,150.0,25.0,340.0,200.0,10.0,44.0,0.0,0.0,0.0,150.0,0.0,190.0,0.0,150.0,0.0,80.0,0.0,50.0,0.0,26.0,0.0,0.0,60.0,800.0,500.0,0.0,38.0,63.0,54.0,0.0,80.0,87.0,120.0,180.0,32.0,100.0,130.0,33.0,0.0,180.0,58.0,37.0,0.0,120.0,70.0,241.0,170.0,170.0,110.0,0.0,30.0,65.0,500.0,67.0,500.0,110.0,271.0,193.0,100.0,0.0,0.0,0.0,0.0,81.0,30.0,20.0,0.0,138.0,0.0,0.0,0.0,52.0,0.0,16.0,784.0,60.0,0.0,0.0,337.0,63.0,0.0,0.0,115.0,19.0,0.0,136.0,38.0,60.0,0.0,0.0,23.0,0.0,68.0,30.0,0.0,0.0,0.0,120.0,24.0,1000.0,156.0,0.0,30.0,120.0,80.0,20.0,150.0,0.0,0.0,40.0,30.0,210.0,0.0,0.0,0.0,0.0,50.0,0.0,50.0,450.0,250.0,0.0,0.0,21.0,170.0,100.0,31.0,30.0,130.0,24.0,22.0,32.0,30.0,270.0,25.0,495.0,22.0,52.0,0.0,0.0,20.0,115.0,3000.0,100.0,2800.0,57.0,80.0,40.0,40.0,40.0,40.0,175.0,158.0,90.0,90.0,144.0,0.0,0.0,0.0,84.0,200.0,109.0,0.0,1280.0,140.0,0.0,0.0,200.0,0.0,40.0,0.0,0.0,0.0,100.0,12.0,30.0,58.0,0.0,80.0,110.0,8.0,52.0,40.0,56.0,20.0,138.0,50.0,75.0,0.0,150.0,111.0,0.0,1500.0,113.0,0.0,0.0,2500.0,0.0,0.0,65.0,65.0,0.0,0.0,0.0,0.0,90.0,90.0,59.0,59.0,40.0,40.0,0.0,0.0,65.0,65.0,0.0,0.0,0.0,0.0,60.0,60.0,200.0,200.0,198.0,198.0,0.0,0.0,29.0,29.0,160.0,160.0,0.0,0.0,55.0,55.0,870.0,870.0,0.0,0.0,130.0,130.0,0.0,0.0,140.0,140.0,40.0,40.0,0.0,0.0,25.0,25.0,95.0,95.0,0.0,0.0,0.0,0.0,27.0,27.0,30.0,30.0,0.0,0.0,70.0,70.0,35.0,35.0,110.0,110.0,0.0,0.0,40.0,40.0,26.0,26.0,0.0,0.0,100.0,100.0,70.0,70.0,97.0,97.0,0.0,0.0,0.0,0.0,20.0,200.0,0.0,47.0,47.0,47.0,47.0,47.0,47.0,47.0,47.0,47.0,0.0,50.0,60.0,0.0,10000.0,0.0,862.0,300.0,0.0,32.0,300.0,0.0,100.0,56.0,0.0,0.0,0.0,0.0,13.0,60.0,43.0,63.0,11.0,0.0,200.0,0.0,80.0,0.0,0.0,470.0,0.0,90.0,0.0,40.0,100.0,100.0,0.0,0.0,40.0,12.0,119.0,0.0,0.0,0.0,0.0,0.0,0.0,0.0,0.0,41.0,41.0,41.0,41.0,0.0,95.0,15.0,0.0,39.0,90.0,55.0,130.0,0.0,500.0,170.0,60.0,76.0,76.0,76.0,76.0,76.0,76.0,76.0,0.0,0.0,50.0,50.0,0.0,0.0,0.0,0.0,120.0,120.0,0.0,0.0,85.0,85.0,35.0,35.0,0.0,0.0,0.0,0.0,0.0,0.0,40.0,40.0,450.0,450.0,0.0,0.0,149.0,149.0,0.0,0.0,130.0,130.0,0.0,0.0,90.0,90.0,750.0,750.0,0.0,23.0,20.0,24.0,0.0,87.0,0.0,0.0,0.0,0.0,0.0,0.0,0.0,0.0,500.0,10.0,250.0,44.0,300.0,300.0,300.0,300.0,300.0,0.0,0.0,0.0,0.0,0.0,51.0,51.0,0.0,0.0,0.0,0.0,0.0,0.0,90.0,90.0,950.0,950.0,59.0,59.0,0.0,0.0,50.0,50.0,137.0,137.0,137.0,137.0,137.0,137.0,450.0,450.0,450.0,450.0,450.0,450.0,16.0,16.0,16.0,16.0,16.0,16.0,0.0,0.0,0.0,0.0,0.0,0.0,330.0,330.0,330.0,330.0,330.0,330.0,0.0,0.0,59.0,134.0,0.0,40.0,226.0,226.0,100.0,0.0,90.0,150.0,400.0,20.0,0.0,250.0,250.0,40.0,40.0,1500.0,1500.0,450.0,450.0,100.0,100.0,0.0,0.0,30.0,30.0,110.0,110.0,40.0,40.0,24.0,24.0,138.0,138.0,0.0,0.0,0.0,45.0,40.0,40.0,40.0,40.0,40.0,40.0,40.0,0.0,0.0,0.0,0.0,0.0,0.0,0.0,0.0,0.0,0.0,0.0,0.0,0.0,0.0,0.0,0.0,0.0,0.0,0.0,0.0,0.0,0.0,0.0,0.0,0.0,0.0,0.0,0.0,0.0,0.0,5.0,0.0,0.0,840.0,120.0,80.0,0.0,40.0,40.0,40.0,40.0,52.0,52.0,52.0,52.0,60.0,0.0,0.0,22.0,69.0,0.0,30.0,62.0,62.0],\"sizemode\":\"area\",\"sizeref\":27.5,\"symbol\":\"circle\"},\"mode\":\"markers\",\"name\":\"\",\"showlegend\":false,\"type\":\"scattergeo\"}],\"name\":\"2022.0\"},{\"data\":[{\"geo\":\"geo\",\"hovertemplate\":\"<b>%{hovertext}</b><br><br>year=2021.0<br>laid_off_count=%{marker.size}<br>lat=%{lat}<br>lng=%{lon}<extra></extra>\",\"hovertext\":[\"San Francisco\",\"San Francisco\",\"San Francisco\",\"San Francisco\",\"San Francisco\",\"San Francisco\",\"San Francisco\",\"San Francisco\",\"San Francisco\",\"San Francisco\",\"San Francisco\",\"San Francisco\",\"San Francisco\",\"San Francisco\",\"San Francisco\",\"San Francisco\",\"Chicago\",\"New York\",\"New York\",\"New York\",\"New York\",\"New York\",\"New York\",\"Los Angeles\",\"Boston\",\"Boston\",\"Seattle\",\"Seattle\",\"Seattle\",\"Logan\",\"Logan\",\"Logan\",\"Logan\",\"Logan\",\"Portland\",\"Portland\",\"Portland\",\"Portland\",\"Portland\",\"Portland\",\"Portland\",\"Portland\",\"Portland\",\"Portland\",\"Portland\",\"Portland\",\"Portland\",\"Portland\"],\"lat\":[37.7562,37.7562,37.7562,37.7562,37.7562,37.7562,37.7562,37.7562,37.7562,37.7562,37.7562,37.7562,37.7562,37.7562,37.7562,37.7562,41.8373,40.6943,40.6943,40.6943,40.6943,40.6943,40.6943,34.1139,42.3188,42.6528,47.6211,47.6211,47.6211,41.74,40.5263,37.8509,39.5386,39.7923,45.5372,43.6773,27.8911,36.5883,41.5988,40.4375,42.8696,45.5372,43.6773,27.8911,36.5883,41.5988,40.4375,42.8696],\"legendgroup\":\"\",\"lon\":[-122.443,-122.443,-122.443,-122.443,-122.443,-122.443,-122.443,-122.443,-122.443,-122.443,-122.443,-122.443,-122.443,-122.443,-122.443,-122.443,-87.6862,-73.9249,-73.9249,-73.9249,-73.9249,-73.9249,-73.9249,-118.4068,-71.0846,-78.7555,-122.3244,-122.3244,-122.3244,-111.8419,-78.4235,-81.9857,-82.4063,-75.355,-122.65,-70.2715,-97.3284,-86.5194,-72.589,-84.9833,-84.899,-122.65,-70.2715,-97.3284,-86.5194,-72.589,-84.9833,-84.899],\"marker\":{\"color\":\"#636efa\",\"size\":[0.0,120.0,0.0,37.0,2434.0,65.0,0.0,36.0,160.0,0.0,0.0,0.0,180.0,1877.0,315.0,0.0,243.0,900.0,22.0,0.0,0.0,47.0,13.0,0.0,80.0,80.0,70.0,2000.0,30.0,0.0,0.0,0.0,0.0,0.0,41.0,41.0,41.0,41.0,41.0,41.0,41.0,0.0,0.0,0.0,0.0,0.0,0.0,0.0],\"sizemode\":\"area\",\"sizeref\":27.5,\"symbol\":\"circle\"},\"mode\":\"markers\",\"name\":\"\",\"showlegend\":false,\"type\":\"scattergeo\"}],\"name\":\"2021.0\"},{\"data\":[{\"geo\":\"geo\",\"hovertemplate\":\"<b>%{hovertext}</b><br><br>year=2020.0<br>laid_off_count=%{marker.size}<br>lat=%{lat}<br>lng=%{lon}<extra></extra>\",\"hovertext\":[\"San Francisco\",\"San Francisco\",\"San Francisco\",\"San Francisco\",\"San Francisco\",\"San Francisco\",\"San Francisco\",\"San Francisco\",\"San Francisco\",\"San Francisco\",\"San Francisco\",\"San Francisco\",\"San Francisco\",\"San Francisco\",\"San Francisco\",\"San Francisco\",\"San Francisco\",\"San Francisco\",\"San Francisco\",\"San Francisco\",\"San Francisco\",\"San Francisco\",\"San Francisco\",\"San Francisco\",\"San Francisco\",\"San Francisco\",\"San Francisco\",\"San Francisco\",\"San Francisco\",\"San Francisco\",\"San Francisco\",\"San Francisco\",\"San Francisco\",\"San Francisco\",\"San Francisco\",\"San Francisco\",\"San Francisco\",\"San Francisco\",\"San Francisco\",\"San Francisco\",\"San Francisco\",\"San Francisco\",\"San Francisco\",\"San Francisco\",\"San Francisco\",\"San Francisco\",\"San Francisco\",\"San Francisco\",\"San Francisco\",\"San Francisco\",\"San Francisco\",\"San Francisco\",\"San Francisco\",\"San Francisco\",\"San Francisco\",\"San Francisco\",\"San Francisco\",\"San Francisco\",\"San Francisco\",\"San Francisco\",\"San Francisco\",\"San Francisco\",\"San Francisco\",\"San Francisco\",\"San Francisco\",\"San Francisco\",\"San Francisco\",\"San Francisco\",\"San Francisco\",\"San Francisco\",\"San Francisco\",\"San Francisco\",\"San Francisco\",\"San Francisco\",\"San Francisco\",\"San Francisco\",\"San Francisco\",\"San Francisco\",\"San Francisco\",\"San Francisco\",\"San Francisco\",\"San Francisco\",\"San Francisco\",\"San Francisco\",\"San Francisco\",\"San Francisco\",\"San Francisco\",\"San Francisco\",\"San Francisco\",\"San Francisco\",\"San Francisco\",\"San Francisco\",\"San Francisco\",\"San Francisco\",\"San Francisco\",\"San Francisco\",\"San Francisco\",\"San Francisco\",\"San Francisco\",\"San Francisco\",\"San Francisco\",\"San Francisco\",\"San Francisco\",\"San Francisco\",\"San Francisco\",\"San Francisco\",\"San Francisco\",\"San Francisco\",\"San Francisco\",\"San Francisco\",\"San Francisco\",\"San Francisco\",\"San Francisco\",\"San Francisco\",\"San Francisco\",\"San Francisco\",\"San Francisco\",\"San Francisco\",\"San Francisco\",\"San Francisco\",\"San Francisco\",\"San Francisco\",\"San Francisco\",\"San Francisco\",\"San Francisco\",\"San Francisco\",\"San Francisco\",\"San Francisco\",\"San Francisco\",\"San Francisco\",\"San Francisco\",\"San Francisco\",\"San Francisco\",\"San Francisco\",\"San Francisco\",\"San Francisco\",\"San Francisco\",\"San Francisco\",\"San Francisco\",\"San Francisco\",\"San Francisco\",\"San Francisco\",\"San Francisco\",\"San Francisco\",\"San Francisco\",\"San Francisco\",\"San Francisco\",\"San Francisco\",\"San Francisco\",\"San Francisco\",\"San Francisco\",\"San Francisco\",\"San Francisco\",\"San Francisco\",\"San Francisco\",\"San Francisco\",\"San Francisco\",\"San Francisco\",\"San Francisco\",\"San Francisco\",\"San Francisco\",\"San Francisco\",\"San Francisco\",\"San Francisco\",\"San Francisco\",\"San Francisco\",\"San Francisco\",\"San Francisco\",\"San Francisco\",\"San Francisco\",\"San Francisco\",\"San Francisco\",\"San Francisco\",\"San Francisco\",\"San Francisco\",\"San Francisco\",\"San Francisco\",\"San Francisco\",\"San Francisco\",\"Chicago\",\"Chicago\",\"Chicago\",\"Chicago\",\"Chicago\",\"Chicago\",\"Chicago\",\"Chicago\",\"Chicago\",\"Chicago\",\"Chicago\",\"Chicago\",\"New York\",\"New York\",\"New York\",\"New York\",\"New York\",\"New York\",\"New York\",\"New York\",\"New York\",\"New York\",\"New York\",\"New York\",\"New York\",\"New York\",\"New York\",\"New York\",\"New York\",\"New York\",\"New York\",\"New York\",\"New York\",\"New York\",\"New York\",\"New York\",\"New York\",\"New York\",\"New York\",\"New York\",\"New York\",\"New York\",\"New York\",\"New York\",\"New York\",\"New York\",\"New York\",\"New York\",\"New York\",\"New York\",\"New York\",\"New York\",\"New York\",\"New York\",\"New York\",\"New York\",\"New York\",\"New York\",\"New York\",\"New York\",\"New York\",\"New York\",\"New York\",\"New York\",\"New York\",\"New York\",\"New York\",\"New York\",\"New York\",\"New York\",\"New York\",\"New York\",\"New York\",\"New York\",\"New York\",\"New York\",\"New York\",\"New York\",\"New York\",\"New York\",\"New York\",\"New York\",\"New York\",\"New York\",\"New York\",\"New York\",\"New York\",\"New York\",\"New York\",\"Los Angeles\",\"Los Angeles\",\"Los Angeles\",\"Los Angeles\",\"Los Angeles\",\"Los Angeles\",\"Los Angeles\",\"Los Angeles\",\"Los Angeles\",\"Los Angeles\",\"Los Angeles\",\"Los Angeles\",\"Los Angeles\",\"Los Angeles\",\"Los Angeles\",\"Los Angeles\",\"Los Angeles\",\"Los Angeles\",\"Los Angeles\",\"Los Angeles\",\"Los Angeles\",\"Los Angeles\",\"Los Angeles\",\"Los Angeles\",\"Los Angeles\",\"Los Angeles\",\"Los Angeles\",\"Los Angeles\",\"Los Angeles\",\"Los Angeles\",\"Los Angeles\",\"Los Angeles\",\"Los Angeles\",\"Phoenix\",\"Phoenix\",\"Boston\",\"Boston\",\"Boston\",\"Boston\",\"Boston\",\"Boston\",\"Boston\",\"Boston\",\"Boston\",\"Boston\",\"Boston\",\"Boston\",\"Boston\",\"Boston\",\"Boston\",\"Boston\",\"Boston\",\"Boston\",\"Boston\",\"Boston\",\"Boston\",\"Boston\",\"Boston\",\"Boston\",\"Boston\",\"Boston\",\"Boston\",\"Boston\",\"Boston\",\"Boston\",\"Boston\",\"Boston\",\"Boston\",\"Boston\",\"Boston\",\"Boston\",\"Boston\",\"Boston\",\"Boston\",\"Boston\",\"Boston\",\"Boston\",\"Boston\",\"Boston\",\"Boston\",\"Boston\",\"Boston\",\"Boston\",\"Boston\",\"Boston\",\"Boston\",\"Boston\",\"Boston\",\"Boston\",\"Boston\",\"Boston\",\"Boston\",\"Boston\",\"Boston\",\"Boston\",\"Boston\",\"Boston\",\"Boston\",\"Boston\",\"Boston\",\"Boston\",\"Sacramento\",\"Sacramento\",\"Seattle\",\"Seattle\",\"Seattle\",\"Seattle\",\"Seattle\",\"Seattle\",\"Seattle\",\"Seattle\",\"Seattle\",\"Seattle\",\"Seattle\",\"Seattle\",\"Seattle\",\"Seattle\",\"Seattle\",\"Seattle\",\"Seattle\",\"Seattle\",\"Seattle\",\"Seattle\",\"Seattle\",\"Seattle\",\"Seattle\",\"Salt Lake City\",\"Salt Lake City\",\"Salt Lake City\",\"Salt Lake City\",\"Salt Lake City\",\"Salt Lake City\",\"Salt Lake City\",\"Salt Lake City\",\"Salt Lake City\",\"Salt Lake City\",\"Salt Lake City\",\"Salt Lake City\",\"Salt Lake City\",\"Salt Lake City\",\"Dallas\",\"Dallas\",\"Dallas\",\"Dallas\",\"Dallas\",\"Dallas\",\"Dallas\",\"Dallas\",\"Washington D.C.\",\"Washington D.C.\",\"Washington D.C.\",\"Washington D.C.\",\"Washington D.C.\",\"Washington D.C.\",\"San Diego\",\"San Diego\",\"Austin\",\"Austin\",\"Austin\",\"Austin\",\"Austin\",\"Austin\",\"Austin\",\"Austin\",\"Austin\",\"Austin\",\"Austin\",\"Austin\",\"Austin\",\"Austin\",\"Austin\",\"Austin\",\"Austin\",\"Austin\",\"Austin\",\"Austin\",\"Austin\",\"Austin\",\"Austin\",\"Austin\",\"Austin\",\"Austin\",\"Austin\",\"Austin\",\"Austin\",\"Austin\",\"Miami\",\"Miami\",\"Boulder\",\"Stamford\",\"Atlanta\",\"Atlanta\",\"Atlanta\",\"Atlanta\",\"Atlanta\",\"Atlanta\",\"Atlanta\",\"Atlanta\",\"Atlanta\",\"Atlanta\",\"Columbus\",\"Columbus\",\"Columbus\",\"Columbus\",\"Columbus\",\"Columbus\",\"Minneapolis\",\"Minneapolis\",\"Minneapolis\",\"Minneapolis\",\"Minneapolis\",\"San Luis Obispo\",\"St. Louis\",\"St. Louis\",\"Denver\",\"Denver\",\"Denver\",\"Denver\",\"Denver\",\"Denver\",\"Denver\",\"Denver\",\"Raleigh\",\"Portland\",\"Portland\",\"Portland\",\"Portland\",\"Portland\",\"Portland\",\"Portland\",\"Portland\",\"Portland\",\"Portland\",\"Portland\",\"Portland\",\"Portland\",\"Portland\",\"Portland\",\"Portland\",\"Portland\",\"Portland\",\"Portland\",\"Portland\",\"Portland\",\"Portland\",\"Portland\",\"Portland\",\"Portland\",\"Portland\",\"Portland\",\"Portland\",\"Portland\",\"Portland\",\"Portland\",\"Portland\",\"Portland\",\"Portland\",\"Portland\",\"Portland\",\"Portland\",\"Portland\",\"Portland\",\"Portland\",\"Portland\",\"Portland\",\"Portland\",\"Portland\",\"Portland\",\"Portland\",\"Portland\",\"Portland\",\"Portland\",\"Portland\",\"Portland\",\"Portland\",\"Portland\",\"Portland\",\"Portland\",\"Portland\",\"Portland\",\"Portland\",\"Portland\",\"Portland\",\"Portland\",\"Portland\",\"Portland\",\"Portland\",\"Portland\",\"Portland\",\"Portland\",\"Portland\",\"Portland\",\"Portland\",\"Detroit\",\"Detroit\",\"Spokane\",\"Nashville\",\"Nashville\",\"Nashville\",\"Nashville\",\"Las Vegas\",\"Las Vegas\",\"Las Vegas\",\"Las Vegas\",\"Fayetteville\",\"Fayetteville\",\"Fayetteville\",\"Fayetteville\",\"Madison\",\"Madison\",\"Madison\",\"Madison\",\"Madison\",\"Madison\",\"Madison\",\"Santa Fe\",\"Santa Fe\",\"Santa Fe\",\"Santa Fe\",\"Norwalk\",\"Norwalk\",\"Norwalk\",\"Norwalk\",\"Missoula\",\"Missoula\",\"Milwaukee\",\"Ann Arbor\",\"New Orleans\",\"Charlotte\",\"Charlotte\"],\"lat\":[37.7562,37.7562,37.7562,37.7562,37.7562,37.7562,37.7562,37.7562,37.7562,37.7562,37.7562,37.7562,37.7562,37.7562,37.7562,37.7562,37.7562,37.7562,37.7562,37.7562,37.7562,37.7562,37.7562,37.7562,37.7562,37.7562,37.7562,37.7562,37.7562,37.7562,37.7562,37.7562,37.7562,37.7562,37.7562,37.7562,37.7562,37.7562,37.7562,37.7562,37.7562,37.7562,37.7562,37.7562,37.7562,37.7562,37.7562,37.7562,37.7562,37.7562,37.7562,37.7562,37.7562,37.7562,37.7562,37.7562,37.7562,37.7562,37.7562,37.7562,37.7562,37.7562,37.7562,37.7562,37.7562,37.7562,37.7562,37.7562,37.7562,37.7562,37.7562,37.7562,37.7562,37.7562,37.7562,37.7562,37.7562,37.7562,37.7562,37.7562,37.7562,37.7562,37.7562,37.7562,37.7562,37.7562,37.7562,37.7562,37.7562,37.7562,37.7562,37.7562,37.7562,37.7562,37.7562,37.7562,37.7562,37.7562,37.7562,37.7562,37.7562,37.7562,37.7562,37.7562,37.7562,37.7562,37.7562,37.7562,37.7562,37.7562,37.7562,37.7562,37.7562,37.7562,37.7562,37.7562,37.7562,37.7562,37.7562,37.7562,37.7562,37.7562,37.7562,37.7562,37.7562,37.7562,37.7562,37.7562,37.7562,37.7562,37.7562,37.7562,37.7562,37.7562,37.7562,37.7562,37.7562,37.7562,37.7562,37.7562,37.7562,37.7562,37.7562,37.7562,37.7562,37.7562,37.7562,37.7562,37.7562,37.7562,37.7562,37.7562,37.7562,37.7562,37.7562,37.7562,37.7562,37.7562,37.7562,37.7562,37.7562,37.7562,37.7562,37.7562,37.7562,37.7562,37.7562,37.7562,37.7562,37.7562,37.7562,37.7562,37.7562,37.7562,37.7562,37.7562,37.7562,37.7562,37.7562,41.8373,41.8373,41.8373,41.8373,41.8373,41.8373,41.8373,41.8373,41.8373,41.8373,41.8373,41.8373,40.6943,40.6943,40.6943,40.6943,40.6943,40.6943,40.6943,40.6943,40.6943,40.6943,40.6943,40.6943,40.6943,40.6943,40.6943,40.6943,40.6943,40.6943,40.6943,40.6943,40.6943,40.6943,40.6943,40.6943,40.6943,40.6943,40.6943,40.6943,40.6943,40.6943,40.6943,40.6943,40.6943,40.6943,40.6943,40.6943,40.6943,40.6943,40.6943,40.6943,40.6943,40.6943,40.6943,40.6943,40.6943,40.6943,40.6943,40.6943,40.6943,40.6943,40.6943,40.6943,40.6943,40.6943,40.6943,40.6943,40.6943,40.6943,40.6943,40.6943,40.6943,40.6943,40.6943,40.6943,40.6943,40.6943,40.6943,40.6943,40.6943,40.6943,40.6943,40.6943,40.6943,40.6943,40.6943,40.6943,40.6943,34.1139,34.1139,34.1139,34.1139,34.1139,34.1139,34.1139,34.1139,34.1139,34.1139,34.1139,34.1139,34.1139,34.1139,34.1139,34.1139,34.1139,34.1139,34.1139,34.1139,34.1139,34.1139,34.1139,34.1139,34.1139,34.1139,34.1139,34.1139,34.1139,34.1139,34.1139,34.1139,34.1139,33.5722,33.5722,42.3188,42.6528,42.3188,42.6528,42.3188,42.6528,42.3188,42.6528,42.3188,42.6528,42.3188,42.6528,42.3188,42.6528,42.3188,42.6528,42.3188,42.6528,42.3188,42.6528,42.3188,42.6528,42.3188,42.6528,42.3188,42.6528,42.3188,42.6528,42.3188,42.6528,42.3188,42.6528,42.3188,42.6528,42.3188,42.6528,42.3188,42.6528,42.3188,42.6528,42.3188,42.6528,42.3188,42.6528,42.3188,42.6528,42.3188,42.6528,42.3188,42.6528,42.3188,42.6528,42.3188,42.6528,42.3188,42.6528,42.3188,42.6528,42.3188,42.6528,42.3188,42.6528,42.3188,42.6528,42.3188,42.6528,38.5667,38.5667,47.6211,47.6211,47.6211,47.6211,47.6211,47.6211,47.6211,47.6211,47.6211,47.6211,47.6211,47.6211,47.6211,47.6211,47.6211,47.6211,47.6211,47.6211,47.6211,47.6211,47.6211,47.6211,47.6211,40.7777,40.7777,40.7777,40.7777,40.7777,40.7777,40.7777,40.7777,40.7777,40.7777,40.7777,40.7777,40.7777,40.7777,32.7936,44.9222,33.9153,41.3604,32.7936,44.9222,33.9153,41.3604,38.9047,38.9047,38.9047,38.9047,38.9047,38.9047,32.8312,32.8312,30.3004,43.6718,30.3004,43.6718,30.3004,43.6718,30.3004,43.6718,30.3004,43.6718,30.3004,43.6718,30.3004,43.6718,30.3004,43.6718,30.3004,43.6718,30.3004,43.6718,30.3004,43.6718,30.3004,43.6718,30.3004,43.6718,30.3004,43.6718,30.3004,43.6718,25.7839,36.8877,40.0249,41.1035,33.7627,33.1136,33.7627,33.1136,33.7627,33.1136,33.7627,33.1136,33.7627,33.1136,39.9862,32.51,39.2093,33.5088,41.4368,43.3354,44.9635,44.9635,44.9635,44.9635,44.9635,35.2669,38.6358,43.4082,39.7621,39.7621,39.7621,39.7621,39.7621,39.7621,39.7621,39.7621,35.8325,45.5372,43.6773,27.8911,36.5883,41.5988,40.4375,42.8696,45.5372,43.6773,27.8911,36.5883,41.5988,40.4375,42.8696,45.5372,43.6773,27.8911,36.5883,41.5988,40.4375,42.8696,45.5372,43.6773,27.8911,36.5883,41.5988,40.4375,42.8696,45.5372,43.6773,27.8911,36.5883,41.5988,40.4375,42.8696,45.5372,43.6773,27.8911,36.5883,41.5988,40.4375,42.8696,45.5372,43.6773,27.8911,36.5883,41.5988,40.4375,42.8696,45.5372,43.6773,27.8911,36.5883,41.5988,40.4375,42.8696,45.5372,43.6773,27.8911,36.5883,41.5988,40.4375,42.8696,45.5372,43.6773,27.8911,36.5883,41.5988,40.4375,42.8696,42.3834,42.3834,47.6671,36.1715,35.9692,36.1715,35.9692,36.2333,35.6011,36.2333,35.6011,36.0713,35.0846,33.45,35.149,43.0826,34.7114,32.4738,41.3398,38.7581,40.7586,44.0062,35.6619,29.3892,35.6619,29.3892,33.9069,41.1144,41.2443,41.4895,46.875,46.875,43.0642,42.2755,30.0687,35.208,42.5662],\"legendgroup\":\"\",\"lon\":[-122.443,-122.443,-122.443,-122.443,-122.443,-122.443,-122.443,-122.443,-122.443,-122.443,-122.443,-122.443,-122.443,-122.443,-122.443,-122.443,-122.443,-122.443,-122.443,-122.443,-122.443,-122.443,-122.443,-122.443,-122.443,-122.443,-122.443,-122.443,-122.443,-122.443,-122.443,-122.443,-122.443,-122.443,-122.443,-122.443,-122.443,-122.443,-122.443,-122.443,-122.443,-122.443,-122.443,-122.443,-122.443,-122.443,-122.443,-122.443,-122.443,-122.443,-122.443,-122.443,-122.443,-122.443,-122.443,-122.443,-122.443,-122.443,-122.443,-122.443,-122.443,-122.443,-122.443,-122.443,-122.443,-122.443,-122.443,-122.443,-122.443,-122.443,-122.443,-122.443,-122.443,-122.443,-122.443,-122.443,-122.443,-122.443,-122.443,-122.443,-122.443,-122.443,-122.443,-122.443,-122.443,-122.443,-122.443,-122.443,-122.443,-122.443,-122.443,-122.443,-122.443,-122.443,-122.443,-122.443,-122.443,-122.443,-122.443,-122.443,-122.443,-122.443,-122.443,-122.443,-122.443,-122.443,-122.443,-122.443,-122.443,-122.443,-122.443,-122.443,-122.443,-122.443,-122.443,-122.443,-122.443,-122.443,-122.443,-122.443,-122.443,-122.443,-122.443,-122.443,-122.443,-122.443,-122.443,-122.443,-122.443,-122.443,-122.443,-122.443,-122.443,-122.443,-122.443,-122.443,-122.443,-122.443,-122.443,-122.443,-122.443,-122.443,-122.443,-122.443,-122.443,-122.443,-122.443,-122.443,-122.443,-122.443,-122.443,-122.443,-122.443,-122.443,-122.443,-122.443,-122.443,-122.443,-122.443,-122.443,-122.443,-122.443,-122.443,-122.443,-122.443,-122.443,-122.443,-122.443,-122.443,-122.443,-122.443,-122.443,-122.443,-122.443,-122.443,-122.443,-122.443,-122.443,-122.443,-87.6862,-87.6862,-87.6862,-87.6862,-87.6862,-87.6862,-87.6862,-87.6862,-87.6862,-87.6862,-87.6862,-87.6862,-73.9249,-73.9249,-73.9249,-73.9249,-73.9249,-73.9249,-73.9249,-73.9249,-73.9249,-73.9249,-73.9249,-73.9249,-73.9249,-73.9249,-73.9249,-73.9249,-73.9249,-73.9249,-73.9249,-73.9249,-73.9249,-73.9249,-73.9249,-73.9249,-73.9249,-73.9249,-73.9249,-73.9249,-73.9249,-73.9249,-73.9249,-73.9249,-73.9249,-73.9249,-73.9249,-73.9249,-73.9249,-73.9249,-73.9249,-73.9249,-73.9249,-73.9249,-73.9249,-73.9249,-73.9249,-73.9249,-73.9249,-73.9249,-73.9249,-73.9249,-73.9249,-73.9249,-73.9249,-73.9249,-73.9249,-73.9249,-73.9249,-73.9249,-73.9249,-73.9249,-73.9249,-73.9249,-73.9249,-73.9249,-73.9249,-73.9249,-73.9249,-73.9249,-73.9249,-73.9249,-73.9249,-73.9249,-73.9249,-73.9249,-73.9249,-73.9249,-73.9249,-118.4068,-118.4068,-118.4068,-118.4068,-118.4068,-118.4068,-118.4068,-118.4068,-118.4068,-118.4068,-118.4068,-118.4068,-118.4068,-118.4068,-118.4068,-118.4068,-118.4068,-118.4068,-118.4068,-118.4068,-118.4068,-118.4068,-118.4068,-118.4068,-118.4068,-118.4068,-118.4068,-118.4068,-118.4068,-118.4068,-118.4068,-118.4068,-118.4068,-112.0891,-112.0891,-71.0846,-78.7555,-71.0846,-78.7555,-71.0846,-78.7555,-71.0846,-78.7555,-71.0846,-78.7555,-71.0846,-78.7555,-71.0846,-78.7555,-71.0846,-78.7555,-71.0846,-78.7555,-71.0846,-78.7555,-71.0846,-78.7555,-71.0846,-78.7555,-71.0846,-78.7555,-71.0846,-78.7555,-71.0846,-78.7555,-71.0846,-78.7555,-71.0846,-78.7555,-71.0846,-78.7555,-71.0846,-78.7555,-71.0846,-78.7555,-71.0846,-78.7555,-71.0846,-78.7555,-71.0846,-78.7555,-71.0846,-78.7555,-71.0846,-78.7555,-71.0846,-78.7555,-71.0846,-78.7555,-71.0846,-78.7555,-71.0846,-78.7555,-71.0846,-78.7555,-71.0846,-78.7555,-71.0846,-78.7555,-71.0846,-78.7555,-121.4683,-121.4683,-122.3244,-122.3244,-122.3244,-122.3244,-122.3244,-122.3244,-122.3244,-122.3244,-122.3244,-122.3244,-122.3244,-122.3244,-122.3244,-122.3244,-122.3244,-122.3244,-122.3244,-122.3244,-122.3244,-122.3244,-122.3244,-122.3244,-122.3244,-111.9306,-111.9306,-111.9306,-111.9306,-111.9306,-111.9306,-111.9306,-111.9306,-111.9306,-111.9306,-111.9306,-111.9306,-111.9306,-111.9306,-96.7662,-123.3131,-84.8416,-75.9662,-96.7662,-123.3131,-84.8416,-75.9662,-77.0163,-77.0163,-77.0163,-77.0163,-77.0163,-77.0163,-117.1225,-117.1225,-97.7522,-92.9783,-97.7522,-92.9783,-97.7522,-92.9783,-97.7522,-92.9783,-97.7522,-92.9783,-97.7522,-92.9783,-97.7522,-92.9783,-97.7522,-92.9783,-97.7522,-92.9783,-97.7522,-92.9783,-97.7522,-92.9783,-97.7522,-92.9783,-97.7522,-92.9783,-97.7522,-92.9783,-97.7522,-92.9783,-80.2102,-94.8718,-105.2523,-73.5583,-84.4224,-94.1672,-84.4224,-94.1672,-84.4224,-94.1672,-84.4224,-94.1672,-84.4224,-94.1672,-82.985,-84.8771,-85.9183,-88.4096,-97.3563,-89.03,-93.2678,-93.2678,-93.2678,-93.2678,-93.2678,-120.6691,-90.2451,-84.6118,-104.8759,-104.8759,-104.8759,-104.8759,-104.8759,-104.8759,-104.8759,-104.8759,-78.6435,-122.65,-70.2715,-97.3284,-86.5194,-72.589,-84.9833,-84.899,-122.65,-70.2715,-97.3284,-86.5194,-72.589,-84.9833,-84.899,-122.65,-70.2715,-97.3284,-86.5194,-72.589,-84.9833,-84.899,-122.65,-70.2715,-97.3284,-86.5194,-72.589,-84.9833,-84.899,-122.65,-70.2715,-97.3284,-86.5194,-72.589,-84.9833,-84.899,-122.65,-70.2715,-97.3284,-86.5194,-72.589,-84.9833,-84.899,-122.65,-70.2715,-97.3284,-86.5194,-72.589,-84.9833,-84.899,-122.65,-70.2715,-97.3284,-86.5194,-72.589,-84.9833,-84.899,-122.65,-70.2715,-97.3284,-86.5194,-72.589,-84.9833,-84.899,-122.65,-70.2715,-97.3284,-86.5194,-72.589,-84.9833,-84.899,-83.1024,-83.1024,-117.433,-86.7843,-77.9555,-86.7843,-77.9555,-115.2654,-105.2206,-115.2654,-105.2206,-94.166,-78.9776,-84.4709,-86.5634,-89.3931,-86.7626,-90.13,-72.6278,-85.3974,-74.417,-97.1084,-105.9819,-95.1005,-105.9819,-95.1005,-118.0829,-73.4215,-82.6088,-93.6913,-114.0214,-114.0214,-87.9673,-83.7312,-89.9288,-80.8304,-84.8304],\"marker\":{\"color\":\"#636efa\",\"size\":[78.0,0.0,18.0,0.0,0.0,0.0,8.0,47.0,0.0,30.0,0.0,0.0,1000.0,0.0,0.0,250.0,87.0,0.0,64.0,960.0,60.0,63.0,85.0,18.0,12.0,0.0,400.0,61.0,0.0,6.0,715.0,70.0,0.0,63.0,46.0,18.0,50.0,0.0,70.0,22.0,14.0,1400.0,62.0,200.0,300.0,112.0,39.0,3000.0,57.0,45.0,0.0,16.0,150.0,35.0,30.0,0.0,669.0,17.0,0.0,73.0,65.0,300.0,28.0,3700.0,50.0,0.0,1900.0,900.0,0.0,0.0,0.0,80.0,0.0,0.0,0.0,982.0,300.0,80.0,80.0,27.0,0.0,260.0,10.0,87.0,0.0,10.0,0.0,460.0,155.0,30.0,19.0,28.0,23.0,10.0,0.0,0.0,30.0,0.0,0.0,600.0,200.0,200.0,161.0,40.0,15.0,13.0,0.0,235.0,58.0,45.0,21.0,15.0,0.0,100.0,50.0,16.0,1000.0,90.0,0.0,500.0,92.0,89.0,86.0,30.0,100.0,94.0,65.0,100.0,40.0,300.0,147.0,140.0,120.0,34.0,0.0,0.0,240.0,65.0,35.0,35.0,30.0,26.0,0.0,200.0,50.0,46.0,9.0,0.0,349.0,108.0,20.0,0.0,250.0,30.0,20.0,0.0,10.0,227.0,100.0,40.0,0.0,250.0,41.0,13.0,300.0,100.0,75.0,56.0,50.0,10.0,0.0,400.0,80.0,20.0,15.0,13.0,0.0,84.0,6.0,17.0,40.0,36.0,19.0,6.0,0.0,2800.0,28.0,10.0,52.0,0.0,50.0,0.0,20.0,0.0,0.0,150.0,0.0,0.0,56.0,0.0,174.0,15.0,3.0,12.0,20.0,18.0,0.0,80.0,70.0,25.0,0.0,0.0,28.0,9.0,500.0,100.0,135.0,40.0,50.0,110.0,26.0,124.0,24.0,0.0,80.0,70.0,6.0,78.0,91.0,120.0,0.0,0.0,48.0,40.0,0.0,0.0,60.0,53.0,50.0,77.0,35.0,24.0,19.0,14.0,0.0,0.0,154.0,90.0,70.0,60.0,23.0,0.0,0.0,0.0,25.0,9.0,250.0,0.0,130.0,127.0,10.0,30.0,0.0,375.0,150.0,0.0,784.0,0.0,0.0,0.0,0.0,0.0,180.0,39.0,219.0,50.0,0.0,35.0,20.0,57.0,90.0,35.0,0.0,0.0,21.0,17.0,100.0,0.0,0.0,51.0,400.0,406.0,175.0,0.0,0.0,20.0,0.0,0.0,0.0,8.0,20.0,0.0,0.0,54.0,54.0,0.0,0.0,10.0,10.0,60.0,60.0,130.0,130.0,25.0,25.0,70.0,70.0,100.0,100.0,81.0,81.0,900.0,900.0,0.0,0.0,13.0,13.0,0.0,0.0,130.0,130.0,20.0,20.0,4.0,4.0,1300.0,1300.0,400.0,400.0,340.0,340.0,46.0,46.0,26.0,26.0,24.0,24.0,0.0,0.0,60.0,60.0,59.0,59.0,39.0,39.0,20.0,20.0,0.0,0.0,30.0,30.0,200.0,200.0,100.0,100.0,30.0,30.0,34.0,34.0,50.0,5.0,0.0,0.0,0.0,250.0,22.0,32.0,0.0,20.0,18.0,0.0,0.0,40.0,6.0,5.0,236.0,7.0,15.0,194.0,17.0,31.0,17.0,30.0,91.0,150.0,0.0,0.0,90.0,30.0,0.0,12.0,5.0,210.0,0.0,0.0,20.0,45.0,75.0,0.0,0.0,0.0,0.0,10.0,10.0,10.0,10.0,0.0,400.0,13.0,0.0,30.0,0.0,25.0,60.0,30.0,30.0,82.0,82.0,451.0,451.0,90.0,90.0,75.0,75.0,0.0,0.0,65.0,65.0,0.0,0.0,120.0,120.0,75.0,75.0,0.0,0.0,52.0,52.0,38.0,38.0,18.0,18.0,16.0,16.0,1000.0,1000.0,4.0,160.0,56.0,56.0,55.0,55.0,0.0,0.0,150.0,150.0,0.0,0.0,0.0,0.0,0.0,0.0,0.0,0.0,55.0,25.0,5.0,40.0,87.0,700.0,0.0,0.0,0.0,5.0,0.0,137.0,87.0,18.0,23.0,130.0,0.0,20.0,20.0,20.0,20.0,20.0,20.0,20.0,24.0,24.0,24.0,24.0,24.0,24.0,24.0,50.0,50.0,50.0,50.0,50.0,50.0,50.0,0.0,0.0,0.0,0.0,0.0,0.0,0.0,0.0,0.0,0.0,0.0,0.0,0.0,0.0,28.0,28.0,28.0,28.0,28.0,28.0,28.0,20.0,20.0,20.0,20.0,20.0,20.0,20.0,50.0,50.0,50.0,50.0,50.0,50.0,50.0,12.0,12.0,12.0,12.0,12.0,12.0,12.0,0.0,0.0,0.0,0.0,0.0,0.0,0.0,40.0,100.0,221.0,154.0,154.0,130.0,130.0,240.0,240.0,165.0,165.0,0.0,0.0,0.0,0.0,44.0,44.0,44.0,44.0,44.0,44.0,44.0,12.0,12.0,201.0,201.0,0.0,0.0,0.0,0.0,30.0,0.0,35.0,40.0,0.0,44.0,44.0],\"sizemode\":\"area\",\"sizeref\":27.5,\"symbol\":\"circle\"},\"mode\":\"markers\",\"name\":\"\",\"showlegend\":false,\"type\":\"scattergeo\"}],\"name\":\"2020.0\"}]);\n",
       "                        }).then(function(){\n",
       "                            \n",
       "var gd = document.getElementById('82c04c77-a93f-48de-b5f6-12da1b1adb8b');\n",
       "var x = new MutationObserver(function (mutations, observer) {{\n",
       "        var display = window.getComputedStyle(gd).display;\n",
       "        if (!display || display === 'none') {{\n",
       "            console.log([gd, 'removed!']);\n",
       "            Plotly.purge(gd);\n",
       "            observer.disconnect();\n",
       "        }}\n",
       "}});\n",
       "\n",
       "// Listen for the removal of the full notebook cells\n",
       "var notebookContainer = gd.closest('#notebook-container');\n",
       "if (notebookContainer) {{\n",
       "    x.observe(notebookContainer, {childList: true});\n",
       "}}\n",
       "\n",
       "// Listen for the clearing of the current output cell\n",
       "var outputEl = gd.closest('.output');\n",
       "if (outputEl) {{\n",
       "    x.observe(outputEl, {childList: true});\n",
       "}}\n",
       "\n",
       "                        })                };                });            </script>        </div>"
      ]
     },
     "metadata": {},
     "output_type": "display_data"
    },
    {
     "data": {
      "text/html": [
       "<div>                            <div id=\"cbcf8b76-a822-4fb0-aad4-6e100655eb78\" class=\"plotly-graph-div\" style=\"height:525px; width:100%;\"></div>            <script type=\"text/javascript\">                require([\"plotly\"], function(Plotly) {                    window.PLOTLYENV=window.PLOTLYENV || {};                                    if (document.getElementById(\"cbcf8b76-a822-4fb0-aad4-6e100655eb78\")) {                    Plotly.newPlot(                        \"cbcf8b76-a822-4fb0-aad4-6e100655eb78\",                        [{\"geo\":\"geo\",\"hovertemplate\":\"<b>%{hovertext}</b><br><br>year=2022.0<br>laid_off_count=%{marker.size}<br>lat=%{lat}<br>lng=%{lon}<extra></extra>\",\"hovertext\":[\"San Francisco\",\"San Francisco\",\"San Francisco\",\"San Francisco\",\"San Francisco\",\"San Francisco\",\"San Francisco\",\"San Francisco\",\"San Francisco\",\"San Francisco\",\"San Francisco\",\"San Francisco\",\"San Francisco\",\"San Francisco\",\"San Francisco\",\"San Francisco\",\"San Francisco\",\"San Francisco\",\"San Francisco\",\"San Francisco\",\"San Francisco\",\"San Francisco\",\"San Francisco\",\"San Francisco\",\"San Francisco\",\"San Francisco\",\"San Francisco\",\"San Francisco\",\"San Francisco\",\"San Francisco\",\"San Francisco\",\"San Francisco\",\"San Francisco\",\"San Francisco\",\"San Francisco\",\"San Francisco\",\"San Francisco\",\"San Francisco\",\"San Francisco\",\"San Francisco\",\"San Francisco\",\"San Francisco\",\"San Francisco\",\"San Francisco\",\"San Francisco\",\"San Francisco\",\"San Francisco\",\"San Francisco\",\"San Francisco\",\"San Francisco\",\"San Francisco\",\"San Francisco\",\"San Francisco\",\"San Francisco\",\"San Francisco\",\"San Francisco\",\"San Francisco\",\"San Francisco\",\"San Francisco\",\"San Francisco\",\"San Francisco\",\"San Francisco\",\"San Francisco\",\"San Francisco\",\"San Francisco\",\"San Francisco\",\"San Francisco\",\"San Francisco\",\"San Francisco\",\"San Francisco\",\"San Francisco\",\"San Francisco\",\"San Francisco\",\"San Francisco\",\"San Francisco\",\"San Francisco\",\"San Francisco\",\"San Francisco\",\"San Francisco\",\"San Francisco\",\"San Francisco\",\"San Francisco\",\"San Francisco\",\"San Francisco\",\"San Francisco\",\"San Francisco\",\"San Francisco\",\"San Francisco\",\"San Francisco\",\"San Francisco\",\"San Francisco\",\"San Francisco\",\"San Francisco\",\"San Francisco\",\"San Francisco\",\"San Francisco\",\"San Francisco\",\"San Francisco\",\"San Francisco\",\"San Francisco\",\"San Francisco\",\"San Francisco\",\"San Francisco\",\"San Francisco\",\"San Francisco\",\"San Francisco\",\"San Francisco\",\"San Francisco\",\"San Francisco\",\"San Francisco\",\"San Francisco\",\"San Francisco\",\"San Francisco\",\"San Francisco\",\"San Francisco\",\"San Francisco\",\"San Francisco\",\"San Francisco\",\"San Francisco\",\"San Francisco\",\"San Francisco\",\"San Francisco\",\"San Francisco\",\"San Francisco\",\"San Francisco\",\"San Francisco\",\"San Francisco\",\"San Francisco\",\"San Francisco\",\"San Francisco\",\"San Francisco\",\"San Francisco\",\"San Francisco\",\"San Francisco\",\"San Francisco\",\"San Francisco\",\"San Francisco\",\"San Francisco\",\"San Francisco\",\"San Francisco\",\"San Francisco\",\"San Francisco\",\"San Francisco\",\"San Francisco\",\"San Francisco\",\"San Francisco\",\"San Francisco\",\"San Francisco\",\"San Francisco\",\"San Francisco\",\"San Francisco\",\"San Francisco\",\"San Francisco\",\"San Francisco\",\"San Francisco\",\"San Francisco\",\"San Francisco\",\"San Francisco\",\"San Francisco\",\"San Francisco\",\"San Francisco\",\"San Francisco\",\"San Francisco\",\"San Francisco\",\"San Francisco\",\"San Francisco\",\"San Francisco\",\"San Francisco\",\"San Francisco\",\"San Francisco\",\"San Francisco\",\"San Francisco\",\"San Francisco\",\"San Francisco\",\"San Francisco\",\"San Francisco\",\"San Francisco\",\"San Francisco\",\"San Francisco\",\"San Francisco\",\"San Francisco\",\"San Francisco\",\"San Francisco\",\"San Francisco\",\"San Francisco\",\"San Francisco\",\"San Francisco\",\"San Francisco\",\"San Francisco\",\"San Francisco\",\"San Francisco\",\"San Francisco\",\"San Francisco\",\"San Francisco\",\"San Francisco\",\"San Francisco\",\"San Francisco\",\"San Francisco\",\"San Francisco\",\"San Francisco\",\"San Francisco\",\"San Francisco\",\"San Francisco\",\"San Francisco\",\"San Francisco\",\"San Francisco\",\"San Francisco\",\"San Francisco\",\"San Francisco\",\"San Francisco\",\"San Francisco\",\"San Francisco\",\"San Francisco\",\"San Francisco\",\"San Francisco\",\"San Francisco\",\"San Francisco\",\"San Francisco\",\"San Francisco\",\"San Francisco\",\"San Francisco\",\"San Francisco\",\"San Francisco\",\"San Francisco\",\"San Francisco\",\"San Francisco\",\"San Francisco\",\"San Francisco\",\"San Francisco\",\"San Francisco\",\"San Francisco\",\"San Francisco\",\"San Francisco\",\"San Francisco\",\"San Francisco\",\"San Francisco\",\"San Francisco\",\"San Francisco\",\"San Francisco\",\"San Francisco\",\"San Francisco\",\"San Francisco\",\"San Francisco\",\"San Francisco\",\"San Francisco\",\"San Francisco\",\"San Francisco\",\"San Francisco\",\"San Francisco\",\"San Francisco\",\"San Francisco\",\"San Francisco\",\"San Francisco\",\"San Francisco\",\"San Francisco\",\"San Francisco\",\"San Francisco\",\"San Francisco\",\"San Francisco\",\"San Francisco\",\"San Francisco\",\"San Francisco\",\"San Francisco\",\"San Francisco\",\"San Francisco\",\"San Francisco\",\"San Francisco\",\"San Francisco\",\"San Francisco\",\"San Francisco\",\"San Francisco\",\"San Francisco\",\"San Francisco\",\"Chicago\",\"Chicago\",\"Chicago\",\"Chicago\",\"Chicago\",\"Chicago\",\"Chicago\",\"Chicago\",\"Chicago\",\"Chicago\",\"Chicago\",\"Chicago\",\"Chicago\",\"Chicago\",\"Chicago\",\"Chicago\",\"Chicago\",\"Chicago\",\"Chicago\",\"New York\",\"New York\",\"New York\",\"New York\",\"New York\",\"New York\",\"New York\",\"New York\",\"New York\",\"New York\",\"New York\",\"New York\",\"New York\",\"New York\",\"New York\",\"New York\",\"New York\",\"New York\",\"New York\",\"New York\",\"New York\",\"New York\",\"New York\",\"New York\",\"New York\",\"New York\",\"New York\",\"New York\",\"New York\",\"New York\",\"New York\",\"New York\",\"New York\",\"New York\",\"New York\",\"New York\",\"New York\",\"New York\",\"New York\",\"New York\",\"New York\",\"New York\",\"New York\",\"New York\",\"New York\",\"New York\",\"New York\",\"New York\",\"New York\",\"New York\",\"New York\",\"New York\",\"New York\",\"New York\",\"New York\",\"New York\",\"New York\",\"New York\",\"New York\",\"New York\",\"New York\",\"New York\",\"New York\",\"New York\",\"New York\",\"New York\",\"New York\",\"New York\",\"New York\",\"New York\",\"New York\",\"New York\",\"New York\",\"New York\",\"New York\",\"New York\",\"New York\",\"New York\",\"New York\",\"New York\",\"New York\",\"New York\",\"New York\",\"New York\",\"New York\",\"New York\",\"New York\",\"New York\",\"New York\",\"New York\",\"New York\",\"New York\",\"New York\",\"New York\",\"New York\",\"New York\",\"New York\",\"New York\",\"New York\",\"New York\",\"New York\",\"New York\",\"New York\",\"New York\",\"New York\",\"New York\",\"New York\",\"New York\",\"New York\",\"New York\",\"New York\",\"New York\",\"New York\",\"New York\",\"New York\",\"Berlin\",\"Berlin\",\"Berlin\",\"Berlin\",\"Los Angeles\",\"Los Angeles\",\"Los Angeles\",\"Los Angeles\",\"Los Angeles\",\"Los Angeles\",\"Los Angeles\",\"Los Angeles\",\"Los Angeles\",\"Los Angeles\",\"Los Angeles\",\"Los Angeles\",\"Los Angeles\",\"Los Angeles\",\"Los Angeles\",\"Los Angeles\",\"Los Angeles\",\"Los Angeles\",\"Los Angeles\",\"Los Angeles\",\"Los Angeles\",\"Los Angeles\",\"Los Angeles\",\"Los Angeles\",\"Los Angeles\",\"Los Angeles\",\"Los Angeles\",\"Los Angeles\",\"Los Angeles\",\"Los Angeles\",\"Los Angeles\",\"Los Angeles\",\"Los Angeles\",\"Los Angeles\",\"Los Angeles\",\"Los Angeles\",\"Los Angeles\",\"Los Angeles\",\"Los Angeles\",\"Los Angeles\",\"Phoenix\",\"Phoenix\",\"Phoenix\",\"Phoenix\",\"Phoenix\",\"Phoenix\",\"Boston\",\"Boston\",\"Boston\",\"Boston\",\"Boston\",\"Boston\",\"Boston\",\"Boston\",\"Boston\",\"Boston\",\"Boston\",\"Boston\",\"Boston\",\"Boston\",\"Boston\",\"Boston\",\"Boston\",\"Boston\",\"Boston\",\"Boston\",\"Boston\",\"Boston\",\"Boston\",\"Boston\",\"Boston\",\"Boston\",\"Boston\",\"Boston\",\"Boston\",\"Boston\",\"Boston\",\"Boston\",\"Boston\",\"Boston\",\"Boston\",\"Boston\",\"Boston\",\"Boston\",\"Boston\",\"Boston\",\"Boston\",\"Boston\",\"Boston\",\"Boston\",\"Boston\",\"Boston\",\"Boston\",\"Boston\",\"Boston\",\"Boston\",\"Boston\",\"Boston\",\"Boston\",\"Boston\",\"Boston\",\"Boston\",\"Boston\",\"Boston\",\"Boston\",\"Boston\",\"Boston\",\"Boston\",\"Boston\",\"Boston\",\"Boston\",\"Boston\",\"Boston\",\"Boston\",\"Boston\",\"Boston\",\"Boston\",\"Boston\",\"Boston\",\"Boston\",\"Boston\",\"Boston\",\"Boston\",\"Boston\",\"Boston\",\"Boston\",\"Boston\",\"Boston\",\"Boston\",\"Boston\",\"Boston\",\"Boston\",\"Boston\",\"Boston\",\"Lehi\",\"Lehi\",\"Lehi\",\"Lehi\",\"Lehi\",\"Burlington\",\"Burlington\",\"Burlington\",\"Burlington\",\"Burlington\",\"Burlington\",\"Burlington\",\"Burlington\",\"Burlington\",\"Bend\",\"Bend\",\"Sacramento\",\"Seattle\",\"Seattle\",\"Seattle\",\"Seattle\",\"Seattle\",\"Seattle\",\"Seattle\",\"Seattle\",\"Seattle\",\"Seattle\",\"Seattle\",\"Seattle\",\"Seattle\",\"Seattle\",\"Seattle\",\"Seattle\",\"Seattle\",\"Seattle\",\"Seattle\",\"Seattle\",\"Seattle\",\"Seattle\",\"Seattle\",\"Seattle\",\"Seattle\",\"Seattle\",\"Seattle\",\"Seattle\",\"Seattle\",\"Seattle\",\"Seattle\",\"Seattle\",\"Seattle\",\"Seattle\",\"Salt Lake City\",\"Salt Lake City\",\"Salt Lake City\",\"Salt Lake City\",\"Dallas\",\"Dallas\",\"Dallas\",\"Dallas\",\"Dallas\",\"Dallas\",\"Dallas\",\"Dallas\",\"Dallas\",\"Dallas\",\"Dallas\",\"Dallas\",\"Washington D.C.\",\"Washington D.C.\",\"Washington D.C.\",\"Washington D.C.\",\"Washington D.C.\",\"Washington D.C.\",\"Washington D.C.\",\"Washington D.C.\",\"San Diego\",\"San Diego\",\"San Diego\",\"San Diego\",\"Dover\",\"Dover\",\"Dover\",\"Dover\",\"Dover\",\"Dover\",\"Dover\",\"Austin\",\"Austin\",\"Austin\",\"Austin\",\"Austin\",\"Austin\",\"Austin\",\"Austin\",\"Austin\",\"Austin\",\"Austin\",\"Austin\",\"Austin\",\"Austin\",\"Austin\",\"Austin\",\"Austin\",\"Austin\",\"Austin\",\"Austin\",\"Austin\",\"Austin\",\"Austin\",\"Austin\",\"Austin\",\"Austin\",\"Miami\",\"Miami\",\"Miami\",\"Miami\",\"Miami\",\"Miami\",\"Miami\",\"Miami\",\"Miami\",\"Miami\",\"Miami\",\"Miami\",\"Miami\",\"Miami\",\"Boulder\",\"Boulder\",\"Boulder\",\"Boulder\",\"Boulder\",\"Boulder\",\"Boulder\",\"Lexington\",\"Lexington\",\"Lexington\",\"Lexington\",\"Lexington\",\"Lexington\",\"Lexington\",\"Stamford\",\"Stamford\",\"Stamford\",\"Stamford\",\"Logan\",\"Logan\",\"Logan\",\"Logan\",\"Logan\",\"Logan\",\"Logan\",\"Logan\",\"Logan\",\"Logan\",\"Atlanta\",\"Atlanta\",\"Atlanta\",\"Atlanta\",\"Atlanta\",\"Atlanta\",\"Atlanta\",\"Atlanta\",\"Atlanta\",\"Atlanta\",\"Atlanta\",\"Atlanta\",\"Atlanta\",\"Atlanta\",\"Atlanta\",\"Atlanta\",\"Atlanta\",\"Atlanta\",\"Columbus\",\"Columbus\",\"Columbus\",\"Columbus\",\"Columbus\",\"Columbus\",\"Columbus\",\"Columbus\",\"Columbus\",\"Columbus\",\"Columbus\",\"Columbus\",\"Columbus\",\"Columbus\",\"Columbus\",\"Columbus\",\"Columbus\",\"Columbus\",\"Columbus\",\"Columbus\",\"Columbus\",\"Columbus\",\"Columbus\",\"Columbus\",\"Columbus\",\"Columbus\",\"Columbus\",\"Columbus\",\"Columbus\",\"Columbus\",\"Minneapolis\",\"Minneapolis\",\"Nebraska City\",\"Vancouver\",\"Vancouver\",\"Vancouver\",\"Grand Rapids\",\"Grand Rapids\",\"Pittsburgh\",\"Pittsburgh\",\"Pittsburgh\",\"Pittsburgh\",\"San Luis Obispo\",\"Baltimore\",\"Baltimore\",\"Philadelphia\",\"Philadelphia\",\"Philadelphia\",\"Philadelphia\",\"Philadelphia\",\"Philadelphia\",\"Philadelphia\",\"Philadelphia\",\"Philadelphia\",\"Philadelphia\",\"St. Louis\",\"St. Louis\",\"St. Louis\",\"St. Louis\",\"Birmingham\",\"Birmingham\",\"London\",\"London\",\"London\",\"London\",\"London\",\"London\",\"Denver\",\"Denver\",\"Denver\",\"Raleigh\",\"Portland\",\"Portland\",\"Portland\",\"Portland\",\"Portland\",\"Portland\",\"Portland\",\"Portland\",\"Portland\",\"Portland\",\"Portland\",\"Portland\",\"Portland\",\"Portland\",\"Portland\",\"Portland\",\"Portland\",\"Portland\",\"Portland\",\"Portland\",\"Portland\",\"Portland\",\"Portland\",\"Portland\",\"Portland\",\"Portland\",\"Portland\",\"Portland\",\"Richmond\",\"Richmond\",\"Richmond\",\"Richmond\",\"Richmond\",\"Richmond\",\"Richmond\",\"Richmond\",\"Melbourne\",\"Indianapolis\",\"New Haven\",\"New Haven\",\"Detroit\",\"Detroit\",\"Detroit\",\"Santa Barbara\",\"Durham\",\"Durham\",\"Durham\",\"Durham\",\"Louisville\",\"Louisville\",\"Louisville\",\"Louisville\",\"Nashua\",\"Huntsville\",\"Huntsville\",\"Spokane\",\"Reno\",\"Houston\",\"Cincinnati\",\"Davenport\",\"Davenport\"],\"lat\":[37.7562,37.7562,37.7562,37.7562,37.7562,37.7562,37.7562,37.7562,37.7562,37.7562,37.7562,37.7562,37.7562,37.7562,37.7562,37.7562,37.7562,37.7562,37.7562,37.7562,37.7562,37.7562,37.7562,37.7562,37.7562,37.7562,37.7562,37.7562,37.7562,37.7562,37.7562,37.7562,37.7562,37.7562,37.7562,37.7562,37.7562,37.7562,37.7562,37.7562,37.7562,37.7562,37.7562,37.7562,37.7562,37.7562,37.7562,37.7562,37.7562,37.7562,37.7562,37.7562,37.7562,37.7562,37.7562,37.7562,37.7562,37.7562,37.7562,37.7562,37.7562,37.7562,37.7562,37.7562,37.7562,37.7562,37.7562,37.7562,37.7562,37.7562,37.7562,37.7562,37.7562,37.7562,37.7562,37.7562,37.7562,37.7562,37.7562,37.7562,37.7562,37.7562,37.7562,37.7562,37.7562,37.7562,37.7562,37.7562,37.7562,37.7562,37.7562,37.7562,37.7562,37.7562,37.7562,37.7562,37.7562,37.7562,37.7562,37.7562,37.7562,37.7562,37.7562,37.7562,37.7562,37.7562,37.7562,37.7562,37.7562,37.7562,37.7562,37.7562,37.7562,37.7562,37.7562,37.7562,37.7562,37.7562,37.7562,37.7562,37.7562,37.7562,37.7562,37.7562,37.7562,37.7562,37.7562,37.7562,37.7562,37.7562,37.7562,37.7562,37.7562,37.7562,37.7562,37.7562,37.7562,37.7562,37.7562,37.7562,37.7562,37.7562,37.7562,37.7562,37.7562,37.7562,37.7562,37.7562,37.7562,37.7562,37.7562,37.7562,37.7562,37.7562,37.7562,37.7562,37.7562,37.7562,37.7562,37.7562,37.7562,37.7562,37.7562,37.7562,37.7562,37.7562,37.7562,37.7562,37.7562,37.7562,37.7562,37.7562,37.7562,37.7562,37.7562,37.7562,37.7562,37.7562,37.7562,37.7562,37.7562,37.7562,37.7562,37.7562,37.7562,37.7562,37.7562,37.7562,37.7562,37.7562,37.7562,37.7562,37.7562,37.7562,37.7562,37.7562,37.7562,37.7562,37.7562,37.7562,37.7562,37.7562,37.7562,37.7562,37.7562,37.7562,37.7562,37.7562,37.7562,37.7562,37.7562,37.7562,37.7562,37.7562,37.7562,37.7562,37.7562,37.7562,37.7562,37.7562,37.7562,37.7562,37.7562,37.7562,37.7562,37.7562,37.7562,37.7562,37.7562,37.7562,37.7562,37.7562,37.7562,37.7562,37.7562,37.7562,37.7562,37.7562,37.7562,37.7562,37.7562,37.7562,37.7562,37.7562,37.7562,37.7562,37.7562,37.7562,37.7562,37.7562,37.7562,37.7562,37.7562,37.7562,37.7562,37.7562,37.7562,37.7562,37.7562,37.7562,37.7562,37.7562,37.7562,37.7562,37.7562,37.7562,37.7562,37.7562,37.7562,37.7562,37.7562,37.7562,37.7562,41.8373,41.8373,41.8373,41.8373,41.8373,41.8373,41.8373,41.8373,41.8373,41.8373,41.8373,41.8373,41.8373,41.8373,41.8373,41.8373,41.8373,41.8373,41.8373,40.6943,40.6943,40.6943,40.6943,40.6943,40.6943,40.6943,40.6943,40.6943,40.6943,40.6943,40.6943,40.6943,40.6943,40.6943,40.6943,40.6943,40.6943,40.6943,40.6943,40.6943,40.6943,40.6943,40.6943,40.6943,40.6943,40.6943,40.6943,40.6943,40.6943,40.6943,40.6943,40.6943,40.6943,40.6943,40.6943,40.6943,40.6943,40.6943,40.6943,40.6943,40.6943,40.6943,40.6943,40.6943,40.6943,40.6943,40.6943,40.6943,40.6943,40.6943,40.6943,40.6943,40.6943,40.6943,40.6943,40.6943,40.6943,40.6943,40.6943,40.6943,40.6943,40.6943,40.6943,40.6943,40.6943,40.6943,40.6943,40.6943,40.6943,40.6943,40.6943,40.6943,40.6943,40.6943,40.6943,40.6943,40.6943,40.6943,40.6943,40.6943,40.6943,40.6943,40.6943,40.6943,40.6943,40.6943,40.6943,40.6943,40.6943,40.6943,40.6943,40.6943,40.6943,40.6943,40.6943,40.6943,40.6943,40.6943,40.6943,40.6943,40.6943,40.6943,40.6943,40.6943,40.6943,40.6943,40.6943,40.6943,40.6943,40.6943,40.6943,40.6943,40.6943,40.6943,41.6114,44.4869,39.7915,43.9704,34.1139,34.1139,34.1139,34.1139,34.1139,34.1139,34.1139,34.1139,34.1139,34.1139,34.1139,34.1139,34.1139,34.1139,34.1139,34.1139,34.1139,34.1139,34.1139,34.1139,34.1139,34.1139,34.1139,34.1139,34.1139,34.1139,34.1139,34.1139,34.1139,34.1139,34.1139,34.1139,34.1139,34.1139,34.1139,34.1139,34.1139,34.1139,34.1139,34.1139,33.5722,33.5722,33.5722,33.5722,33.5722,33.5722,42.3188,42.6528,42.3188,42.6528,42.3188,42.6528,42.3188,42.6528,42.3188,42.6528,42.3188,42.6528,42.3188,42.6528,42.3188,42.6528,42.3188,42.6528,42.3188,42.6528,42.3188,42.6528,42.3188,42.6528,42.3188,42.6528,42.3188,42.6528,42.3188,42.6528,42.3188,42.6528,42.3188,42.6528,42.3188,42.6528,42.3188,42.6528,42.3188,42.6528,42.3188,42.6528,42.3188,42.6528,42.3188,42.6528,42.3188,42.6528,42.3188,42.6528,42.3188,42.6528,42.3188,42.6528,42.3188,42.6528,42.3188,42.6528,42.3188,42.6528,42.3188,42.6528,42.3188,42.6528,42.3188,42.6528,42.3188,42.6528,42.3188,42.6528,42.3188,42.6528,42.3188,42.6528,42.3188,42.6528,42.3188,42.6528,42.3188,42.6528,42.3188,42.6528,42.3188,42.6528,42.3188,42.6528,42.3188,42.6528,40.4136,40.4136,40.4136,40.4136,40.4136,36.0758,44.4877,40.8072,42.5022,42.6746,40.0641,39.0223,41.7598,48.4676,44.0562,44.0562,38.5667,47.6211,47.6211,47.6211,47.6211,47.6211,47.6211,47.6211,47.6211,47.6211,47.6211,47.6211,47.6211,47.6211,47.6211,47.6211,47.6211,47.6211,47.6211,47.6211,47.6211,47.6211,47.6211,47.6211,47.6211,47.6211,47.6211,47.6211,47.6211,47.6211,47.6211,47.6211,47.6211,47.6211,47.6211,40.7777,40.7777,40.7777,40.7777,32.7936,44.9222,33.9153,41.3604,32.7936,44.9222,33.9153,41.3604,32.7936,44.9222,33.9153,41.3604,38.9047,38.9047,38.9047,38.9047,38.9047,38.9047,38.9047,38.9047,32.8312,32.8312,32.8312,32.8312,39.161,40.002,40.8859,43.1887,40.5302,41.6839,42.2366,30.3004,43.6718,30.3004,43.6718,30.3004,43.6718,30.3004,43.6718,30.3004,43.6718,30.3004,43.6718,30.3004,43.6718,30.3004,43.6718,30.3004,43.6718,30.3004,43.6718,30.3004,43.6718,30.3004,43.6718,30.3004,43.6718,25.7839,36.8877,25.7839,36.8877,25.7839,36.8877,25.7839,36.8877,25.7839,36.8877,25.7839,36.8877,25.7839,36.8877,40.0249,40.0249,40.0249,40.0249,40.0249,40.0249,40.0249,38.0423,42.4456,33.989,35.8017,40.7779,37.7825,35.6618,41.1035,41.1035,41.1035,41.1035,41.74,40.5263,37.8509,39.5386,39.7923,41.74,40.5263,37.8509,39.5386,39.7923,33.7627,33.1136,33.7627,33.1136,33.7627,33.1136,33.7627,33.1136,33.7627,33.1136,33.7627,33.1136,33.7627,33.1136,33.7627,33.1136,33.7627,33.1136,39.9862,32.51,39.2093,33.5088,41.4368,43.3354,39.9862,32.51,39.2093,33.5088,41.4368,43.3354,39.9862,32.51,39.2093,33.5088,41.4368,43.3354,39.9862,32.51,39.2093,33.5088,41.4368,43.3354,39.9862,32.51,39.2093,33.5088,41.4368,43.3354,44.9635,44.9635,40.6762,45.6366,45.6366,45.6366,42.962,47.238,40.4396,40.4396,40.4396,40.4396,35.2669,39.3051,39.3051,40.0077,32.7761,40.0077,32.7761,40.0077,32.7761,40.0077,32.7761,40.0077,32.7761,38.6358,43.4082,38.6358,43.4082,33.5277,42.5447,37.1175,39.8936,37.1175,39.8936,37.1175,39.8936,39.7621,39.7621,39.7621,35.8325,45.5372,43.6773,27.8911,36.5883,41.5988,40.4375,42.8696,45.5372,43.6773,27.8911,36.5883,41.5988,40.4375,42.8696,45.5372,43.6773,27.8911,36.5883,41.5988,40.4375,42.8696,45.5372,43.6773,27.8911,36.5883,41.5988,40.4375,42.8696,37.5295,37.9477,39.8318,37.7306,29.5825,41.4983,42.8094,39.2755,28.1085,39.7771,41.3112,41.0675,42.3834,42.3834,42.3834,34.4285,35.9794,43.1174,41.4622,39.6232,38.1663,39.9709,40.8371,33.1224,42.7491,34.6988,30.705,47.6671,39.5497,29.7863,39.1413,41.5563,28.1588],\"legendgroup\":\"\",\"lon\":[-122.443,-122.443,-122.443,-122.443,-122.443,-122.443,-122.443,-122.443,-122.443,-122.443,-122.443,-122.443,-122.443,-122.443,-122.443,-122.443,-122.443,-122.443,-122.443,-122.443,-122.443,-122.443,-122.443,-122.443,-122.443,-122.443,-122.443,-122.443,-122.443,-122.443,-122.443,-122.443,-122.443,-122.443,-122.443,-122.443,-122.443,-122.443,-122.443,-122.443,-122.443,-122.443,-122.443,-122.443,-122.443,-122.443,-122.443,-122.443,-122.443,-122.443,-122.443,-122.443,-122.443,-122.443,-122.443,-122.443,-122.443,-122.443,-122.443,-122.443,-122.443,-122.443,-122.443,-122.443,-122.443,-122.443,-122.443,-122.443,-122.443,-122.443,-122.443,-122.443,-122.443,-122.443,-122.443,-122.443,-122.443,-122.443,-122.443,-122.443,-122.443,-122.443,-122.443,-122.443,-122.443,-122.443,-122.443,-122.443,-122.443,-122.443,-122.443,-122.443,-122.443,-122.443,-122.443,-122.443,-122.443,-122.443,-122.443,-122.443,-122.443,-122.443,-122.443,-122.443,-122.443,-122.443,-122.443,-122.443,-122.443,-122.443,-122.443,-122.443,-122.443,-122.443,-122.443,-122.443,-122.443,-122.443,-122.443,-122.443,-122.443,-122.443,-122.443,-122.443,-122.443,-122.443,-122.443,-122.443,-122.443,-122.443,-122.443,-122.443,-122.443,-122.443,-122.443,-122.443,-122.443,-122.443,-122.443,-122.443,-122.443,-122.443,-122.443,-122.443,-122.443,-122.443,-122.443,-122.443,-122.443,-122.443,-122.443,-122.443,-122.443,-122.443,-122.443,-122.443,-122.443,-122.443,-122.443,-122.443,-122.443,-122.443,-122.443,-122.443,-122.443,-122.443,-122.443,-122.443,-122.443,-122.443,-122.443,-122.443,-122.443,-122.443,-122.443,-122.443,-122.443,-122.443,-122.443,-122.443,-122.443,-122.443,-122.443,-122.443,-122.443,-122.443,-122.443,-122.443,-122.443,-122.443,-122.443,-122.443,-122.443,-122.443,-122.443,-122.443,-122.443,-122.443,-122.443,-122.443,-122.443,-122.443,-122.443,-122.443,-122.443,-122.443,-122.443,-122.443,-122.443,-122.443,-122.443,-122.443,-122.443,-122.443,-122.443,-122.443,-122.443,-122.443,-122.443,-122.443,-122.443,-122.443,-122.443,-122.443,-122.443,-122.443,-122.443,-122.443,-122.443,-122.443,-122.443,-122.443,-122.443,-122.443,-122.443,-122.443,-122.443,-122.443,-122.443,-122.443,-122.443,-122.443,-122.443,-122.443,-122.443,-122.443,-122.443,-122.443,-122.443,-122.443,-122.443,-122.443,-122.443,-122.443,-122.443,-122.443,-122.443,-122.443,-122.443,-122.443,-122.443,-122.443,-122.443,-122.443,-122.443,-122.443,-122.443,-122.443,-122.443,-122.443,-122.443,-122.443,-122.443,-87.6862,-87.6862,-87.6862,-87.6862,-87.6862,-87.6862,-87.6862,-87.6862,-87.6862,-87.6862,-87.6862,-87.6862,-87.6862,-87.6862,-87.6862,-87.6862,-87.6862,-87.6862,-87.6862,-73.9249,-73.9249,-73.9249,-73.9249,-73.9249,-73.9249,-73.9249,-73.9249,-73.9249,-73.9249,-73.9249,-73.9249,-73.9249,-73.9249,-73.9249,-73.9249,-73.9249,-73.9249,-73.9249,-73.9249,-73.9249,-73.9249,-73.9249,-73.9249,-73.9249,-73.9249,-73.9249,-73.9249,-73.9249,-73.9249,-73.9249,-73.9249,-73.9249,-73.9249,-73.9249,-73.9249,-73.9249,-73.9249,-73.9249,-73.9249,-73.9249,-73.9249,-73.9249,-73.9249,-73.9249,-73.9249,-73.9249,-73.9249,-73.9249,-73.9249,-73.9249,-73.9249,-73.9249,-73.9249,-73.9249,-73.9249,-73.9249,-73.9249,-73.9249,-73.9249,-73.9249,-73.9249,-73.9249,-73.9249,-73.9249,-73.9249,-73.9249,-73.9249,-73.9249,-73.9249,-73.9249,-73.9249,-73.9249,-73.9249,-73.9249,-73.9249,-73.9249,-73.9249,-73.9249,-73.9249,-73.9249,-73.9249,-73.9249,-73.9249,-73.9249,-73.9249,-73.9249,-73.9249,-73.9249,-73.9249,-73.9249,-73.9249,-73.9249,-73.9249,-73.9249,-73.9249,-73.9249,-73.9249,-73.9249,-73.9249,-73.9249,-73.9249,-73.9249,-73.9249,-73.9249,-73.9249,-73.9249,-73.9249,-73.9249,-73.9249,-73.9249,-73.9249,-73.9249,-73.9249,-73.9249,-72.7758,-71.2599,-74.9375,-88.9505,-118.4068,-118.4068,-118.4068,-118.4068,-118.4068,-118.4068,-118.4068,-118.4068,-118.4068,-118.4068,-118.4068,-118.4068,-118.4068,-118.4068,-118.4068,-118.4068,-118.4068,-118.4068,-118.4068,-118.4068,-118.4068,-118.4068,-118.4068,-118.4068,-118.4068,-118.4068,-118.4068,-118.4068,-118.4068,-118.4068,-118.4068,-118.4068,-118.4068,-118.4068,-118.4068,-118.4068,-118.4068,-118.4068,-118.4068,-118.4068,-112.0891,-112.0891,-112.0891,-112.0891,-112.0891,-112.0891,-71.0846,-78.7555,-71.0846,-78.7555,-71.0846,-78.7555,-71.0846,-78.7555,-71.0846,-78.7555,-71.0846,-78.7555,-71.0846,-78.7555,-71.0846,-78.7555,-71.0846,-78.7555,-71.0846,-78.7555,-71.0846,-78.7555,-71.0846,-78.7555,-71.0846,-78.7555,-71.0846,-78.7555,-71.0846,-78.7555,-71.0846,-78.7555,-71.0846,-78.7555,-71.0846,-78.7555,-71.0846,-78.7555,-71.0846,-78.7555,-71.0846,-78.7555,-71.0846,-78.7555,-71.0846,-78.7555,-71.0846,-78.7555,-71.0846,-78.7555,-71.0846,-78.7555,-71.0846,-78.7555,-71.0846,-78.7555,-71.0846,-78.7555,-71.0846,-78.7555,-71.0846,-78.7555,-71.0846,-78.7555,-71.0846,-78.7555,-71.0846,-78.7555,-71.0846,-78.7555,-71.0846,-78.7555,-71.0846,-78.7555,-71.0846,-78.7555,-71.0846,-78.7555,-71.0846,-78.7555,-71.0846,-78.7555,-71.0846,-78.7555,-71.0846,-78.7555,-71.0846,-78.7555,-111.8726,-111.8726,-111.8726,-111.8726,-111.8726,-79.4686,-73.2314,-91.1247,-71.2027,-88.2723,-74.8393,-84.7217,-72.9589,-122.3298,-121.3087,-121.3087,-121.4683,-122.3244,-122.3244,-122.3244,-122.3244,-122.3244,-122.3244,-122.3244,-122.3244,-122.3244,-122.3244,-122.3244,-122.3244,-122.3244,-122.3244,-122.3244,-122.3244,-122.3244,-122.3244,-122.3244,-122.3244,-122.3244,-122.3244,-122.3244,-122.3244,-122.3244,-122.3244,-122.3244,-122.3244,-122.3244,-122.3244,-122.3244,-122.3244,-122.3244,-122.3244,-111.9306,-111.9306,-111.9306,-111.9306,-96.7662,-123.3131,-84.8416,-75.9662,-96.7662,-123.3131,-84.8416,-75.9662,-96.7662,-123.3131,-84.8416,-75.9662,-77.0163,-77.0163,-77.0163,-77.0163,-77.0163,-77.0163,-77.0163,-77.0163,-117.1225,-117.1225,-117.1225,-117.1225,-75.5203,-76.8699,-74.5597,-70.8845,-81.4805,-73.5739,-71.2842,-97.7522,-92.9783,-97.7522,-92.9783,-97.7522,-92.9783,-97.7522,-92.9783,-97.7522,-92.9783,-97.7522,-92.9783,-97.7522,-92.9783,-97.7522,-92.9783,-97.7522,-92.9783,-97.7522,-92.9783,-97.7522,-92.9783,-97.7522,-92.9783,-97.7522,-92.9783,-80.2102,-94.8718,-80.2102,-94.8718,-80.2102,-94.8718,-80.2102,-94.8718,-80.2102,-94.8718,-80.2102,-94.8718,-80.2102,-94.8718,-105.2523,-105.2523,-105.2523,-105.2523,-105.2523,-105.2523,-105.2523,-84.4587,-71.2307,-81.2202,-80.2682,-99.7461,-79.444,-88.3945,-73.5583,-73.5583,-73.5583,-73.5583,-111.8419,-78.4235,-81.9857,-82.4063,-75.355,-111.8419,-78.4235,-81.9857,-82.4063,-75.355,-84.4224,-94.1672,-84.4224,-94.1672,-84.4224,-94.1672,-84.4224,-94.1672,-84.4224,-94.1672,-84.4224,-94.1672,-84.4224,-94.1672,-84.4224,-94.1672,-84.4224,-94.1672,-82.985,-84.8771,-85.9183,-88.4096,-97.3563,-89.03,-82.985,-84.8771,-85.9183,-88.4096,-97.3563,-89.03,-82.985,-84.8771,-85.9183,-88.4096,-97.3563,-89.03,-82.985,-84.8771,-85.9183,-88.4096,-97.3563,-89.03,-82.985,-84.8771,-85.9183,-88.4096,-97.3563,-89.03,-93.2678,-93.2678,-95.8613,-122.5967,-122.5967,-122.5967,-85.6562,-93.5327,-79.9762,-79.9762,-79.9762,-79.9762,-120.6691,-76.6144,-76.6144,-75.1339,-89.1221,-75.1339,-89.1221,-75.1339,-89.1221,-75.1339,-89.1221,-75.1339,-89.1221,-90.2451,-84.6118,-90.2451,-84.6118,-86.7987,-83.2166,-84.0767,-83.4376,-84.0767,-83.4376,-84.0767,-83.4376,-104.8759,-104.8759,-104.8759,-78.6435,-122.65,-70.2715,-97.3284,-86.5194,-72.589,-84.9833,-84.899,-122.65,-70.2715,-97.3284,-86.5194,-72.589,-84.9833,-84.899,-122.65,-70.2715,-97.3284,-86.5194,-72.589,-84.9833,-84.899,-122.65,-70.2715,-97.3284,-86.5194,-72.589,-84.9833,-84.899,-77.4756,-122.339,-84.8905,-84.2926,-95.7602,-71.6608,-82.7518,-93.9731,-80.6627,-86.1458,-72.9246,-85.0175,-83.1024,-83.1024,-83.1024,-119.7202,-78.9031,-70.9195,-72.6829,-121.7875,-85.6485,-105.1441,-81.2643,-89.0553,-71.491,-86.6412,-95.5544,-117.433,-119.8483,-95.3889,-84.5061,-90.6052,-81.6084],\"marker\":{\"color\":\"#636efa\",\"size\":[260.0,237.0,0.0,515.0,100.0,50.0,0.0,0.0,88.0,0.0,1250.0,1100.0,0.0,0.0,0.0,0.0,0.0,0.0,0.0,300.0,105.0,200.0,4100.0,0.0,180.0,100.0,60.0,31.0,124.0,40.0,100.0,400.0,65.0,60.0,45.0,0.0,0.0,11000.0,130.0,35.0,0.0,0.0,0.0,0.0,1000.0,350.0,0.0,3700.0,1000.0,700.0,60.0,0.0,0.0,0.0,0.0,550.0,156.0,142.0,50.0,200.0,140.0,100.0,0.0,25.0,13.0,94.0,150.0,30.0,0.0,400.0,0.0,64.0,23.0,0.0,32.0,0.0,84.0,24.0,378.0,90.0,150.0,136.0,100.0,55.0,611.0,180.0,96.0,120.0,51.0,50.0,0.0,0.0,0.0,78.0,0.0,0.0,40.0,671.0,0.0,0.0,40.0,0.0,0.0,100.0,0.0,0.0,35.0,0.0,0.0,800.0,30.0,80.0,25.0,0.0,0.0,5.0,23.0,0.0,49.0,27.0,0.0,0.0,90.0,70.0,45.0,29.0,0.0,0.0,80.0,24.0,140.0,0.0,31.0,29.0,50.0,110.0,125.0,54.0,0.0,0.0,220.0,0.0,0.0,175.0,90.0,0.0,270.0,48.0,0.0,0.0,0.0,36.0,0.0,250.0,100.0,80.0,73.0,50.0,0.0,713.0,80.0,0.0,50.0,40.0,60.0,60.0,23.0,0.0,0.0,0.0,23.0,80.0,0.0,45.0,15.0,0.0,0.0,140.0,0.0,75.0,60.0,60.0,13.0,1000.0,94.0,0.0,23.0,0.0,42.0,39.0,0.0,262.0,7.0,0.0,45.0,0.0,0.0,0.0,0.0,150.0,0.0,100.0,31.0,85.0,15.0,400.0,12.0,0.0,0.0,200.0,85.0,16.0,13.0,0.0,0.0,0.0,300.0,27.0,43.0,40.0,300.0,15.0,120.0,70.0,24.0,0.0,101.0,45.0,150.0,23.0,1100.0,33.0,330.0,0.0,250.0,150.0,40.0,0.0,0.0,0.0,23.0,0.0,250.0,30.0,29.0,25.0,34.0,25.0,0.0,0.0,0.0,300.0,240.0,83.0,70.0,150.0,310.0,90.0,72.0,45.0,150.0,25.0,340.0,200.0,10.0,44.0,0.0,0.0,0.0,150.0,0.0,190.0,0.0,150.0,0.0,80.0,0.0,50.0,0.0,26.0,0.0,0.0,60.0,800.0,500.0,0.0,38.0,63.0,54.0,0.0,80.0,87.0,120.0,180.0,32.0,100.0,130.0,33.0,0.0,180.0,58.0,37.0,0.0,120.0,70.0,241.0,170.0,170.0,110.0,0.0,30.0,65.0,500.0,67.0,500.0,110.0,271.0,193.0,100.0,0.0,0.0,0.0,0.0,81.0,30.0,20.0,0.0,138.0,0.0,0.0,0.0,52.0,0.0,16.0,784.0,60.0,0.0,0.0,337.0,63.0,0.0,0.0,115.0,19.0,0.0,136.0,38.0,60.0,0.0,0.0,23.0,0.0,68.0,30.0,0.0,0.0,0.0,120.0,24.0,1000.0,156.0,0.0,30.0,120.0,80.0,20.0,150.0,0.0,0.0,40.0,30.0,210.0,0.0,0.0,0.0,0.0,50.0,0.0,50.0,450.0,250.0,0.0,0.0,21.0,170.0,100.0,31.0,30.0,130.0,24.0,22.0,32.0,30.0,270.0,25.0,495.0,22.0,52.0,0.0,0.0,20.0,115.0,3000.0,100.0,2800.0,57.0,80.0,40.0,40.0,40.0,40.0,175.0,158.0,90.0,90.0,144.0,0.0,0.0,0.0,84.0,200.0,109.0,0.0,1280.0,140.0,0.0,0.0,200.0,0.0,40.0,0.0,0.0,0.0,100.0,12.0,30.0,58.0,0.0,80.0,110.0,8.0,52.0,40.0,56.0,20.0,138.0,50.0,75.0,0.0,150.0,111.0,0.0,1500.0,113.0,0.0,0.0,2500.0,0.0,0.0,65.0,65.0,0.0,0.0,0.0,0.0,90.0,90.0,59.0,59.0,40.0,40.0,0.0,0.0,65.0,65.0,0.0,0.0,0.0,0.0,60.0,60.0,200.0,200.0,198.0,198.0,0.0,0.0,29.0,29.0,160.0,160.0,0.0,0.0,55.0,55.0,870.0,870.0,0.0,0.0,130.0,130.0,0.0,0.0,140.0,140.0,40.0,40.0,0.0,0.0,25.0,25.0,95.0,95.0,0.0,0.0,0.0,0.0,27.0,27.0,30.0,30.0,0.0,0.0,70.0,70.0,35.0,35.0,110.0,110.0,0.0,0.0,40.0,40.0,26.0,26.0,0.0,0.0,100.0,100.0,70.0,70.0,97.0,97.0,0.0,0.0,0.0,0.0,20.0,200.0,0.0,47.0,47.0,47.0,47.0,47.0,47.0,47.0,47.0,47.0,0.0,50.0,60.0,0.0,10000.0,0.0,862.0,300.0,0.0,32.0,300.0,0.0,100.0,56.0,0.0,0.0,0.0,0.0,13.0,60.0,43.0,63.0,11.0,0.0,200.0,0.0,80.0,0.0,0.0,470.0,0.0,90.0,0.0,40.0,100.0,100.0,0.0,0.0,40.0,12.0,119.0,0.0,0.0,0.0,0.0,0.0,0.0,0.0,0.0,41.0,41.0,41.0,41.0,0.0,95.0,15.0,0.0,39.0,90.0,55.0,130.0,0.0,500.0,170.0,60.0,76.0,76.0,76.0,76.0,76.0,76.0,76.0,0.0,0.0,50.0,50.0,0.0,0.0,0.0,0.0,120.0,120.0,0.0,0.0,85.0,85.0,35.0,35.0,0.0,0.0,0.0,0.0,0.0,0.0,40.0,40.0,450.0,450.0,0.0,0.0,149.0,149.0,0.0,0.0,130.0,130.0,0.0,0.0,90.0,90.0,750.0,750.0,0.0,23.0,20.0,24.0,0.0,87.0,0.0,0.0,0.0,0.0,0.0,0.0,0.0,0.0,500.0,10.0,250.0,44.0,300.0,300.0,300.0,300.0,300.0,0.0,0.0,0.0,0.0,0.0,51.0,51.0,0.0,0.0,0.0,0.0,0.0,0.0,90.0,90.0,950.0,950.0,59.0,59.0,0.0,0.0,50.0,50.0,137.0,137.0,137.0,137.0,137.0,137.0,450.0,450.0,450.0,450.0,450.0,450.0,16.0,16.0,16.0,16.0,16.0,16.0,0.0,0.0,0.0,0.0,0.0,0.0,330.0,330.0,330.0,330.0,330.0,330.0,0.0,0.0,59.0,134.0,0.0,40.0,226.0,226.0,100.0,0.0,90.0,150.0,400.0,20.0,0.0,250.0,250.0,40.0,40.0,1500.0,1500.0,450.0,450.0,100.0,100.0,0.0,0.0,30.0,30.0,110.0,110.0,40.0,40.0,24.0,24.0,138.0,138.0,0.0,0.0,0.0,45.0,40.0,40.0,40.0,40.0,40.0,40.0,40.0,0.0,0.0,0.0,0.0,0.0,0.0,0.0,0.0,0.0,0.0,0.0,0.0,0.0,0.0,0.0,0.0,0.0,0.0,0.0,0.0,0.0,0.0,0.0,0.0,0.0,0.0,0.0,0.0,0.0,0.0,5.0,0.0,0.0,840.0,120.0,80.0,0.0,40.0,40.0,40.0,40.0,52.0,52.0,52.0,52.0,60.0,0.0,0.0,22.0,69.0,0.0,30.0,62.0,62.0],\"sizemode\":\"area\",\"sizeref\":27.5,\"symbol\":\"circle\"},\"mode\":\"markers\",\"name\":\"\",\"showlegend\":false,\"type\":\"scattergeo\"}],                        {\"template\":{\"data\":{\"histogram2dcontour\":[{\"type\":\"histogram2dcontour\",\"colorbar\":{\"outlinewidth\":0,\"ticks\":\"\"},\"colorscale\":[[0.0,\"#0d0887\"],[0.1111111111111111,\"#46039f\"],[0.2222222222222222,\"#7201a8\"],[0.3333333333333333,\"#9c179e\"],[0.4444444444444444,\"#bd3786\"],[0.5555555555555556,\"#d8576b\"],[0.6666666666666666,\"#ed7953\"],[0.7777777777777778,\"#fb9f3a\"],[0.8888888888888888,\"#fdca26\"],[1.0,\"#f0f921\"]]}],\"choropleth\":[{\"type\":\"choropleth\",\"colorbar\":{\"outlinewidth\":0,\"ticks\":\"\"}}],\"histogram2d\":[{\"type\":\"histogram2d\",\"colorbar\":{\"outlinewidth\":0,\"ticks\":\"\"},\"colorscale\":[[0.0,\"#0d0887\"],[0.1111111111111111,\"#46039f\"],[0.2222222222222222,\"#7201a8\"],[0.3333333333333333,\"#9c179e\"],[0.4444444444444444,\"#bd3786\"],[0.5555555555555556,\"#d8576b\"],[0.6666666666666666,\"#ed7953\"],[0.7777777777777778,\"#fb9f3a\"],[0.8888888888888888,\"#fdca26\"],[1.0,\"#f0f921\"]]}],\"heatmap\":[{\"type\":\"heatmap\",\"colorbar\":{\"outlinewidth\":0,\"ticks\":\"\"},\"colorscale\":[[0.0,\"#0d0887\"],[0.1111111111111111,\"#46039f\"],[0.2222222222222222,\"#7201a8\"],[0.3333333333333333,\"#9c179e\"],[0.4444444444444444,\"#bd3786\"],[0.5555555555555556,\"#d8576b\"],[0.6666666666666666,\"#ed7953\"],[0.7777777777777778,\"#fb9f3a\"],[0.8888888888888888,\"#fdca26\"],[1.0,\"#f0f921\"]]}],\"heatmapgl\":[{\"type\":\"heatmapgl\",\"colorbar\":{\"outlinewidth\":0,\"ticks\":\"\"},\"colorscale\":[[0.0,\"#0d0887\"],[0.1111111111111111,\"#46039f\"],[0.2222222222222222,\"#7201a8\"],[0.3333333333333333,\"#9c179e\"],[0.4444444444444444,\"#bd3786\"],[0.5555555555555556,\"#d8576b\"],[0.6666666666666666,\"#ed7953\"],[0.7777777777777778,\"#fb9f3a\"],[0.8888888888888888,\"#fdca26\"],[1.0,\"#f0f921\"]]}],\"contourcarpet\":[{\"type\":\"contourcarpet\",\"colorbar\":{\"outlinewidth\":0,\"ticks\":\"\"}}],\"contour\":[{\"type\":\"contour\",\"colorbar\":{\"outlinewidth\":0,\"ticks\":\"\"},\"colorscale\":[[0.0,\"#0d0887\"],[0.1111111111111111,\"#46039f\"],[0.2222222222222222,\"#7201a8\"],[0.3333333333333333,\"#9c179e\"],[0.4444444444444444,\"#bd3786\"],[0.5555555555555556,\"#d8576b\"],[0.6666666666666666,\"#ed7953\"],[0.7777777777777778,\"#fb9f3a\"],[0.8888888888888888,\"#fdca26\"],[1.0,\"#f0f921\"]]}],\"surface\":[{\"type\":\"surface\",\"colorbar\":{\"outlinewidth\":0,\"ticks\":\"\"},\"colorscale\":[[0.0,\"#0d0887\"],[0.1111111111111111,\"#46039f\"],[0.2222222222222222,\"#7201a8\"],[0.3333333333333333,\"#9c179e\"],[0.4444444444444444,\"#bd3786\"],[0.5555555555555556,\"#d8576b\"],[0.6666666666666666,\"#ed7953\"],[0.7777777777777778,\"#fb9f3a\"],[0.8888888888888888,\"#fdca26\"],[1.0,\"#f0f921\"]]}],\"mesh3d\":[{\"type\":\"mesh3d\",\"colorbar\":{\"outlinewidth\":0,\"ticks\":\"\"}}],\"scatter\":[{\"fillpattern\":{\"fillmode\":\"overlay\",\"size\":10,\"solidity\":0.2},\"type\":\"scatter\"}],\"parcoords\":[{\"type\":\"parcoords\",\"line\":{\"colorbar\":{\"outlinewidth\":0,\"ticks\":\"\"}}}],\"scatterpolargl\":[{\"type\":\"scatterpolargl\",\"marker\":{\"colorbar\":{\"outlinewidth\":0,\"ticks\":\"\"}}}],\"bar\":[{\"error_x\":{\"color\":\"#2a3f5f\"},\"error_y\":{\"color\":\"#2a3f5f\"},\"marker\":{\"line\":{\"color\":\"#E5ECF6\",\"width\":0.5},\"pattern\":{\"fillmode\":\"overlay\",\"size\":10,\"solidity\":0.2}},\"type\":\"bar\"}],\"scattergeo\":[{\"type\":\"scattergeo\",\"marker\":{\"colorbar\":{\"outlinewidth\":0,\"ticks\":\"\"}}}],\"scatterpolar\":[{\"type\":\"scatterpolar\",\"marker\":{\"colorbar\":{\"outlinewidth\":0,\"ticks\":\"\"}}}],\"histogram\":[{\"marker\":{\"pattern\":{\"fillmode\":\"overlay\",\"size\":10,\"solidity\":0.2}},\"type\":\"histogram\"}],\"scattergl\":[{\"type\":\"scattergl\",\"marker\":{\"colorbar\":{\"outlinewidth\":0,\"ticks\":\"\"}}}],\"scatter3d\":[{\"type\":\"scatter3d\",\"line\":{\"colorbar\":{\"outlinewidth\":0,\"ticks\":\"\"}},\"marker\":{\"colorbar\":{\"outlinewidth\":0,\"ticks\":\"\"}}}],\"scattermapbox\":[{\"type\":\"scattermapbox\",\"marker\":{\"colorbar\":{\"outlinewidth\":0,\"ticks\":\"\"}}}],\"scatterternary\":[{\"type\":\"scatterternary\",\"marker\":{\"colorbar\":{\"outlinewidth\":0,\"ticks\":\"\"}}}],\"scattercarpet\":[{\"type\":\"scattercarpet\",\"marker\":{\"colorbar\":{\"outlinewidth\":0,\"ticks\":\"\"}}}],\"carpet\":[{\"aaxis\":{\"endlinecolor\":\"#2a3f5f\",\"gridcolor\":\"white\",\"linecolor\":\"white\",\"minorgridcolor\":\"white\",\"startlinecolor\":\"#2a3f5f\"},\"baxis\":{\"endlinecolor\":\"#2a3f5f\",\"gridcolor\":\"white\",\"linecolor\":\"white\",\"minorgridcolor\":\"white\",\"startlinecolor\":\"#2a3f5f\"},\"type\":\"carpet\"}],\"table\":[{\"cells\":{\"fill\":{\"color\":\"#EBF0F8\"},\"line\":{\"color\":\"white\"}},\"header\":{\"fill\":{\"color\":\"#C8D4E3\"},\"line\":{\"color\":\"white\"}},\"type\":\"table\"}],\"barpolar\":[{\"marker\":{\"line\":{\"color\":\"#E5ECF6\",\"width\":0.5},\"pattern\":{\"fillmode\":\"overlay\",\"size\":10,\"solidity\":0.2}},\"type\":\"barpolar\"}],\"pie\":[{\"automargin\":true,\"type\":\"pie\"}]},\"layout\":{\"autotypenumbers\":\"strict\",\"colorway\":[\"#636efa\",\"#EF553B\",\"#00cc96\",\"#ab63fa\",\"#FFA15A\",\"#19d3f3\",\"#FF6692\",\"#B6E880\",\"#FF97FF\",\"#FECB52\"],\"font\":{\"color\":\"#2a3f5f\"},\"hovermode\":\"closest\",\"hoverlabel\":{\"align\":\"left\"},\"paper_bgcolor\":\"white\",\"plot_bgcolor\":\"#E5ECF6\",\"polar\":{\"bgcolor\":\"#E5ECF6\",\"angularaxis\":{\"gridcolor\":\"white\",\"linecolor\":\"white\",\"ticks\":\"\"},\"radialaxis\":{\"gridcolor\":\"white\",\"linecolor\":\"white\",\"ticks\":\"\"}},\"ternary\":{\"bgcolor\":\"#E5ECF6\",\"aaxis\":{\"gridcolor\":\"white\",\"linecolor\":\"white\",\"ticks\":\"\"},\"baxis\":{\"gridcolor\":\"white\",\"linecolor\":\"white\",\"ticks\":\"\"},\"caxis\":{\"gridcolor\":\"white\",\"linecolor\":\"white\",\"ticks\":\"\"}},\"coloraxis\":{\"colorbar\":{\"outlinewidth\":0,\"ticks\":\"\"}},\"colorscale\":{\"sequential\":[[0.0,\"#0d0887\"],[0.1111111111111111,\"#46039f\"],[0.2222222222222222,\"#7201a8\"],[0.3333333333333333,\"#9c179e\"],[0.4444444444444444,\"#bd3786\"],[0.5555555555555556,\"#d8576b\"],[0.6666666666666666,\"#ed7953\"],[0.7777777777777778,\"#fb9f3a\"],[0.8888888888888888,\"#fdca26\"],[1.0,\"#f0f921\"]],\"sequentialminus\":[[0.0,\"#0d0887\"],[0.1111111111111111,\"#46039f\"],[0.2222222222222222,\"#7201a8\"],[0.3333333333333333,\"#9c179e\"],[0.4444444444444444,\"#bd3786\"],[0.5555555555555556,\"#d8576b\"],[0.6666666666666666,\"#ed7953\"],[0.7777777777777778,\"#fb9f3a\"],[0.8888888888888888,\"#fdca26\"],[1.0,\"#f0f921\"]],\"diverging\":[[0,\"#8e0152\"],[0.1,\"#c51b7d\"],[0.2,\"#de77ae\"],[0.3,\"#f1b6da\"],[0.4,\"#fde0ef\"],[0.5,\"#f7f7f7\"],[0.6,\"#e6f5d0\"],[0.7,\"#b8e186\"],[0.8,\"#7fbc41\"],[0.9,\"#4d9221\"],[1,\"#276419\"]]},\"xaxis\":{\"gridcolor\":\"white\",\"linecolor\":\"white\",\"ticks\":\"\",\"title\":{\"standoff\":15},\"zerolinecolor\":\"white\",\"automargin\":true,\"zerolinewidth\":2},\"yaxis\":{\"gridcolor\":\"white\",\"linecolor\":\"white\",\"ticks\":\"\",\"title\":{\"standoff\":15},\"zerolinecolor\":\"white\",\"automargin\":true,\"zerolinewidth\":2},\"scene\":{\"xaxis\":{\"backgroundcolor\":\"#E5ECF6\",\"gridcolor\":\"white\",\"linecolor\":\"white\",\"showbackground\":true,\"ticks\":\"\",\"zerolinecolor\":\"white\",\"gridwidth\":2},\"yaxis\":{\"backgroundcolor\":\"#E5ECF6\",\"gridcolor\":\"white\",\"linecolor\":\"white\",\"showbackground\":true,\"ticks\":\"\",\"zerolinecolor\":\"white\",\"gridwidth\":2},\"zaxis\":{\"backgroundcolor\":\"#E5ECF6\",\"gridcolor\":\"white\",\"linecolor\":\"white\",\"showbackground\":true,\"ticks\":\"\",\"zerolinecolor\":\"white\",\"gridwidth\":2}},\"shapedefaults\":{\"line\":{\"color\":\"#2a3f5f\"}},\"annotationdefaults\":{\"arrowcolor\":\"#2a3f5f\",\"arrowhead\":0,\"arrowwidth\":1},\"geo\":{\"bgcolor\":\"white\",\"landcolor\":\"#E5ECF6\",\"subunitcolor\":\"white\",\"showland\":true,\"showlakes\":true,\"lakecolor\":\"white\"},\"title\":{\"x\":0.05},\"mapbox\":{\"style\":\"light\"}}},\"geo\":{\"domain\":{\"x\":[0.0,1.0],\"y\":[0.0,1.0]},\"projection\":{\"type\":\"orthographic\"},\"center\":{}},\"legend\":{\"tracegroupgap\":0,\"itemsizing\":\"constant\"},\"title\":{\"text\":\"Layoffs Tracker\"},\"updatemenus\":[{\"buttons\":[{\"args\":[null,{\"frame\":{\"duration\":500,\"redraw\":true},\"mode\":\"immediate\",\"fromcurrent\":true,\"transition\":{\"duration\":500,\"easing\":\"linear\"}}],\"label\":\"&#9654;\",\"method\":\"animate\"},{\"args\":[[null],{\"frame\":{\"duration\":0,\"redraw\":true},\"mode\":\"immediate\",\"fromcurrent\":true,\"transition\":{\"duration\":0,\"easing\":\"linear\"}}],\"label\":\"&#9724;\",\"method\":\"animate\"}],\"direction\":\"left\",\"pad\":{\"r\":10,\"t\":70},\"showactive\":false,\"type\":\"buttons\",\"x\":0.1,\"xanchor\":\"right\",\"y\":0,\"yanchor\":\"top\"}],\"sliders\":[{\"active\":0,\"currentvalue\":{\"prefix\":\"year=\"},\"len\":0.9,\"pad\":{\"b\":10,\"t\":60},\"steps\":[{\"args\":[[\"2022.0\"],{\"frame\":{\"duration\":0,\"redraw\":true},\"mode\":\"immediate\",\"fromcurrent\":true,\"transition\":{\"duration\":0,\"easing\":\"linear\"}}],\"label\":\"2022.0\",\"method\":\"animate\"},{\"args\":[[\"2021.0\"],{\"frame\":{\"duration\":0,\"redraw\":true},\"mode\":\"immediate\",\"fromcurrent\":true,\"transition\":{\"duration\":0,\"easing\":\"linear\"}}],\"label\":\"2021.0\",\"method\":\"animate\"},{\"args\":[[\"2020.0\"],{\"frame\":{\"duration\":0,\"redraw\":true},\"mode\":\"immediate\",\"fromcurrent\":true,\"transition\":{\"duration\":0,\"easing\":\"linear\"}}],\"label\":\"2020.0\",\"method\":\"animate\"}],\"x\":0.1,\"xanchor\":\"left\",\"y\":0,\"yanchor\":\"top\"}]},                        {\"responsive\": true}                    ).then(function(){\n",
       "                            Plotly.addFrames('cbcf8b76-a822-4fb0-aad4-6e100655eb78', [{\"data\":[{\"geo\":\"geo\",\"hovertemplate\":\"<b>%{hovertext}</b><br><br>year=2022.0<br>laid_off_count=%{marker.size}<br>lat=%{lat}<br>lng=%{lon}<extra></extra>\",\"hovertext\":[\"San Francisco\",\"San Francisco\",\"San Francisco\",\"San Francisco\",\"San Francisco\",\"San Francisco\",\"San Francisco\",\"San Francisco\",\"San Francisco\",\"San Francisco\",\"San Francisco\",\"San Francisco\",\"San Francisco\",\"San Francisco\",\"San Francisco\",\"San Francisco\",\"San Francisco\",\"San Francisco\",\"San Francisco\",\"San Francisco\",\"San Francisco\",\"San Francisco\",\"San Francisco\",\"San Francisco\",\"San Francisco\",\"San Francisco\",\"San Francisco\",\"San Francisco\",\"San Francisco\",\"San Francisco\",\"San Francisco\",\"San Francisco\",\"San Francisco\",\"San Francisco\",\"San Francisco\",\"San Francisco\",\"San Francisco\",\"San Francisco\",\"San Francisco\",\"San Francisco\",\"San Francisco\",\"San Francisco\",\"San Francisco\",\"San Francisco\",\"San Francisco\",\"San Francisco\",\"San Francisco\",\"San Francisco\",\"San Francisco\",\"San Francisco\",\"San Francisco\",\"San Francisco\",\"San Francisco\",\"San Francisco\",\"San Francisco\",\"San Francisco\",\"San Francisco\",\"San Francisco\",\"San Francisco\",\"San Francisco\",\"San Francisco\",\"San Francisco\",\"San Francisco\",\"San Francisco\",\"San Francisco\",\"San Francisco\",\"San Francisco\",\"San Francisco\",\"San Francisco\",\"San Francisco\",\"San Francisco\",\"San Francisco\",\"San Francisco\",\"San Francisco\",\"San Francisco\",\"San Francisco\",\"San Francisco\",\"San Francisco\",\"San Francisco\",\"San Francisco\",\"San Francisco\",\"San Francisco\",\"San Francisco\",\"San Francisco\",\"San Francisco\",\"San Francisco\",\"San Francisco\",\"San Francisco\",\"San Francisco\",\"San Francisco\",\"San Francisco\",\"San Francisco\",\"San Francisco\",\"San Francisco\",\"San Francisco\",\"San Francisco\",\"San Francisco\",\"San Francisco\",\"San Francisco\",\"San Francisco\",\"San Francisco\",\"San Francisco\",\"San Francisco\",\"San Francisco\",\"San Francisco\",\"San Francisco\",\"San Francisco\",\"San Francisco\",\"San Francisco\",\"San Francisco\",\"San Francisco\",\"San Francisco\",\"San Francisco\",\"San Francisco\",\"San Francisco\",\"San Francisco\",\"San Francisco\",\"San Francisco\",\"San Francisco\",\"San Francisco\",\"San Francisco\",\"San Francisco\",\"San Francisco\",\"San Francisco\",\"San Francisco\",\"San Francisco\",\"San Francisco\",\"San Francisco\",\"San Francisco\",\"San Francisco\",\"San Francisco\",\"San Francisco\",\"San Francisco\",\"San Francisco\",\"San Francisco\",\"San Francisco\",\"San Francisco\",\"San Francisco\",\"San Francisco\",\"San Francisco\",\"San Francisco\",\"San Francisco\",\"San Francisco\",\"San Francisco\",\"San Francisco\",\"San Francisco\",\"San Francisco\",\"San Francisco\",\"San Francisco\",\"San Francisco\",\"San Francisco\",\"San Francisco\",\"San Francisco\",\"San Francisco\",\"San Francisco\",\"San Francisco\",\"San Francisco\",\"San Francisco\",\"San Francisco\",\"San Francisco\",\"San Francisco\",\"San Francisco\",\"San Francisco\",\"San Francisco\",\"San Francisco\",\"San Francisco\",\"San Francisco\",\"San Francisco\",\"San Francisco\",\"San Francisco\",\"San Francisco\",\"San Francisco\",\"San Francisco\",\"San Francisco\",\"San Francisco\",\"San Francisco\",\"San Francisco\",\"San Francisco\",\"San Francisco\",\"San Francisco\",\"San Francisco\",\"San Francisco\",\"San Francisco\",\"San Francisco\",\"San Francisco\",\"San Francisco\",\"San Francisco\",\"San Francisco\",\"San Francisco\",\"San Francisco\",\"San Francisco\",\"San Francisco\",\"San Francisco\",\"San Francisco\",\"San Francisco\",\"San Francisco\",\"San Francisco\",\"San Francisco\",\"San Francisco\",\"San Francisco\",\"San Francisco\",\"San Francisco\",\"San Francisco\",\"San Francisco\",\"San Francisco\",\"San Francisco\",\"San Francisco\",\"San Francisco\",\"San Francisco\",\"San Francisco\",\"San Francisco\",\"San Francisco\",\"San Francisco\",\"San Francisco\",\"San Francisco\",\"San Francisco\",\"San Francisco\",\"San Francisco\",\"San Francisco\",\"San Francisco\",\"San Francisco\",\"San Francisco\",\"San Francisco\",\"San Francisco\",\"San Francisco\",\"San Francisco\",\"San Francisco\",\"San Francisco\",\"San Francisco\",\"San Francisco\",\"San Francisco\",\"San Francisco\",\"San Francisco\",\"San Francisco\",\"San Francisco\",\"San Francisco\",\"San Francisco\",\"San Francisco\",\"San Francisco\",\"San Francisco\",\"San Francisco\",\"San Francisco\",\"San Francisco\",\"San Francisco\",\"San Francisco\",\"San Francisco\",\"San Francisco\",\"San Francisco\",\"San Francisco\",\"San Francisco\",\"San Francisco\",\"San Francisco\",\"San Francisco\",\"San Francisco\",\"San Francisco\",\"San Francisco\",\"San Francisco\",\"San Francisco\",\"San Francisco\",\"San Francisco\",\"San Francisco\",\"San Francisco\",\"San Francisco\",\"San Francisco\",\"San Francisco\",\"San Francisco\",\"San Francisco\",\"San Francisco\",\"San Francisco\",\"San Francisco\",\"San Francisco\",\"San Francisco\",\"San Francisco\",\"Chicago\",\"Chicago\",\"Chicago\",\"Chicago\",\"Chicago\",\"Chicago\",\"Chicago\",\"Chicago\",\"Chicago\",\"Chicago\",\"Chicago\",\"Chicago\",\"Chicago\",\"Chicago\",\"Chicago\",\"Chicago\",\"Chicago\",\"Chicago\",\"Chicago\",\"New York\",\"New York\",\"New York\",\"New York\",\"New York\",\"New York\",\"New York\",\"New York\",\"New York\",\"New York\",\"New York\",\"New York\",\"New York\",\"New York\",\"New York\",\"New York\",\"New York\",\"New York\",\"New York\",\"New York\",\"New York\",\"New York\",\"New York\",\"New York\",\"New York\",\"New York\",\"New York\",\"New York\",\"New York\",\"New York\",\"New York\",\"New York\",\"New York\",\"New York\",\"New York\",\"New York\",\"New York\",\"New York\",\"New York\",\"New York\",\"New York\",\"New York\",\"New York\",\"New York\",\"New York\",\"New York\",\"New York\",\"New York\",\"New York\",\"New York\",\"New York\",\"New York\",\"New York\",\"New York\",\"New York\",\"New York\",\"New York\",\"New York\",\"New York\",\"New York\",\"New York\",\"New York\",\"New York\",\"New York\",\"New York\",\"New York\",\"New York\",\"New York\",\"New York\",\"New York\",\"New York\",\"New York\",\"New York\",\"New York\",\"New York\",\"New York\",\"New York\",\"New York\",\"New York\",\"New York\",\"New York\",\"New York\",\"New York\",\"New York\",\"New York\",\"New York\",\"New York\",\"New York\",\"New York\",\"New York\",\"New York\",\"New York\",\"New York\",\"New York\",\"New York\",\"New York\",\"New York\",\"New York\",\"New York\",\"New York\",\"New York\",\"New York\",\"New York\",\"New York\",\"New York\",\"New York\",\"New York\",\"New York\",\"New York\",\"New York\",\"New York\",\"New York\",\"New York\",\"New York\",\"New York\",\"Berlin\",\"Berlin\",\"Berlin\",\"Berlin\",\"Los Angeles\",\"Los Angeles\",\"Los Angeles\",\"Los Angeles\",\"Los Angeles\",\"Los Angeles\",\"Los Angeles\",\"Los Angeles\",\"Los Angeles\",\"Los Angeles\",\"Los Angeles\",\"Los Angeles\",\"Los Angeles\",\"Los Angeles\",\"Los Angeles\",\"Los Angeles\",\"Los Angeles\",\"Los Angeles\",\"Los Angeles\",\"Los Angeles\",\"Los Angeles\",\"Los Angeles\",\"Los Angeles\",\"Los Angeles\",\"Los Angeles\",\"Los Angeles\",\"Los Angeles\",\"Los Angeles\",\"Los Angeles\",\"Los Angeles\",\"Los Angeles\",\"Los Angeles\",\"Los Angeles\",\"Los Angeles\",\"Los Angeles\",\"Los Angeles\",\"Los Angeles\",\"Los Angeles\",\"Los Angeles\",\"Los Angeles\",\"Phoenix\",\"Phoenix\",\"Phoenix\",\"Phoenix\",\"Phoenix\",\"Phoenix\",\"Boston\",\"Boston\",\"Boston\",\"Boston\",\"Boston\",\"Boston\",\"Boston\",\"Boston\",\"Boston\",\"Boston\",\"Boston\",\"Boston\",\"Boston\",\"Boston\",\"Boston\",\"Boston\",\"Boston\",\"Boston\",\"Boston\",\"Boston\",\"Boston\",\"Boston\",\"Boston\",\"Boston\",\"Boston\",\"Boston\",\"Boston\",\"Boston\",\"Boston\",\"Boston\",\"Boston\",\"Boston\",\"Boston\",\"Boston\",\"Boston\",\"Boston\",\"Boston\",\"Boston\",\"Boston\",\"Boston\",\"Boston\",\"Boston\",\"Boston\",\"Boston\",\"Boston\",\"Boston\",\"Boston\",\"Boston\",\"Boston\",\"Boston\",\"Boston\",\"Boston\",\"Boston\",\"Boston\",\"Boston\",\"Boston\",\"Boston\",\"Boston\",\"Boston\",\"Boston\",\"Boston\",\"Boston\",\"Boston\",\"Boston\",\"Boston\",\"Boston\",\"Boston\",\"Boston\",\"Boston\",\"Boston\",\"Boston\",\"Boston\",\"Boston\",\"Boston\",\"Boston\",\"Boston\",\"Boston\",\"Boston\",\"Boston\",\"Boston\",\"Boston\",\"Boston\",\"Boston\",\"Boston\",\"Boston\",\"Boston\",\"Boston\",\"Boston\",\"Lehi\",\"Lehi\",\"Lehi\",\"Lehi\",\"Lehi\",\"Burlington\",\"Burlington\",\"Burlington\",\"Burlington\",\"Burlington\",\"Burlington\",\"Burlington\",\"Burlington\",\"Burlington\",\"Bend\",\"Bend\",\"Sacramento\",\"Seattle\",\"Seattle\",\"Seattle\",\"Seattle\",\"Seattle\",\"Seattle\",\"Seattle\",\"Seattle\",\"Seattle\",\"Seattle\",\"Seattle\",\"Seattle\",\"Seattle\",\"Seattle\",\"Seattle\",\"Seattle\",\"Seattle\",\"Seattle\",\"Seattle\",\"Seattle\",\"Seattle\",\"Seattle\",\"Seattle\",\"Seattle\",\"Seattle\",\"Seattle\",\"Seattle\",\"Seattle\",\"Seattle\",\"Seattle\",\"Seattle\",\"Seattle\",\"Seattle\",\"Seattle\",\"Salt Lake City\",\"Salt Lake City\",\"Salt Lake City\",\"Salt Lake City\",\"Dallas\",\"Dallas\",\"Dallas\",\"Dallas\",\"Dallas\",\"Dallas\",\"Dallas\",\"Dallas\",\"Dallas\",\"Dallas\",\"Dallas\",\"Dallas\",\"Washington D.C.\",\"Washington D.C.\",\"Washington D.C.\",\"Washington D.C.\",\"Washington D.C.\",\"Washington D.C.\",\"Washington D.C.\",\"Washington D.C.\",\"San Diego\",\"San Diego\",\"San Diego\",\"San Diego\",\"Dover\",\"Dover\",\"Dover\",\"Dover\",\"Dover\",\"Dover\",\"Dover\",\"Austin\",\"Austin\",\"Austin\",\"Austin\",\"Austin\",\"Austin\",\"Austin\",\"Austin\",\"Austin\",\"Austin\",\"Austin\",\"Austin\",\"Austin\",\"Austin\",\"Austin\",\"Austin\",\"Austin\",\"Austin\",\"Austin\",\"Austin\",\"Austin\",\"Austin\",\"Austin\",\"Austin\",\"Austin\",\"Austin\",\"Miami\",\"Miami\",\"Miami\",\"Miami\",\"Miami\",\"Miami\",\"Miami\",\"Miami\",\"Miami\",\"Miami\",\"Miami\",\"Miami\",\"Miami\",\"Miami\",\"Boulder\",\"Boulder\",\"Boulder\",\"Boulder\",\"Boulder\",\"Boulder\",\"Boulder\",\"Lexington\",\"Lexington\",\"Lexington\",\"Lexington\",\"Lexington\",\"Lexington\",\"Lexington\",\"Stamford\",\"Stamford\",\"Stamford\",\"Stamford\",\"Logan\",\"Logan\",\"Logan\",\"Logan\",\"Logan\",\"Logan\",\"Logan\",\"Logan\",\"Logan\",\"Logan\",\"Atlanta\",\"Atlanta\",\"Atlanta\",\"Atlanta\",\"Atlanta\",\"Atlanta\",\"Atlanta\",\"Atlanta\",\"Atlanta\",\"Atlanta\",\"Atlanta\",\"Atlanta\",\"Atlanta\",\"Atlanta\",\"Atlanta\",\"Atlanta\",\"Atlanta\",\"Atlanta\",\"Columbus\",\"Columbus\",\"Columbus\",\"Columbus\",\"Columbus\",\"Columbus\",\"Columbus\",\"Columbus\",\"Columbus\",\"Columbus\",\"Columbus\",\"Columbus\",\"Columbus\",\"Columbus\",\"Columbus\",\"Columbus\",\"Columbus\",\"Columbus\",\"Columbus\",\"Columbus\",\"Columbus\",\"Columbus\",\"Columbus\",\"Columbus\",\"Columbus\",\"Columbus\",\"Columbus\",\"Columbus\",\"Columbus\",\"Columbus\",\"Minneapolis\",\"Minneapolis\",\"Nebraska City\",\"Vancouver\",\"Vancouver\",\"Vancouver\",\"Grand Rapids\",\"Grand Rapids\",\"Pittsburgh\",\"Pittsburgh\",\"Pittsburgh\",\"Pittsburgh\",\"San Luis Obispo\",\"Baltimore\",\"Baltimore\",\"Philadelphia\",\"Philadelphia\",\"Philadelphia\",\"Philadelphia\",\"Philadelphia\",\"Philadelphia\",\"Philadelphia\",\"Philadelphia\",\"Philadelphia\",\"Philadelphia\",\"St. Louis\",\"St. Louis\",\"St. Louis\",\"St. Louis\",\"Birmingham\",\"Birmingham\",\"London\",\"London\",\"London\",\"London\",\"London\",\"London\",\"Denver\",\"Denver\",\"Denver\",\"Raleigh\",\"Portland\",\"Portland\",\"Portland\",\"Portland\",\"Portland\",\"Portland\",\"Portland\",\"Portland\",\"Portland\",\"Portland\",\"Portland\",\"Portland\",\"Portland\",\"Portland\",\"Portland\",\"Portland\",\"Portland\",\"Portland\",\"Portland\",\"Portland\",\"Portland\",\"Portland\",\"Portland\",\"Portland\",\"Portland\",\"Portland\",\"Portland\",\"Portland\",\"Richmond\",\"Richmond\",\"Richmond\",\"Richmond\",\"Richmond\",\"Richmond\",\"Richmond\",\"Richmond\",\"Melbourne\",\"Indianapolis\",\"New Haven\",\"New Haven\",\"Detroit\",\"Detroit\",\"Detroit\",\"Santa Barbara\",\"Durham\",\"Durham\",\"Durham\",\"Durham\",\"Louisville\",\"Louisville\",\"Louisville\",\"Louisville\",\"Nashua\",\"Huntsville\",\"Huntsville\",\"Spokane\",\"Reno\",\"Houston\",\"Cincinnati\",\"Davenport\",\"Davenport\"],\"lat\":[37.7562,37.7562,37.7562,37.7562,37.7562,37.7562,37.7562,37.7562,37.7562,37.7562,37.7562,37.7562,37.7562,37.7562,37.7562,37.7562,37.7562,37.7562,37.7562,37.7562,37.7562,37.7562,37.7562,37.7562,37.7562,37.7562,37.7562,37.7562,37.7562,37.7562,37.7562,37.7562,37.7562,37.7562,37.7562,37.7562,37.7562,37.7562,37.7562,37.7562,37.7562,37.7562,37.7562,37.7562,37.7562,37.7562,37.7562,37.7562,37.7562,37.7562,37.7562,37.7562,37.7562,37.7562,37.7562,37.7562,37.7562,37.7562,37.7562,37.7562,37.7562,37.7562,37.7562,37.7562,37.7562,37.7562,37.7562,37.7562,37.7562,37.7562,37.7562,37.7562,37.7562,37.7562,37.7562,37.7562,37.7562,37.7562,37.7562,37.7562,37.7562,37.7562,37.7562,37.7562,37.7562,37.7562,37.7562,37.7562,37.7562,37.7562,37.7562,37.7562,37.7562,37.7562,37.7562,37.7562,37.7562,37.7562,37.7562,37.7562,37.7562,37.7562,37.7562,37.7562,37.7562,37.7562,37.7562,37.7562,37.7562,37.7562,37.7562,37.7562,37.7562,37.7562,37.7562,37.7562,37.7562,37.7562,37.7562,37.7562,37.7562,37.7562,37.7562,37.7562,37.7562,37.7562,37.7562,37.7562,37.7562,37.7562,37.7562,37.7562,37.7562,37.7562,37.7562,37.7562,37.7562,37.7562,37.7562,37.7562,37.7562,37.7562,37.7562,37.7562,37.7562,37.7562,37.7562,37.7562,37.7562,37.7562,37.7562,37.7562,37.7562,37.7562,37.7562,37.7562,37.7562,37.7562,37.7562,37.7562,37.7562,37.7562,37.7562,37.7562,37.7562,37.7562,37.7562,37.7562,37.7562,37.7562,37.7562,37.7562,37.7562,37.7562,37.7562,37.7562,37.7562,37.7562,37.7562,37.7562,37.7562,37.7562,37.7562,37.7562,37.7562,37.7562,37.7562,37.7562,37.7562,37.7562,37.7562,37.7562,37.7562,37.7562,37.7562,37.7562,37.7562,37.7562,37.7562,37.7562,37.7562,37.7562,37.7562,37.7562,37.7562,37.7562,37.7562,37.7562,37.7562,37.7562,37.7562,37.7562,37.7562,37.7562,37.7562,37.7562,37.7562,37.7562,37.7562,37.7562,37.7562,37.7562,37.7562,37.7562,37.7562,37.7562,37.7562,37.7562,37.7562,37.7562,37.7562,37.7562,37.7562,37.7562,37.7562,37.7562,37.7562,37.7562,37.7562,37.7562,37.7562,37.7562,37.7562,37.7562,37.7562,37.7562,37.7562,37.7562,37.7562,37.7562,37.7562,37.7562,37.7562,37.7562,37.7562,37.7562,37.7562,37.7562,37.7562,37.7562,37.7562,37.7562,37.7562,37.7562,37.7562,37.7562,37.7562,37.7562,37.7562,37.7562,37.7562,37.7562,37.7562,41.8373,41.8373,41.8373,41.8373,41.8373,41.8373,41.8373,41.8373,41.8373,41.8373,41.8373,41.8373,41.8373,41.8373,41.8373,41.8373,41.8373,41.8373,41.8373,40.6943,40.6943,40.6943,40.6943,40.6943,40.6943,40.6943,40.6943,40.6943,40.6943,40.6943,40.6943,40.6943,40.6943,40.6943,40.6943,40.6943,40.6943,40.6943,40.6943,40.6943,40.6943,40.6943,40.6943,40.6943,40.6943,40.6943,40.6943,40.6943,40.6943,40.6943,40.6943,40.6943,40.6943,40.6943,40.6943,40.6943,40.6943,40.6943,40.6943,40.6943,40.6943,40.6943,40.6943,40.6943,40.6943,40.6943,40.6943,40.6943,40.6943,40.6943,40.6943,40.6943,40.6943,40.6943,40.6943,40.6943,40.6943,40.6943,40.6943,40.6943,40.6943,40.6943,40.6943,40.6943,40.6943,40.6943,40.6943,40.6943,40.6943,40.6943,40.6943,40.6943,40.6943,40.6943,40.6943,40.6943,40.6943,40.6943,40.6943,40.6943,40.6943,40.6943,40.6943,40.6943,40.6943,40.6943,40.6943,40.6943,40.6943,40.6943,40.6943,40.6943,40.6943,40.6943,40.6943,40.6943,40.6943,40.6943,40.6943,40.6943,40.6943,40.6943,40.6943,40.6943,40.6943,40.6943,40.6943,40.6943,40.6943,40.6943,40.6943,40.6943,40.6943,40.6943,41.6114,44.4869,39.7915,43.9704,34.1139,34.1139,34.1139,34.1139,34.1139,34.1139,34.1139,34.1139,34.1139,34.1139,34.1139,34.1139,34.1139,34.1139,34.1139,34.1139,34.1139,34.1139,34.1139,34.1139,34.1139,34.1139,34.1139,34.1139,34.1139,34.1139,34.1139,34.1139,34.1139,34.1139,34.1139,34.1139,34.1139,34.1139,34.1139,34.1139,34.1139,34.1139,34.1139,34.1139,33.5722,33.5722,33.5722,33.5722,33.5722,33.5722,42.3188,42.6528,42.3188,42.6528,42.3188,42.6528,42.3188,42.6528,42.3188,42.6528,42.3188,42.6528,42.3188,42.6528,42.3188,42.6528,42.3188,42.6528,42.3188,42.6528,42.3188,42.6528,42.3188,42.6528,42.3188,42.6528,42.3188,42.6528,42.3188,42.6528,42.3188,42.6528,42.3188,42.6528,42.3188,42.6528,42.3188,42.6528,42.3188,42.6528,42.3188,42.6528,42.3188,42.6528,42.3188,42.6528,42.3188,42.6528,42.3188,42.6528,42.3188,42.6528,42.3188,42.6528,42.3188,42.6528,42.3188,42.6528,42.3188,42.6528,42.3188,42.6528,42.3188,42.6528,42.3188,42.6528,42.3188,42.6528,42.3188,42.6528,42.3188,42.6528,42.3188,42.6528,42.3188,42.6528,42.3188,42.6528,42.3188,42.6528,42.3188,42.6528,42.3188,42.6528,42.3188,42.6528,42.3188,42.6528,40.4136,40.4136,40.4136,40.4136,40.4136,36.0758,44.4877,40.8072,42.5022,42.6746,40.0641,39.0223,41.7598,48.4676,44.0562,44.0562,38.5667,47.6211,47.6211,47.6211,47.6211,47.6211,47.6211,47.6211,47.6211,47.6211,47.6211,47.6211,47.6211,47.6211,47.6211,47.6211,47.6211,47.6211,47.6211,47.6211,47.6211,47.6211,47.6211,47.6211,47.6211,47.6211,47.6211,47.6211,47.6211,47.6211,47.6211,47.6211,47.6211,47.6211,47.6211,40.7777,40.7777,40.7777,40.7777,32.7936,44.9222,33.9153,41.3604,32.7936,44.9222,33.9153,41.3604,32.7936,44.9222,33.9153,41.3604,38.9047,38.9047,38.9047,38.9047,38.9047,38.9047,38.9047,38.9047,32.8312,32.8312,32.8312,32.8312,39.161,40.002,40.8859,43.1887,40.5302,41.6839,42.2366,30.3004,43.6718,30.3004,43.6718,30.3004,43.6718,30.3004,43.6718,30.3004,43.6718,30.3004,43.6718,30.3004,43.6718,30.3004,43.6718,30.3004,43.6718,30.3004,43.6718,30.3004,43.6718,30.3004,43.6718,30.3004,43.6718,25.7839,36.8877,25.7839,36.8877,25.7839,36.8877,25.7839,36.8877,25.7839,36.8877,25.7839,36.8877,25.7839,36.8877,40.0249,40.0249,40.0249,40.0249,40.0249,40.0249,40.0249,38.0423,42.4456,33.989,35.8017,40.7779,37.7825,35.6618,41.1035,41.1035,41.1035,41.1035,41.74,40.5263,37.8509,39.5386,39.7923,41.74,40.5263,37.8509,39.5386,39.7923,33.7627,33.1136,33.7627,33.1136,33.7627,33.1136,33.7627,33.1136,33.7627,33.1136,33.7627,33.1136,33.7627,33.1136,33.7627,33.1136,33.7627,33.1136,39.9862,32.51,39.2093,33.5088,41.4368,43.3354,39.9862,32.51,39.2093,33.5088,41.4368,43.3354,39.9862,32.51,39.2093,33.5088,41.4368,43.3354,39.9862,32.51,39.2093,33.5088,41.4368,43.3354,39.9862,32.51,39.2093,33.5088,41.4368,43.3354,44.9635,44.9635,40.6762,45.6366,45.6366,45.6366,42.962,47.238,40.4396,40.4396,40.4396,40.4396,35.2669,39.3051,39.3051,40.0077,32.7761,40.0077,32.7761,40.0077,32.7761,40.0077,32.7761,40.0077,32.7761,38.6358,43.4082,38.6358,43.4082,33.5277,42.5447,37.1175,39.8936,37.1175,39.8936,37.1175,39.8936,39.7621,39.7621,39.7621,35.8325,45.5372,43.6773,27.8911,36.5883,41.5988,40.4375,42.8696,45.5372,43.6773,27.8911,36.5883,41.5988,40.4375,42.8696,45.5372,43.6773,27.8911,36.5883,41.5988,40.4375,42.8696,45.5372,43.6773,27.8911,36.5883,41.5988,40.4375,42.8696,37.5295,37.9477,39.8318,37.7306,29.5825,41.4983,42.8094,39.2755,28.1085,39.7771,41.3112,41.0675,42.3834,42.3834,42.3834,34.4285,35.9794,43.1174,41.4622,39.6232,38.1663,39.9709,40.8371,33.1224,42.7491,34.6988,30.705,47.6671,39.5497,29.7863,39.1413,41.5563,28.1588],\"legendgroup\":\"\",\"lon\":[-122.443,-122.443,-122.443,-122.443,-122.443,-122.443,-122.443,-122.443,-122.443,-122.443,-122.443,-122.443,-122.443,-122.443,-122.443,-122.443,-122.443,-122.443,-122.443,-122.443,-122.443,-122.443,-122.443,-122.443,-122.443,-122.443,-122.443,-122.443,-122.443,-122.443,-122.443,-122.443,-122.443,-122.443,-122.443,-122.443,-122.443,-122.443,-122.443,-122.443,-122.443,-122.443,-122.443,-122.443,-122.443,-122.443,-122.443,-122.443,-122.443,-122.443,-122.443,-122.443,-122.443,-122.443,-122.443,-122.443,-122.443,-122.443,-122.443,-122.443,-122.443,-122.443,-122.443,-122.443,-122.443,-122.443,-122.443,-122.443,-122.443,-122.443,-122.443,-122.443,-122.443,-122.443,-122.443,-122.443,-122.443,-122.443,-122.443,-122.443,-122.443,-122.443,-122.443,-122.443,-122.443,-122.443,-122.443,-122.443,-122.443,-122.443,-122.443,-122.443,-122.443,-122.443,-122.443,-122.443,-122.443,-122.443,-122.443,-122.443,-122.443,-122.443,-122.443,-122.443,-122.443,-122.443,-122.443,-122.443,-122.443,-122.443,-122.443,-122.443,-122.443,-122.443,-122.443,-122.443,-122.443,-122.443,-122.443,-122.443,-122.443,-122.443,-122.443,-122.443,-122.443,-122.443,-122.443,-122.443,-122.443,-122.443,-122.443,-122.443,-122.443,-122.443,-122.443,-122.443,-122.443,-122.443,-122.443,-122.443,-122.443,-122.443,-122.443,-122.443,-122.443,-122.443,-122.443,-122.443,-122.443,-122.443,-122.443,-122.443,-122.443,-122.443,-122.443,-122.443,-122.443,-122.443,-122.443,-122.443,-122.443,-122.443,-122.443,-122.443,-122.443,-122.443,-122.443,-122.443,-122.443,-122.443,-122.443,-122.443,-122.443,-122.443,-122.443,-122.443,-122.443,-122.443,-122.443,-122.443,-122.443,-122.443,-122.443,-122.443,-122.443,-122.443,-122.443,-122.443,-122.443,-122.443,-122.443,-122.443,-122.443,-122.443,-122.443,-122.443,-122.443,-122.443,-122.443,-122.443,-122.443,-122.443,-122.443,-122.443,-122.443,-122.443,-122.443,-122.443,-122.443,-122.443,-122.443,-122.443,-122.443,-122.443,-122.443,-122.443,-122.443,-122.443,-122.443,-122.443,-122.443,-122.443,-122.443,-122.443,-122.443,-122.443,-122.443,-122.443,-122.443,-122.443,-122.443,-122.443,-122.443,-122.443,-122.443,-122.443,-122.443,-122.443,-122.443,-122.443,-122.443,-122.443,-122.443,-122.443,-122.443,-122.443,-122.443,-122.443,-122.443,-122.443,-122.443,-122.443,-122.443,-122.443,-122.443,-122.443,-122.443,-122.443,-122.443,-122.443,-122.443,-122.443,-122.443,-122.443,-122.443,-122.443,-122.443,-122.443,-122.443,-122.443,-122.443,-122.443,-122.443,-87.6862,-87.6862,-87.6862,-87.6862,-87.6862,-87.6862,-87.6862,-87.6862,-87.6862,-87.6862,-87.6862,-87.6862,-87.6862,-87.6862,-87.6862,-87.6862,-87.6862,-87.6862,-87.6862,-73.9249,-73.9249,-73.9249,-73.9249,-73.9249,-73.9249,-73.9249,-73.9249,-73.9249,-73.9249,-73.9249,-73.9249,-73.9249,-73.9249,-73.9249,-73.9249,-73.9249,-73.9249,-73.9249,-73.9249,-73.9249,-73.9249,-73.9249,-73.9249,-73.9249,-73.9249,-73.9249,-73.9249,-73.9249,-73.9249,-73.9249,-73.9249,-73.9249,-73.9249,-73.9249,-73.9249,-73.9249,-73.9249,-73.9249,-73.9249,-73.9249,-73.9249,-73.9249,-73.9249,-73.9249,-73.9249,-73.9249,-73.9249,-73.9249,-73.9249,-73.9249,-73.9249,-73.9249,-73.9249,-73.9249,-73.9249,-73.9249,-73.9249,-73.9249,-73.9249,-73.9249,-73.9249,-73.9249,-73.9249,-73.9249,-73.9249,-73.9249,-73.9249,-73.9249,-73.9249,-73.9249,-73.9249,-73.9249,-73.9249,-73.9249,-73.9249,-73.9249,-73.9249,-73.9249,-73.9249,-73.9249,-73.9249,-73.9249,-73.9249,-73.9249,-73.9249,-73.9249,-73.9249,-73.9249,-73.9249,-73.9249,-73.9249,-73.9249,-73.9249,-73.9249,-73.9249,-73.9249,-73.9249,-73.9249,-73.9249,-73.9249,-73.9249,-73.9249,-73.9249,-73.9249,-73.9249,-73.9249,-73.9249,-73.9249,-73.9249,-73.9249,-73.9249,-73.9249,-73.9249,-73.9249,-72.7758,-71.2599,-74.9375,-88.9505,-118.4068,-118.4068,-118.4068,-118.4068,-118.4068,-118.4068,-118.4068,-118.4068,-118.4068,-118.4068,-118.4068,-118.4068,-118.4068,-118.4068,-118.4068,-118.4068,-118.4068,-118.4068,-118.4068,-118.4068,-118.4068,-118.4068,-118.4068,-118.4068,-118.4068,-118.4068,-118.4068,-118.4068,-118.4068,-118.4068,-118.4068,-118.4068,-118.4068,-118.4068,-118.4068,-118.4068,-118.4068,-118.4068,-118.4068,-118.4068,-112.0891,-112.0891,-112.0891,-112.0891,-112.0891,-112.0891,-71.0846,-78.7555,-71.0846,-78.7555,-71.0846,-78.7555,-71.0846,-78.7555,-71.0846,-78.7555,-71.0846,-78.7555,-71.0846,-78.7555,-71.0846,-78.7555,-71.0846,-78.7555,-71.0846,-78.7555,-71.0846,-78.7555,-71.0846,-78.7555,-71.0846,-78.7555,-71.0846,-78.7555,-71.0846,-78.7555,-71.0846,-78.7555,-71.0846,-78.7555,-71.0846,-78.7555,-71.0846,-78.7555,-71.0846,-78.7555,-71.0846,-78.7555,-71.0846,-78.7555,-71.0846,-78.7555,-71.0846,-78.7555,-71.0846,-78.7555,-71.0846,-78.7555,-71.0846,-78.7555,-71.0846,-78.7555,-71.0846,-78.7555,-71.0846,-78.7555,-71.0846,-78.7555,-71.0846,-78.7555,-71.0846,-78.7555,-71.0846,-78.7555,-71.0846,-78.7555,-71.0846,-78.7555,-71.0846,-78.7555,-71.0846,-78.7555,-71.0846,-78.7555,-71.0846,-78.7555,-71.0846,-78.7555,-71.0846,-78.7555,-71.0846,-78.7555,-71.0846,-78.7555,-111.8726,-111.8726,-111.8726,-111.8726,-111.8726,-79.4686,-73.2314,-91.1247,-71.2027,-88.2723,-74.8393,-84.7217,-72.9589,-122.3298,-121.3087,-121.3087,-121.4683,-122.3244,-122.3244,-122.3244,-122.3244,-122.3244,-122.3244,-122.3244,-122.3244,-122.3244,-122.3244,-122.3244,-122.3244,-122.3244,-122.3244,-122.3244,-122.3244,-122.3244,-122.3244,-122.3244,-122.3244,-122.3244,-122.3244,-122.3244,-122.3244,-122.3244,-122.3244,-122.3244,-122.3244,-122.3244,-122.3244,-122.3244,-122.3244,-122.3244,-122.3244,-111.9306,-111.9306,-111.9306,-111.9306,-96.7662,-123.3131,-84.8416,-75.9662,-96.7662,-123.3131,-84.8416,-75.9662,-96.7662,-123.3131,-84.8416,-75.9662,-77.0163,-77.0163,-77.0163,-77.0163,-77.0163,-77.0163,-77.0163,-77.0163,-117.1225,-117.1225,-117.1225,-117.1225,-75.5203,-76.8699,-74.5597,-70.8845,-81.4805,-73.5739,-71.2842,-97.7522,-92.9783,-97.7522,-92.9783,-97.7522,-92.9783,-97.7522,-92.9783,-97.7522,-92.9783,-97.7522,-92.9783,-97.7522,-92.9783,-97.7522,-92.9783,-97.7522,-92.9783,-97.7522,-92.9783,-97.7522,-92.9783,-97.7522,-92.9783,-97.7522,-92.9783,-80.2102,-94.8718,-80.2102,-94.8718,-80.2102,-94.8718,-80.2102,-94.8718,-80.2102,-94.8718,-80.2102,-94.8718,-80.2102,-94.8718,-105.2523,-105.2523,-105.2523,-105.2523,-105.2523,-105.2523,-105.2523,-84.4587,-71.2307,-81.2202,-80.2682,-99.7461,-79.444,-88.3945,-73.5583,-73.5583,-73.5583,-73.5583,-111.8419,-78.4235,-81.9857,-82.4063,-75.355,-111.8419,-78.4235,-81.9857,-82.4063,-75.355,-84.4224,-94.1672,-84.4224,-94.1672,-84.4224,-94.1672,-84.4224,-94.1672,-84.4224,-94.1672,-84.4224,-94.1672,-84.4224,-94.1672,-84.4224,-94.1672,-84.4224,-94.1672,-82.985,-84.8771,-85.9183,-88.4096,-97.3563,-89.03,-82.985,-84.8771,-85.9183,-88.4096,-97.3563,-89.03,-82.985,-84.8771,-85.9183,-88.4096,-97.3563,-89.03,-82.985,-84.8771,-85.9183,-88.4096,-97.3563,-89.03,-82.985,-84.8771,-85.9183,-88.4096,-97.3563,-89.03,-93.2678,-93.2678,-95.8613,-122.5967,-122.5967,-122.5967,-85.6562,-93.5327,-79.9762,-79.9762,-79.9762,-79.9762,-120.6691,-76.6144,-76.6144,-75.1339,-89.1221,-75.1339,-89.1221,-75.1339,-89.1221,-75.1339,-89.1221,-75.1339,-89.1221,-90.2451,-84.6118,-90.2451,-84.6118,-86.7987,-83.2166,-84.0767,-83.4376,-84.0767,-83.4376,-84.0767,-83.4376,-104.8759,-104.8759,-104.8759,-78.6435,-122.65,-70.2715,-97.3284,-86.5194,-72.589,-84.9833,-84.899,-122.65,-70.2715,-97.3284,-86.5194,-72.589,-84.9833,-84.899,-122.65,-70.2715,-97.3284,-86.5194,-72.589,-84.9833,-84.899,-122.65,-70.2715,-97.3284,-86.5194,-72.589,-84.9833,-84.899,-77.4756,-122.339,-84.8905,-84.2926,-95.7602,-71.6608,-82.7518,-93.9731,-80.6627,-86.1458,-72.9246,-85.0175,-83.1024,-83.1024,-83.1024,-119.7202,-78.9031,-70.9195,-72.6829,-121.7875,-85.6485,-105.1441,-81.2643,-89.0553,-71.491,-86.6412,-95.5544,-117.433,-119.8483,-95.3889,-84.5061,-90.6052,-81.6084],\"marker\":{\"color\":\"#636efa\",\"size\":[260.0,237.0,0.0,515.0,100.0,50.0,0.0,0.0,88.0,0.0,1250.0,1100.0,0.0,0.0,0.0,0.0,0.0,0.0,0.0,300.0,105.0,200.0,4100.0,0.0,180.0,100.0,60.0,31.0,124.0,40.0,100.0,400.0,65.0,60.0,45.0,0.0,0.0,11000.0,130.0,35.0,0.0,0.0,0.0,0.0,1000.0,350.0,0.0,3700.0,1000.0,700.0,60.0,0.0,0.0,0.0,0.0,550.0,156.0,142.0,50.0,200.0,140.0,100.0,0.0,25.0,13.0,94.0,150.0,30.0,0.0,400.0,0.0,64.0,23.0,0.0,32.0,0.0,84.0,24.0,378.0,90.0,150.0,136.0,100.0,55.0,611.0,180.0,96.0,120.0,51.0,50.0,0.0,0.0,0.0,78.0,0.0,0.0,40.0,671.0,0.0,0.0,40.0,0.0,0.0,100.0,0.0,0.0,35.0,0.0,0.0,800.0,30.0,80.0,25.0,0.0,0.0,5.0,23.0,0.0,49.0,27.0,0.0,0.0,90.0,70.0,45.0,29.0,0.0,0.0,80.0,24.0,140.0,0.0,31.0,29.0,50.0,110.0,125.0,54.0,0.0,0.0,220.0,0.0,0.0,175.0,90.0,0.0,270.0,48.0,0.0,0.0,0.0,36.0,0.0,250.0,100.0,80.0,73.0,50.0,0.0,713.0,80.0,0.0,50.0,40.0,60.0,60.0,23.0,0.0,0.0,0.0,23.0,80.0,0.0,45.0,15.0,0.0,0.0,140.0,0.0,75.0,60.0,60.0,13.0,1000.0,94.0,0.0,23.0,0.0,42.0,39.0,0.0,262.0,7.0,0.0,45.0,0.0,0.0,0.0,0.0,150.0,0.0,100.0,31.0,85.0,15.0,400.0,12.0,0.0,0.0,200.0,85.0,16.0,13.0,0.0,0.0,0.0,300.0,27.0,43.0,40.0,300.0,15.0,120.0,70.0,24.0,0.0,101.0,45.0,150.0,23.0,1100.0,33.0,330.0,0.0,250.0,150.0,40.0,0.0,0.0,0.0,23.0,0.0,250.0,30.0,29.0,25.0,34.0,25.0,0.0,0.0,0.0,300.0,240.0,83.0,70.0,150.0,310.0,90.0,72.0,45.0,150.0,25.0,340.0,200.0,10.0,44.0,0.0,0.0,0.0,150.0,0.0,190.0,0.0,150.0,0.0,80.0,0.0,50.0,0.0,26.0,0.0,0.0,60.0,800.0,500.0,0.0,38.0,63.0,54.0,0.0,80.0,87.0,120.0,180.0,32.0,100.0,130.0,33.0,0.0,180.0,58.0,37.0,0.0,120.0,70.0,241.0,170.0,170.0,110.0,0.0,30.0,65.0,500.0,67.0,500.0,110.0,271.0,193.0,100.0,0.0,0.0,0.0,0.0,81.0,30.0,20.0,0.0,138.0,0.0,0.0,0.0,52.0,0.0,16.0,784.0,60.0,0.0,0.0,337.0,63.0,0.0,0.0,115.0,19.0,0.0,136.0,38.0,60.0,0.0,0.0,23.0,0.0,68.0,30.0,0.0,0.0,0.0,120.0,24.0,1000.0,156.0,0.0,30.0,120.0,80.0,20.0,150.0,0.0,0.0,40.0,30.0,210.0,0.0,0.0,0.0,0.0,50.0,0.0,50.0,450.0,250.0,0.0,0.0,21.0,170.0,100.0,31.0,30.0,130.0,24.0,22.0,32.0,30.0,270.0,25.0,495.0,22.0,52.0,0.0,0.0,20.0,115.0,3000.0,100.0,2800.0,57.0,80.0,40.0,40.0,40.0,40.0,175.0,158.0,90.0,90.0,144.0,0.0,0.0,0.0,84.0,200.0,109.0,0.0,1280.0,140.0,0.0,0.0,200.0,0.0,40.0,0.0,0.0,0.0,100.0,12.0,30.0,58.0,0.0,80.0,110.0,8.0,52.0,40.0,56.0,20.0,138.0,50.0,75.0,0.0,150.0,111.0,0.0,1500.0,113.0,0.0,0.0,2500.0,0.0,0.0,65.0,65.0,0.0,0.0,0.0,0.0,90.0,90.0,59.0,59.0,40.0,40.0,0.0,0.0,65.0,65.0,0.0,0.0,0.0,0.0,60.0,60.0,200.0,200.0,198.0,198.0,0.0,0.0,29.0,29.0,160.0,160.0,0.0,0.0,55.0,55.0,870.0,870.0,0.0,0.0,130.0,130.0,0.0,0.0,140.0,140.0,40.0,40.0,0.0,0.0,25.0,25.0,95.0,95.0,0.0,0.0,0.0,0.0,27.0,27.0,30.0,30.0,0.0,0.0,70.0,70.0,35.0,35.0,110.0,110.0,0.0,0.0,40.0,40.0,26.0,26.0,0.0,0.0,100.0,100.0,70.0,70.0,97.0,97.0,0.0,0.0,0.0,0.0,20.0,200.0,0.0,47.0,47.0,47.0,47.0,47.0,47.0,47.0,47.0,47.0,0.0,50.0,60.0,0.0,10000.0,0.0,862.0,300.0,0.0,32.0,300.0,0.0,100.0,56.0,0.0,0.0,0.0,0.0,13.0,60.0,43.0,63.0,11.0,0.0,200.0,0.0,80.0,0.0,0.0,470.0,0.0,90.0,0.0,40.0,100.0,100.0,0.0,0.0,40.0,12.0,119.0,0.0,0.0,0.0,0.0,0.0,0.0,0.0,0.0,41.0,41.0,41.0,41.0,0.0,95.0,15.0,0.0,39.0,90.0,55.0,130.0,0.0,500.0,170.0,60.0,76.0,76.0,76.0,76.0,76.0,76.0,76.0,0.0,0.0,50.0,50.0,0.0,0.0,0.0,0.0,120.0,120.0,0.0,0.0,85.0,85.0,35.0,35.0,0.0,0.0,0.0,0.0,0.0,0.0,40.0,40.0,450.0,450.0,0.0,0.0,149.0,149.0,0.0,0.0,130.0,130.0,0.0,0.0,90.0,90.0,750.0,750.0,0.0,23.0,20.0,24.0,0.0,87.0,0.0,0.0,0.0,0.0,0.0,0.0,0.0,0.0,500.0,10.0,250.0,44.0,300.0,300.0,300.0,300.0,300.0,0.0,0.0,0.0,0.0,0.0,51.0,51.0,0.0,0.0,0.0,0.0,0.0,0.0,90.0,90.0,950.0,950.0,59.0,59.0,0.0,0.0,50.0,50.0,137.0,137.0,137.0,137.0,137.0,137.0,450.0,450.0,450.0,450.0,450.0,450.0,16.0,16.0,16.0,16.0,16.0,16.0,0.0,0.0,0.0,0.0,0.0,0.0,330.0,330.0,330.0,330.0,330.0,330.0,0.0,0.0,59.0,134.0,0.0,40.0,226.0,226.0,100.0,0.0,90.0,150.0,400.0,20.0,0.0,250.0,250.0,40.0,40.0,1500.0,1500.0,450.0,450.0,100.0,100.0,0.0,0.0,30.0,30.0,110.0,110.0,40.0,40.0,24.0,24.0,138.0,138.0,0.0,0.0,0.0,45.0,40.0,40.0,40.0,40.0,40.0,40.0,40.0,0.0,0.0,0.0,0.0,0.0,0.0,0.0,0.0,0.0,0.0,0.0,0.0,0.0,0.0,0.0,0.0,0.0,0.0,0.0,0.0,0.0,0.0,0.0,0.0,0.0,0.0,0.0,0.0,0.0,0.0,5.0,0.0,0.0,840.0,120.0,80.0,0.0,40.0,40.0,40.0,40.0,52.0,52.0,52.0,52.0,60.0,0.0,0.0,22.0,69.0,0.0,30.0,62.0,62.0],\"sizemode\":\"area\",\"sizeref\":27.5,\"symbol\":\"circle\"},\"mode\":\"markers\",\"name\":\"\",\"showlegend\":false,\"type\":\"scattergeo\"}],\"name\":\"2022.0\"},{\"data\":[{\"geo\":\"geo\",\"hovertemplate\":\"<b>%{hovertext}</b><br><br>year=2021.0<br>laid_off_count=%{marker.size}<br>lat=%{lat}<br>lng=%{lon}<extra></extra>\",\"hovertext\":[\"San Francisco\",\"San Francisco\",\"San Francisco\",\"San Francisco\",\"San Francisco\",\"San Francisco\",\"San Francisco\",\"San Francisco\",\"San Francisco\",\"San Francisco\",\"San Francisco\",\"San Francisco\",\"San Francisco\",\"San Francisco\",\"San Francisco\",\"San Francisco\",\"Chicago\",\"New York\",\"New York\",\"New York\",\"New York\",\"New York\",\"New York\",\"Los Angeles\",\"Boston\",\"Boston\",\"Seattle\",\"Seattle\",\"Seattle\",\"Logan\",\"Logan\",\"Logan\",\"Logan\",\"Logan\",\"Portland\",\"Portland\",\"Portland\",\"Portland\",\"Portland\",\"Portland\",\"Portland\",\"Portland\",\"Portland\",\"Portland\",\"Portland\",\"Portland\",\"Portland\",\"Portland\"],\"lat\":[37.7562,37.7562,37.7562,37.7562,37.7562,37.7562,37.7562,37.7562,37.7562,37.7562,37.7562,37.7562,37.7562,37.7562,37.7562,37.7562,41.8373,40.6943,40.6943,40.6943,40.6943,40.6943,40.6943,34.1139,42.3188,42.6528,47.6211,47.6211,47.6211,41.74,40.5263,37.8509,39.5386,39.7923,45.5372,43.6773,27.8911,36.5883,41.5988,40.4375,42.8696,45.5372,43.6773,27.8911,36.5883,41.5988,40.4375,42.8696],\"legendgroup\":\"\",\"lon\":[-122.443,-122.443,-122.443,-122.443,-122.443,-122.443,-122.443,-122.443,-122.443,-122.443,-122.443,-122.443,-122.443,-122.443,-122.443,-122.443,-87.6862,-73.9249,-73.9249,-73.9249,-73.9249,-73.9249,-73.9249,-118.4068,-71.0846,-78.7555,-122.3244,-122.3244,-122.3244,-111.8419,-78.4235,-81.9857,-82.4063,-75.355,-122.65,-70.2715,-97.3284,-86.5194,-72.589,-84.9833,-84.899,-122.65,-70.2715,-97.3284,-86.5194,-72.589,-84.9833,-84.899],\"marker\":{\"color\":\"#636efa\",\"size\":[0.0,120.0,0.0,37.0,2434.0,65.0,0.0,36.0,160.0,0.0,0.0,0.0,180.0,1877.0,315.0,0.0,243.0,900.0,22.0,0.0,0.0,47.0,13.0,0.0,80.0,80.0,70.0,2000.0,30.0,0.0,0.0,0.0,0.0,0.0,41.0,41.0,41.0,41.0,41.0,41.0,41.0,0.0,0.0,0.0,0.0,0.0,0.0,0.0],\"sizemode\":\"area\",\"sizeref\":27.5,\"symbol\":\"circle\"},\"mode\":\"markers\",\"name\":\"\",\"showlegend\":false,\"type\":\"scattergeo\"}],\"name\":\"2021.0\"},{\"data\":[{\"geo\":\"geo\",\"hovertemplate\":\"<b>%{hovertext}</b><br><br>year=2020.0<br>laid_off_count=%{marker.size}<br>lat=%{lat}<br>lng=%{lon}<extra></extra>\",\"hovertext\":[\"San Francisco\",\"San Francisco\",\"San Francisco\",\"San Francisco\",\"San Francisco\",\"San Francisco\",\"San Francisco\",\"San Francisco\",\"San Francisco\",\"San Francisco\",\"San Francisco\",\"San Francisco\",\"San Francisco\",\"San Francisco\",\"San Francisco\",\"San Francisco\",\"San Francisco\",\"San Francisco\",\"San Francisco\",\"San Francisco\",\"San Francisco\",\"San Francisco\",\"San Francisco\",\"San Francisco\",\"San Francisco\",\"San Francisco\",\"San Francisco\",\"San Francisco\",\"San Francisco\",\"San Francisco\",\"San Francisco\",\"San Francisco\",\"San Francisco\",\"San Francisco\",\"San Francisco\",\"San Francisco\",\"San Francisco\",\"San Francisco\",\"San Francisco\",\"San Francisco\",\"San Francisco\",\"San Francisco\",\"San Francisco\",\"San Francisco\",\"San Francisco\",\"San Francisco\",\"San Francisco\",\"San Francisco\",\"San Francisco\",\"San Francisco\",\"San Francisco\",\"San Francisco\",\"San Francisco\",\"San Francisco\",\"San Francisco\",\"San Francisco\",\"San Francisco\",\"San Francisco\",\"San Francisco\",\"San Francisco\",\"San Francisco\",\"San Francisco\",\"San Francisco\",\"San Francisco\",\"San Francisco\",\"San Francisco\",\"San Francisco\",\"San Francisco\",\"San Francisco\",\"San Francisco\",\"San Francisco\",\"San Francisco\",\"San Francisco\",\"San Francisco\",\"San Francisco\",\"San Francisco\",\"San Francisco\",\"San Francisco\",\"San Francisco\",\"San Francisco\",\"San Francisco\",\"San Francisco\",\"San Francisco\",\"San Francisco\",\"San Francisco\",\"San Francisco\",\"San Francisco\",\"San Francisco\",\"San Francisco\",\"San Francisco\",\"San Francisco\",\"San Francisco\",\"San Francisco\",\"San Francisco\",\"San Francisco\",\"San Francisco\",\"San Francisco\",\"San Francisco\",\"San Francisco\",\"San Francisco\",\"San Francisco\",\"San Francisco\",\"San Francisco\",\"San Francisco\",\"San Francisco\",\"San Francisco\",\"San Francisco\",\"San Francisco\",\"San Francisco\",\"San Francisco\",\"San Francisco\",\"San Francisco\",\"San Francisco\",\"San Francisco\",\"San Francisco\",\"San Francisco\",\"San Francisco\",\"San Francisco\",\"San Francisco\",\"San Francisco\",\"San Francisco\",\"San Francisco\",\"San Francisco\",\"San Francisco\",\"San Francisco\",\"San Francisco\",\"San Francisco\",\"San Francisco\",\"San Francisco\",\"San Francisco\",\"San Francisco\",\"San Francisco\",\"San Francisco\",\"San Francisco\",\"San Francisco\",\"San Francisco\",\"San Francisco\",\"San Francisco\",\"San Francisco\",\"San Francisco\",\"San Francisco\",\"San Francisco\",\"San Francisco\",\"San Francisco\",\"San Francisco\",\"San Francisco\",\"San Francisco\",\"San Francisco\",\"San Francisco\",\"San Francisco\",\"San Francisco\",\"San Francisco\",\"San Francisco\",\"San Francisco\",\"San Francisco\",\"San Francisco\",\"San Francisco\",\"San Francisco\",\"San Francisco\",\"San Francisco\",\"San Francisco\",\"San Francisco\",\"San Francisco\",\"San Francisco\",\"San Francisco\",\"San Francisco\",\"San Francisco\",\"San Francisco\",\"San Francisco\",\"San Francisco\",\"San Francisco\",\"San Francisco\",\"San Francisco\",\"San Francisco\",\"San Francisco\",\"San Francisco\",\"San Francisco\",\"San Francisco\",\"San Francisco\",\"Chicago\",\"Chicago\",\"Chicago\",\"Chicago\",\"Chicago\",\"Chicago\",\"Chicago\",\"Chicago\",\"Chicago\",\"Chicago\",\"Chicago\",\"Chicago\",\"New York\",\"New York\",\"New York\",\"New York\",\"New York\",\"New York\",\"New York\",\"New York\",\"New York\",\"New York\",\"New York\",\"New York\",\"New York\",\"New York\",\"New York\",\"New York\",\"New York\",\"New York\",\"New York\",\"New York\",\"New York\",\"New York\",\"New York\",\"New York\",\"New York\",\"New York\",\"New York\",\"New York\",\"New York\",\"New York\",\"New York\",\"New York\",\"New York\",\"New York\",\"New York\",\"New York\",\"New York\",\"New York\",\"New York\",\"New York\",\"New York\",\"New York\",\"New York\",\"New York\",\"New York\",\"New York\",\"New York\",\"New York\",\"New York\",\"New York\",\"New York\",\"New York\",\"New York\",\"New York\",\"New York\",\"New York\",\"New York\",\"New York\",\"New York\",\"New York\",\"New York\",\"New York\",\"New York\",\"New York\",\"New York\",\"New York\",\"New York\",\"New York\",\"New York\",\"New York\",\"New York\",\"New York\",\"New York\",\"New York\",\"New York\",\"New York\",\"New York\",\"Los Angeles\",\"Los Angeles\",\"Los Angeles\",\"Los Angeles\",\"Los Angeles\",\"Los Angeles\",\"Los Angeles\",\"Los Angeles\",\"Los Angeles\",\"Los Angeles\",\"Los Angeles\",\"Los Angeles\",\"Los Angeles\",\"Los Angeles\",\"Los Angeles\",\"Los Angeles\",\"Los Angeles\",\"Los Angeles\",\"Los Angeles\",\"Los Angeles\",\"Los Angeles\",\"Los Angeles\",\"Los Angeles\",\"Los Angeles\",\"Los Angeles\",\"Los Angeles\",\"Los Angeles\",\"Los Angeles\",\"Los Angeles\",\"Los Angeles\",\"Los Angeles\",\"Los Angeles\",\"Los Angeles\",\"Phoenix\",\"Phoenix\",\"Boston\",\"Boston\",\"Boston\",\"Boston\",\"Boston\",\"Boston\",\"Boston\",\"Boston\",\"Boston\",\"Boston\",\"Boston\",\"Boston\",\"Boston\",\"Boston\",\"Boston\",\"Boston\",\"Boston\",\"Boston\",\"Boston\",\"Boston\",\"Boston\",\"Boston\",\"Boston\",\"Boston\",\"Boston\",\"Boston\",\"Boston\",\"Boston\",\"Boston\",\"Boston\",\"Boston\",\"Boston\",\"Boston\",\"Boston\",\"Boston\",\"Boston\",\"Boston\",\"Boston\",\"Boston\",\"Boston\",\"Boston\",\"Boston\",\"Boston\",\"Boston\",\"Boston\",\"Boston\",\"Boston\",\"Boston\",\"Boston\",\"Boston\",\"Boston\",\"Boston\",\"Boston\",\"Boston\",\"Boston\",\"Boston\",\"Boston\",\"Boston\",\"Boston\",\"Boston\",\"Boston\",\"Boston\",\"Boston\",\"Boston\",\"Boston\",\"Boston\",\"Sacramento\",\"Sacramento\",\"Seattle\",\"Seattle\",\"Seattle\",\"Seattle\",\"Seattle\",\"Seattle\",\"Seattle\",\"Seattle\",\"Seattle\",\"Seattle\",\"Seattle\",\"Seattle\",\"Seattle\",\"Seattle\",\"Seattle\",\"Seattle\",\"Seattle\",\"Seattle\",\"Seattle\",\"Seattle\",\"Seattle\",\"Seattle\",\"Seattle\",\"Salt Lake City\",\"Salt Lake City\",\"Salt Lake City\",\"Salt Lake City\",\"Salt Lake City\",\"Salt Lake City\",\"Salt Lake City\",\"Salt Lake City\",\"Salt Lake City\",\"Salt Lake City\",\"Salt Lake City\",\"Salt Lake City\",\"Salt Lake City\",\"Salt Lake City\",\"Dallas\",\"Dallas\",\"Dallas\",\"Dallas\",\"Dallas\",\"Dallas\",\"Dallas\",\"Dallas\",\"Washington D.C.\",\"Washington D.C.\",\"Washington D.C.\",\"Washington D.C.\",\"Washington D.C.\",\"Washington D.C.\",\"San Diego\",\"San Diego\",\"Austin\",\"Austin\",\"Austin\",\"Austin\",\"Austin\",\"Austin\",\"Austin\",\"Austin\",\"Austin\",\"Austin\",\"Austin\",\"Austin\",\"Austin\",\"Austin\",\"Austin\",\"Austin\",\"Austin\",\"Austin\",\"Austin\",\"Austin\",\"Austin\",\"Austin\",\"Austin\",\"Austin\",\"Austin\",\"Austin\",\"Austin\",\"Austin\",\"Austin\",\"Austin\",\"Miami\",\"Miami\",\"Boulder\",\"Stamford\",\"Atlanta\",\"Atlanta\",\"Atlanta\",\"Atlanta\",\"Atlanta\",\"Atlanta\",\"Atlanta\",\"Atlanta\",\"Atlanta\",\"Atlanta\",\"Columbus\",\"Columbus\",\"Columbus\",\"Columbus\",\"Columbus\",\"Columbus\",\"Minneapolis\",\"Minneapolis\",\"Minneapolis\",\"Minneapolis\",\"Minneapolis\",\"San Luis Obispo\",\"St. Louis\",\"St. Louis\",\"Denver\",\"Denver\",\"Denver\",\"Denver\",\"Denver\",\"Denver\",\"Denver\",\"Denver\",\"Raleigh\",\"Portland\",\"Portland\",\"Portland\",\"Portland\",\"Portland\",\"Portland\",\"Portland\",\"Portland\",\"Portland\",\"Portland\",\"Portland\",\"Portland\",\"Portland\",\"Portland\",\"Portland\",\"Portland\",\"Portland\",\"Portland\",\"Portland\",\"Portland\",\"Portland\",\"Portland\",\"Portland\",\"Portland\",\"Portland\",\"Portland\",\"Portland\",\"Portland\",\"Portland\",\"Portland\",\"Portland\",\"Portland\",\"Portland\",\"Portland\",\"Portland\",\"Portland\",\"Portland\",\"Portland\",\"Portland\",\"Portland\",\"Portland\",\"Portland\",\"Portland\",\"Portland\",\"Portland\",\"Portland\",\"Portland\",\"Portland\",\"Portland\",\"Portland\",\"Portland\",\"Portland\",\"Portland\",\"Portland\",\"Portland\",\"Portland\",\"Portland\",\"Portland\",\"Portland\",\"Portland\",\"Portland\",\"Portland\",\"Portland\",\"Portland\",\"Portland\",\"Portland\",\"Portland\",\"Portland\",\"Portland\",\"Portland\",\"Detroit\",\"Detroit\",\"Spokane\",\"Nashville\",\"Nashville\",\"Nashville\",\"Nashville\",\"Las Vegas\",\"Las Vegas\",\"Las Vegas\",\"Las Vegas\",\"Fayetteville\",\"Fayetteville\",\"Fayetteville\",\"Fayetteville\",\"Madison\",\"Madison\",\"Madison\",\"Madison\",\"Madison\",\"Madison\",\"Madison\",\"Santa Fe\",\"Santa Fe\",\"Santa Fe\",\"Santa Fe\",\"Norwalk\",\"Norwalk\",\"Norwalk\",\"Norwalk\",\"Missoula\",\"Missoula\",\"Milwaukee\",\"Ann Arbor\",\"New Orleans\",\"Charlotte\",\"Charlotte\"],\"lat\":[37.7562,37.7562,37.7562,37.7562,37.7562,37.7562,37.7562,37.7562,37.7562,37.7562,37.7562,37.7562,37.7562,37.7562,37.7562,37.7562,37.7562,37.7562,37.7562,37.7562,37.7562,37.7562,37.7562,37.7562,37.7562,37.7562,37.7562,37.7562,37.7562,37.7562,37.7562,37.7562,37.7562,37.7562,37.7562,37.7562,37.7562,37.7562,37.7562,37.7562,37.7562,37.7562,37.7562,37.7562,37.7562,37.7562,37.7562,37.7562,37.7562,37.7562,37.7562,37.7562,37.7562,37.7562,37.7562,37.7562,37.7562,37.7562,37.7562,37.7562,37.7562,37.7562,37.7562,37.7562,37.7562,37.7562,37.7562,37.7562,37.7562,37.7562,37.7562,37.7562,37.7562,37.7562,37.7562,37.7562,37.7562,37.7562,37.7562,37.7562,37.7562,37.7562,37.7562,37.7562,37.7562,37.7562,37.7562,37.7562,37.7562,37.7562,37.7562,37.7562,37.7562,37.7562,37.7562,37.7562,37.7562,37.7562,37.7562,37.7562,37.7562,37.7562,37.7562,37.7562,37.7562,37.7562,37.7562,37.7562,37.7562,37.7562,37.7562,37.7562,37.7562,37.7562,37.7562,37.7562,37.7562,37.7562,37.7562,37.7562,37.7562,37.7562,37.7562,37.7562,37.7562,37.7562,37.7562,37.7562,37.7562,37.7562,37.7562,37.7562,37.7562,37.7562,37.7562,37.7562,37.7562,37.7562,37.7562,37.7562,37.7562,37.7562,37.7562,37.7562,37.7562,37.7562,37.7562,37.7562,37.7562,37.7562,37.7562,37.7562,37.7562,37.7562,37.7562,37.7562,37.7562,37.7562,37.7562,37.7562,37.7562,37.7562,37.7562,37.7562,37.7562,37.7562,37.7562,37.7562,37.7562,37.7562,37.7562,37.7562,37.7562,37.7562,37.7562,37.7562,37.7562,37.7562,37.7562,41.8373,41.8373,41.8373,41.8373,41.8373,41.8373,41.8373,41.8373,41.8373,41.8373,41.8373,41.8373,40.6943,40.6943,40.6943,40.6943,40.6943,40.6943,40.6943,40.6943,40.6943,40.6943,40.6943,40.6943,40.6943,40.6943,40.6943,40.6943,40.6943,40.6943,40.6943,40.6943,40.6943,40.6943,40.6943,40.6943,40.6943,40.6943,40.6943,40.6943,40.6943,40.6943,40.6943,40.6943,40.6943,40.6943,40.6943,40.6943,40.6943,40.6943,40.6943,40.6943,40.6943,40.6943,40.6943,40.6943,40.6943,40.6943,40.6943,40.6943,40.6943,40.6943,40.6943,40.6943,40.6943,40.6943,40.6943,40.6943,40.6943,40.6943,40.6943,40.6943,40.6943,40.6943,40.6943,40.6943,40.6943,40.6943,40.6943,40.6943,40.6943,40.6943,40.6943,40.6943,40.6943,40.6943,40.6943,40.6943,40.6943,34.1139,34.1139,34.1139,34.1139,34.1139,34.1139,34.1139,34.1139,34.1139,34.1139,34.1139,34.1139,34.1139,34.1139,34.1139,34.1139,34.1139,34.1139,34.1139,34.1139,34.1139,34.1139,34.1139,34.1139,34.1139,34.1139,34.1139,34.1139,34.1139,34.1139,34.1139,34.1139,34.1139,33.5722,33.5722,42.3188,42.6528,42.3188,42.6528,42.3188,42.6528,42.3188,42.6528,42.3188,42.6528,42.3188,42.6528,42.3188,42.6528,42.3188,42.6528,42.3188,42.6528,42.3188,42.6528,42.3188,42.6528,42.3188,42.6528,42.3188,42.6528,42.3188,42.6528,42.3188,42.6528,42.3188,42.6528,42.3188,42.6528,42.3188,42.6528,42.3188,42.6528,42.3188,42.6528,42.3188,42.6528,42.3188,42.6528,42.3188,42.6528,42.3188,42.6528,42.3188,42.6528,42.3188,42.6528,42.3188,42.6528,42.3188,42.6528,42.3188,42.6528,42.3188,42.6528,42.3188,42.6528,42.3188,42.6528,42.3188,42.6528,38.5667,38.5667,47.6211,47.6211,47.6211,47.6211,47.6211,47.6211,47.6211,47.6211,47.6211,47.6211,47.6211,47.6211,47.6211,47.6211,47.6211,47.6211,47.6211,47.6211,47.6211,47.6211,47.6211,47.6211,47.6211,40.7777,40.7777,40.7777,40.7777,40.7777,40.7777,40.7777,40.7777,40.7777,40.7777,40.7777,40.7777,40.7777,40.7777,32.7936,44.9222,33.9153,41.3604,32.7936,44.9222,33.9153,41.3604,38.9047,38.9047,38.9047,38.9047,38.9047,38.9047,32.8312,32.8312,30.3004,43.6718,30.3004,43.6718,30.3004,43.6718,30.3004,43.6718,30.3004,43.6718,30.3004,43.6718,30.3004,43.6718,30.3004,43.6718,30.3004,43.6718,30.3004,43.6718,30.3004,43.6718,30.3004,43.6718,30.3004,43.6718,30.3004,43.6718,30.3004,43.6718,25.7839,36.8877,40.0249,41.1035,33.7627,33.1136,33.7627,33.1136,33.7627,33.1136,33.7627,33.1136,33.7627,33.1136,39.9862,32.51,39.2093,33.5088,41.4368,43.3354,44.9635,44.9635,44.9635,44.9635,44.9635,35.2669,38.6358,43.4082,39.7621,39.7621,39.7621,39.7621,39.7621,39.7621,39.7621,39.7621,35.8325,45.5372,43.6773,27.8911,36.5883,41.5988,40.4375,42.8696,45.5372,43.6773,27.8911,36.5883,41.5988,40.4375,42.8696,45.5372,43.6773,27.8911,36.5883,41.5988,40.4375,42.8696,45.5372,43.6773,27.8911,36.5883,41.5988,40.4375,42.8696,45.5372,43.6773,27.8911,36.5883,41.5988,40.4375,42.8696,45.5372,43.6773,27.8911,36.5883,41.5988,40.4375,42.8696,45.5372,43.6773,27.8911,36.5883,41.5988,40.4375,42.8696,45.5372,43.6773,27.8911,36.5883,41.5988,40.4375,42.8696,45.5372,43.6773,27.8911,36.5883,41.5988,40.4375,42.8696,45.5372,43.6773,27.8911,36.5883,41.5988,40.4375,42.8696,42.3834,42.3834,47.6671,36.1715,35.9692,36.1715,35.9692,36.2333,35.6011,36.2333,35.6011,36.0713,35.0846,33.45,35.149,43.0826,34.7114,32.4738,41.3398,38.7581,40.7586,44.0062,35.6619,29.3892,35.6619,29.3892,33.9069,41.1144,41.2443,41.4895,46.875,46.875,43.0642,42.2755,30.0687,35.208,42.5662],\"legendgroup\":\"\",\"lon\":[-122.443,-122.443,-122.443,-122.443,-122.443,-122.443,-122.443,-122.443,-122.443,-122.443,-122.443,-122.443,-122.443,-122.443,-122.443,-122.443,-122.443,-122.443,-122.443,-122.443,-122.443,-122.443,-122.443,-122.443,-122.443,-122.443,-122.443,-122.443,-122.443,-122.443,-122.443,-122.443,-122.443,-122.443,-122.443,-122.443,-122.443,-122.443,-122.443,-122.443,-122.443,-122.443,-122.443,-122.443,-122.443,-122.443,-122.443,-122.443,-122.443,-122.443,-122.443,-122.443,-122.443,-122.443,-122.443,-122.443,-122.443,-122.443,-122.443,-122.443,-122.443,-122.443,-122.443,-122.443,-122.443,-122.443,-122.443,-122.443,-122.443,-122.443,-122.443,-122.443,-122.443,-122.443,-122.443,-122.443,-122.443,-122.443,-122.443,-122.443,-122.443,-122.443,-122.443,-122.443,-122.443,-122.443,-122.443,-122.443,-122.443,-122.443,-122.443,-122.443,-122.443,-122.443,-122.443,-122.443,-122.443,-122.443,-122.443,-122.443,-122.443,-122.443,-122.443,-122.443,-122.443,-122.443,-122.443,-122.443,-122.443,-122.443,-122.443,-122.443,-122.443,-122.443,-122.443,-122.443,-122.443,-122.443,-122.443,-122.443,-122.443,-122.443,-122.443,-122.443,-122.443,-122.443,-122.443,-122.443,-122.443,-122.443,-122.443,-122.443,-122.443,-122.443,-122.443,-122.443,-122.443,-122.443,-122.443,-122.443,-122.443,-122.443,-122.443,-122.443,-122.443,-122.443,-122.443,-122.443,-122.443,-122.443,-122.443,-122.443,-122.443,-122.443,-122.443,-122.443,-122.443,-122.443,-122.443,-122.443,-122.443,-122.443,-122.443,-122.443,-122.443,-122.443,-122.443,-122.443,-122.443,-122.443,-122.443,-122.443,-122.443,-122.443,-122.443,-122.443,-122.443,-122.443,-122.443,-87.6862,-87.6862,-87.6862,-87.6862,-87.6862,-87.6862,-87.6862,-87.6862,-87.6862,-87.6862,-87.6862,-87.6862,-73.9249,-73.9249,-73.9249,-73.9249,-73.9249,-73.9249,-73.9249,-73.9249,-73.9249,-73.9249,-73.9249,-73.9249,-73.9249,-73.9249,-73.9249,-73.9249,-73.9249,-73.9249,-73.9249,-73.9249,-73.9249,-73.9249,-73.9249,-73.9249,-73.9249,-73.9249,-73.9249,-73.9249,-73.9249,-73.9249,-73.9249,-73.9249,-73.9249,-73.9249,-73.9249,-73.9249,-73.9249,-73.9249,-73.9249,-73.9249,-73.9249,-73.9249,-73.9249,-73.9249,-73.9249,-73.9249,-73.9249,-73.9249,-73.9249,-73.9249,-73.9249,-73.9249,-73.9249,-73.9249,-73.9249,-73.9249,-73.9249,-73.9249,-73.9249,-73.9249,-73.9249,-73.9249,-73.9249,-73.9249,-73.9249,-73.9249,-73.9249,-73.9249,-73.9249,-73.9249,-73.9249,-73.9249,-73.9249,-73.9249,-73.9249,-73.9249,-73.9249,-118.4068,-118.4068,-118.4068,-118.4068,-118.4068,-118.4068,-118.4068,-118.4068,-118.4068,-118.4068,-118.4068,-118.4068,-118.4068,-118.4068,-118.4068,-118.4068,-118.4068,-118.4068,-118.4068,-118.4068,-118.4068,-118.4068,-118.4068,-118.4068,-118.4068,-118.4068,-118.4068,-118.4068,-118.4068,-118.4068,-118.4068,-118.4068,-118.4068,-112.0891,-112.0891,-71.0846,-78.7555,-71.0846,-78.7555,-71.0846,-78.7555,-71.0846,-78.7555,-71.0846,-78.7555,-71.0846,-78.7555,-71.0846,-78.7555,-71.0846,-78.7555,-71.0846,-78.7555,-71.0846,-78.7555,-71.0846,-78.7555,-71.0846,-78.7555,-71.0846,-78.7555,-71.0846,-78.7555,-71.0846,-78.7555,-71.0846,-78.7555,-71.0846,-78.7555,-71.0846,-78.7555,-71.0846,-78.7555,-71.0846,-78.7555,-71.0846,-78.7555,-71.0846,-78.7555,-71.0846,-78.7555,-71.0846,-78.7555,-71.0846,-78.7555,-71.0846,-78.7555,-71.0846,-78.7555,-71.0846,-78.7555,-71.0846,-78.7555,-71.0846,-78.7555,-71.0846,-78.7555,-71.0846,-78.7555,-71.0846,-78.7555,-121.4683,-121.4683,-122.3244,-122.3244,-122.3244,-122.3244,-122.3244,-122.3244,-122.3244,-122.3244,-122.3244,-122.3244,-122.3244,-122.3244,-122.3244,-122.3244,-122.3244,-122.3244,-122.3244,-122.3244,-122.3244,-122.3244,-122.3244,-122.3244,-122.3244,-111.9306,-111.9306,-111.9306,-111.9306,-111.9306,-111.9306,-111.9306,-111.9306,-111.9306,-111.9306,-111.9306,-111.9306,-111.9306,-111.9306,-96.7662,-123.3131,-84.8416,-75.9662,-96.7662,-123.3131,-84.8416,-75.9662,-77.0163,-77.0163,-77.0163,-77.0163,-77.0163,-77.0163,-117.1225,-117.1225,-97.7522,-92.9783,-97.7522,-92.9783,-97.7522,-92.9783,-97.7522,-92.9783,-97.7522,-92.9783,-97.7522,-92.9783,-97.7522,-92.9783,-97.7522,-92.9783,-97.7522,-92.9783,-97.7522,-92.9783,-97.7522,-92.9783,-97.7522,-92.9783,-97.7522,-92.9783,-97.7522,-92.9783,-97.7522,-92.9783,-80.2102,-94.8718,-105.2523,-73.5583,-84.4224,-94.1672,-84.4224,-94.1672,-84.4224,-94.1672,-84.4224,-94.1672,-84.4224,-94.1672,-82.985,-84.8771,-85.9183,-88.4096,-97.3563,-89.03,-93.2678,-93.2678,-93.2678,-93.2678,-93.2678,-120.6691,-90.2451,-84.6118,-104.8759,-104.8759,-104.8759,-104.8759,-104.8759,-104.8759,-104.8759,-104.8759,-78.6435,-122.65,-70.2715,-97.3284,-86.5194,-72.589,-84.9833,-84.899,-122.65,-70.2715,-97.3284,-86.5194,-72.589,-84.9833,-84.899,-122.65,-70.2715,-97.3284,-86.5194,-72.589,-84.9833,-84.899,-122.65,-70.2715,-97.3284,-86.5194,-72.589,-84.9833,-84.899,-122.65,-70.2715,-97.3284,-86.5194,-72.589,-84.9833,-84.899,-122.65,-70.2715,-97.3284,-86.5194,-72.589,-84.9833,-84.899,-122.65,-70.2715,-97.3284,-86.5194,-72.589,-84.9833,-84.899,-122.65,-70.2715,-97.3284,-86.5194,-72.589,-84.9833,-84.899,-122.65,-70.2715,-97.3284,-86.5194,-72.589,-84.9833,-84.899,-122.65,-70.2715,-97.3284,-86.5194,-72.589,-84.9833,-84.899,-83.1024,-83.1024,-117.433,-86.7843,-77.9555,-86.7843,-77.9555,-115.2654,-105.2206,-115.2654,-105.2206,-94.166,-78.9776,-84.4709,-86.5634,-89.3931,-86.7626,-90.13,-72.6278,-85.3974,-74.417,-97.1084,-105.9819,-95.1005,-105.9819,-95.1005,-118.0829,-73.4215,-82.6088,-93.6913,-114.0214,-114.0214,-87.9673,-83.7312,-89.9288,-80.8304,-84.8304],\"marker\":{\"color\":\"#636efa\",\"size\":[78.0,0.0,18.0,0.0,0.0,0.0,8.0,47.0,0.0,30.0,0.0,0.0,1000.0,0.0,0.0,250.0,87.0,0.0,64.0,960.0,60.0,63.0,85.0,18.0,12.0,0.0,400.0,61.0,0.0,6.0,715.0,70.0,0.0,63.0,46.0,18.0,50.0,0.0,70.0,22.0,14.0,1400.0,62.0,200.0,300.0,112.0,39.0,3000.0,57.0,45.0,0.0,16.0,150.0,35.0,30.0,0.0,669.0,17.0,0.0,73.0,65.0,300.0,28.0,3700.0,50.0,0.0,1900.0,900.0,0.0,0.0,0.0,80.0,0.0,0.0,0.0,982.0,300.0,80.0,80.0,27.0,0.0,260.0,10.0,87.0,0.0,10.0,0.0,460.0,155.0,30.0,19.0,28.0,23.0,10.0,0.0,0.0,30.0,0.0,0.0,600.0,200.0,200.0,161.0,40.0,15.0,13.0,0.0,235.0,58.0,45.0,21.0,15.0,0.0,100.0,50.0,16.0,1000.0,90.0,0.0,500.0,92.0,89.0,86.0,30.0,100.0,94.0,65.0,100.0,40.0,300.0,147.0,140.0,120.0,34.0,0.0,0.0,240.0,65.0,35.0,35.0,30.0,26.0,0.0,200.0,50.0,46.0,9.0,0.0,349.0,108.0,20.0,0.0,250.0,30.0,20.0,0.0,10.0,227.0,100.0,40.0,0.0,250.0,41.0,13.0,300.0,100.0,75.0,56.0,50.0,10.0,0.0,400.0,80.0,20.0,15.0,13.0,0.0,84.0,6.0,17.0,40.0,36.0,19.0,6.0,0.0,2800.0,28.0,10.0,52.0,0.0,50.0,0.0,20.0,0.0,0.0,150.0,0.0,0.0,56.0,0.0,174.0,15.0,3.0,12.0,20.0,18.0,0.0,80.0,70.0,25.0,0.0,0.0,28.0,9.0,500.0,100.0,135.0,40.0,50.0,110.0,26.0,124.0,24.0,0.0,80.0,70.0,6.0,78.0,91.0,120.0,0.0,0.0,48.0,40.0,0.0,0.0,60.0,53.0,50.0,77.0,35.0,24.0,19.0,14.0,0.0,0.0,154.0,90.0,70.0,60.0,23.0,0.0,0.0,0.0,25.0,9.0,250.0,0.0,130.0,127.0,10.0,30.0,0.0,375.0,150.0,0.0,784.0,0.0,0.0,0.0,0.0,0.0,180.0,39.0,219.0,50.0,0.0,35.0,20.0,57.0,90.0,35.0,0.0,0.0,21.0,17.0,100.0,0.0,0.0,51.0,400.0,406.0,175.0,0.0,0.0,20.0,0.0,0.0,0.0,8.0,20.0,0.0,0.0,54.0,54.0,0.0,0.0,10.0,10.0,60.0,60.0,130.0,130.0,25.0,25.0,70.0,70.0,100.0,100.0,81.0,81.0,900.0,900.0,0.0,0.0,13.0,13.0,0.0,0.0,130.0,130.0,20.0,20.0,4.0,4.0,1300.0,1300.0,400.0,400.0,340.0,340.0,46.0,46.0,26.0,26.0,24.0,24.0,0.0,0.0,60.0,60.0,59.0,59.0,39.0,39.0,20.0,20.0,0.0,0.0,30.0,30.0,200.0,200.0,100.0,100.0,30.0,30.0,34.0,34.0,50.0,5.0,0.0,0.0,0.0,250.0,22.0,32.0,0.0,20.0,18.0,0.0,0.0,40.0,6.0,5.0,236.0,7.0,15.0,194.0,17.0,31.0,17.0,30.0,91.0,150.0,0.0,0.0,90.0,30.0,0.0,12.0,5.0,210.0,0.0,0.0,20.0,45.0,75.0,0.0,0.0,0.0,0.0,10.0,10.0,10.0,10.0,0.0,400.0,13.0,0.0,30.0,0.0,25.0,60.0,30.0,30.0,82.0,82.0,451.0,451.0,90.0,90.0,75.0,75.0,0.0,0.0,65.0,65.0,0.0,0.0,120.0,120.0,75.0,75.0,0.0,0.0,52.0,52.0,38.0,38.0,18.0,18.0,16.0,16.0,1000.0,1000.0,4.0,160.0,56.0,56.0,55.0,55.0,0.0,0.0,150.0,150.0,0.0,0.0,0.0,0.0,0.0,0.0,0.0,0.0,55.0,25.0,5.0,40.0,87.0,700.0,0.0,0.0,0.0,5.0,0.0,137.0,87.0,18.0,23.0,130.0,0.0,20.0,20.0,20.0,20.0,20.0,20.0,20.0,24.0,24.0,24.0,24.0,24.0,24.0,24.0,50.0,50.0,50.0,50.0,50.0,50.0,50.0,0.0,0.0,0.0,0.0,0.0,0.0,0.0,0.0,0.0,0.0,0.0,0.0,0.0,0.0,28.0,28.0,28.0,28.0,28.0,28.0,28.0,20.0,20.0,20.0,20.0,20.0,20.0,20.0,50.0,50.0,50.0,50.0,50.0,50.0,50.0,12.0,12.0,12.0,12.0,12.0,12.0,12.0,0.0,0.0,0.0,0.0,0.0,0.0,0.0,40.0,100.0,221.0,154.0,154.0,130.0,130.0,240.0,240.0,165.0,165.0,0.0,0.0,0.0,0.0,44.0,44.0,44.0,44.0,44.0,44.0,44.0,12.0,12.0,201.0,201.0,0.0,0.0,0.0,0.0,30.0,0.0,35.0,40.0,0.0,44.0,44.0],\"sizemode\":\"area\",\"sizeref\":27.5,\"symbol\":\"circle\"},\"mode\":\"markers\",\"name\":\"\",\"showlegend\":false,\"type\":\"scattergeo\"}],\"name\":\"2020.0\"}]);\n",
       "                        }).then(function(){\n",
       "                            \n",
       "var gd = document.getElementById('cbcf8b76-a822-4fb0-aad4-6e100655eb78');\n",
       "var x = new MutationObserver(function (mutations, observer) {{\n",
       "        var display = window.getComputedStyle(gd).display;\n",
       "        if (!display || display === 'none') {{\n",
       "            console.log([gd, 'removed!']);\n",
       "            Plotly.purge(gd);\n",
       "            observer.disconnect();\n",
       "        }}\n",
       "}});\n",
       "\n",
       "// Listen for the removal of the full notebook cells\n",
       "var notebookContainer = gd.closest('#notebook-container');\n",
       "if (notebookContainer) {{\n",
       "    x.observe(notebookContainer, {childList: true});\n",
       "}}\n",
       "\n",
       "// Listen for the clearing of the current output cell\n",
       "var outputEl = gd.closest('.output');\n",
       "if (outputEl) {{\n",
       "    x.observe(outputEl, {childList: true});\n",
       "}}\n",
       "\n",
       "                        })                };                });            </script>        </div>"
      ]
     },
     "metadata": {},
     "output_type": "display_data"
    }
   ],
   "source": [
    "new_df['laid_off_count'].fillna(0, inplace=True) # Must not contain NAs, for the px.scatter_geo to work properly\n",
    "\n",
    "for projection in ['natural earth', 'orthographic']:\n",
    "\n",
    "    fig = px.scatter_geo(new_df[new_df['country_x'] == 'United States'],\n",
    "                     lat='lat', ## from cities_df :) This is why we were merging in the first place\n",
    "                     lon='lng', ## from cities_df :) This is why we were merging in the first place\n",
    "                     hover_name='location',\n",
    "                     size=\"laid_off_count\",\n",
    "                     animation_frame=\"year\",\n",
    "                     projection=projection,\n",
    "                     title='Layoffs Tracker')\n",
    "\n",
    "    fig.show()"
   ]
  }
 ],
 "metadata": {
  "kernelspec": {
   "display_name": "Python 3",
   "language": "python",
   "name": "python3"
  },
  "language_info": {
   "codemirror_mode": {
    "name": "ipython",
    "version": 3
   },
   "file_extension": ".py",
   "mimetype": "text/x-python",
   "name": "python",
   "nbconvert_exporter": "python",
   "pygments_lexer": "ipython3",
   "version": "3.7.12"
  },
  "papermill": {
   "default_parameters": {},
   "duration": 18.26725,
   "end_time": "2022-12-09T13:15:32.267732",
   "environment_variables": {},
   "exception": null,
   "input_path": "__notebook__.ipynb",
   "output_path": "__notebook__.ipynb",
   "parameters": {},
   "start_time": "2022-12-09T13:15:14.000482",
   "version": "2.3.4"
  }
 },
 "nbformat": 4,
 "nbformat_minor": 5
}
