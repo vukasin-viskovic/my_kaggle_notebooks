{
 "cells": [
  {
   "cell_type": "markdown",
   "id": "dcb66cea",
   "metadata": {
    "papermill": {
     "duration": 0.008742,
     "end_time": "2022-12-07T15:47:43.184061",
     "exception": false,
     "start_time": "2022-12-07T15:47:43.175319",
     "status": "completed"
    },
    "tags": []
   },
   "source": [
    "# Udemy Courses Exploration"
   ]
  },
  {
   "cell_type": "markdown",
   "id": "43fb51bd",
   "metadata": {
    "papermill": {
     "duration": 0.00697,
     "end_time": "2022-12-07T15:47:43.198446",
     "exception": false,
     "start_time": "2022-12-07T15:47:43.191476",
     "status": "completed"
    },
    "tags": []
   },
   "source": [
    "This is my first portfolio project :)\n",
    "\n",
    "I'm very passionate about Udemy and online (continuous) education in general. Hopefully, I'll be able to extract some interesting insights from Kaggle datasets that countain data on Udemy courses.\n",
    "\n",
    "This dataset contains detailed information on all available Udemy courses on Oct 10, 2022.\n",
    "More info on the dataset can be found [here](https://www.kaggle.com/datasets/hossaingh/udemy-courses)\n",
    "\n",
    "---\n",
    "\n",
    "**Skills this project showcases:**\n",
    "- Working with Pandas DataFrames\n",
    "- Working with datetime objects\n",
    "- Plotting with Seaborn\n",
    "- Conditional string formatting in Python\n",
    "- Using if/else statements and for loops\n",
    "- My thinking process when facing a novel dataset\n",
    "- Most importantly: Asking interesting and valuable questions and using data to answer them :)"
   ]
  },
  {
   "cell_type": "markdown",
   "id": "03ba9572",
   "metadata": {
    "papermill": {
     "duration": 0.006763,
     "end_time": "2022-12-07T15:47:43.212426",
     "exception": false,
     "start_time": "2022-12-07T15:47:43.205663",
     "status": "completed"
    },
    "tags": []
   },
   "source": [
    "## Imports and Preparation"
   ]
  },
  {
   "cell_type": "code",
   "execution_count": 1,
   "id": "552e7f13",
   "metadata": {
    "_cell_guid": "b1076dfc-b9ad-4769-8c92-a6c4dae69d19",
    "_uuid": "8f2839f25d086af736a60e9eeb907d3b93b6e0e5",
    "execution": {
     "iopub.execute_input": "2022-12-07T15:47:43.228942Z",
     "iopub.status.busy": "2022-12-07T15:47:43.228272Z",
     "iopub.status.idle": "2022-12-07T15:47:44.513206Z",
     "shell.execute_reply": "2022-12-07T15:47:44.512095Z"
    },
    "papermill": {
     "duration": 1.296843,
     "end_time": "2022-12-07T15:47:44.516290",
     "exception": false,
     "start_time": "2022-12-07T15:47:43.219447",
     "status": "completed"
    },
    "tags": []
   },
   "outputs": [],
   "source": [
    "import numpy as np \n",
    "import pandas as pd\n",
    "import datetime\n",
    "\n",
    "import matplotlib.pyplot as plt\n",
    "plt.show()\n",
    "\n",
    "import seaborn as sns\n",
    "sns.set_theme()"
   ]
  },
  {
   "cell_type": "code",
   "execution_count": 2,
   "id": "52645b15",
   "metadata": {
    "execution": {
     "iopub.execute_input": "2022-12-07T15:47:44.532853Z",
     "iopub.status.busy": "2022-12-07T15:47:44.532400Z",
     "iopub.status.idle": "2022-12-07T15:47:48.289619Z",
     "shell.execute_reply": "2022-12-07T15:47:48.288232Z"
    },
    "papermill": {
     "duration": 3.768625,
     "end_time": "2022-12-07T15:47:48.292447",
     "exception": false,
     "start_time": "2022-12-07T15:47:44.523822",
     "status": "completed"
    },
    "tags": []
   },
   "outputs": [],
   "source": [
    "course_df = pd.read_csv(\"/kaggle/input/udemy-courses/Course_info.csv\")"
   ]
  },
  {
   "cell_type": "markdown",
   "id": "6a688cff",
   "metadata": {
    "papermill": {
     "duration": 0.00949,
     "end_time": "2022-12-07T15:47:48.310120",
     "exception": false,
     "start_time": "2022-12-07T15:47:48.300630",
     "status": "completed"
    },
    "tags": []
   },
   "source": [
    "## A first look at the data :)"
   ]
  },
  {
   "cell_type": "code",
   "execution_count": 3,
   "id": "11d03fc6",
   "metadata": {
    "execution": {
     "iopub.execute_input": "2022-12-07T15:47:48.326535Z",
     "iopub.status.busy": "2022-12-07T15:47:48.326126Z",
     "iopub.status.idle": "2022-12-07T15:47:48.366144Z",
     "shell.execute_reply": "2022-12-07T15:47:48.364849Z"
    },
    "papermill": {
     "duration": 0.050948,
     "end_time": "2022-12-07T15:47:48.368810",
     "exception": false,
     "start_time": "2022-12-07T15:47:48.317862",
     "status": "completed"
    },
    "tags": []
   },
   "outputs": [
    {
     "name": "stdout",
     "output_type": "stream",
     "text": [
      "The df has 209734 rows and 20 columns.\n",
      "The df contains data on 209734 unique courses.\n",
      "There's exactly one row per course.\n"
     ]
    }
   ],
   "source": [
    "print(f\"The df has {course_df.shape[0]} rows and {course_df.shape[1]} columns.\")\n",
    "\n",
    "print(f\"The df contains data on {course_df['id'].nunique()} unique courses.\")\n",
    "\n",
    "if course_df['id'].nunique() == course_df.shape[0]:\n",
    "    print(\"There's exactly one row per course.\")\n",
    "else:\n",
    "    print(\"There's not exactly one row per course.\")\n",
    "\n",
    " ## So, on 10 Oct 2022, there was more than 200 thousand courses on Udemy!"
   ]
  },
  {
   "cell_type": "code",
   "execution_count": 4,
   "id": "8aa5743e",
   "metadata": {
    "execution": {
     "iopub.execute_input": "2022-12-07T15:47:48.385451Z",
     "iopub.status.busy": "2022-12-07T15:47:48.384816Z",
     "iopub.status.idle": "2022-12-07T15:47:48.420945Z",
     "shell.execute_reply": "2022-12-07T15:47:48.419656Z"
    },
    "papermill": {
     "duration": 0.04781,
     "end_time": "2022-12-07T15:47:48.423804",
     "exception": false,
     "start_time": "2022-12-07T15:47:48.375994",
     "status": "completed"
    },
    "tags": []
   },
   "outputs": [
    {
     "data": {
      "text/html": [
       "<div>\n",
       "<style scoped>\n",
       "    .dataframe tbody tr th:only-of-type {\n",
       "        vertical-align: middle;\n",
       "    }\n",
       "\n",
       "    .dataframe tbody tr th {\n",
       "        vertical-align: top;\n",
       "    }\n",
       "\n",
       "    .dataframe thead th {\n",
       "        text-align: right;\n",
       "    }\n",
       "</style>\n",
       "<table border=\"1\" class=\"dataframe\">\n",
       "  <thead>\n",
       "    <tr style=\"text-align: right;\">\n",
       "      <th></th>\n",
       "      <th>id</th>\n",
       "      <th>title</th>\n",
       "      <th>is_paid</th>\n",
       "      <th>price</th>\n",
       "      <th>headline</th>\n",
       "      <th>num_subscribers</th>\n",
       "      <th>avg_rating</th>\n",
       "      <th>num_reviews</th>\n",
       "      <th>num_comments</th>\n",
       "      <th>num_lectures</th>\n",
       "      <th>content_length_min</th>\n",
       "      <th>published_time</th>\n",
       "      <th>last_update_date</th>\n",
       "      <th>category</th>\n",
       "      <th>subcategory</th>\n",
       "      <th>topic</th>\n",
       "      <th>language</th>\n",
       "      <th>course_url</th>\n",
       "      <th>instructor_name</th>\n",
       "      <th>instructor_url</th>\n",
       "    </tr>\n",
       "  </thead>\n",
       "  <tbody>\n",
       "    <tr>\n",
       "      <th>0</th>\n",
       "      <td>4715.0</td>\n",
       "      <td>Online Vegan Vegetarian Cooking School</td>\n",
       "      <td>True</td>\n",
       "      <td>24.99</td>\n",
       "      <td>Learn to cook delicious vegan recipes. Filmed ...</td>\n",
       "      <td>2231.0</td>\n",
       "      <td>3.75</td>\n",
       "      <td>134.0</td>\n",
       "      <td>42.0</td>\n",
       "      <td>37.0</td>\n",
       "      <td>1268.0</td>\n",
       "      <td>2010-08-05T22:06:13Z</td>\n",
       "      <td>2020-11-06</td>\n",
       "      <td>Lifestyle</td>\n",
       "      <td>Food &amp; Beverage</td>\n",
       "      <td>Vegan Cooking</td>\n",
       "      <td>English</td>\n",
       "      <td>/course/vegan-vegetarian-cooking-school/</td>\n",
       "      <td>Angela Poch</td>\n",
       "      <td>/user/angelapoch/</td>\n",
       "    </tr>\n",
       "    <tr>\n",
       "      <th>1</th>\n",
       "      <td>1769.0</td>\n",
       "      <td>The Lean Startup Talk at Stanford E-Corner</td>\n",
       "      <td>False</td>\n",
       "      <td>0.00</td>\n",
       "      <td>Debunking Myths of Entrepreneurship A startup ...</td>\n",
       "      <td>26474.0</td>\n",
       "      <td>4.50</td>\n",
       "      <td>709.0</td>\n",
       "      <td>112.0</td>\n",
       "      <td>9.0</td>\n",
       "      <td>88.0</td>\n",
       "      <td>2010-01-12T18:09:46Z</td>\n",
       "      <td>NaN</td>\n",
       "      <td>Business</td>\n",
       "      <td>Entrepreneurship</td>\n",
       "      <td>Lean Startup</td>\n",
       "      <td>English</td>\n",
       "      <td>/course/the-lean-startup-debunking-myths-of-en...</td>\n",
       "      <td>Eric Ries</td>\n",
       "      <td>/user/ericries/</td>\n",
       "    </tr>\n",
       "    <tr>\n",
       "      <th>2</th>\n",
       "      <td>5664.0</td>\n",
       "      <td>How To Become a Vegan, Vegetarian, or Flexitarian</td>\n",
       "      <td>True</td>\n",
       "      <td>19.99</td>\n",
       "      <td>Get the tools you need for a lifestyle change ...</td>\n",
       "      <td>1713.0</td>\n",
       "      <td>4.40</td>\n",
       "      <td>41.0</td>\n",
       "      <td>13.0</td>\n",
       "      <td>14.0</td>\n",
       "      <td>82.0</td>\n",
       "      <td>2010-10-13T18:07:17Z</td>\n",
       "      <td>2019-10-09</td>\n",
       "      <td>Lifestyle</td>\n",
       "      <td>Other Lifestyle</td>\n",
       "      <td>Vegan Cooking</td>\n",
       "      <td>English</td>\n",
       "      <td>/course/see-my-personal-motivation-for-becomin...</td>\n",
       "      <td>Angela Poch</td>\n",
       "      <td>/user/angelapoch/</td>\n",
       "    </tr>\n",
       "    <tr>\n",
       "      <th>3</th>\n",
       "      <td>7723.0</td>\n",
       "      <td>How to Train a Puppy</td>\n",
       "      <td>True</td>\n",
       "      <td>199.99</td>\n",
       "      <td>Train your puppy the right way with Dr. Ian Du...</td>\n",
       "      <td>4988.0</td>\n",
       "      <td>4.80</td>\n",
       "      <td>395.0</td>\n",
       "      <td>88.0</td>\n",
       "      <td>36.0</td>\n",
       "      <td>1511.0</td>\n",
       "      <td>2011-06-20T20:08:38Z</td>\n",
       "      <td>2016-01-13</td>\n",
       "      <td>Lifestyle</td>\n",
       "      <td>Pet Care &amp; Training</td>\n",
       "      <td>Pet Training</td>\n",
       "      <td>English</td>\n",
       "      <td>/course/complete-dunbar-collection/</td>\n",
       "      <td>Ian Dunbar</td>\n",
       "      <td>/user/ian-dunbar/</td>\n",
       "    </tr>\n",
       "    <tr>\n",
       "      <th>4</th>\n",
       "      <td>8157.0</td>\n",
       "      <td>Web Design from the Ground Up</td>\n",
       "      <td>True</td>\n",
       "      <td>159.99</td>\n",
       "      <td>Learn web design online: Everything you need t...</td>\n",
       "      <td>1266.0</td>\n",
       "      <td>4.75</td>\n",
       "      <td>38.0</td>\n",
       "      <td>12.0</td>\n",
       "      <td>38.0</td>\n",
       "      <td>569.0</td>\n",
       "      <td>2011-06-23T18:31:20Z</td>\n",
       "      <td>NaN</td>\n",
       "      <td>Design</td>\n",
       "      <td>Web Design</td>\n",
       "      <td>Web Design</td>\n",
       "      <td>English</td>\n",
       "      <td>/course/web-design-from-the-ground-up/</td>\n",
       "      <td>E Learning Lab</td>\n",
       "      <td>/user/edwin-ang-2/</td>\n",
       "    </tr>\n",
       "  </tbody>\n",
       "</table>\n",
       "</div>"
      ],
      "text/plain": [
       "       id                                              title  is_paid   price  \\\n",
       "0  4715.0             Online Vegan Vegetarian Cooking School     True   24.99   \n",
       "1  1769.0         The Lean Startup Talk at Stanford E-Corner    False    0.00   \n",
       "2  5664.0  How To Become a Vegan, Vegetarian, or Flexitarian     True   19.99   \n",
       "3  7723.0                               How to Train a Puppy     True  199.99   \n",
       "4  8157.0                      Web Design from the Ground Up     True  159.99   \n",
       "\n",
       "                                            headline  num_subscribers  \\\n",
       "0  Learn to cook delicious vegan recipes. Filmed ...           2231.0   \n",
       "1  Debunking Myths of Entrepreneurship A startup ...          26474.0   \n",
       "2  Get the tools you need for a lifestyle change ...           1713.0   \n",
       "3  Train your puppy the right way with Dr. Ian Du...           4988.0   \n",
       "4  Learn web design online: Everything you need t...           1266.0   \n",
       "\n",
       "   avg_rating  num_reviews  num_comments  num_lectures  content_length_min  \\\n",
       "0        3.75        134.0          42.0          37.0              1268.0   \n",
       "1        4.50        709.0         112.0           9.0                88.0   \n",
       "2        4.40         41.0          13.0          14.0                82.0   \n",
       "3        4.80        395.0          88.0          36.0              1511.0   \n",
       "4        4.75         38.0          12.0          38.0               569.0   \n",
       "\n",
       "         published_time last_update_date   category          subcategory  \\\n",
       "0  2010-08-05T22:06:13Z       2020-11-06  Lifestyle      Food & Beverage   \n",
       "1  2010-01-12T18:09:46Z              NaN   Business     Entrepreneurship   \n",
       "2  2010-10-13T18:07:17Z       2019-10-09  Lifestyle      Other Lifestyle   \n",
       "3  2011-06-20T20:08:38Z       2016-01-13  Lifestyle  Pet Care & Training   \n",
       "4  2011-06-23T18:31:20Z              NaN     Design           Web Design   \n",
       "\n",
       "           topic language                                         course_url  \\\n",
       "0  Vegan Cooking  English           /course/vegan-vegetarian-cooking-school/   \n",
       "1   Lean Startup  English  /course/the-lean-startup-debunking-myths-of-en...   \n",
       "2  Vegan Cooking  English  /course/see-my-personal-motivation-for-becomin...   \n",
       "3   Pet Training  English                /course/complete-dunbar-collection/   \n",
       "4     Web Design  English             /course/web-design-from-the-ground-up/   \n",
       "\n",
       "  instructor_name      instructor_url  \n",
       "0     Angela Poch   /user/angelapoch/  \n",
       "1       Eric Ries     /user/ericries/  \n",
       "2     Angela Poch   /user/angelapoch/  \n",
       "3      Ian Dunbar   /user/ian-dunbar/  \n",
       "4  E Learning Lab  /user/edwin-ang-2/  "
      ]
     },
     "execution_count": 4,
     "metadata": {},
     "output_type": "execute_result"
    }
   ],
   "source": [
    "## I always like using the \".head()\" method with pd.DataFrame objects, ...\n",
    "## ... for getting a quick overview of how my data is structured\n",
    "\n",
    "course_df.head()"
   ]
  },
  {
   "cell_type": "markdown",
   "id": "842e5eb0",
   "metadata": {
    "papermill": {
     "duration": 0.007272,
     "end_time": "2022-12-07T15:47:48.438698",
     "exception": false,
     "start_time": "2022-12-07T15:47:48.431426",
     "status": "completed"
    },
    "tags": []
   },
   "source": [
    "## Questions I'll be focusing on"
   ]
  },
  {
   "cell_type": "markdown",
   "id": "c5eaf6d0",
   "metadata": {
    "papermill": {
     "duration": 0.00717,
     "end_time": "2022-12-07T15:47:48.453398",
     "exception": false,
     "start_time": "2022-12-07T15:47:48.446228",
     "status": "completed"
    },
    "tags": []
   },
   "source": [
    "So, just based on observing the above output, I can form some interesting questions.\n",
    "\n",
    "- **What are the top 5 courses with most subscribers?**\n",
    "    - Per category?\n",
    "        - Per category and per language?\n",
    "- **What are the top 5 courses with best ratios of time passed since publishing and the number of subscribers?**\n",
    "    - In other words, I'm interested in the fastest \"growing\" courses.\n",
    "    - We could do this by calculating the number of subscribers per day, for each day since the course's publication date until the date of DFs creation (Oct 10, 2022)\n",
    "        - Per category?\n",
    "- **Who are the most popular instructors (let's see how to operationalize the instructor's popularity later)?**\n",
    "- **Who are the most active instructios?**\n",
    "- **Who are the most successful up-and-coming instructors?**\n",
    "- **What are the most popular topics per each category, and how do the categories rank in popularity?**\n",
    "\n",
    "- **What are the best predictors of a course's popularity?**\n",
    "    - Des price a play a role in determining its popularity??\n",
    "    - How about course's duration?"
   ]
  },
  {
   "cell_type": "markdown",
   "id": "ec7fc935",
   "metadata": {
    "papermill": {
     "duration": 0.007187,
     "end_time": "2022-12-07T15:47:48.468152",
     "exception": false,
     "start_time": "2022-12-07T15:47:48.460965",
     "status": "completed"
    },
    "tags": []
   },
   "source": [
    "## Some more getting to know the data before we start answering these questions"
   ]
  },
  {
   "cell_type": "code",
   "execution_count": 5,
   "id": "9a0a1d58",
   "metadata": {
    "execution": {
     "iopub.execute_input": "2022-12-07T15:47:48.485073Z",
     "iopub.status.busy": "2022-12-07T15:47:48.484676Z",
     "iopub.status.idle": "2022-12-07T15:47:48.612158Z",
     "shell.execute_reply": "2022-12-07T15:47:48.610613Z"
    },
    "papermill": {
     "duration": 0.139065,
     "end_time": "2022-12-07T15:47:48.614863",
     "exception": false,
     "start_time": "2022-12-07T15:47:48.475798",
     "status": "completed"
    },
    "tags": []
   },
   "outputs": [
    {
     "name": "stdout",
     "output_type": "stream",
     "text": [
      "<class 'pandas.core.frame.DataFrame'>\n",
      "RangeIndex: 209734 entries, 0 to 209733\n",
      "Data columns (total 20 columns):\n",
      " #   Column              Non-Null Count   Dtype  \n",
      "---  ------              --------------   -----  \n",
      " 0   id                  209734 non-null  float64\n",
      " 1   title               209734 non-null  object \n",
      " 2   is_paid             209734 non-null  bool   \n",
      " 3   price               209734 non-null  float64\n",
      " 4   headline            209707 non-null  object \n",
      " 5   num_subscribers     209734 non-null  float64\n",
      " 6   avg_rating          209734 non-null  float64\n",
      " 7   num_reviews         209734 non-null  float64\n",
      " 8   num_comments        209734 non-null  float64\n",
      " 9   num_lectures        209734 non-null  float64\n",
      " 10  content_length_min  209734 non-null  float64\n",
      " 11  published_time      209734 non-null  object \n",
      " 12  last_update_date    209597 non-null  object \n",
      " 13  category            209734 non-null  object \n",
      " 14  subcategory         209734 non-null  object \n",
      " 15  topic               208776 non-null  object \n",
      " 16  language            209734 non-null  object \n",
      " 17  course_url          209734 non-null  object \n",
      " 18  instructor_name     209729 non-null  object \n",
      " 19  instructor_url      209307 non-null  object \n",
      "dtypes: bool(1), float64(8), object(11)\n",
      "memory usage: 30.6+ MB\n",
      "None\n"
     ]
    }
   ],
   "source": [
    "## But before any of this, let's check how NAs are distributed across the df.\n",
    "\n",
    "print(course_df.info())\n",
    "\n",
    "## Columns mostly contain string (\"object\"), float or boolean datatypes :) \n",
    "## Good to know before we start working with dates!"
   ]
  },
  {
   "cell_type": "code",
   "execution_count": 6,
   "id": "6a5836c6",
   "metadata": {
    "execution": {
     "iopub.execute_input": "2022-12-07T15:47:48.633687Z",
     "iopub.status.busy": "2022-12-07T15:47:48.633272Z",
     "iopub.status.idle": "2022-12-07T15:47:48.746971Z",
     "shell.execute_reply": "2022-12-07T15:47:48.745292Z"
    },
    "papermill": {
     "duration": 0.125871,
     "end_time": "2022-12-07T15:47:48.750365",
     "exception": false,
     "start_time": "2022-12-07T15:47:48.624494",
     "status": "completed"
    },
    "tags": []
   },
   "outputs": [
    {
     "name": "stdout",
     "output_type": "stream",
     "text": [
      "id                      0\n",
      "title                   0\n",
      "is_paid                 0\n",
      "price                   0\n",
      "headline               27\n",
      "num_subscribers         0\n",
      "avg_rating              0\n",
      "num_reviews             0\n",
      "num_comments            0\n",
      "num_lectures            0\n",
      "content_length_min      0\n",
      "published_time          0\n",
      "last_update_date      137\n",
      "category                0\n",
      "subcategory             0\n",
      "topic                 958\n",
      "language                0\n",
      "course_url              0\n",
      "instructor_name         5\n",
      "instructor_url        427\n",
      "dtype: int64\n"
     ]
    }
   ],
   "source": [
    "print(course_df.isna().sum()) ## Most NAs are in the `topic` column (958). Not too many NAs overall"
   ]
  },
  {
   "cell_type": "markdown",
   "id": "5a19cf65",
   "metadata": {
    "papermill": {
     "duration": 0.007417,
     "end_time": "2022-12-07T15:47:48.766047",
     "exception": false,
     "start_time": "2022-12-07T15:47:48.758630",
     "status": "completed"
    },
    "tags": []
   },
   "source": [
    "One more thing before we start. \n",
    "\n",
    "To get a sense of the timeframe of our data, let's see what's the \"oldest\" data point that we have - when was the oldest course published. \n",
    "\n",
    "Let's also see the publication date of the \"youngest\" course, and the most recent `last_update_date` that we have."
   ]
  },
  {
   "cell_type": "code",
   "execution_count": 7,
   "id": "d906a46b",
   "metadata": {
    "execution": {
     "iopub.execute_input": "2022-12-07T15:47:48.784044Z",
     "iopub.status.busy": "2022-12-07T15:47:48.782850Z",
     "iopub.status.idle": "2022-12-07T15:47:48.902073Z",
     "shell.execute_reply": "2022-12-07T15:47:48.901254Z"
    },
    "papermill": {
     "duration": 0.130666,
     "end_time": "2022-12-07T15:47:48.904406",
     "exception": false,
     "start_time": "2022-12-07T15:47:48.773740",
     "status": "completed"
    },
    "tags": []
   },
   "outputs": [
    {
     "data": {
      "text/plain": [
       "count                                 209734\n",
       "mean     2020-02-06 16:13:05.572520704+00:00\n",
       "min                2010-01-12 18:09:46+00:00\n",
       "25%      2018-12-08 20:58:21.750000128+00:00\n",
       "50%                2020-08-21 02:41:58+00:00\n",
       "75%         2021-08-30 21:35:41.500000+00:00\n",
       "max                2022-10-05 17:04:08+00:00\n",
       "Name: published_time, dtype: object"
      ]
     },
     "execution_count": 7,
     "metadata": {},
     "output_type": "execute_result"
    }
   ],
   "source": [
    "pd.to_datetime(course_df['published_time']).describe(datetime_is_numeric = True)\n",
    "\n",
    "## So, min for `course_df['published_time']` is 2010-01-12 (12 January 2010). \n",
    "## It's a bit strange, since I can see that Udemy was officially founded on May 11, 2010 (source: Wiki).\n",
    "## Otherwise, I see that the dataset contains courses released throughout Udemy's existance, up to October 2022."
   ]
  },
  {
   "cell_type": "code",
   "execution_count": 8,
   "id": "788f7f1b",
   "metadata": {
    "execution": {
     "iopub.execute_input": "2022-12-07T15:47:48.922428Z",
     "iopub.status.busy": "2022-12-07T15:47:48.921794Z",
     "iopub.status.idle": "2022-12-07T15:47:48.974980Z",
     "shell.execute_reply": "2022-12-07T15:47:48.973720Z"
    },
    "papermill": {
     "duration": 0.065124,
     "end_time": "2022-12-07T15:47:48.977599",
     "exception": false,
     "start_time": "2022-12-07T15:47:48.912475",
     "status": "completed"
    },
    "tags": []
   },
   "outputs": [
    {
     "data": {
      "text/plain": [
       "count                           209597\n",
       "mean     2020-10-26 22:44:29.706150912\n",
       "min                2012-10-31 00:00:00\n",
       "25%                2020-02-19 00:00:00\n",
       "50%                2021-04-28 00:00:00\n",
       "75%                2022-03-17 00:00:00\n",
       "max                2022-10-10 00:00:00\n",
       "Name: last_update_date, dtype: object"
      ]
     },
     "execution_count": 8,
     "metadata": {},
     "output_type": "execute_result"
    }
   ],
   "source": [
    "pd.to_datetime(course_df['last_update_date']).describe(datetime_is_numeric = True)\n",
    "\n",
    "## The most recent \"last_update_date\" is Oct 10, 2022. \n",
    "## This just confirms the info given by the DF's creator, that:\n",
    "## \"This dataset contains detailed information on all available Udemy courses on Oct 10, 2022\""
   ]
  },
  {
   "cell_type": "markdown",
   "id": "1bb273a6",
   "metadata": {
    "papermill": {
     "duration": 0.008268,
     "end_time": "2022-12-07T15:47:48.993834",
     "exception": false,
     "start_time": "2022-12-07T15:47:48.985566",
     "status": "completed"
    },
    "tags": []
   },
   "source": [
    "Let's quickly zoom in on courses published before May 11, 2010 (official founding data for Udemy)"
   ]
  },
  {
   "cell_type": "code",
   "execution_count": 9,
   "id": "674d48ce",
   "metadata": {
    "execution": {
     "iopub.execute_input": "2022-12-07T15:47:49.011875Z",
     "iopub.status.busy": "2022-12-07T15:47:49.011444Z",
     "iopub.status.idle": "2022-12-07T15:47:49.229402Z",
     "shell.execute_reply": "2022-12-07T15:47:49.228112Z"
    },
    "papermill": {
     "duration": 0.22998,
     "end_time": "2022-12-07T15:47:49.231874",
     "exception": false,
     "start_time": "2022-12-07T15:47:49.001894",
     "status": "completed"
    },
    "tags": []
   },
   "outputs": [
    {
     "name": "stdout",
     "output_type": "stream",
     "text": [
      "There's only 2 such courses\n"
     ]
    },
    {
     "data": {
      "text/html": [
       "<div>\n",
       "<style scoped>\n",
       "    .dataframe tbody tr th:only-of-type {\n",
       "        vertical-align: middle;\n",
       "    }\n",
       "\n",
       "    .dataframe tbody tr th {\n",
       "        vertical-align: top;\n",
       "    }\n",
       "\n",
       "    .dataframe thead th {\n",
       "        text-align: right;\n",
       "    }\n",
       "</style>\n",
       "<table border=\"1\" class=\"dataframe\">\n",
       "  <thead>\n",
       "    <tr style=\"text-align: right;\">\n",
       "      <th></th>\n",
       "      <th>id</th>\n",
       "      <th>title</th>\n",
       "      <th>is_paid</th>\n",
       "      <th>price</th>\n",
       "      <th>headline</th>\n",
       "      <th>num_subscribers</th>\n",
       "      <th>avg_rating</th>\n",
       "      <th>num_reviews</th>\n",
       "      <th>num_comments</th>\n",
       "      <th>num_lectures</th>\n",
       "      <th>content_length_min</th>\n",
       "      <th>published_time</th>\n",
       "      <th>last_update_date</th>\n",
       "      <th>category</th>\n",
       "      <th>subcategory</th>\n",
       "      <th>topic</th>\n",
       "      <th>language</th>\n",
       "      <th>course_url</th>\n",
       "      <th>instructor_name</th>\n",
       "      <th>instructor_url</th>\n",
       "    </tr>\n",
       "  </thead>\n",
       "  <tbody>\n",
       "    <tr>\n",
       "      <th>1</th>\n",
       "      <td>1769.0</td>\n",
       "      <td>The Lean Startup Talk at Stanford E-Corner</td>\n",
       "      <td>False</td>\n",
       "      <td>0.00</td>\n",
       "      <td>Debunking Myths of Entrepreneurship A startup ...</td>\n",
       "      <td>26474.0</td>\n",
       "      <td>4.50</td>\n",
       "      <td>709.0</td>\n",
       "      <td>112.0</td>\n",
       "      <td>9.0</td>\n",
       "      <td>88.0</td>\n",
       "      <td>2010-01-12 18:09:46+00:00</td>\n",
       "      <td>NaT</td>\n",
       "      <td>Business</td>\n",
       "      <td>Entrepreneurship</td>\n",
       "      <td>Lean Startup</td>\n",
       "      <td>English</td>\n",
       "      <td>/course/the-lean-startup-debunking-myths-of-en...</td>\n",
       "      <td>Eric Ries</td>\n",
       "      <td>/user/ericries/</td>\n",
       "    </tr>\n",
       "    <tr>\n",
       "      <th>6</th>\n",
       "      <td>2762.0</td>\n",
       "      <td>Simple Strategy for Swing Trading the Stock Ma...</td>\n",
       "      <td>True</td>\n",
       "      <td>39.99</td>\n",
       "      <td>Use my favorite Technical Indicator and the Tr...</td>\n",
       "      <td>3309.0</td>\n",
       "      <td>3.85</td>\n",
       "      <td>958.0</td>\n",
       "      <td>241.0</td>\n",
       "      <td>8.0</td>\n",
       "      <td>80.0</td>\n",
       "      <td>2010-04-14 16:32:46+00:00</td>\n",
       "      <td>2019-03-07</td>\n",
       "      <td>Finance &amp; Accounting</td>\n",
       "      <td>Investing &amp; Trading</td>\n",
       "      <td>Swing Trading</td>\n",
       "      <td>English</td>\n",
       "      <td>/course/swing-trading-the-stock-market/</td>\n",
       "      <td>Tom Watson</td>\n",
       "      <td>/user/tomwatson/</td>\n",
       "    </tr>\n",
       "  </tbody>\n",
       "</table>\n",
       "</div>"
      ],
      "text/plain": [
       "       id                                              title  is_paid  price  \\\n",
       "1  1769.0         The Lean Startup Talk at Stanford E-Corner    False   0.00   \n",
       "6  2762.0  Simple Strategy for Swing Trading the Stock Ma...     True  39.99   \n",
       "\n",
       "                                            headline  num_subscribers  \\\n",
       "1  Debunking Myths of Entrepreneurship A startup ...          26474.0   \n",
       "6  Use my favorite Technical Indicator and the Tr...           3309.0   \n",
       "\n",
       "   avg_rating  num_reviews  num_comments  num_lectures  content_length_min  \\\n",
       "1        4.50        709.0         112.0           9.0                88.0   \n",
       "6        3.85        958.0         241.0           8.0                80.0   \n",
       "\n",
       "             published_time last_update_date              category  \\\n",
       "1 2010-01-12 18:09:46+00:00              NaT              Business   \n",
       "6 2010-04-14 16:32:46+00:00       2019-03-07  Finance & Accounting   \n",
       "\n",
       "           subcategory          topic language  \\\n",
       "1     Entrepreneurship   Lean Startup  English   \n",
       "6  Investing & Trading  Swing Trading  English   \n",
       "\n",
       "                                          course_url instructor_name  \\\n",
       "1  /course/the-lean-startup-debunking-myths-of-en...       Eric Ries   \n",
       "6            /course/swing-trading-the-stock-market/      Tom Watson   \n",
       "\n",
       "     instructor_url  \n",
       "1   /user/ericries/  \n",
       "6  /user/tomwatson/  "
      ]
     },
     "execution_count": 9,
     "metadata": {},
     "output_type": "execute_result"
    }
   ],
   "source": [
    "## Let's make our lives easier already by changing date columns to an appropriate format:\n",
    "\n",
    "course_df['published_time'] = pd.to_datetime(course_df['published_time'])\n",
    "course_df['last_update_date'] = pd.to_datetime(course_df['last_update_date'])\n",
    "\n",
    "print(f\"There's only {course_df[course_df['published_time'] < '2010-05-11'].shape[0]} such courses\")\n",
    "\n",
    "course_df[course_df['published_time'] < '2010-05-11']"
   ]
  },
  {
   "cell_type": "markdown",
   "id": "464cb27c",
   "metadata": {
    "papermill": {
     "duration": 0.008012,
     "end_time": "2022-12-07T15:47:49.248378",
     "exception": false,
     "start_time": "2022-12-07T15:47:49.240366",
     "status": "completed"
    },
    "tags": []
   },
   "source": [
    "**Mystery solved (source: Wiki):**\n",
    "    \n",
    "> The site was launched by Bali, Oktay Caglar and Gagan Biyani in early 2010."
   ]
  },
  {
   "cell_type": "code",
   "execution_count": 10,
   "id": "6554fa16",
   "metadata": {
    "execution": {
     "iopub.execute_input": "2022-12-07T15:47:49.267179Z",
     "iopub.status.busy": "2022-12-07T15:47:49.266751Z",
     "iopub.status.idle": "2022-12-07T15:47:49.684190Z",
     "shell.execute_reply": "2022-12-07T15:47:49.682635Z"
    },
    "papermill": {
     "duration": 0.430241,
     "end_time": "2022-12-07T15:47:49.686993",
     "exception": false,
     "start_time": "2022-12-07T15:47:49.256752",
     "status": "completed"
    },
    "tags": []
   },
   "outputs": [
    {
     "name": "stdout",
     "output_type": "stream",
     "text": [
      "CATEGORY 1: Business\n",
      "SUBCATEGORIES:\n",
      "- Business Analytics & Intelligence\n",
      "- Business Law\n",
      "- Business Strategy\n",
      "- Communication\n",
      "- E-Commerce\n",
      "- Entrepreneurship\n",
      "- Human Resources\n",
      "- Industry\n",
      "- Management\n",
      "- Media\n",
      "- Operations\n",
      "- Other Business\n",
      "- Project Management\n",
      "- Real Estate\n",
      "- Sales\n",
      "-------------------\n",
      "CATEGORY 2: Design\n",
      "SUBCATEGORIES:\n",
      "- 3D & Animation\n",
      "- Architectural Design\n",
      "- Design Tools\n",
      "- Fashion Design\n",
      "- Game Design\n",
      "- Graphic Design & Illustration\n",
      "- Interior Design\n",
      "- Other Design\n",
      "- User Experience Design\n",
      "- Web Design\n",
      "-------------------\n",
      "CATEGORY 3: Development\n",
      "SUBCATEGORIES:\n",
      "- Data Science\n",
      "- Database Design & Development\n",
      "- Game Development\n",
      "- Mobile Development\n",
      "- No-Code Development\n",
      "- Programming Languages\n",
      "- Software Development Tools\n",
      "- Software Engineering\n",
      "- Software Testing\n",
      "- Web Development\n",
      "-------------------\n",
      "CATEGORY 4: Finance & Accounting\n",
      "SUBCATEGORIES:\n",
      "- Accounting & Bookkeeping\n",
      "- Compliance\n",
      "- Cryptocurrency & Blockchain\n",
      "- Economics\n",
      "- Finance\n",
      "- Finance Cert & Exam Prep\n",
      "- Financial Modeling & Analysis\n",
      "- Investing & Trading\n",
      "- Money Management Tools\n",
      "- Other Finance & Accounting\n",
      "- Taxes\n",
      "-------------------\n",
      "CATEGORY 5: Health & Fitness\n",
      "SUBCATEGORIES:\n",
      "- Dance\n",
      "- Fitness\n",
      "- General Health\n",
      "- Martial Arts & Self Defense\n",
      "- Meditation\n",
      "- Mental Health\n",
      "- Nutrition & Diet\n",
      "- Other Health & Fitness\n",
      "- Safety & First Aid\n",
      "- Sports\n",
      "- Yoga\n",
      "-------------------\n",
      "CATEGORY 6: IT & Software\n",
      "SUBCATEGORIES:\n",
      "- Hardware\n",
      "- IT Certifications\n",
      "- Network & Security\n",
      "- Operating Systems & Servers\n",
      "- Other IT & Software\n",
      "-------------------\n",
      "CATEGORY 7: Lifestyle\n",
      "SUBCATEGORIES:\n",
      "- Arts & Crafts\n",
      "- Beauty & Makeup\n",
      "- Esoteric Practices\n",
      "- Food & Beverage\n",
      "- Gaming\n",
      "- Home Improvement & Gardening\n",
      "- Other Lifestyle\n",
      "- Pet Care & Training\n",
      "- Travel\n",
      "-------------------\n",
      "CATEGORY 8: Marketing\n",
      "SUBCATEGORIES:\n",
      "- Affiliate Marketing\n",
      "- Branding\n",
      "- Content Marketing\n",
      "- Digital Marketing\n",
      "- Growth Hacking\n",
      "- Marketing Analytics & Automation\n",
      "- Marketing Fundamentals\n",
      "- Other Marketing\n",
      "- Paid Advertising\n",
      "- Product Marketing\n",
      "- Public Relations\n",
      "- Search Engine Optimization\n",
      "- Social Media Marketing\n",
      "- Video & Mobile Marketing\n",
      "-------------------\n",
      "CATEGORY 9: Music\n",
      "SUBCATEGORIES:\n",
      "- Instruments\n",
      "- Music Fundamentals\n",
      "- Music Production\n",
      "- Music Software\n",
      "- Music Techniques\n",
      "- Other Music\n",
      "- Vocal\n",
      "-------------------\n",
      "CATEGORY 10: Office Productivity\n",
      "SUBCATEGORIES:\n",
      "- Apple\n",
      "- Google\n",
      "- Microsoft\n",
      "- Oracle\n",
      "- Other Office Productivity\n",
      "- SAP\n",
      "-------------------\n",
      "CATEGORY 11: Personal Development\n",
      "SUBCATEGORIES:\n",
      "- Career Development\n",
      "- Creativity\n",
      "- Happiness\n",
      "- Influence\n",
      "- Leadership\n",
      "- Memory & Study Skills\n",
      "- Motivation\n",
      "- Other Personal Development\n",
      "- Parenting & Relationships\n",
      "- Personal Brand Building\n",
      "- Personal Productivity\n",
      "- Personal Transformation\n",
      "- Religion & Spirituality\n",
      "- Self Esteem & Confidence\n",
      "- Stress Management\n",
      "-------------------\n",
      "CATEGORY 12: Photography & Video\n",
      "SUBCATEGORIES:\n",
      "- Commercial Photography\n",
      "- Digital Photography\n",
      "- Other Photography & Video\n",
      "- Photography\n",
      "- Photography Tools\n",
      "- Portrait Photography\n",
      "- Video Design\n",
      "-------------------\n",
      "CATEGORY 13: Teaching & Academics\n",
      "SUBCATEGORIES:\n",
      "- Engineering\n",
      "- Humanities\n",
      "- Language Learning\n",
      "- Math\n",
      "- Online Education\n",
      "- Other Teaching & Academics\n",
      "- Science\n",
      "- Social Science\n",
      "- Teacher Training\n",
      "- Test Prep\n",
      "-------------------\n"
     ]
    }
   ],
   "source": [
    "## Let's also see which unique categories/subcategories we have.\n",
    "## Let's assign a number to each category, and let's print each category and all of its subcategories...\n",
    "## ... in aplhabetical order\n",
    "## Let's apply some basic formatting to make everything look nice :)\n",
    "\n",
    "counter = 1\n",
    "\n",
    "## for each category\n",
    "for category in sorted(list(course_df['category'].unique())):\n",
    "    \n",
    "    print(f\"CATEGORY {counter}: {category}\")\n",
    "    print(\"SUBCATEGORIES:\")\n",
    "    \n",
    "    ## Print each ot its subcategories\n",
    "    ## I needed to use list() twice here - I'd get an array when I'd use it just once. Had to use indexing too.\n",
    "    for subcategory in sorted(list(list(course_df[course_df['category'] == category].\n",
    "                                        groupby('category')['subcategory'].unique()[0]))): \n",
    "        \n",
    "        print(f\"- {subcategory}\")\n",
    "        \n",
    "    print('-------------------')\n",
    "    \n",
    "    counter += 1"
   ]
  },
  {
   "cell_type": "code",
   "execution_count": 11,
   "id": "b93a2ad9",
   "metadata": {
    "execution": {
     "iopub.execute_input": "2022-12-07T15:47:49.706104Z",
     "iopub.status.busy": "2022-12-07T15:47:49.705670Z",
     "iopub.status.idle": "2022-12-07T15:47:49.758071Z",
     "shell.execute_reply": "2022-12-07T15:47:49.756779Z"
    },
    "papermill": {
     "duration": 0.064828,
     "end_time": "2022-12-07T15:47:49.760575",
     "exception": false,
     "start_time": "2022-12-07T15:47:49.695747",
     "status": "completed"
    },
    "tags": []
   },
   "outputs": [
    {
     "name": "stdout",
     "output_type": "stream",
     "text": [
      "Udemy courses are taught in 79 languages.\n",
      "\n",
      "\n",
      "Top 10 languages with most courses:\n"
     ]
    },
    {
     "data": {
      "text/html": [
       "<div>\n",
       "<style scoped>\n",
       "    .dataframe tbody tr th:only-of-type {\n",
       "        vertical-align: middle;\n",
       "    }\n",
       "\n",
       "    .dataframe tbody tr th {\n",
       "        vertical-align: top;\n",
       "    }\n",
       "\n",
       "    .dataframe thead th {\n",
       "        text-align: right;\n",
       "    }\n",
       "</style>\n",
       "<table border=\"1\" class=\"dataframe\">\n",
       "  <thead>\n",
       "    <tr style=\"text-align: right;\">\n",
       "      <th></th>\n",
       "      <th>language</th>\n",
       "      <th>Total_Numbers</th>\n",
       "    </tr>\n",
       "  </thead>\n",
       "  <tbody>\n",
       "    <tr>\n",
       "      <th>0</th>\n",
       "      <td>English</td>\n",
       "      <td>123921</td>\n",
       "    </tr>\n",
       "    <tr>\n",
       "      <th>1</th>\n",
       "      <td>Portuguese</td>\n",
       "      <td>18471</td>\n",
       "    </tr>\n",
       "    <tr>\n",
       "      <th>2</th>\n",
       "      <td>Spanish</td>\n",
       "      <td>17428</td>\n",
       "    </tr>\n",
       "    <tr>\n",
       "      <th>3</th>\n",
       "      <td>Turkish</td>\n",
       "      <td>8100</td>\n",
       "    </tr>\n",
       "    <tr>\n",
       "      <th>4</th>\n",
       "      <td>Japanese</td>\n",
       "      <td>7006</td>\n",
       "    </tr>\n",
       "    <tr>\n",
       "      <th>5</th>\n",
       "      <td>German</td>\n",
       "      <td>6101</td>\n",
       "    </tr>\n",
       "    <tr>\n",
       "      <th>6</th>\n",
       "      <td>French</td>\n",
       "      <td>5465</td>\n",
       "    </tr>\n",
       "    <tr>\n",
       "      <th>7</th>\n",
       "      <td>Arabic</td>\n",
       "      <td>5197</td>\n",
       "    </tr>\n",
       "    <tr>\n",
       "      <th>8</th>\n",
       "      <td>Italian</td>\n",
       "      <td>3637</td>\n",
       "    </tr>\n",
       "    <tr>\n",
       "      <th>9</th>\n",
       "      <td>Russian</td>\n",
       "      <td>2686</td>\n",
       "    </tr>\n",
       "  </tbody>\n",
       "</table>\n",
       "</div>"
      ],
      "text/plain": [
       "     language  Total_Numbers\n",
       "0     English         123921\n",
       "1  Portuguese          18471\n",
       "2     Spanish          17428\n",
       "3     Turkish           8100\n",
       "4    Japanese           7006\n",
       "5      German           6101\n",
       "6      French           5465\n",
       "7      Arabic           5197\n",
       "8     Italian           3637\n",
       "9     Russian           2686"
      ]
     },
     "execution_count": 11,
     "metadata": {},
     "output_type": "execute_result"
    }
   ],
   "source": [
    "## Which languages are present in the df? How many courses are there per language?\n",
    "\n",
    "print(f\"Udemy courses are taught in {course_df['language'].nunique()} languages.\")\n",
    "print('\\n')\n",
    "print(\"Top 10 languages with most courses:\")\n",
    "\n",
    "pd.DataFrame(course_df.groupby('language')['id'].count()\\\n",
    "             .sort_values(ascending = False)\\\n",
    "             .head(10))\\\n",
    "    .reset_index()\\\n",
    "    .rename(columns={'id':'Total_Numbers'})\n",
    "\n",
    "## Didn't expect to see Portuguese at No. 2 :) Way to go, Portugal :)"
   ]
  },
  {
   "cell_type": "markdown",
   "id": "228e648b",
   "metadata": {
    "papermill": {
     "duration": 0.008462,
     "end_time": "2022-12-07T15:47:49.778417",
     "exception": false,
     "start_time": "2022-12-07T15:47:49.769955",
     "status": "completed"
    },
    "tags": []
   },
   "source": [
    "## Top 5 courses with most subscribers?"
   ]
  },
  {
   "cell_type": "markdown",
   "id": "e4da2b61",
   "metadata": {
    "papermill": {
     "duration": 0.008495,
     "end_time": "2022-12-07T15:47:49.795750",
     "exception": false,
     "start_time": "2022-12-07T15:47:49.787255",
     "status": "completed"
    },
    "tags": []
   },
   "source": [
    "Now, let's return to our questions"
   ]
  },
  {
   "cell_type": "code",
   "execution_count": 12,
   "id": "56edadfc",
   "metadata": {
    "execution": {
     "iopub.execute_input": "2022-12-07T15:47:49.815107Z",
     "iopub.status.busy": "2022-12-07T15:47:49.814709Z",
     "iopub.status.idle": "2022-12-07T15:47:49.896530Z",
     "shell.execute_reply": "2022-12-07T15:47:49.895082Z"
    },
    "papermill": {
     "duration": 0.094816,
     "end_time": "2022-12-07T15:47:49.899413",
     "exception": false,
     "start_time": "2022-12-07T15:47:49.804597",
     "status": "completed"
    },
    "tags": []
   },
   "outputs": [
    {
     "data": {
      "text/html": [
       "<div>\n",
       "<style scoped>\n",
       "    .dataframe tbody tr th:only-of-type {\n",
       "        vertical-align: middle;\n",
       "    }\n",
       "\n",
       "    .dataframe tbody tr th {\n",
       "        vertical-align: top;\n",
       "    }\n",
       "\n",
       "    .dataframe thead th {\n",
       "        text-align: right;\n",
       "    }\n",
       "</style>\n",
       "<table border=\"1\" class=\"dataframe\">\n",
       "  <thead>\n",
       "    <tr style=\"text-align: right;\">\n",
       "      <th></th>\n",
       "      <th>title</th>\n",
       "      <th>instructor_name</th>\n",
       "      <th>num_subscribers</th>\n",
       "      <th>published_time</th>\n",
       "    </tr>\n",
       "  </thead>\n",
       "  <tbody>\n",
       "    <tr>\n",
       "      <th>396</th>\n",
       "      <td>Java Tutorial for Complete Beginners</td>\n",
       "      <td>John Purcell</td>\n",
       "      <td>1752364.0</td>\n",
       "      <td>2012-09-30 20:11:57+00:00</td>\n",
       "    </tr>\n",
       "    <tr>\n",
       "      <th>10724</th>\n",
       "      <td>2022 Complete Python Bootcamp From Zero to Her...</td>\n",
       "      <td>Jose Portilla</td>\n",
       "      <td>1612862.0</td>\n",
       "      <td>2015-10-12 21:42:53+00:00</td>\n",
       "    </tr>\n",
       "    <tr>\n",
       "      <th>16288</th>\n",
       "      <td>Microsoft Excel - Excel from Beginner to Advanced</td>\n",
       "      <td>Kyle Pew</td>\n",
       "      <td>1108811.0</td>\n",
       "      <td>2016-03-16 21:31:03+00:00</td>\n",
       "    </tr>\n",
       "    <tr>\n",
       "      <th>10174</th>\n",
       "      <td>Automate the Boring Stuff with Python Programming</td>\n",
       "      <td>Al Sweigart</td>\n",
       "      <td>1056369.0</td>\n",
       "      <td>2015-09-21 21:10:01+00:00</td>\n",
       "    </tr>\n",
       "    <tr>\n",
       "      <th>20252</th>\n",
       "      <td>Machine Learning A-Z™: Hands-On Python &amp; R In ...</td>\n",
       "      <td>Kirill Eremenko</td>\n",
       "      <td>896340.0</td>\n",
       "      <td>2016-09-13 21:43:44+00:00</td>\n",
       "    </tr>\n",
       "  </tbody>\n",
       "</table>\n",
       "</div>"
      ],
      "text/plain": [
       "                                                   title  instructor_name  \\\n",
       "396                 Java Tutorial for Complete Beginners     John Purcell   \n",
       "10724  2022 Complete Python Bootcamp From Zero to Her...    Jose Portilla   \n",
       "16288  Microsoft Excel - Excel from Beginner to Advanced         Kyle Pew   \n",
       "10174  Automate the Boring Stuff with Python Programming      Al Sweigart   \n",
       "20252  Machine Learning A-Z™: Hands-On Python & R In ...  Kirill Eremenko   \n",
       "\n",
       "       num_subscribers            published_time  \n",
       "396          1752364.0 2012-09-30 20:11:57+00:00  \n",
       "10724        1612862.0 2015-10-12 21:42:53+00:00  \n",
       "16288        1108811.0 2016-03-16 21:31:03+00:00  \n",
       "10174        1056369.0 2015-09-21 21:10:01+00:00  \n",
       "20252         896340.0 2016-09-13 21:43:44+00:00  "
      ]
     },
     "execution_count": 12,
     "metadata": {},
     "output_type": "execute_result"
    }
   ],
   "source": [
    "course_df[['title', 'instructor_name', 'num_subscribers', 'published_time']]\\\n",
    "    .sort_values(by = 'num_subscribers', ascending = False).head(5)\n",
    "\n",
    "## I've taken the second one - by Jose Portilla :)\n",
    "\n",
    "## Most of these courses are made by well established instructors - and courses themselves seem to have had\n",
    "## quite some time to establish themselves and gain subscribers\n",
    "\n",
    "## It would be interesting to see who among the instructors that started providing courses very recently is ...\n",
    "## ... the most successful in terms of attracting subscribers..."
   ]
  },
  {
   "cell_type": "code",
   "execution_count": 13,
   "id": "0279b0bc",
   "metadata": {
    "execution": {
     "iopub.execute_input": "2022-12-07T15:47:49.920875Z",
     "iopub.status.busy": "2022-12-07T15:47:49.920435Z",
     "iopub.status.idle": "2022-12-07T15:47:50.357806Z",
     "shell.execute_reply": "2022-12-07T15:47:50.356534Z"
    },
    "papermill": {
     "duration": 0.450599,
     "end_time": "2022-12-07T15:47:50.360368",
     "exception": false,
     "start_time": "2022-12-07T15:47:49.909769",
     "status": "completed"
    },
    "tags": []
   },
   "outputs": [
    {
     "data": {
      "text/plain": [
       "Text(0.5, 0, \"Top 5 most popular courses' names\")"
      ]
     },
     "execution_count": 13,
     "metadata": {},
     "output_type": "execute_result"
    },
    {
     "data": {
      "image/png": "[encoded data removed]",
      "text/plain": [
       "<Figure size 1080x360 with 1 Axes>"
      ]
     },
     "metadata": {},
     "output_type": "display_data"
    }
   ],
   "source": [
    "## Let's quickly plot this with seaborn\n",
    "\n",
    "top_courses = course_df[['title', 'num_subscribers']].\\\n",
    "                        sort_values(by = 'num_subscribers', ascending = False).\\\n",
    "                        head(5)\n",
    "\n",
    "sns.set(rc = {\"figure.figsize\": (15, 5)}) ## Setting figure size\n",
    "\n",
    "plot1 = sns.barplot(x = top_courses['title'], y = top_courses[\"num_subscribers\"] / 1000000)\n",
    "plot1.tick_params(axis = 'x', rotation=90)\n",
    "plot1.set_ylabel('Number of subscribers (in millions)')\n",
    "plot1.set_xlabel(\"Top 5 most popular courses' names\")"
   ]
  },
  {
   "cell_type": "markdown",
   "id": "0f4345bd",
   "metadata": {
    "papermill": {
     "duration": 0.009851,
     "end_time": "2022-12-07T15:47:50.380446",
     "exception": false,
     "start_time": "2022-12-07T15:47:50.370595",
     "status": "completed"
    },
    "tags": []
   },
   "source": [
    "## Top 5 fastest growing courses"
   ]
  },
  {
   "cell_type": "code",
   "execution_count": 14,
   "id": "f549393d",
   "metadata": {
    "execution": {
     "iopub.execute_input": "2022-12-07T15:47:50.403934Z",
     "iopub.status.busy": "2022-12-07T15:47:50.402509Z",
     "iopub.status.idle": "2022-12-07T15:47:50.882188Z",
     "shell.execute_reply": "2022-12-07T15:47:50.880705Z"
    },
    "papermill": {
     "duration": 0.494808,
     "end_time": "2022-12-07T15:47:50.885518",
     "exception": false,
     "start_time": "2022-12-07T15:47:50.390710",
     "status": "completed"
    },
    "tags": []
   },
   "outputs": [
    {
     "name": "stdout",
     "output_type": "stream",
     "text": [
      "0   4449 days\n",
      "1   4654 days\n",
      "2   4380 days\n",
      "3   4130 days\n",
      "4   4127 days\n",
      "Name: days_since_publication, dtype: timedelta64[ns]\n",
      "\n",
      "\n",
      "0    4449\n",
      "1    4654\n",
      "2    4380\n",
      "3    4130\n",
      "4    4127\n",
      "Name: days_since_publication, dtype: int64\n",
      "\n",
      "\n",
      "int64\n"
     ]
    }
   ],
   "source": [
    "course_df['days_since_publication'] = datetime.date(2022, 10, 10) - course_df['published_time'].dt.date\n",
    "print(course_df['days_since_publication'][:5]) ## let's have a quick look at the results\n",
    "\n",
    "print('\\n')\n",
    "\n",
    "## Let's turn the results into integers\n",
    "course_df['days_since_publication'] = course_df['days_since_publication'].dt.days\n",
    "print(course_df['days_since_publication'][:5]) ## let's have a quick look again :)\n",
    "\n",
    "print('\\n')\n",
    "\n",
    "print(course_df['days_since_publication'].dtypes)"
   ]
  },
  {
   "cell_type": "code",
   "execution_count": 15,
   "id": "8f66d11a",
   "metadata": {
    "execution": {
     "iopub.execute_input": "2022-12-07T15:47:50.908625Z",
     "iopub.status.busy": "2022-12-07T15:47:50.907623Z",
     "iopub.status.idle": "2022-12-07T15:47:50.929119Z",
     "shell.execute_reply": "2022-12-07T15:47:50.928101Z"
    },
    "papermill": {
     "duration": 0.03576,
     "end_time": "2022-12-07T15:47:50.931654",
     "exception": false,
     "start_time": "2022-12-07T15:47:50.895894",
     "status": "completed"
    },
    "tags": []
   },
   "outputs": [
    {
     "data": {
      "text/plain": [
       "count    209734.000000\n",
       "mean        976.922955\n",
       "std         761.644872\n",
       "min           5.000000\n",
       "25%         406.000000\n",
       "50%         780.000000\n",
       "75%        1402.000000\n",
       "max        4654.000000\n",
       "Name: days_since_publication, dtype: float64"
      ]
     },
     "execution_count": 15,
     "metadata": {},
     "output_type": "execute_result"
    }
   ],
   "source": [
    "## Let's just quickly make sure that no courses in our df were published after 10 Oct, 2022 ...\n",
    "## (this shouldn't be possible), and that everything makes sense\n",
    "\n",
    "course_df['days_since_publication'].describe() "
   ]
  },
  {
   "cell_type": "code",
   "execution_count": 16,
   "id": "575f9288",
   "metadata": {
    "execution": {
     "iopub.execute_input": "2022-12-07T15:47:50.953984Z",
     "iopub.status.busy": "2022-12-07T15:47:50.953575Z",
     "iopub.status.idle": "2022-12-07T15:47:50.964585Z",
     "shell.execute_reply": "2022-12-07T15:47:50.963474Z"
    },
    "papermill": {
     "duration": 0.024986,
     "end_time": "2022-12-07T15:47:50.966922",
     "exception": false,
     "start_time": "2022-12-07T15:47:50.941936",
     "status": "completed"
    },
    "tags": []
   },
   "outputs": [
    {
     "data": {
      "text/plain": [
       "0    0.501461\n",
       "1    5.688440\n",
       "2    0.391096\n",
       "3    1.207748\n",
       "4    0.306760\n",
       "Name: subscribers_per_day, dtype: float64"
      ]
     },
     "execution_count": 16,
     "metadata": {},
     "output_type": "execute_result"
    }
   ],
   "source": [
    "course_df['subscribers_per_day'] = course_df['num_subscribers'] / course_df['days_since_publication'] \n",
    "course_df['subscribers_per_day'][:5] ## let's just take a quick look :)"
   ]
  },
  {
   "cell_type": "code",
   "execution_count": 17,
   "id": "bd5dfbb8",
   "metadata": {
    "execution": {
     "iopub.execute_input": "2022-12-07T15:47:50.990067Z",
     "iopub.status.busy": "2022-12-07T15:47:50.989249Z",
     "iopub.status.idle": "2022-12-07T15:47:51.093555Z",
     "shell.execute_reply": "2022-12-07T15:47:51.092652Z"
    },
    "papermill": {
     "duration": 0.118872,
     "end_time": "2022-12-07T15:47:51.096143",
     "exception": false,
     "start_time": "2022-12-07T15:47:50.977271",
     "status": "completed"
    },
    "tags": []
   },
   "outputs": [
    {
     "data": {
      "text/html": [
       "<div>\n",
       "<style scoped>\n",
       "    .dataframe tbody tr th:only-of-type {\n",
       "        vertical-align: middle;\n",
       "    }\n",
       "\n",
       "    .dataframe tbody tr th {\n",
       "        vertical-align: top;\n",
       "    }\n",
       "\n",
       "    .dataframe thead th {\n",
       "        text-align: right;\n",
       "    }\n",
       "</style>\n",
       "<table border=\"1\" class=\"dataframe\">\n",
       "  <thead>\n",
       "    <tr style=\"text-align: right;\">\n",
       "      <th></th>\n",
       "      <th>title</th>\n",
       "      <th>instructor_name</th>\n",
       "      <th>subscribers_per_day</th>\n",
       "      <th>published_time</th>\n",
       "    </tr>\n",
       "  </thead>\n",
       "  <tbody>\n",
       "    <tr>\n",
       "      <th>84101</th>\n",
       "      <td>100 Days of Code: The Complete Python Pro Boot...</td>\n",
       "      <td>Dr. Angela Yu</td>\n",
       "      <td>891.328169</td>\n",
       "      <td>2020-10-30 17:18:33+00:00</td>\n",
       "    </tr>\n",
       "    <tr>\n",
       "      <th>10724</th>\n",
       "      <td>2022 Complete Python Bootcamp From Zero to Her...</td>\n",
       "      <td>Jose Portilla</td>\n",
       "      <td>631.257143</td>\n",
       "      <td>2015-10-12 21:42:53+00:00</td>\n",
       "    </tr>\n",
       "    <tr>\n",
       "      <th>98405</th>\n",
       "      <td>[NEW] Ultimate AWS Certified Cloud Practitione...</td>\n",
       "      <td>Stephane Maarek | AWS Certified Cloud Practiti...</td>\n",
       "      <td>613.775058</td>\n",
       "      <td>2020-06-04 15:59:21+00:00</td>\n",
       "    </tr>\n",
       "    <tr>\n",
       "      <th>208170</th>\n",
       "      <td>Power BI Fundamental - Do Básico ao Avançado</td>\n",
       "      <td>Stefano Larmelina</td>\n",
       "      <td>589.277778</td>\n",
       "      <td>2022-09-22 14:40:45+00:00</td>\n",
       "    </tr>\n",
       "    <tr>\n",
       "      <th>39113</th>\n",
       "      <td>The Complete 2022 Web Development Bootcamp</td>\n",
       "      <td>Dr. Angela Yu</td>\n",
       "      <td>533.316736</td>\n",
       "      <td>2018-10-25 21:34:15+00:00</td>\n",
       "    </tr>\n",
       "  </tbody>\n",
       "</table>\n",
       "</div>"
      ],
      "text/plain": [
       "                                                    title  \\\n",
       "84101   100 Days of Code: The Complete Python Pro Boot...   \n",
       "10724   2022 Complete Python Bootcamp From Zero to Her...   \n",
       "98405   [NEW] Ultimate AWS Certified Cloud Practitione...   \n",
       "208170       Power BI Fundamental - Do Básico ao Avançado   \n",
       "39113          The Complete 2022 Web Development Bootcamp   \n",
       "\n",
       "                                          instructor_name  \\\n",
       "84101                                       Dr. Angela Yu   \n",
       "10724                                       Jose Portilla   \n",
       "98405   Stephane Maarek | AWS Certified Cloud Practiti...   \n",
       "208170                                  Stefano Larmelina   \n",
       "39113                                       Dr. Angela Yu   \n",
       "\n",
       "        subscribers_per_day            published_time  \n",
       "84101            891.328169 2020-10-30 17:18:33+00:00  \n",
       "10724            631.257143 2015-10-12 21:42:53+00:00  \n",
       "98405            613.775058 2020-06-04 15:59:21+00:00  \n",
       "208170           589.277778 2022-09-22 14:40:45+00:00  \n",
       "39113            533.316736 2018-10-25 21:34:15+00:00  "
      ]
     },
     "execution_count": 17,
     "metadata": {},
     "output_type": "execute_result"
    }
   ],
   "source": [
    "course_df[['title', 'instructor_name', 'subscribers_per_day', 'published_time']]\\\n",
    "    .sort_values(by = 'subscribers_per_day', ascending = False).head(5)\n",
    "\n",
    "## Impressive work @ Dr. ANgela Yu :)"
   ]
  },
  {
   "cell_type": "code",
   "execution_count": 18,
   "id": "6e0bb6a3",
   "metadata": {
    "execution": {
     "iopub.execute_input": "2022-12-07T15:47:51.120089Z",
     "iopub.status.busy": "2022-12-07T15:47:51.119624Z",
     "iopub.status.idle": "2022-12-07T15:47:51.518078Z",
     "shell.execute_reply": "2022-12-07T15:47:51.516823Z"
    },
    "papermill": {
     "duration": 0.413911,
     "end_time": "2022-12-07T15:47:51.520920",
     "exception": false,
     "start_time": "2022-12-07T15:47:51.107009",
     "status": "completed"
    },
    "tags": []
   },
   "outputs": [
    {
     "data": {
      "text/plain": [
       "Text(0.5, 0, 'Top 5 courses')"
      ]
     },
     "execution_count": 18,
     "metadata": {},
     "output_type": "execute_result"
    },
    {
     "data": {
      "image/png": "[encoded data removed]",
      "text/plain": [
       "<Figure size 1080x360 with 1 Axes>"
      ]
     },
     "metadata": {},
     "output_type": "display_data"
    }
   ],
   "source": [
    "## Let's quickly plot this with seaborn\n",
    "\n",
    "top_sub_per_day = course_df[['title', 'subscribers_per_day']].\\\n",
    "                           sort_values(by = 'subscribers_per_day', ascending = False).\\\n",
    "                           head(5)\n",
    "\n",
    "sns.set(rc = {\"figure.figsize\": (15, 5)}) ## Setting figure size\n",
    "\n",
    "plot2 = sns.barplot(x = top_sub_per_day['title'], y = top_sub_per_day[\"subscribers_per_day\"])\n",
    "plot2.tick_params(axis = 'x', rotation=90)\n",
    "plot2.set_ylabel('Number of subscribers per day since publication')\n",
    "plot2.set_xlabel(\"Top 5 courses\")"
   ]
  },
  {
   "cell_type": "code",
   "execution_count": null,
   "id": "53e74095",
   "metadata": {
    "papermill": {
     "duration": 0.011368,
     "end_time": "2022-12-07T15:47:51.544094",
     "exception": false,
     "start_time": "2022-12-07T15:47:51.532726",
     "status": "completed"
    },
    "tags": []
   },
   "outputs": [],
   "source": []
  }
 ],
 "metadata": {
  "kernelspec": {
   "display_name": "Python 3",
   "language": "python",
   "name": "python3"
  },
  "language_info": {
   "codemirror_mode": {
    "name": "ipython",
    "version": 3
   },
   "file_extension": ".py",
   "mimetype": "text/x-python",
   "name": "python",
   "nbconvert_exporter": "python",
   "pygments_lexer": "ipython3",
   "version": "3.7.12"
  },
  "papermill": {
   "default_parameters": {},
   "duration": 19.167739,
   "end_time": "2022-12-07T15:47:52.377878",
   "environment_variables": {},
   "exception": null,
   "input_path": "__notebook__.ipynb",
   "output_path": "__notebook__.ipynb",
   "parameters": {},
   "start_time": "2022-12-07T15:47:33.210139",
   "version": "2.3.4"
  }
 },
 "nbformat": 4,
 "nbformat_minor": 5
}
